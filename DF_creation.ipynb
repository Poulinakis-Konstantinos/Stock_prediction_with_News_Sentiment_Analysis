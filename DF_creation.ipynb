{
 "cells": [
  {
   "cell_type": "markdown",
   "id": "053bbbf7-524d-40bc-b3a4-a75f2db0b35f",
   "metadata": {},
   "source": [
    "## An example of using the utilities library in order to create a training dataset for the final classifier."
   ]
  },
  {
   "cell_type": "code",
   "execution_count": 8,
   "id": "71ed0376-524f-4f53-a74d-8b5da6b5a90d",
   "metadata": {},
   "outputs": [
    {
     "name": "stdout",
     "output_type": "stream",
     "text": [
      "Requirement already satisfied: yfinance in c:\\users\\user\\anaconda3\\lib\\site-packages (0.1.70)\n",
      "Requirement already satisfied: pandas>=0.24.0 in c:\\users\\user\\anaconda3\\lib\\site-packages (from yfinance) (1.2.4)\n",
      "Requirement already satisfied: lxml>=4.5.1 in c:\\users\\user\\anaconda3\\lib\\site-packages (from yfinance) (4.6.3)\n",
      "Requirement already satisfied: requests>=2.26 in c:\\users\\user\\anaconda3\\lib\\site-packages (from yfinance) (2.27.1)\n",
      "Requirement already satisfied: multitasking>=0.0.7 in c:\\users\\user\\anaconda3\\lib\\site-packages (from yfinance) (0.0.10)\n",
      "Requirement already satisfied: numpy>=1.15 in c:\\users\\user\\anaconda3\\lib\\site-packages (from yfinance) (1.21.4)\n",
      "Requirement already satisfied: pytz>=2017.3 in c:\\users\\user\\anaconda3\\lib\\site-packages (from pandas>=0.24.0->yfinance) (2021.1)\n",
      "Requirement already satisfied: python-dateutil>=2.7.3 in c:\\users\\user\\anaconda3\\lib\\site-packages (from pandas>=0.24.0->yfinance) (2.8.1)\n",
      "Requirement already satisfied: six>=1.5 in c:\\users\\user\\anaconda3\\lib\\site-packages (from python-dateutil>=2.7.3->pandas>=0.24.0->yfinance) (1.15.0)\n",
      "Requirement already satisfied: idna<4,>=2.5 in c:\\users\\user\\anaconda3\\lib\\site-packages (from requests>=2.26->yfinance) (2.10)\n",
      "Requirement already satisfied: charset-normalizer~=2.0.0 in c:\\users\\user\\anaconda3\\lib\\site-packages (from requests>=2.26->yfinance) (2.0.12)\n",
      "Requirement already satisfied: urllib3<1.27,>=1.21.1 in c:\\users\\user\\anaconda3\\lib\\site-packages (from requests>=2.26->yfinance) (1.26.4)\n",
      "Requirement already satisfied: certifi>=2017.4.17 in c:\\users\\user\\anaconda3\\lib\\site-packages (from requests>=2.26->yfinance) (2020.12.5)\n",
      "Collecting pandas_datareader\n",
      "  Using cached pandas_datareader-0.10.0-py3-none-any.whl (109 kB)\n",
      "Requirement already satisfied: pandas>=0.23 in c:\\users\\user\\anaconda3\\lib\\site-packages (from pandas_datareader) (1.2.4)\n",
      "Requirement already satisfied: lxml in c:\\users\\user\\anaconda3\\lib\\site-packages (from pandas_datareader) (4.6.3)\n",
      "Requirement already satisfied: requests>=2.19.0 in c:\\users\\user\\anaconda3\\lib\\site-packages (from pandas_datareader) (2.27.1)\n",
      "Requirement already satisfied: python-dateutil>=2.7.3 in c:\\users\\user\\anaconda3\\lib\\site-packages (from pandas>=0.23->pandas_datareader) (2.8.1)\n",
      "Requirement already satisfied: numpy>=1.16.5 in c:\\users\\user\\anaconda3\\lib\\site-packages (from pandas>=0.23->pandas_datareader) (1.21.4)\n",
      "Requirement already satisfied: pytz>=2017.3 in c:\\users\\user\\anaconda3\\lib\\site-packages (from pandas>=0.23->pandas_datareader) (2021.1)\n",
      "Requirement already satisfied: six>=1.5 in c:\\users\\user\\anaconda3\\lib\\site-packages (from python-dateutil>=2.7.3->pandas>=0.23->pandas_datareader) (1.15.0)\n",
      "Requirement already satisfied: charset-normalizer~=2.0.0 in c:\\users\\user\\anaconda3\\lib\\site-packages (from requests>=2.19.0->pandas_datareader) (2.0.12)\n",
      "Requirement already satisfied: urllib3<1.27,>=1.21.1 in c:\\users\\user\\anaconda3\\lib\\site-packages (from requests>=2.19.0->pandas_datareader) (1.26.4)\n",
      "Requirement already satisfied: idna<4,>=2.5 in c:\\users\\user\\anaconda3\\lib\\site-packages (from requests>=2.19.0->pandas_datareader) (2.10)\n",
      "Requirement already satisfied: certifi>=2017.4.17 in c:\\users\\user\\anaconda3\\lib\\site-packages (from requests>=2.19.0->pandas_datareader) (2020.12.5)\n",
      "Installing collected packages: pandas-datareader\n",
      "Successfully installed pandas-datareader-0.10.0\n"
     ]
    }
   ],
   "source": [
    "# The Hugging Face transformers library. Neccessary to use FinBERT\n",
    "\n",
    "# EXECUTE ONCE, IN ORDER TO INSTALL transformers LIBRARY\n",
    "#!pip install transformers\n",
    "!pip install yfinance\n",
    "!pip install pandas_datareader"
   ]
  },
  {
   "cell_type": "code",
   "execution_count": 54,
   "id": "9b4e6f00-cc62-4feb-8fba-1bc402695b41",
   "metadata": {},
   "outputs": [
    {
     "ename": "ImportError",
     "evalue": "cannot import name 'merge_dates' from 'utilities' (C:\\Users\\User\\Downloads\\DSML MsC\\1st semester\\Μηχανική Μάθηση - Machine Learning\\2η ΕΡΓΑΣΤΗΡΙΑΚΗ ΑΣΚΗΣΗ - ΟΜΑΔΙΚΗ\\ml project\\Stock_prediction_with_News_Sentiment_Analysis\\utilities.py)",
     "output_type": "error",
     "traceback": [
      "\u001B[1;31m---------------------------------------------------------------------------\u001B[0m",
      "\u001B[1;31mImportError\u001B[0m                               Traceback (most recent call last)",
      "\u001B[1;32m<ipython-input-54-6555d7578618>\u001B[0m in \u001B[0;36m<module>\u001B[1;34m\u001B[0m\n\u001B[0;32m      1\u001B[0m \u001B[1;32mimport\u001B[0m \u001B[0mpandas\u001B[0m \u001B[1;32mas\u001B[0m \u001B[0mpd\u001B[0m\u001B[1;33m\u001B[0m\u001B[1;33m\u001B[0m\u001B[0m\n\u001B[0;32m      2\u001B[0m \u001B[1;31m# Our library\u001B[0m\u001B[1;33m\u001B[0m\u001B[1;33m\u001B[0m\u001B[1;33m\u001B[0m\u001B[0m\n\u001B[1;32m----> 3\u001B[1;33m \u001B[1;32mfrom\u001B[0m \u001B[0mutilities\u001B[0m \u001B[1;32mimport\u001B[0m \u001B[0mfinancial_dataset\u001B[0m\u001B[1;33m,\u001B[0m \u001B[0mread_rph\u001B[0m\u001B[1;33m,\u001B[0m \u001B[0mmerge_fin_news\u001B[0m\u001B[1;33m,\u001B[0m \u001B[0msentim_analyzer\u001B[0m\u001B[1;33m,\u001B[0m \u001B[0mmerge_dates\u001B[0m\u001B[1;33m\u001B[0m\u001B[1;33m\u001B[0m\u001B[0m\n\u001B[0m",
      "\u001B[1;31mImportError\u001B[0m: cannot import name 'merge_dates' from 'utilities' (C:\\Users\\User\\Downloads\\DSML MsC\\1st semester\\Μηχανική Μάθηση - Machine Learning\\2η ΕΡΓΑΣΤΗΡΙΑΚΗ ΑΣΚΗΣΗ - ΟΜΑΔΙΚΗ\\ml project\\Stock_prediction_with_News_Sentiment_Analysis\\utilities.py)"
     ]
    }
   ],
   "source": [
    "import pandas as pd \n",
    "# Our library\n",
    "from utilities import financial_dataset, read_rph, merge_fin_news, sentim_analyzer"
   ]
  },
  {
   "cell_type": "code",
   "execution_count": 27,
   "id": "fb49cc25-5813-4297-beeb-5b2cfd147a6c",
   "metadata": {},
   "outputs": [
    {
     "name": "stdout",
     "output_type": "stream",
     "text": [
      "Read 32 headlines from raw_partner_headlines.csv, regarding AAPL stock\n"
     ]
    },
    {
     "data": {
      "text/plain": "                                               headline        date stock\n4067                                       American Pie  2020-06-02  AAPL\n4068          Tech Giants Dare Antitrust Deal Watchdogs  2020-06-02  AAPL\n4069  MoneyGram Shares Jump 50% As Western Union Rep...  2020-06-02  AAPL\n4070                      All Eyes on Market Volatility  2020-06-01  AAPL\n4071  Warren Buffett's Berkshire Hathaway Turns Up S...  2020-06-01  AAPL\n4072                                         COVID 2.0?  2020-06-01  AAPL\n4073  Apple CEO Writes To Employees About George Flo...  2020-05-31  AAPL\n4074  First the Deflationary Deluge of Assets Crashi...  2020-05-31  AAPL\n4075                 Market Briefing For Monday, June 1  2020-05-31  AAPL\n4076  Five Monster Stock Market Predictions For The ...  2020-05-31  AAPL\n4077  Buybacks Are Back: Here's Who Is Repurchasing ...  2020-05-31  AAPL\n4078                              Covered Call Backtest  2020-05-31  AAPL\n4079  A Confused Goldman No Longer Expects S&P To Dr...  2020-05-30  AAPL\n4080    Market Breaks Above 200-DMA - Is The Bull Back?  2020-05-30  AAPL\n4081           Market Setup With Phenomenal Risk/Reward  2020-05-30  AAPL\n4082  The \"Smart Money\" Continues To Sell Stocks And...  2020-05-30  AAPL\n4083                                      Casino Closed  2020-05-30  AAPL\n4084                        Casino Closed, Markets Open  2020-05-30  AAPL\n4085  DXC Technology (DXC) Q4 Earnings Top Estimates...  2020-05-29  AAPL\n4086  Marvell's (MRVL) Q1 Earnings & Revenues Surpas...  2020-05-29  AAPL\n4087  Dolby (DLB) Rolls Out Interactive Platform for...  2020-05-29  AAPL\n4088  Remote Working Boosts Peripherals, PC Sales: 4...  2020-05-29  AAPL\n4089  4 Stocks to Watch as Dow Breezes Past 25,000 P...  2020-05-29  AAPL\n4090  The Momentum Trade Driving Stocks Higher May B...  2020-05-28  AAPL\n4091  Tweedy Browne's —…—… Annual Letter to Sharehol...  2020-05-28  AAPL\n4092  Kroger: Capital Preservation and More at a Goo...  2020-05-28  AAPL\n4093  Tredje AP-fonden Buys Microsoft Corp, Amazon.c...  2020-05-28  AAPL\n4094  The Zacks Analyst Blog Highlights: Apple, Exxo...  2020-05-28  AAPL\n4095  Growth Stocks for 2020: Trading Tech Stocks + ...  2020-05-28  AAPL\n4096  Stocks Are Struggling To Post Gains On May 28 ...  2020-05-28  AAPL\n4097  Swiss National Bank Ready To Buy Much More Tec...  2020-05-28  AAPL\n4098           The Topsy-Turvy S&P 500 Earnings Picture  2020-05-27  AAPL",
      "text/html": "<div>\n<style scoped>\n    .dataframe tbody tr th:only-of-type {\n        vertical-align: middle;\n    }\n\n    .dataframe tbody tr th {\n        vertical-align: top;\n    }\n\n    .dataframe thead th {\n        text-align: right;\n    }\n</style>\n<table border=\"1\" class=\"dataframe\">\n  <thead>\n    <tr style=\"text-align: right;\">\n      <th></th>\n      <th>headline</th>\n      <th>date</th>\n      <th>stock</th>\n    </tr>\n  </thead>\n  <tbody>\n    <tr>\n      <th>4067</th>\n      <td>American Pie</td>\n      <td>2020-06-02</td>\n      <td>AAPL</td>\n    </tr>\n    <tr>\n      <th>4068</th>\n      <td>Tech Giants Dare Antitrust Deal Watchdogs</td>\n      <td>2020-06-02</td>\n      <td>AAPL</td>\n    </tr>\n    <tr>\n      <th>4069</th>\n      <td>MoneyGram Shares Jump 50% As Western Union Rep...</td>\n      <td>2020-06-02</td>\n      <td>AAPL</td>\n    </tr>\n    <tr>\n      <th>4070</th>\n      <td>All Eyes on Market Volatility</td>\n      <td>2020-06-01</td>\n      <td>AAPL</td>\n    </tr>\n    <tr>\n      <th>4071</th>\n      <td>Warren Buffett's Berkshire Hathaway Turns Up S...</td>\n      <td>2020-06-01</td>\n      <td>AAPL</td>\n    </tr>\n    <tr>\n      <th>4072</th>\n      <td>COVID 2.0?</td>\n      <td>2020-06-01</td>\n      <td>AAPL</td>\n    </tr>\n    <tr>\n      <th>4073</th>\n      <td>Apple CEO Writes To Employees About George Flo...</td>\n      <td>2020-05-31</td>\n      <td>AAPL</td>\n    </tr>\n    <tr>\n      <th>4074</th>\n      <td>First the Deflationary Deluge of Assets Crashi...</td>\n      <td>2020-05-31</td>\n      <td>AAPL</td>\n    </tr>\n    <tr>\n      <th>4075</th>\n      <td>Market Briefing For Monday, June 1</td>\n      <td>2020-05-31</td>\n      <td>AAPL</td>\n    </tr>\n    <tr>\n      <th>4076</th>\n      <td>Five Monster Stock Market Predictions For The ...</td>\n      <td>2020-05-31</td>\n      <td>AAPL</td>\n    </tr>\n    <tr>\n      <th>4077</th>\n      <td>Buybacks Are Back: Here's Who Is Repurchasing ...</td>\n      <td>2020-05-31</td>\n      <td>AAPL</td>\n    </tr>\n    <tr>\n      <th>4078</th>\n      <td>Covered Call Backtest</td>\n      <td>2020-05-31</td>\n      <td>AAPL</td>\n    </tr>\n    <tr>\n      <th>4079</th>\n      <td>A Confused Goldman No Longer Expects S&amp;P To Dr...</td>\n      <td>2020-05-30</td>\n      <td>AAPL</td>\n    </tr>\n    <tr>\n      <th>4080</th>\n      <td>Market Breaks Above 200-DMA - Is The Bull Back?</td>\n      <td>2020-05-30</td>\n      <td>AAPL</td>\n    </tr>\n    <tr>\n      <th>4081</th>\n      <td>Market Setup With Phenomenal Risk/Reward</td>\n      <td>2020-05-30</td>\n      <td>AAPL</td>\n    </tr>\n    <tr>\n      <th>4082</th>\n      <td>The \"Smart Money\" Continues To Sell Stocks And...</td>\n      <td>2020-05-30</td>\n      <td>AAPL</td>\n    </tr>\n    <tr>\n      <th>4083</th>\n      <td>Casino Closed</td>\n      <td>2020-05-30</td>\n      <td>AAPL</td>\n    </tr>\n    <tr>\n      <th>4084</th>\n      <td>Casino Closed, Markets Open</td>\n      <td>2020-05-30</td>\n      <td>AAPL</td>\n    </tr>\n    <tr>\n      <th>4085</th>\n      <td>DXC Technology (DXC) Q4 Earnings Top Estimates...</td>\n      <td>2020-05-29</td>\n      <td>AAPL</td>\n    </tr>\n    <tr>\n      <th>4086</th>\n      <td>Marvell's (MRVL) Q1 Earnings &amp; Revenues Surpas...</td>\n      <td>2020-05-29</td>\n      <td>AAPL</td>\n    </tr>\n    <tr>\n      <th>4087</th>\n      <td>Dolby (DLB) Rolls Out Interactive Platform for...</td>\n      <td>2020-05-29</td>\n      <td>AAPL</td>\n    </tr>\n    <tr>\n      <th>4088</th>\n      <td>Remote Working Boosts Peripherals, PC Sales: 4...</td>\n      <td>2020-05-29</td>\n      <td>AAPL</td>\n    </tr>\n    <tr>\n      <th>4089</th>\n      <td>4 Stocks to Watch as Dow Breezes Past 25,000 P...</td>\n      <td>2020-05-29</td>\n      <td>AAPL</td>\n    </tr>\n    <tr>\n      <th>4090</th>\n      <td>The Momentum Trade Driving Stocks Higher May B...</td>\n      <td>2020-05-28</td>\n      <td>AAPL</td>\n    </tr>\n    <tr>\n      <th>4091</th>\n      <td>Tweedy Browne's —…—… Annual Letter to Sharehol...</td>\n      <td>2020-05-28</td>\n      <td>AAPL</td>\n    </tr>\n    <tr>\n      <th>4092</th>\n      <td>Kroger: Capital Preservation and More at a Goo...</td>\n      <td>2020-05-28</td>\n      <td>AAPL</td>\n    </tr>\n    <tr>\n      <th>4093</th>\n      <td>Tredje AP-fonden Buys Microsoft Corp, Amazon.c...</td>\n      <td>2020-05-28</td>\n      <td>AAPL</td>\n    </tr>\n    <tr>\n      <th>4094</th>\n      <td>The Zacks Analyst Blog Highlights: Apple, Exxo...</td>\n      <td>2020-05-28</td>\n      <td>AAPL</td>\n    </tr>\n    <tr>\n      <th>4095</th>\n      <td>Growth Stocks for 2020: Trading Tech Stocks + ...</td>\n      <td>2020-05-28</td>\n      <td>AAPL</td>\n    </tr>\n    <tr>\n      <th>4096</th>\n      <td>Stocks Are Struggling To Post Gains On May 28 ...</td>\n      <td>2020-05-28</td>\n      <td>AAPL</td>\n    </tr>\n    <tr>\n      <th>4097</th>\n      <td>Swiss National Bank Ready To Buy Much More Tec...</td>\n      <td>2020-05-28</td>\n      <td>AAPL</td>\n    </tr>\n    <tr>\n      <th>4098</th>\n      <td>The Topsy-Turvy S&amp;P 500 Earnings Picture</td>\n      <td>2020-05-27</td>\n      <td>AAPL</td>\n    </tr>\n  </tbody>\n</table>\n</div>"
     },
     "execution_count": 27,
     "metadata": {},
     "output_type": "execute_result"
    }
   ],
   "source": [
    "apple_headlines = read_rph('AAPL')\n",
    "apple_headlines"
   ]
  },
  {
   "cell_type": "code",
   "execution_count": 14,
   "id": "6579fb85-0c7e-4f18-b534-d2e74fa2aadd",
   "metadata": {},
   "outputs": [
    {
     "name": "stdout",
     "output_type": "stream",
     "text": [
      "[*********************100%***********************]  1 of 1 completed\n",
      "AAPL dataframe dimensions  (2770, 6)\n",
      "Positive changes : 1248\n",
      "Negative changes : 1066\n",
      "No changes : 456\n"
     ]
    },
    {
     "data": {
      "text/plain": "                  Open       Close     Volume  Price_change        date\nDate                                                                   \n2009-12-31    7.611786    7.526071  352410800             0           0\n2010-01-04    7.622500    7.643214  493729600             1  2010-01-04\n2010-01-05    7.664286    7.656429  601904800             0  2010-01-05\n2010-01-06    7.656429    7.534643  552160000            -1  2010-01-06\n2010-01-07    7.562500    7.520714  477131200             0  2010-01-07\n...                ...         ...        ...           ...         ...\n2020-12-24  131.320007  131.970001   54930100             1  2020-12-24\n2020-12-28  133.990005  136.690002  124486200             1  2020-12-28\n2020-12-29  138.050003  134.869995  121047300            -1  2020-12-29\n2020-12-30  135.580002  133.720001   96452100            -1  2020-12-30\n2020-12-31  134.080002  132.690002   99116600            -1  2020-12-31\n\n[2770 rows x 5 columns]",
      "text/html": "<div>\n<style scoped>\n    .dataframe tbody tr th:only-of-type {\n        vertical-align: middle;\n    }\n\n    .dataframe tbody tr th {\n        vertical-align: top;\n    }\n\n    .dataframe thead th {\n        text-align: right;\n    }\n</style>\n<table border=\"1\" class=\"dataframe\">\n  <thead>\n    <tr style=\"text-align: right;\">\n      <th></th>\n      <th>Open</th>\n      <th>Close</th>\n      <th>Volume</th>\n      <th>Price_change</th>\n      <th>date</th>\n    </tr>\n    <tr>\n      <th>Date</th>\n      <th></th>\n      <th></th>\n      <th></th>\n      <th></th>\n      <th></th>\n    </tr>\n  </thead>\n  <tbody>\n    <tr>\n      <th>2009-12-31</th>\n      <td>7.611786</td>\n      <td>7.526071</td>\n      <td>352410800</td>\n      <td>0</td>\n      <td>0</td>\n    </tr>\n    <tr>\n      <th>2010-01-04</th>\n      <td>7.622500</td>\n      <td>7.643214</td>\n      <td>493729600</td>\n      <td>1</td>\n      <td>2010-01-04</td>\n    </tr>\n    <tr>\n      <th>2010-01-05</th>\n      <td>7.664286</td>\n      <td>7.656429</td>\n      <td>601904800</td>\n      <td>0</td>\n      <td>2010-01-05</td>\n    </tr>\n    <tr>\n      <th>2010-01-06</th>\n      <td>7.656429</td>\n      <td>7.534643</td>\n      <td>552160000</td>\n      <td>-1</td>\n      <td>2010-01-06</td>\n    </tr>\n    <tr>\n      <th>2010-01-07</th>\n      <td>7.562500</td>\n      <td>7.520714</td>\n      <td>477131200</td>\n      <td>0</td>\n      <td>2010-01-07</td>\n    </tr>\n    <tr>\n      <th>...</th>\n      <td>...</td>\n      <td>...</td>\n      <td>...</td>\n      <td>...</td>\n      <td>...</td>\n    </tr>\n    <tr>\n      <th>2020-12-24</th>\n      <td>131.320007</td>\n      <td>131.970001</td>\n      <td>54930100</td>\n      <td>1</td>\n      <td>2020-12-24</td>\n    </tr>\n    <tr>\n      <th>2020-12-28</th>\n      <td>133.990005</td>\n      <td>136.690002</td>\n      <td>124486200</td>\n      <td>1</td>\n      <td>2020-12-28</td>\n    </tr>\n    <tr>\n      <th>2020-12-29</th>\n      <td>138.050003</td>\n      <td>134.869995</td>\n      <td>121047300</td>\n      <td>-1</td>\n      <td>2020-12-29</td>\n    </tr>\n    <tr>\n      <th>2020-12-30</th>\n      <td>135.580002</td>\n      <td>133.720001</td>\n      <td>96452100</td>\n      <td>-1</td>\n      <td>2020-12-30</td>\n    </tr>\n    <tr>\n      <th>2020-12-31</th>\n      <td>134.080002</td>\n      <td>132.690002</td>\n      <td>99116600</td>\n      <td>-1</td>\n      <td>2020-12-31</td>\n    </tr>\n  </tbody>\n</table>\n<p>2770 rows × 5 columns</p>\n</div>"
     },
     "execution_count": 14,
     "metadata": {},
     "output_type": "execute_result"
    }
   ],
   "source": [
    "aapl_fin = financial_dataset('AAPL', 0.25)\n",
    "aapl_fin"
   ]
  },
  {
   "cell_type": "markdown",
   "id": "f31eec27-44bf-43ae-83fc-df551f704a98",
   "metadata": {},
   "source": [
    "### Headlines published during the weekend are lost during merge of financial and news dataframes."
   ]
  },
  {
   "cell_type": "code",
   "execution_count": 15,
   "id": "98b2eeec-45d6-4ecf-97d5-650dcf875e58",
   "metadata": {},
   "outputs": [
    {
     "data": {
      "text/plain": "          date stock       Open      Close     Volume  \\\n0   2020-05-27  AAPL  79.035004  79.527496  112945200   \n1   2020-05-28  AAPL  79.192497  79.562500  133560800   \n2   2020-05-28  AAPL  79.192497  79.562500  133560800   \n3   2020-05-28  AAPL  79.192497  79.562500  133560800   \n4   2020-05-28  AAPL  79.192497  79.562500  133560800   \n5   2020-05-28  AAPL  79.192497  79.562500  133560800   \n6   2020-05-28  AAPL  79.192497  79.562500  133560800   \n7   2020-05-28  AAPL  79.192497  79.562500  133560800   \n8   2020-05-28  AAPL  79.192497  79.562500  133560800   \n9   2020-05-29  AAPL  79.812500  79.485001  153532400   \n10  2020-05-29  AAPL  79.812500  79.485001  153532400   \n11  2020-05-29  AAPL  79.812500  79.485001  153532400   \n12  2020-05-29  AAPL  79.812500  79.485001  153532400   \n13  2020-05-29  AAPL  79.812500  79.485001  153532400   \n14  2020-06-01  AAPL  79.437500  80.462502   80791200   \n15  2020-06-01  AAPL  79.437500  80.462502   80791200   \n16  2020-06-01  AAPL  79.437500  80.462502   80791200   \n17  2020-06-02  AAPL  80.187500  80.834999   87642800   \n18  2020-06-02  AAPL  80.187500  80.834999   87642800   \n19  2020-06-02  AAPL  80.187500  80.834999   87642800   \n\n                                             headline  Price_change  \n0            The Topsy-Turvy S&P 500 Earnings Picture             1  \n1   The Momentum Trade Driving Stocks Higher May B...             0  \n2   Tweedy Browne's —…—… Annual Letter to Sharehol...             0  \n3   Kroger: Capital Preservation and More at a Goo...             0  \n4   Tredje AP-fonden Buys Microsoft Corp, Amazon.c...             0  \n5   The Zacks Analyst Blog Highlights: Apple, Exxo...             0  \n6   Growth Stocks for 2020: Trading Tech Stocks + ...             0  \n7   Stocks Are Struggling To Post Gains On May 28 ...             0  \n8   Swiss National Bank Ready To Buy Much More Tec...             0  \n9   DXC Technology (DXC) Q4 Earnings Top Estimates...             0  \n10  Marvell's (MRVL) Q1 Earnings & Revenues Surpas...             0  \n11  Dolby (DLB) Rolls Out Interactive Platform for...             0  \n12  Remote Working Boosts Peripherals, PC Sales: 4...             0  \n13  4 Stocks to Watch as Dow Breezes Past 25,000 P...             0  \n14                      All Eyes on Market Volatility             1  \n15  Warren Buffett's Berkshire Hathaway Turns Up S...             1  \n16                                         COVID 2.0?             1  \n17                                       American Pie             1  \n18          Tech Giants Dare Antitrust Deal Watchdogs             1  \n19  MoneyGram Shares Jump 50% As Western Union Rep...             1  ",
      "text/html": "<div>\n<style scoped>\n    .dataframe tbody tr th:only-of-type {\n        vertical-align: middle;\n    }\n\n    .dataframe tbody tr th {\n        vertical-align: top;\n    }\n\n    .dataframe thead th {\n        text-align: right;\n    }\n</style>\n<table border=\"1\" class=\"dataframe\">\n  <thead>\n    <tr style=\"text-align: right;\">\n      <th></th>\n      <th>date</th>\n      <th>stock</th>\n      <th>Open</th>\n      <th>Close</th>\n      <th>Volume</th>\n      <th>headline</th>\n      <th>Price_change</th>\n    </tr>\n  </thead>\n  <tbody>\n    <tr>\n      <th>0</th>\n      <td>2020-05-27</td>\n      <td>AAPL</td>\n      <td>79.035004</td>\n      <td>79.527496</td>\n      <td>112945200</td>\n      <td>The Topsy-Turvy S&amp;P 500 Earnings Picture</td>\n      <td>1</td>\n    </tr>\n    <tr>\n      <th>1</th>\n      <td>2020-05-28</td>\n      <td>AAPL</td>\n      <td>79.192497</td>\n      <td>79.562500</td>\n      <td>133560800</td>\n      <td>The Momentum Trade Driving Stocks Higher May B...</td>\n      <td>0</td>\n    </tr>\n    <tr>\n      <th>2</th>\n      <td>2020-05-28</td>\n      <td>AAPL</td>\n      <td>79.192497</td>\n      <td>79.562500</td>\n      <td>133560800</td>\n      <td>Tweedy Browne's —…—… Annual Letter to Sharehol...</td>\n      <td>0</td>\n    </tr>\n    <tr>\n      <th>3</th>\n      <td>2020-05-28</td>\n      <td>AAPL</td>\n      <td>79.192497</td>\n      <td>79.562500</td>\n      <td>133560800</td>\n      <td>Kroger: Capital Preservation and More at a Goo...</td>\n      <td>0</td>\n    </tr>\n    <tr>\n      <th>4</th>\n      <td>2020-05-28</td>\n      <td>AAPL</td>\n      <td>79.192497</td>\n      <td>79.562500</td>\n      <td>133560800</td>\n      <td>Tredje AP-fonden Buys Microsoft Corp, Amazon.c...</td>\n      <td>0</td>\n    </tr>\n    <tr>\n      <th>5</th>\n      <td>2020-05-28</td>\n      <td>AAPL</td>\n      <td>79.192497</td>\n      <td>79.562500</td>\n      <td>133560800</td>\n      <td>The Zacks Analyst Blog Highlights: Apple, Exxo...</td>\n      <td>0</td>\n    </tr>\n    <tr>\n      <th>6</th>\n      <td>2020-05-28</td>\n      <td>AAPL</td>\n      <td>79.192497</td>\n      <td>79.562500</td>\n      <td>133560800</td>\n      <td>Growth Stocks for 2020: Trading Tech Stocks + ...</td>\n      <td>0</td>\n    </tr>\n    <tr>\n      <th>7</th>\n      <td>2020-05-28</td>\n      <td>AAPL</td>\n      <td>79.192497</td>\n      <td>79.562500</td>\n      <td>133560800</td>\n      <td>Stocks Are Struggling To Post Gains On May 28 ...</td>\n      <td>0</td>\n    </tr>\n    <tr>\n      <th>8</th>\n      <td>2020-05-28</td>\n      <td>AAPL</td>\n      <td>79.192497</td>\n      <td>79.562500</td>\n      <td>133560800</td>\n      <td>Swiss National Bank Ready To Buy Much More Tec...</td>\n      <td>0</td>\n    </tr>\n    <tr>\n      <th>9</th>\n      <td>2020-05-29</td>\n      <td>AAPL</td>\n      <td>79.812500</td>\n      <td>79.485001</td>\n      <td>153532400</td>\n      <td>DXC Technology (DXC) Q4 Earnings Top Estimates...</td>\n      <td>0</td>\n    </tr>\n    <tr>\n      <th>10</th>\n      <td>2020-05-29</td>\n      <td>AAPL</td>\n      <td>79.812500</td>\n      <td>79.485001</td>\n      <td>153532400</td>\n      <td>Marvell's (MRVL) Q1 Earnings &amp; Revenues Surpas...</td>\n      <td>0</td>\n    </tr>\n    <tr>\n      <th>11</th>\n      <td>2020-05-29</td>\n      <td>AAPL</td>\n      <td>79.812500</td>\n      <td>79.485001</td>\n      <td>153532400</td>\n      <td>Dolby (DLB) Rolls Out Interactive Platform for...</td>\n      <td>0</td>\n    </tr>\n    <tr>\n      <th>12</th>\n      <td>2020-05-29</td>\n      <td>AAPL</td>\n      <td>79.812500</td>\n      <td>79.485001</td>\n      <td>153532400</td>\n      <td>Remote Working Boosts Peripherals, PC Sales: 4...</td>\n      <td>0</td>\n    </tr>\n    <tr>\n      <th>13</th>\n      <td>2020-05-29</td>\n      <td>AAPL</td>\n      <td>79.812500</td>\n      <td>79.485001</td>\n      <td>153532400</td>\n      <td>4 Stocks to Watch as Dow Breezes Past 25,000 P...</td>\n      <td>0</td>\n    </tr>\n    <tr>\n      <th>14</th>\n      <td>2020-06-01</td>\n      <td>AAPL</td>\n      <td>79.437500</td>\n      <td>80.462502</td>\n      <td>80791200</td>\n      <td>All Eyes on Market Volatility</td>\n      <td>1</td>\n    </tr>\n    <tr>\n      <th>15</th>\n      <td>2020-06-01</td>\n      <td>AAPL</td>\n      <td>79.437500</td>\n      <td>80.462502</td>\n      <td>80791200</td>\n      <td>Warren Buffett's Berkshire Hathaway Turns Up S...</td>\n      <td>1</td>\n    </tr>\n    <tr>\n      <th>16</th>\n      <td>2020-06-01</td>\n      <td>AAPL</td>\n      <td>79.437500</td>\n      <td>80.462502</td>\n      <td>80791200</td>\n      <td>COVID 2.0?</td>\n      <td>1</td>\n    </tr>\n    <tr>\n      <th>17</th>\n      <td>2020-06-02</td>\n      <td>AAPL</td>\n      <td>80.187500</td>\n      <td>80.834999</td>\n      <td>87642800</td>\n      <td>American Pie</td>\n      <td>1</td>\n    </tr>\n    <tr>\n      <th>18</th>\n      <td>2020-06-02</td>\n      <td>AAPL</td>\n      <td>80.187500</td>\n      <td>80.834999</td>\n      <td>87642800</td>\n      <td>Tech Giants Dare Antitrust Deal Watchdogs</td>\n      <td>1</td>\n    </tr>\n    <tr>\n      <th>19</th>\n      <td>2020-06-02</td>\n      <td>AAPL</td>\n      <td>80.187500</td>\n      <td>80.834999</td>\n      <td>87642800</td>\n      <td>MoneyGram Shares Jump 50% As Western Union Rep...</td>\n      <td>1</td>\n    </tr>\n  </tbody>\n</table>\n</div>"
     },
     "execution_count": 15,
     "metadata": {},
     "output_type": "execute_result"
    }
   ],
   "source": [
    "merged_apple = merge_fin_news(aapl_fin, apple_headlines)\n",
    "merged_apple"
   ]
  },
  {
   "cell_type": "markdown",
   "id": "a128b68a-fd56-4992-9b26-74e92d42776b",
   "metadata": {},
   "source": [
    "#### Initialize transformer model for sentiment analysis"
   ]
  },
  {
   "cell_type": "code",
   "execution_count": 25,
   "id": "7c871bbe-25ad-453c-84a3-5cd9dacd7e2a",
   "metadata": {},
   "outputs": [
    {
     "name": "stdout",
     "output_type": "stream",
     "text": [
      "Requirement already satisfied: transformers in c:\\users\\user\\anaconda3\\lib\\site-packages (4.17.0)\n",
      "Requirement already satisfied: packaging>=20.0 in c:\\users\\user\\anaconda3\\lib\\site-packages (from transformers) (20.9)\n",
      "Requirement already satisfied: huggingface-hub<1.0,>=0.1.0 in c:\\users\\user\\anaconda3\\lib\\site-packages (from transformers) (0.4.0)\n",
      "Requirement already satisfied: regex!=2019.12.17 in c:\\users\\user\\anaconda3\\lib\\site-packages (from transformers) (2021.4.4)\n",
      "Requirement already satisfied: sacremoses in c:\\users\\user\\anaconda3\\lib\\site-packages (from transformers) (0.0.47)\n",
      "Requirement already satisfied: tokenizers!=0.11.3,>=0.11.1 in c:\\users\\user\\anaconda3\\lib\\site-packages (from transformers) (0.11.6)\n",
      "Requirement already satisfied: requests in c:\\users\\user\\anaconda3\\lib\\site-packages (from transformers) (2.27.1)\n",
      "Requirement already satisfied: numpy>=1.17 in c:\\users\\user\\anaconda3\\lib\\site-packages (from transformers) (1.21.4)\n",
      "Requirement already satisfied: filelock in c:\\users\\user\\anaconda3\\lib\\site-packages (from transformers) (3.0.12)\n",
      "Requirement already satisfied: pyyaml>=5.1 in c:\\users\\user\\anaconda3\\lib\\site-packages (from transformers) (5.4.1)\n",
      "Requirement already satisfied: tqdm>=4.27 in c:\\users\\user\\anaconda3\\lib\\site-packages (from transformers) (4.59.0)\n",
      "Requirement already satisfied: typing-extensions>=3.7.4.3 in c:\\users\\user\\anaconda3\\lib\\site-packages (from huggingface-hub<1.0,>=0.1.0->transformers) (3.7.4.3)\n",
      "Requirement already satisfied: pyparsing>=2.0.2 in c:\\users\\user\\anaconda3\\lib\\site-packages (from packaging>=20.0->transformers) (2.4.7)\n",
      "Requirement already satisfied: charset-normalizer~=2.0.0 in c:\\users\\user\\anaconda3\\lib\\site-packages (from requests->transformers) (2.0.12)\n",
      "Requirement already satisfied: certifi>=2017.4.17 in c:\\users\\user\\anaconda3\\lib\\site-packages (from requests->transformers) (2020.12.5)\n",
      "Requirement already satisfied: urllib3<1.27,>=1.21.1 in c:\\users\\user\\anaconda3\\lib\\site-packages (from requests->transformers) (1.26.4)\n",
      "Requirement already satisfied: idna<4,>=2.5 in c:\\users\\user\\anaconda3\\lib\\site-packages (from requests->transformers) (2.10)\n",
      "Requirement already satisfied: six in c:\\users\\user\\anaconda3\\lib\\site-packages (from sacremoses->transformers) (1.15.0)\n",
      "Requirement already satisfied: click in c:\\users\\user\\anaconda3\\lib\\site-packages (from sacremoses->transformers) (7.1.2)\n",
      "Requirement already satisfied: joblib in c:\\users\\user\\anaconda3\\lib\\site-packages (from sacremoses->transformers) (1.0.1)\n"
     ]
    }
   ],
   "source": [
    "#!pip install transformers\n",
    "from transformers import AutoTokenizer, AutoModelForSequenceClassification\n",
    "\n",
    "tokenizer = AutoTokenizer.from_pretrained(\"ProsusAI/finbert\")\n",
    "\n",
    "model = AutoModelForSequenceClassification.from_pretrained(\"ProsusAI/finbert\")"
   ]
  },
  {
   "cell_type": "markdown",
   "id": "503fc32b-ed70-4638-b13e-249b10dc6aa5",
   "metadata": {},
   "source": [
    "### Conduct the sentiment analysis (transformer inference) on the merged dataframe and get the sentiment scores. (Feature Engineering)"
   ]
  },
  {
   "cell_type": "code",
   "execution_count": 26,
   "id": "22ada378-a821-4f46-8b4d-a252a3dfd97e",
   "metadata": {},
   "outputs": [
    {
     "data": {
      "text/plain": "          date stock       Open      Close     Volume  \\\n0   2020-05-27  AAPL  79.035004  79.527496  112945200   \n1   2020-05-28  AAPL  79.192497  79.562500  133560800   \n2   2020-05-28  AAPL  79.192497  79.562500  133560800   \n3   2020-05-28  AAPL  79.192497  79.562500  133560800   \n4   2020-05-28  AAPL  79.192497  79.562500  133560800   \n5   2020-05-28  AAPL  79.192497  79.562500  133560800   \n6   2020-05-28  AAPL  79.192497  79.562500  133560800   \n7   2020-05-28  AAPL  79.192497  79.562500  133560800   \n8   2020-05-28  AAPL  79.192497  79.562500  133560800   \n9   2020-05-29  AAPL  79.812500  79.485001  153532400   \n10  2020-05-29  AAPL  79.812500  79.485001  153532400   \n11  2020-05-29  AAPL  79.812500  79.485001  153532400   \n12  2020-05-29  AAPL  79.812500  79.485001  153532400   \n13  2020-05-29  AAPL  79.812500  79.485001  153532400   \n14  2020-06-01  AAPL  79.437500  80.462502   80791200   \n15  2020-06-01  AAPL  79.437500  80.462502   80791200   \n16  2020-06-01  AAPL  79.437500  80.462502   80791200   \n17  2020-06-02  AAPL  80.187500  80.834999   87642800   \n18  2020-06-02  AAPL  80.187500  80.834999   87642800   \n19  2020-06-02  AAPL  80.187500  80.834999   87642800   \n\n                                             headline  Positive  Negative  \\\n0            The Topsy-Turvy S&P 500 Earnings Picture  0.093772  0.389471   \n1   The Momentum Trade Driving Stocks Higher May B...  0.454190  0.310930   \n2   Tweedy Browne's —…—… Annual Letter to Sharehol...  0.124023  0.033853   \n3   Kroger: Capital Preservation and More at a Goo...  0.784677  0.008240   \n4   Tredje AP-fonden Buys Microsoft Corp, Amazon.c...  0.088424  0.011014   \n5   The Zacks Analyst Blog Highlights: Apple, Exxo...  0.028047  0.029387   \n6   Growth Stocks for 2020: Trading Tech Stocks + ...  0.040885  0.019898   \n7   Stocks Are Struggling To Post Gains On May 28 ...  0.012209  0.970809   \n8   Swiss National Bank Ready To Buy Much More Tec...  0.671759  0.180035   \n9   DXC Technology (DXC) Q4 Earnings Top Estimates...  0.045347  0.035089   \n10  Marvell's (MRVL) Q1 Earnings & Revenues Surpas...  0.878711  0.096906   \n11  Dolby (DLB) Rolls Out Interactive Platform for...  0.209822  0.007250   \n12  Remote Working Boosts Peripherals, PC Sales: 4...  0.818422  0.022066   \n13  4 Stocks to Watch as Dow Breezes Past 25,000 P...  0.117880  0.022578   \n14                      All Eyes on Market Volatility  0.028827  0.051088   \n15  Warren Buffett's Berkshire Hathaway Turns Up S...  0.062789  0.011781   \n16                                         COVID 2.0?  0.052309  0.047914   \n17                                       American Pie  0.057810  0.026715   \n18          Tech Giants Dare Antitrust Deal Watchdogs  0.031234  0.083182   \n19  MoneyGram Shares Jump 50% As Western Union Rep...  0.869751  0.042584   \n\n     Neutral  Price_change  \n0   0.516757             1  \n1   0.234880             0  \n2   0.842124             0  \n3   0.207083             0  \n4   0.900561             0  \n5   0.942566             0  \n6   0.939216             0  \n7   0.016982             0  \n8   0.148206             0  \n9   0.919563             0  \n10  0.024383             0  \n11  0.782928             0  \n12  0.159512             0  \n13  0.859542             0  \n14  0.920084             1  \n15  0.925430             1  \n16  0.899777             1  \n17  0.915474             1  \n18  0.885585             1  \n19  0.087665             1  ",
      "text/html": "<div>\n<style scoped>\n    .dataframe tbody tr th:only-of-type {\n        vertical-align: middle;\n    }\n\n    .dataframe tbody tr th {\n        vertical-align: top;\n    }\n\n    .dataframe thead th {\n        text-align: right;\n    }\n</style>\n<table border=\"1\" class=\"dataframe\">\n  <thead>\n    <tr style=\"text-align: right;\">\n      <th></th>\n      <th>date</th>\n      <th>stock</th>\n      <th>Open</th>\n      <th>Close</th>\n      <th>Volume</th>\n      <th>headline</th>\n      <th>Positive</th>\n      <th>Negative</th>\n      <th>Neutral</th>\n      <th>Price_change</th>\n    </tr>\n  </thead>\n  <tbody>\n    <tr>\n      <th>0</th>\n      <td>2020-05-27</td>\n      <td>AAPL</td>\n      <td>79.035004</td>\n      <td>79.527496</td>\n      <td>112945200</td>\n      <td>The Topsy-Turvy S&amp;P 500 Earnings Picture</td>\n      <td>0.093772</td>\n      <td>0.389471</td>\n      <td>0.516757</td>\n      <td>1</td>\n    </tr>\n    <tr>\n      <th>1</th>\n      <td>2020-05-28</td>\n      <td>AAPL</td>\n      <td>79.192497</td>\n      <td>79.562500</td>\n      <td>133560800</td>\n      <td>The Momentum Trade Driving Stocks Higher May B...</td>\n      <td>0.454190</td>\n      <td>0.310930</td>\n      <td>0.234880</td>\n      <td>0</td>\n    </tr>\n    <tr>\n      <th>2</th>\n      <td>2020-05-28</td>\n      <td>AAPL</td>\n      <td>79.192497</td>\n      <td>79.562500</td>\n      <td>133560800</td>\n      <td>Tweedy Browne's —…—… Annual Letter to Sharehol...</td>\n      <td>0.124023</td>\n      <td>0.033853</td>\n      <td>0.842124</td>\n      <td>0</td>\n    </tr>\n    <tr>\n      <th>3</th>\n      <td>2020-05-28</td>\n      <td>AAPL</td>\n      <td>79.192497</td>\n      <td>79.562500</td>\n      <td>133560800</td>\n      <td>Kroger: Capital Preservation and More at a Goo...</td>\n      <td>0.784677</td>\n      <td>0.008240</td>\n      <td>0.207083</td>\n      <td>0</td>\n    </tr>\n    <tr>\n      <th>4</th>\n      <td>2020-05-28</td>\n      <td>AAPL</td>\n      <td>79.192497</td>\n      <td>79.562500</td>\n      <td>133560800</td>\n      <td>Tredje AP-fonden Buys Microsoft Corp, Amazon.c...</td>\n      <td>0.088424</td>\n      <td>0.011014</td>\n      <td>0.900561</td>\n      <td>0</td>\n    </tr>\n    <tr>\n      <th>5</th>\n      <td>2020-05-28</td>\n      <td>AAPL</td>\n      <td>79.192497</td>\n      <td>79.562500</td>\n      <td>133560800</td>\n      <td>The Zacks Analyst Blog Highlights: Apple, Exxo...</td>\n      <td>0.028047</td>\n      <td>0.029387</td>\n      <td>0.942566</td>\n      <td>0</td>\n    </tr>\n    <tr>\n      <th>6</th>\n      <td>2020-05-28</td>\n      <td>AAPL</td>\n      <td>79.192497</td>\n      <td>79.562500</td>\n      <td>133560800</td>\n      <td>Growth Stocks for 2020: Trading Tech Stocks + ...</td>\n      <td>0.040885</td>\n      <td>0.019898</td>\n      <td>0.939216</td>\n      <td>0</td>\n    </tr>\n    <tr>\n      <th>7</th>\n      <td>2020-05-28</td>\n      <td>AAPL</td>\n      <td>79.192497</td>\n      <td>79.562500</td>\n      <td>133560800</td>\n      <td>Stocks Are Struggling To Post Gains On May 28 ...</td>\n      <td>0.012209</td>\n      <td>0.970809</td>\n      <td>0.016982</td>\n      <td>0</td>\n    </tr>\n    <tr>\n      <th>8</th>\n      <td>2020-05-28</td>\n      <td>AAPL</td>\n      <td>79.192497</td>\n      <td>79.562500</td>\n      <td>133560800</td>\n      <td>Swiss National Bank Ready To Buy Much More Tec...</td>\n      <td>0.671759</td>\n      <td>0.180035</td>\n      <td>0.148206</td>\n      <td>0</td>\n    </tr>\n    <tr>\n      <th>9</th>\n      <td>2020-05-29</td>\n      <td>AAPL</td>\n      <td>79.812500</td>\n      <td>79.485001</td>\n      <td>153532400</td>\n      <td>DXC Technology (DXC) Q4 Earnings Top Estimates...</td>\n      <td>0.045347</td>\n      <td>0.035089</td>\n      <td>0.919563</td>\n      <td>0</td>\n    </tr>\n    <tr>\n      <th>10</th>\n      <td>2020-05-29</td>\n      <td>AAPL</td>\n      <td>79.812500</td>\n      <td>79.485001</td>\n      <td>153532400</td>\n      <td>Marvell's (MRVL) Q1 Earnings &amp; Revenues Surpas...</td>\n      <td>0.878711</td>\n      <td>0.096906</td>\n      <td>0.024383</td>\n      <td>0</td>\n    </tr>\n    <tr>\n      <th>11</th>\n      <td>2020-05-29</td>\n      <td>AAPL</td>\n      <td>79.812500</td>\n      <td>79.485001</td>\n      <td>153532400</td>\n      <td>Dolby (DLB) Rolls Out Interactive Platform for...</td>\n      <td>0.209822</td>\n      <td>0.007250</td>\n      <td>0.782928</td>\n      <td>0</td>\n    </tr>\n    <tr>\n      <th>12</th>\n      <td>2020-05-29</td>\n      <td>AAPL</td>\n      <td>79.812500</td>\n      <td>79.485001</td>\n      <td>153532400</td>\n      <td>Remote Working Boosts Peripherals, PC Sales: 4...</td>\n      <td>0.818422</td>\n      <td>0.022066</td>\n      <td>0.159512</td>\n      <td>0</td>\n    </tr>\n    <tr>\n      <th>13</th>\n      <td>2020-05-29</td>\n      <td>AAPL</td>\n      <td>79.812500</td>\n      <td>79.485001</td>\n      <td>153532400</td>\n      <td>4 Stocks to Watch as Dow Breezes Past 25,000 P...</td>\n      <td>0.117880</td>\n      <td>0.022578</td>\n      <td>0.859542</td>\n      <td>0</td>\n    </tr>\n    <tr>\n      <th>14</th>\n      <td>2020-06-01</td>\n      <td>AAPL</td>\n      <td>79.437500</td>\n      <td>80.462502</td>\n      <td>80791200</td>\n      <td>All Eyes on Market Volatility</td>\n      <td>0.028827</td>\n      <td>0.051088</td>\n      <td>0.920084</td>\n      <td>1</td>\n    </tr>\n    <tr>\n      <th>15</th>\n      <td>2020-06-01</td>\n      <td>AAPL</td>\n      <td>79.437500</td>\n      <td>80.462502</td>\n      <td>80791200</td>\n      <td>Warren Buffett's Berkshire Hathaway Turns Up S...</td>\n      <td>0.062789</td>\n      <td>0.011781</td>\n      <td>0.925430</td>\n      <td>1</td>\n    </tr>\n    <tr>\n      <th>16</th>\n      <td>2020-06-01</td>\n      <td>AAPL</td>\n      <td>79.437500</td>\n      <td>80.462502</td>\n      <td>80791200</td>\n      <td>COVID 2.0?</td>\n      <td>0.052309</td>\n      <td>0.047914</td>\n      <td>0.899777</td>\n      <td>1</td>\n    </tr>\n    <tr>\n      <th>17</th>\n      <td>2020-06-02</td>\n      <td>AAPL</td>\n      <td>80.187500</td>\n      <td>80.834999</td>\n      <td>87642800</td>\n      <td>American Pie</td>\n      <td>0.057810</td>\n      <td>0.026715</td>\n      <td>0.915474</td>\n      <td>1</td>\n    </tr>\n    <tr>\n      <th>18</th>\n      <td>2020-06-02</td>\n      <td>AAPL</td>\n      <td>80.187500</td>\n      <td>80.834999</td>\n      <td>87642800</td>\n      <td>Tech Giants Dare Antitrust Deal Watchdogs</td>\n      <td>0.031234</td>\n      <td>0.083182</td>\n      <td>0.885585</td>\n      <td>1</td>\n    </tr>\n    <tr>\n      <th>19</th>\n      <td>2020-06-02</td>\n      <td>AAPL</td>\n      <td>80.187500</td>\n      <td>80.834999</td>\n      <td>87642800</td>\n      <td>MoneyGram Shares Jump 50% As Western Union Rep...</td>\n      <td>0.869751</td>\n      <td>0.042584</td>\n      <td>0.087665</td>\n      <td>1</td>\n    </tr>\n  </tbody>\n</table>\n</div>"
     },
     "execution_count": 26,
     "metadata": {},
     "output_type": "execute_result"
    }
   ],
   "source": [
    "train_apple_df = sentim_analyzer(merged_apple, tokenizer, model)\n",
    "train_apple_df"
   ]
  },
  {
   "cell_type": "code",
   "execution_count": 23,
   "outputs": [],
   "source": [
    "train_apple_df.to_csv('Financial_News/train_apple.csv')"
   ],
   "metadata": {
    "collapsed": false,
    "pycharm": {
     "name": "#%%\n"
    }
   }
  },
  {
   "cell_type": "code",
   "execution_count": 28,
   "outputs": [
    {
     "data": {
      "text/plain": "array(['2020-05-27', '2020-05-28', '2020-05-29', '2020-06-01',\n       '2020-06-02'], dtype=object)"
     },
     "execution_count": 28,
     "metadata": {},
     "output_type": "execute_result"
    }
   ],
   "source": [
    "train_apple_df['date'].unique()"
   ],
   "metadata": {
    "collapsed": false,
    "pycharm": {
     "name": "#%%\n"
    }
   }
  },
  {
   "cell_type": "markdown",
   "source": [
    "# Load NYT Microsoft news and do Logistic Regression"
   ],
   "metadata": {
    "collapsed": false,
    "pycharm": {
     "name": "#%% md\n"
    }
   }
  },
  {
   "cell_type": "code",
   "execution_count": 37,
   "outputs": [
    {
     "name": "stdout",
     "output_type": "stream",
     "text": [
      "[*********************100%***********************]  1 of 1 completed\n",
      "MSFT dataframe dimensions  (2770, 6)\n",
      "Positive changes : 1189\n",
      "Negative changes : 1041\n",
      "No changes : 540\n"
     ]
    },
    {
     "data": {
      "text/plain": "                  Open       Close    Volume  Price_change        date\nDate                                                                  \n2009-12-31   30.980000   30.480000  31929700             0           0\n2010-01-04   30.620001   30.950001  38409100             1  2010-01-04\n2010-01-05   30.850000   30.959999  49749600             0  2010-01-05\n2010-01-06   30.879999   30.770000  58182400            -1  2010-01-06\n2010-01-07   30.629999   30.450001  50559700            -1  2010-01-07\n...                ...         ...       ...           ...         ...\n2020-12-24  221.419998  222.750000  10550600             1  2020-12-24\n2020-12-28  224.449997  224.960007  17933500             1  2020-12-28\n2020-12-29  226.309998  224.149994  17403200            -1  2020-12-29\n2020-12-30  225.229996  221.679993  20272300            -1  2020-12-30\n2020-12-31  221.699997  222.419998  20942100             1  2020-12-31\n\n[2770 rows x 5 columns]",
      "text/html": "<div>\n<style scoped>\n    .dataframe tbody tr th:only-of-type {\n        vertical-align: middle;\n    }\n\n    .dataframe tbody tr th {\n        vertical-align: top;\n    }\n\n    .dataframe thead th {\n        text-align: right;\n    }\n</style>\n<table border=\"1\" class=\"dataframe\">\n  <thead>\n    <tr style=\"text-align: right;\">\n      <th></th>\n      <th>Open</th>\n      <th>Close</th>\n      <th>Volume</th>\n      <th>Price_change</th>\n      <th>date</th>\n    </tr>\n    <tr>\n      <th>Date</th>\n      <th></th>\n      <th></th>\n      <th></th>\n      <th></th>\n      <th></th>\n    </tr>\n  </thead>\n  <tbody>\n    <tr>\n      <th>2009-12-31</th>\n      <td>30.980000</td>\n      <td>30.480000</td>\n      <td>31929700</td>\n      <td>0</td>\n      <td>0</td>\n    </tr>\n    <tr>\n      <th>2010-01-04</th>\n      <td>30.620001</td>\n      <td>30.950001</td>\n      <td>38409100</td>\n      <td>1</td>\n      <td>2010-01-04</td>\n    </tr>\n    <tr>\n      <th>2010-01-05</th>\n      <td>30.850000</td>\n      <td>30.959999</td>\n      <td>49749600</td>\n      <td>0</td>\n      <td>2010-01-05</td>\n    </tr>\n    <tr>\n      <th>2010-01-06</th>\n      <td>30.879999</td>\n      <td>30.770000</td>\n      <td>58182400</td>\n      <td>-1</td>\n      <td>2010-01-06</td>\n    </tr>\n    <tr>\n      <th>2010-01-07</th>\n      <td>30.629999</td>\n      <td>30.450001</td>\n      <td>50559700</td>\n      <td>-1</td>\n      <td>2010-01-07</td>\n    </tr>\n    <tr>\n      <th>...</th>\n      <td>...</td>\n      <td>...</td>\n      <td>...</td>\n      <td>...</td>\n      <td>...</td>\n    </tr>\n    <tr>\n      <th>2020-12-24</th>\n      <td>221.419998</td>\n      <td>222.750000</td>\n      <td>10550600</td>\n      <td>1</td>\n      <td>2020-12-24</td>\n    </tr>\n    <tr>\n      <th>2020-12-28</th>\n      <td>224.449997</td>\n      <td>224.960007</td>\n      <td>17933500</td>\n      <td>1</td>\n      <td>2020-12-28</td>\n    </tr>\n    <tr>\n      <th>2020-12-29</th>\n      <td>226.309998</td>\n      <td>224.149994</td>\n      <td>17403200</td>\n      <td>-1</td>\n      <td>2020-12-29</td>\n    </tr>\n    <tr>\n      <th>2020-12-30</th>\n      <td>225.229996</td>\n      <td>221.679993</td>\n      <td>20272300</td>\n      <td>-1</td>\n      <td>2020-12-30</td>\n    </tr>\n    <tr>\n      <th>2020-12-31</th>\n      <td>221.699997</td>\n      <td>222.419998</td>\n      <td>20942100</td>\n      <td>1</td>\n      <td>2020-12-31</td>\n    </tr>\n  </tbody>\n</table>\n<p>2770 rows × 5 columns</p>\n</div>"
     },
     "execution_count": 37,
     "metadata": {},
     "output_type": "execute_result"
    }
   ],
   "source": [
    "msft_fin_df = financial_dataset('MSFT', 0.25) #load microsoft data\n",
    "msft_fin_df"
   ],
   "metadata": {
    "collapsed": false,
    "pycharm": {
     "name": "#%%\n"
    }
   }
  },
  {
   "cell_type": "code",
   "source": [
    "msft_news_df = pd.read_csv('Financial_News/ml_dataset_2010_01_01_2018_04_05.csv', index_col=0, parse_dates=['Date'])\n",
    "msft_news_df"
   ],
   "metadata": {
    "collapsed": false,
    "pycharm": {
     "name": "#%%\n"
    }
   },
   "execution_count": 38,
   "outputs": [
    {
     "data": {
      "text/plain": "           Date      Stock                                              Title  \\\n0    2010-01-01  Microsoft     It’s Always the End of the World as We Know It   \n1    2010-01-02  Microsoft                                        2020 Vision   \n2    2010-01-04  Microsoft        Corporate Tax Returns Face Heavier Scrutiny   \n3    2010-01-04  Microsoft  Packing Tetrahedrons, and Closing In on a Perf...   \n4    2010-01-04  Microsoft                  Watching TV Together, Miles Apart   \n...         ...        ...                                                ...   \n7875 2018-04-03  Microsoft  Looming China Trade Action Divides Industry an...   \n7876 2018-04-03  Microsoft  White House Turf Battle Threatens to Delay Tax...   \n7877 2018-04-04  Microsoft  ‘The Business of War’: Google Employees Protes...   \n7878 2018-04-04  Microsoft  Amazon Has Lots of Company as Trump Slams ‘Stu...   \n7879 2018-04-05  Microsoft            Monitoring the Health of a Backup Drive   \n\n                                               Abstract  \\\n0     From today’s perspective, the Y2K fiasco seeme...   \n1     Unpredictability is the human quality that mak...   \n2     While the recession may be ending across much ...   \n3     A flurry of academic activity has focused on p...   \n4     Technology now makes it possible for friends s...   \n...                                                 ...   \n7875  Companies are united around the idea of addres...   \n7876  The Office of Management and Budget and the Tr...   \n7877  Thousands of employees have signed a letter ca...   \n7878  Tech firms, military contractors, carmakers, c...   \n7879  Hard drives don’t last forever, but utility pr...   \n\n                                                   Link  \n0     https://www.nytimes.com/2010/01/01/opinion/01d...  \n1     https://www.nytimes.com/2010/01/03/sports/03ar...  \n2     https://dealbook.nytimes.com/2010/01/04/corpor...  \n3     https://www.nytimes.com/2010/01/05/science/05t...  \n4     https://www.nytimes.com/2010/01/04/technology/...  \n...                                                 ...  \n7875  https://www.nytimes.com/2018/04/02/business/ch...  \n7876  https://www.nytimes.com/2018/04/03/us/politics...  \n7877  https://www.nytimes.com/2018/04/04/technology/...  \n7878  https://www.nytimes.com/2018/04/03/us/politics...  \n7879  https://www.nytimes.com/2018/04/05/technology/...  \n\n[7880 rows x 5 columns]",
      "text/html": "<div>\n<style scoped>\n    .dataframe tbody tr th:only-of-type {\n        vertical-align: middle;\n    }\n\n    .dataframe tbody tr th {\n        vertical-align: top;\n    }\n\n    .dataframe thead th {\n        text-align: right;\n    }\n</style>\n<table border=\"1\" class=\"dataframe\">\n  <thead>\n    <tr style=\"text-align: right;\">\n      <th></th>\n      <th>Date</th>\n      <th>Stock</th>\n      <th>Title</th>\n      <th>Abstract</th>\n      <th>Link</th>\n    </tr>\n  </thead>\n  <tbody>\n    <tr>\n      <th>0</th>\n      <td>2010-01-01</td>\n      <td>Microsoft</td>\n      <td>It’s Always the End of the World as We Know It</td>\n      <td>From today’s perspective, the Y2K fiasco seeme...</td>\n      <td>https://www.nytimes.com/2010/01/01/opinion/01d...</td>\n    </tr>\n    <tr>\n      <th>1</th>\n      <td>2010-01-02</td>\n      <td>Microsoft</td>\n      <td>2020 Vision</td>\n      <td>Unpredictability is the human quality that mak...</td>\n      <td>https://www.nytimes.com/2010/01/03/sports/03ar...</td>\n    </tr>\n    <tr>\n      <th>2</th>\n      <td>2010-01-04</td>\n      <td>Microsoft</td>\n      <td>Corporate Tax Returns Face Heavier Scrutiny</td>\n      <td>While the recession may be ending across much ...</td>\n      <td>https://dealbook.nytimes.com/2010/01/04/corpor...</td>\n    </tr>\n    <tr>\n      <th>3</th>\n      <td>2010-01-04</td>\n      <td>Microsoft</td>\n      <td>Packing Tetrahedrons, and Closing In on a Perf...</td>\n      <td>A flurry of academic activity has focused on p...</td>\n      <td>https://www.nytimes.com/2010/01/05/science/05t...</td>\n    </tr>\n    <tr>\n      <th>4</th>\n      <td>2010-01-04</td>\n      <td>Microsoft</td>\n      <td>Watching TV Together, Miles Apart</td>\n      <td>Technology now makes it possible for friends s...</td>\n      <td>https://www.nytimes.com/2010/01/04/technology/...</td>\n    </tr>\n    <tr>\n      <th>...</th>\n      <td>...</td>\n      <td>...</td>\n      <td>...</td>\n      <td>...</td>\n      <td>...</td>\n    </tr>\n    <tr>\n      <th>7875</th>\n      <td>2018-04-03</td>\n      <td>Microsoft</td>\n      <td>Looming China Trade Action Divides Industry an...</td>\n      <td>Companies are united around the idea of addres...</td>\n      <td>https://www.nytimes.com/2018/04/02/business/ch...</td>\n    </tr>\n    <tr>\n      <th>7876</th>\n      <td>2018-04-03</td>\n      <td>Microsoft</td>\n      <td>White House Turf Battle Threatens to Delay Tax...</td>\n      <td>The Office of Management and Budget and the Tr...</td>\n      <td>https://www.nytimes.com/2018/04/03/us/politics...</td>\n    </tr>\n    <tr>\n      <th>7877</th>\n      <td>2018-04-04</td>\n      <td>Microsoft</td>\n      <td>‘The Business of War’: Google Employees Protes...</td>\n      <td>Thousands of employees have signed a letter ca...</td>\n      <td>https://www.nytimes.com/2018/04/04/technology/...</td>\n    </tr>\n    <tr>\n      <th>7878</th>\n      <td>2018-04-04</td>\n      <td>Microsoft</td>\n      <td>Amazon Has Lots of Company as Trump Slams ‘Stu...</td>\n      <td>Tech firms, military contractors, carmakers, c...</td>\n      <td>https://www.nytimes.com/2018/04/03/us/politics...</td>\n    </tr>\n    <tr>\n      <th>7879</th>\n      <td>2018-04-05</td>\n      <td>Microsoft</td>\n      <td>Monitoring the Health of a Backup Drive</td>\n      <td>Hard drives don’t last forever, but utility pr...</td>\n      <td>https://www.nytimes.com/2018/04/05/technology/...</td>\n    </tr>\n  </tbody>\n</table>\n<p>7880 rows × 5 columns</p>\n</div>"
     },
     "execution_count": 38,
     "metadata": {},
     "output_type": "execute_result"
    }
   ]
  },
  {
   "cell_type": "code",
   "execution_count": 39,
   "outputs": [
    {
     "data": {
      "text/plain": "           Date       Open      Close    Volume  Price_change        date  \\\n0    2010-01-04  30.620001  30.950001  38409100             1  2010-01-04   \n1    2010-01-04  30.620001  30.950001  38409100             1  2010-01-04   \n2    2010-01-04  30.620001  30.950001  38409100             1  2010-01-04   \n3    2010-01-04  30.620001  30.950001  38409100             1  2010-01-04   \n4    2010-01-04  30.620001  30.950001  38409100             1  2010-01-04   \n...         ...        ...        ...       ...           ...         ...   \n6784 2018-04-03  89.580002  89.709999  37213800             1  2018-04-03   \n6785 2018-04-03  89.580002  89.709999  37213800             1  2018-04-03   \n6786 2018-04-04  87.849998  92.330002  35560000             1  2018-04-04   \n6787 2018-04-04  87.849998  92.330002  35560000             1  2018-04-04   \n6788 2018-04-05  92.440002  92.379997  29771900             0  2018-04-05   \n\n          Stock                                              Title  \\\n0     Microsoft        Corporate Tax Returns Face Heavier Scrutiny   \n1     Microsoft  Packing Tetrahedrons, and Closing In on a Perf...   \n2     Microsoft                  Watching TV Together, Miles Apart   \n3     Microsoft  Credit Suisse Accused of Defrauding Resort Inv...   \n4     Microsoft                   A Savior in the Form of a Tablet   \n...         ...                                                ...   \n6784  Microsoft  Looming China Trade Action Divides Industry an...   \n6785  Microsoft  White House Turf Battle Threatens to Delay Tax...   \n6786  Microsoft  ‘The Business of War’: Google Employees Protes...   \n6787  Microsoft  Amazon Has Lots of Company as Trump Slams ‘Stu...   \n6788  Microsoft            Monitoring the Health of a Backup Drive   \n\n                                               Abstract  \\\n0     While the recession may be ending across much ...   \n1     A flurry of academic activity has focused on p...   \n2     Technology now makes it possible for friends s...   \n3     Credit Suisse has been sued for $24 billion by...   \n4     Is an Apple tablet the second coming of the iP...   \n...                                                 ...   \n6784  Companies are united around the idea of addres...   \n6785  The Office of Management and Budget and the Tr...   \n6786  Thousands of employees have signed a letter ca...   \n6787  Tech firms, military contractors, carmakers, c...   \n6788  Hard drives don’t last forever, but utility pr...   \n\n                                                   Link  \n0     https://dealbook.nytimes.com/2010/01/04/corpor...  \n1     https://www.nytimes.com/2010/01/05/science/05t...  \n2     https://www.nytimes.com/2010/01/04/technology/...  \n3     https://dealbook.nytimes.com/2010/01/04/credit...  \n4     https://www.nytimes.com/2010/01/04/business/me...  \n...                                                 ...  \n6784  https://www.nytimes.com/2018/04/02/business/ch...  \n6785  https://www.nytimes.com/2018/04/03/us/politics...  \n6786  https://www.nytimes.com/2018/04/04/technology/...  \n6787  https://www.nytimes.com/2018/04/03/us/politics...  \n6788  https://www.nytimes.com/2018/04/05/technology/...  \n\n[6789 rows x 10 columns]",
      "text/html": "<div>\n<style scoped>\n    .dataframe tbody tr th:only-of-type {\n        vertical-align: middle;\n    }\n\n    .dataframe tbody tr th {\n        vertical-align: top;\n    }\n\n    .dataframe thead th {\n        text-align: right;\n    }\n</style>\n<table border=\"1\" class=\"dataframe\">\n  <thead>\n    <tr style=\"text-align: right;\">\n      <th></th>\n      <th>Date</th>\n      <th>Open</th>\n      <th>Close</th>\n      <th>Volume</th>\n      <th>Price_change</th>\n      <th>date</th>\n      <th>Stock</th>\n      <th>Title</th>\n      <th>Abstract</th>\n      <th>Link</th>\n    </tr>\n  </thead>\n  <tbody>\n    <tr>\n      <th>0</th>\n      <td>2010-01-04</td>\n      <td>30.620001</td>\n      <td>30.950001</td>\n      <td>38409100</td>\n      <td>1</td>\n      <td>2010-01-04</td>\n      <td>Microsoft</td>\n      <td>Corporate Tax Returns Face Heavier Scrutiny</td>\n      <td>While the recession may be ending across much ...</td>\n      <td>https://dealbook.nytimes.com/2010/01/04/corpor...</td>\n    </tr>\n    <tr>\n      <th>1</th>\n      <td>2010-01-04</td>\n      <td>30.620001</td>\n      <td>30.950001</td>\n      <td>38409100</td>\n      <td>1</td>\n      <td>2010-01-04</td>\n      <td>Microsoft</td>\n      <td>Packing Tetrahedrons, and Closing In on a Perf...</td>\n      <td>A flurry of academic activity has focused on p...</td>\n      <td>https://www.nytimes.com/2010/01/05/science/05t...</td>\n    </tr>\n    <tr>\n      <th>2</th>\n      <td>2010-01-04</td>\n      <td>30.620001</td>\n      <td>30.950001</td>\n      <td>38409100</td>\n      <td>1</td>\n      <td>2010-01-04</td>\n      <td>Microsoft</td>\n      <td>Watching TV Together, Miles Apart</td>\n      <td>Technology now makes it possible for friends s...</td>\n      <td>https://www.nytimes.com/2010/01/04/technology/...</td>\n    </tr>\n    <tr>\n      <th>3</th>\n      <td>2010-01-04</td>\n      <td>30.620001</td>\n      <td>30.950001</td>\n      <td>38409100</td>\n      <td>1</td>\n      <td>2010-01-04</td>\n      <td>Microsoft</td>\n      <td>Credit Suisse Accused of Defrauding Resort Inv...</td>\n      <td>Credit Suisse has been sued for $24 billion by...</td>\n      <td>https://dealbook.nytimes.com/2010/01/04/credit...</td>\n    </tr>\n    <tr>\n      <th>4</th>\n      <td>2010-01-04</td>\n      <td>30.620001</td>\n      <td>30.950001</td>\n      <td>38409100</td>\n      <td>1</td>\n      <td>2010-01-04</td>\n      <td>Microsoft</td>\n      <td>A Savior in the Form of a Tablet</td>\n      <td>Is an Apple tablet the second coming of the iP...</td>\n      <td>https://www.nytimes.com/2010/01/04/business/me...</td>\n    </tr>\n    <tr>\n      <th>...</th>\n      <td>...</td>\n      <td>...</td>\n      <td>...</td>\n      <td>...</td>\n      <td>...</td>\n      <td>...</td>\n      <td>...</td>\n      <td>...</td>\n      <td>...</td>\n      <td>...</td>\n    </tr>\n    <tr>\n      <th>6784</th>\n      <td>2018-04-03</td>\n      <td>89.580002</td>\n      <td>89.709999</td>\n      <td>37213800</td>\n      <td>1</td>\n      <td>2018-04-03</td>\n      <td>Microsoft</td>\n      <td>Looming China Trade Action Divides Industry an...</td>\n      <td>Companies are united around the idea of addres...</td>\n      <td>https://www.nytimes.com/2018/04/02/business/ch...</td>\n    </tr>\n    <tr>\n      <th>6785</th>\n      <td>2018-04-03</td>\n      <td>89.580002</td>\n      <td>89.709999</td>\n      <td>37213800</td>\n      <td>1</td>\n      <td>2018-04-03</td>\n      <td>Microsoft</td>\n      <td>White House Turf Battle Threatens to Delay Tax...</td>\n      <td>The Office of Management and Budget and the Tr...</td>\n      <td>https://www.nytimes.com/2018/04/03/us/politics...</td>\n    </tr>\n    <tr>\n      <th>6786</th>\n      <td>2018-04-04</td>\n      <td>87.849998</td>\n      <td>92.330002</td>\n      <td>35560000</td>\n      <td>1</td>\n      <td>2018-04-04</td>\n      <td>Microsoft</td>\n      <td>‘The Business of War’: Google Employees Protes...</td>\n      <td>Thousands of employees have signed a letter ca...</td>\n      <td>https://www.nytimes.com/2018/04/04/technology/...</td>\n    </tr>\n    <tr>\n      <th>6787</th>\n      <td>2018-04-04</td>\n      <td>87.849998</td>\n      <td>92.330002</td>\n      <td>35560000</td>\n      <td>1</td>\n      <td>2018-04-04</td>\n      <td>Microsoft</td>\n      <td>Amazon Has Lots of Company as Trump Slams ‘Stu...</td>\n      <td>Tech firms, military contractors, carmakers, c...</td>\n      <td>https://www.nytimes.com/2018/04/03/us/politics...</td>\n    </tr>\n    <tr>\n      <th>6788</th>\n      <td>2018-04-05</td>\n      <td>92.440002</td>\n      <td>92.379997</td>\n      <td>29771900</td>\n      <td>0</td>\n      <td>2018-04-05</td>\n      <td>Microsoft</td>\n      <td>Monitoring the Health of a Backup Drive</td>\n      <td>Hard drives don’t last forever, but utility pr...</td>\n      <td>https://www.nytimes.com/2018/04/05/technology/...</td>\n    </tr>\n  </tbody>\n</table>\n<p>6789 rows × 10 columns</p>\n</div>"
     },
     "execution_count": 39,
     "metadata": {},
     "output_type": "execute_result"
    }
   ],
   "source": [
    "msft_merged_df = msft_fin_df.merge(msft_news_df, on='Date', how='inner')\n",
    "msft_merged_df"
   ],
   "metadata": {
    "collapsed": false,
    "pycharm": {
     "name": "#%%\n"
    }
   }
  },
  {
   "cell_type": "code",
   "execution_count": 45,
   "outputs": [
    {
     "data": {
      "text/plain": "           Date       Open      Close    Volume  Price_change        date  \\\n0    2010-01-04  30.620001  30.950001  38409100             1  2010-01-04   \n1    2010-01-04  30.620001  30.950001  38409100             1  2010-01-04   \n2    2010-01-04  30.620001  30.950001  38409100             1  2010-01-04   \n3    2010-01-04  30.620001  30.950001  38409100             1  2010-01-04   \n4    2010-01-04  30.620001  30.950001  38409100             1  2010-01-04   \n...         ...        ...        ...       ...           ...         ...   \n6784 2018-04-03  89.580002  89.709999  37213800             1  2018-04-03   \n6785 2018-04-03  89.580002  89.709999  37213800             1  2018-04-03   \n6786 2018-04-04  87.849998  92.330002  35560000             1  2018-04-04   \n6787 2018-04-04  87.849998  92.330002  35560000             1  2018-04-04   \n6788 2018-04-05  92.440002  92.379997  29771900             0  2018-04-05   \n\n          Stock                                           headline  \n0     Microsoft        Corporate Tax Returns Face Heavier Scrutiny  \n1     Microsoft  Packing Tetrahedrons, and Closing In on a Perf...  \n2     Microsoft                  Watching TV Together, Miles Apart  \n3     Microsoft  Credit Suisse Accused of Defrauding Resort Inv...  \n4     Microsoft                   A Savior in the Form of a Tablet  \n...         ...                                                ...  \n6784  Microsoft  Looming China Trade Action Divides Industry an...  \n6785  Microsoft  White House Turf Battle Threatens to Delay Tax...  \n6786  Microsoft  ‘The Business of War’: Google Employees Protes...  \n6787  Microsoft  Amazon Has Lots of Company as Trump Slams ‘Stu...  \n6788  Microsoft            Monitoring the Health of a Backup Drive  \n\n[6789 rows x 8 columns]",
      "text/html": "<div>\n<style scoped>\n    .dataframe tbody tr th:only-of-type {\n        vertical-align: middle;\n    }\n\n    .dataframe tbody tr th {\n        vertical-align: top;\n    }\n\n    .dataframe thead th {\n        text-align: right;\n    }\n</style>\n<table border=\"1\" class=\"dataframe\">\n  <thead>\n    <tr style=\"text-align: right;\">\n      <th></th>\n      <th>Date</th>\n      <th>Open</th>\n      <th>Close</th>\n      <th>Volume</th>\n      <th>Price_change</th>\n      <th>date</th>\n      <th>Stock</th>\n      <th>headline</th>\n    </tr>\n  </thead>\n  <tbody>\n    <tr>\n      <th>0</th>\n      <td>2010-01-04</td>\n      <td>30.620001</td>\n      <td>30.950001</td>\n      <td>38409100</td>\n      <td>1</td>\n      <td>2010-01-04</td>\n      <td>Microsoft</td>\n      <td>Corporate Tax Returns Face Heavier Scrutiny</td>\n    </tr>\n    <tr>\n      <th>1</th>\n      <td>2010-01-04</td>\n      <td>30.620001</td>\n      <td>30.950001</td>\n      <td>38409100</td>\n      <td>1</td>\n      <td>2010-01-04</td>\n      <td>Microsoft</td>\n      <td>Packing Tetrahedrons, and Closing In on a Perf...</td>\n    </tr>\n    <tr>\n      <th>2</th>\n      <td>2010-01-04</td>\n      <td>30.620001</td>\n      <td>30.950001</td>\n      <td>38409100</td>\n      <td>1</td>\n      <td>2010-01-04</td>\n      <td>Microsoft</td>\n      <td>Watching TV Together, Miles Apart</td>\n    </tr>\n    <tr>\n      <th>3</th>\n      <td>2010-01-04</td>\n      <td>30.620001</td>\n      <td>30.950001</td>\n      <td>38409100</td>\n      <td>1</td>\n      <td>2010-01-04</td>\n      <td>Microsoft</td>\n      <td>Credit Suisse Accused of Defrauding Resort Inv...</td>\n    </tr>\n    <tr>\n      <th>4</th>\n      <td>2010-01-04</td>\n      <td>30.620001</td>\n      <td>30.950001</td>\n      <td>38409100</td>\n      <td>1</td>\n      <td>2010-01-04</td>\n      <td>Microsoft</td>\n      <td>A Savior in the Form of a Tablet</td>\n    </tr>\n    <tr>\n      <th>...</th>\n      <td>...</td>\n      <td>...</td>\n      <td>...</td>\n      <td>...</td>\n      <td>...</td>\n      <td>...</td>\n      <td>...</td>\n      <td>...</td>\n    </tr>\n    <tr>\n      <th>6784</th>\n      <td>2018-04-03</td>\n      <td>89.580002</td>\n      <td>89.709999</td>\n      <td>37213800</td>\n      <td>1</td>\n      <td>2018-04-03</td>\n      <td>Microsoft</td>\n      <td>Looming China Trade Action Divides Industry an...</td>\n    </tr>\n    <tr>\n      <th>6785</th>\n      <td>2018-04-03</td>\n      <td>89.580002</td>\n      <td>89.709999</td>\n      <td>37213800</td>\n      <td>1</td>\n      <td>2018-04-03</td>\n      <td>Microsoft</td>\n      <td>White House Turf Battle Threatens to Delay Tax...</td>\n    </tr>\n    <tr>\n      <th>6786</th>\n      <td>2018-04-04</td>\n      <td>87.849998</td>\n      <td>92.330002</td>\n      <td>35560000</td>\n      <td>1</td>\n      <td>2018-04-04</td>\n      <td>Microsoft</td>\n      <td>‘The Business of War’: Google Employees Protes...</td>\n    </tr>\n    <tr>\n      <th>6787</th>\n      <td>2018-04-04</td>\n      <td>87.849998</td>\n      <td>92.330002</td>\n      <td>35560000</td>\n      <td>1</td>\n      <td>2018-04-04</td>\n      <td>Microsoft</td>\n      <td>Amazon Has Lots of Company as Trump Slams ‘Stu...</td>\n    </tr>\n    <tr>\n      <th>6788</th>\n      <td>2018-04-05</td>\n      <td>92.440002</td>\n      <td>92.379997</td>\n      <td>29771900</td>\n      <td>0</td>\n      <td>2018-04-05</td>\n      <td>Microsoft</td>\n      <td>Monitoring the Health of a Backup Drive</td>\n    </tr>\n  </tbody>\n</table>\n<p>6789 rows × 8 columns</p>\n</div>"
     },
     "execution_count": 45,
     "metadata": {},
     "output_type": "execute_result"
    }
   ],
   "source": [
    "msft_merged_df = msft_merged_df.rename(columns={'Title': 'headline'})\n",
    "msft_merged_df = msft_merged_df.drop(columns=['Abstract', 'Link'])\n",
    "msft_merged_df"
   ],
   "metadata": {
    "collapsed": false,
    "pycharm": {
     "name": "#%%\n"
    }
   }
  },
  {
   "cell_type": "code",
   "execution_count": 59,
   "outputs": [
    {
     "ename": "KeyboardInterrupt",
     "evalue": "",
     "output_type": "error",
     "traceback": [
      "\u001B[1;31m---------------------------------------------------------------------------\u001B[0m",
      "\u001B[1;31mKeyboardInterrupt\u001B[0m                         Traceback (most recent call last)",
      "\u001B[1;32m<ipython-input-59-49c563cea508>\u001B[0m in \u001B[0;36m<module>\u001B[1;34m\u001B[0m\n\u001B[1;32m----> 1\u001B[1;33m \u001B[0mtrain_msft_df\u001B[0m \u001B[1;33m=\u001B[0m \u001B[0msentim_analyzer\u001B[0m\u001B[1;33m(\u001B[0m\u001B[0mmsft_merged_df\u001B[0m\u001B[1;33m,\u001B[0m \u001B[0mtokenizer\u001B[0m\u001B[1;33m,\u001B[0m \u001B[0mmodel\u001B[0m\u001B[1;33m)\u001B[0m\u001B[1;33m\u001B[0m\u001B[1;33m\u001B[0m\u001B[0m\n\u001B[0m\u001B[0;32m      2\u001B[0m \u001B[0mtrain_msft_df\u001B[0m \u001B[1;33m=\u001B[0m \u001B[0mtrain_msft_df\u001B[0m\u001B[1;33m.\u001B[0m\u001B[0mrename\u001B[0m\u001B[1;33m(\u001B[0m\u001B[0mcolumns\u001B[0m\u001B[1;33m=\u001B[0m\u001B[1;33m{\u001B[0m\u001B[1;34m'Date'\u001B[0m\u001B[1;33m:\u001B[0m \u001B[1;34m'date'\u001B[0m\u001B[1;33m,\u001B[0m \u001B[1;34m'Stock'\u001B[0m\u001B[1;33m:\u001B[0m \u001B[1;34m'stock'\u001B[0m\u001B[1;33m}\u001B[0m\u001B[1;33m)\u001B[0m\u001B[1;33m\u001B[0m\u001B[1;33m\u001B[0m\u001B[0m\n",
      "\u001B[1;32m~\\Downloads\\DSML MsC\\1st semester\\Μηχανική Μάθηση - Machine Learning\\2η ΕΡΓΑΣΤΗΡΙΑΚΗ ΑΣΚΗΣΗ - ΟΜΑΔΙΚΗ\\ml project\\Stock_prediction_with_News_Sentiment_Analysis\\utilities.py\u001B[0m in \u001B[0;36msentim_analyzer\u001B[1;34m(df, tokenizer, model)\u001B[0m\n\u001B[0;32m    105\u001B[0m         \u001B[1;31m# Pass model output logits through a softmax layer.\u001B[0m\u001B[1;33m\u001B[0m\u001B[1;33m\u001B[0m\u001B[1;33m\u001B[0m\u001B[0m\n\u001B[0;32m    106\u001B[0m         \u001B[0mpredictions\u001B[0m \u001B[1;33m=\u001B[0m \u001B[0msoftmax\u001B[0m\u001B[1;33m(\u001B[0m\u001B[0moutput\u001B[0m\u001B[1;33m.\u001B[0m\u001B[0mlogits\u001B[0m\u001B[1;33m,\u001B[0m \u001B[0mdim\u001B[0m\u001B[1;33m=\u001B[0m\u001B[1;33m-\u001B[0m\u001B[1;36m1\u001B[0m\u001B[1;33m)\u001B[0m\u001B[1;33m\u001B[0m\u001B[1;33m\u001B[0m\u001B[0m\n\u001B[1;32m--> 107\u001B[1;33m         \u001B[0mdf\u001B[0m\u001B[1;33m.\u001B[0m\u001B[0mloc\u001B[0m\u001B[1;33m[\u001B[0m\u001B[0mi\u001B[0m\u001B[1;33m,\u001B[0m \u001B[1;34m'Positive'\u001B[0m\u001B[1;33m]\u001B[0m \u001B[1;33m=\u001B[0m \u001B[0mpredictions\u001B[0m\u001B[1;33m[\u001B[0m\u001B[1;36m0\u001B[0m\u001B[1;33m]\u001B[0m\u001B[1;33m[\u001B[0m\u001B[1;36m0\u001B[0m\u001B[1;33m]\u001B[0m\u001B[1;33m.\u001B[0m\u001B[0mtolist\u001B[0m\u001B[1;33m(\u001B[0m\u001B[1;33m)\u001B[0m\u001B[1;33m\u001B[0m\u001B[1;33m\u001B[0m\u001B[0m\n\u001B[0m\u001B[0;32m    108\u001B[0m         \u001B[0mdf\u001B[0m\u001B[1;33m.\u001B[0m\u001B[0mloc\u001B[0m\u001B[1;33m[\u001B[0m\u001B[0mi\u001B[0m\u001B[1;33m,\u001B[0m \u001B[1;34m'Negative'\u001B[0m\u001B[1;33m]\u001B[0m \u001B[1;33m=\u001B[0m \u001B[0mpredictions\u001B[0m\u001B[1;33m[\u001B[0m\u001B[1;36m0\u001B[0m\u001B[1;33m]\u001B[0m\u001B[1;33m[\u001B[0m\u001B[1;36m1\u001B[0m\u001B[1;33m]\u001B[0m\u001B[1;33m.\u001B[0m\u001B[0mtolist\u001B[0m\u001B[1;33m(\u001B[0m\u001B[1;33m)\u001B[0m\u001B[1;33m\u001B[0m\u001B[1;33m\u001B[0m\u001B[0m\n\u001B[0;32m    109\u001B[0m         \u001B[0mdf\u001B[0m\u001B[1;33m.\u001B[0m\u001B[0mloc\u001B[0m\u001B[1;33m[\u001B[0m\u001B[0mi\u001B[0m\u001B[1;33m,\u001B[0m \u001B[1;34m'Neutral'\u001B[0m\u001B[1;33m]\u001B[0m  \u001B[1;33m=\u001B[0m \u001B[0mpredictions\u001B[0m\u001B[1;33m[\u001B[0m\u001B[1;36m0\u001B[0m\u001B[1;33m]\u001B[0m\u001B[1;33m[\u001B[0m\u001B[1;36m2\u001B[0m\u001B[1;33m]\u001B[0m\u001B[1;33m.\u001B[0m\u001B[0mtolist\u001B[0m\u001B[1;33m(\u001B[0m\u001B[1;33m)\u001B[0m\u001B[1;33m\u001B[0m\u001B[1;33m\u001B[0m\u001B[0m\n",
      "\u001B[1;32m~\\anaconda3\\lib\\site-packages\\torch\\nn\\modules\\module.py\u001B[0m in \u001B[0;36m_call_impl\u001B[1;34m(self, *input, **kwargs)\u001B[0m\n\u001B[0;32m   1100\u001B[0m         if not (self._backward_hooks or self._forward_hooks or self._forward_pre_hooks or _global_backward_hooks\n\u001B[0;32m   1101\u001B[0m                 or _global_forward_hooks or _global_forward_pre_hooks):\n\u001B[1;32m-> 1102\u001B[1;33m             \u001B[1;32mreturn\u001B[0m \u001B[0mforward_call\u001B[0m\u001B[1;33m(\u001B[0m\u001B[1;33m*\u001B[0m\u001B[0minput\u001B[0m\u001B[1;33m,\u001B[0m \u001B[1;33m**\u001B[0m\u001B[0mkwargs\u001B[0m\u001B[1;33m)\u001B[0m\u001B[1;33m\u001B[0m\u001B[1;33m\u001B[0m\u001B[0m\n\u001B[0m\u001B[0;32m   1103\u001B[0m         \u001B[1;31m# Do not call functions when jit is used\u001B[0m\u001B[1;33m\u001B[0m\u001B[1;33m\u001B[0m\u001B[1;33m\u001B[0m\u001B[0m\n\u001B[0;32m   1104\u001B[0m         \u001B[0mfull_backward_hooks\u001B[0m\u001B[1;33m,\u001B[0m \u001B[0mnon_full_backward_hooks\u001B[0m \u001B[1;33m=\u001B[0m \u001B[1;33m[\u001B[0m\u001B[1;33m]\u001B[0m\u001B[1;33m,\u001B[0m \u001B[1;33m[\u001B[0m\u001B[1;33m]\u001B[0m\u001B[1;33m\u001B[0m\u001B[1;33m\u001B[0m\u001B[0m\n",
      "\u001B[1;32m~\\anaconda3\\lib\\site-packages\\transformers\\models\\bert\\modeling_bert.py\u001B[0m in \u001B[0;36mforward\u001B[1;34m(self, input_ids, attention_mask, token_type_ids, position_ids, head_mask, inputs_embeds, labels, output_attentions, output_hidden_states, return_dict)\u001B[0m\n\u001B[0;32m   1543\u001B[0m         \u001B[0mreturn_dict\u001B[0m \u001B[1;33m=\u001B[0m \u001B[0mreturn_dict\u001B[0m \u001B[1;32mif\u001B[0m \u001B[0mreturn_dict\u001B[0m \u001B[1;32mis\u001B[0m \u001B[1;32mnot\u001B[0m \u001B[1;32mNone\u001B[0m \u001B[1;32melse\u001B[0m \u001B[0mself\u001B[0m\u001B[1;33m.\u001B[0m\u001B[0mconfig\u001B[0m\u001B[1;33m.\u001B[0m\u001B[0muse_return_dict\u001B[0m\u001B[1;33m\u001B[0m\u001B[1;33m\u001B[0m\u001B[0m\n\u001B[0;32m   1544\u001B[0m \u001B[1;33m\u001B[0m\u001B[0m\n\u001B[1;32m-> 1545\u001B[1;33m         outputs = self.bert(\n\u001B[0m\u001B[0;32m   1546\u001B[0m             \u001B[0minput_ids\u001B[0m\u001B[1;33m,\u001B[0m\u001B[1;33m\u001B[0m\u001B[1;33m\u001B[0m\u001B[0m\n\u001B[0;32m   1547\u001B[0m             \u001B[0mattention_mask\u001B[0m\u001B[1;33m=\u001B[0m\u001B[0mattention_mask\u001B[0m\u001B[1;33m,\u001B[0m\u001B[1;33m\u001B[0m\u001B[1;33m\u001B[0m\u001B[0m\n",
      "\u001B[1;32m~\\anaconda3\\lib\\site-packages\\torch\\nn\\modules\\module.py\u001B[0m in \u001B[0;36m_call_impl\u001B[1;34m(self, *input, **kwargs)\u001B[0m\n\u001B[0;32m   1100\u001B[0m         if not (self._backward_hooks or self._forward_hooks or self._forward_pre_hooks or _global_backward_hooks\n\u001B[0;32m   1101\u001B[0m                 or _global_forward_hooks or _global_forward_pre_hooks):\n\u001B[1;32m-> 1102\u001B[1;33m             \u001B[1;32mreturn\u001B[0m \u001B[0mforward_call\u001B[0m\u001B[1;33m(\u001B[0m\u001B[1;33m*\u001B[0m\u001B[0minput\u001B[0m\u001B[1;33m,\u001B[0m \u001B[1;33m**\u001B[0m\u001B[0mkwargs\u001B[0m\u001B[1;33m)\u001B[0m\u001B[1;33m\u001B[0m\u001B[1;33m\u001B[0m\u001B[0m\n\u001B[0m\u001B[0;32m   1103\u001B[0m         \u001B[1;31m# Do not call functions when jit is used\u001B[0m\u001B[1;33m\u001B[0m\u001B[1;33m\u001B[0m\u001B[1;33m\u001B[0m\u001B[0m\n\u001B[0;32m   1104\u001B[0m         \u001B[0mfull_backward_hooks\u001B[0m\u001B[1;33m,\u001B[0m \u001B[0mnon_full_backward_hooks\u001B[0m \u001B[1;33m=\u001B[0m \u001B[1;33m[\u001B[0m\u001B[1;33m]\u001B[0m\u001B[1;33m,\u001B[0m \u001B[1;33m[\u001B[0m\u001B[1;33m]\u001B[0m\u001B[1;33m\u001B[0m\u001B[1;33m\u001B[0m\u001B[0m\n",
      "\u001B[1;32m~\\anaconda3\\lib\\site-packages\\transformers\\models\\bert\\modeling_bert.py\u001B[0m in \u001B[0;36mforward\u001B[1;34m(self, input_ids, attention_mask, token_type_ids, position_ids, head_mask, inputs_embeds, encoder_hidden_states, encoder_attention_mask, past_key_values, use_cache, output_attentions, output_hidden_states, return_dict)\u001B[0m\n\u001B[0;32m    994\u001B[0m             \u001B[0mpast_key_values_length\u001B[0m\u001B[1;33m=\u001B[0m\u001B[0mpast_key_values_length\u001B[0m\u001B[1;33m,\u001B[0m\u001B[1;33m\u001B[0m\u001B[1;33m\u001B[0m\u001B[0m\n\u001B[0;32m    995\u001B[0m         )\n\u001B[1;32m--> 996\u001B[1;33m         encoder_outputs = self.encoder(\n\u001B[0m\u001B[0;32m    997\u001B[0m             \u001B[0membedding_output\u001B[0m\u001B[1;33m,\u001B[0m\u001B[1;33m\u001B[0m\u001B[1;33m\u001B[0m\u001B[0m\n\u001B[0;32m    998\u001B[0m             \u001B[0mattention_mask\u001B[0m\u001B[1;33m=\u001B[0m\u001B[0mextended_attention_mask\u001B[0m\u001B[1;33m,\u001B[0m\u001B[1;33m\u001B[0m\u001B[1;33m\u001B[0m\u001B[0m\n",
      "\u001B[1;32m~\\anaconda3\\lib\\site-packages\\torch\\nn\\modules\\module.py\u001B[0m in \u001B[0;36m_call_impl\u001B[1;34m(self, *input, **kwargs)\u001B[0m\n\u001B[0;32m   1100\u001B[0m         if not (self._backward_hooks or self._forward_hooks or self._forward_pre_hooks or _global_backward_hooks\n\u001B[0;32m   1101\u001B[0m                 or _global_forward_hooks or _global_forward_pre_hooks):\n\u001B[1;32m-> 1102\u001B[1;33m             \u001B[1;32mreturn\u001B[0m \u001B[0mforward_call\u001B[0m\u001B[1;33m(\u001B[0m\u001B[1;33m*\u001B[0m\u001B[0minput\u001B[0m\u001B[1;33m,\u001B[0m \u001B[1;33m**\u001B[0m\u001B[0mkwargs\u001B[0m\u001B[1;33m)\u001B[0m\u001B[1;33m\u001B[0m\u001B[1;33m\u001B[0m\u001B[0m\n\u001B[0m\u001B[0;32m   1103\u001B[0m         \u001B[1;31m# Do not call functions when jit is used\u001B[0m\u001B[1;33m\u001B[0m\u001B[1;33m\u001B[0m\u001B[1;33m\u001B[0m\u001B[0m\n\u001B[0;32m   1104\u001B[0m         \u001B[0mfull_backward_hooks\u001B[0m\u001B[1;33m,\u001B[0m \u001B[0mnon_full_backward_hooks\u001B[0m \u001B[1;33m=\u001B[0m \u001B[1;33m[\u001B[0m\u001B[1;33m]\u001B[0m\u001B[1;33m,\u001B[0m \u001B[1;33m[\u001B[0m\u001B[1;33m]\u001B[0m\u001B[1;33m\u001B[0m\u001B[1;33m\u001B[0m\u001B[0m\n",
      "\u001B[1;32m~\\anaconda3\\lib\\site-packages\\transformers\\models\\bert\\modeling_bert.py\u001B[0m in \u001B[0;36mforward\u001B[1;34m(self, hidden_states, attention_mask, head_mask, encoder_hidden_states, encoder_attention_mask, past_key_values, use_cache, output_attentions, output_hidden_states, return_dict)\u001B[0m\n\u001B[0;32m    583\u001B[0m                 )\n\u001B[0;32m    584\u001B[0m             \u001B[1;32melse\u001B[0m\u001B[1;33m:\u001B[0m\u001B[1;33m\u001B[0m\u001B[1;33m\u001B[0m\u001B[0m\n\u001B[1;32m--> 585\u001B[1;33m                 layer_outputs = layer_module(\n\u001B[0m\u001B[0;32m    586\u001B[0m                     \u001B[0mhidden_states\u001B[0m\u001B[1;33m,\u001B[0m\u001B[1;33m\u001B[0m\u001B[1;33m\u001B[0m\u001B[0m\n\u001B[0;32m    587\u001B[0m                     \u001B[0mattention_mask\u001B[0m\u001B[1;33m,\u001B[0m\u001B[1;33m\u001B[0m\u001B[1;33m\u001B[0m\u001B[0m\n",
      "\u001B[1;32m~\\anaconda3\\lib\\site-packages\\torch\\nn\\modules\\module.py\u001B[0m in \u001B[0;36m_call_impl\u001B[1;34m(self, *input, **kwargs)\u001B[0m\n\u001B[0;32m   1100\u001B[0m         if not (self._backward_hooks or self._forward_hooks or self._forward_pre_hooks or _global_backward_hooks\n\u001B[0;32m   1101\u001B[0m                 or _global_forward_hooks or _global_forward_pre_hooks):\n\u001B[1;32m-> 1102\u001B[1;33m             \u001B[1;32mreturn\u001B[0m \u001B[0mforward_call\u001B[0m\u001B[1;33m(\u001B[0m\u001B[1;33m*\u001B[0m\u001B[0minput\u001B[0m\u001B[1;33m,\u001B[0m \u001B[1;33m**\u001B[0m\u001B[0mkwargs\u001B[0m\u001B[1;33m)\u001B[0m\u001B[1;33m\u001B[0m\u001B[1;33m\u001B[0m\u001B[0m\n\u001B[0m\u001B[0;32m   1103\u001B[0m         \u001B[1;31m# Do not call functions when jit is used\u001B[0m\u001B[1;33m\u001B[0m\u001B[1;33m\u001B[0m\u001B[1;33m\u001B[0m\u001B[0m\n\u001B[0;32m   1104\u001B[0m         \u001B[0mfull_backward_hooks\u001B[0m\u001B[1;33m,\u001B[0m \u001B[0mnon_full_backward_hooks\u001B[0m \u001B[1;33m=\u001B[0m \u001B[1;33m[\u001B[0m\u001B[1;33m]\u001B[0m\u001B[1;33m,\u001B[0m \u001B[1;33m[\u001B[0m\u001B[1;33m]\u001B[0m\u001B[1;33m\u001B[0m\u001B[1;33m\u001B[0m\u001B[0m\n",
      "\u001B[1;32m~\\anaconda3\\lib\\site-packages\\transformers\\models\\bert\\modeling_bert.py\u001B[0m in \u001B[0;36mforward\u001B[1;34m(self, hidden_states, attention_mask, head_mask, encoder_hidden_states, encoder_attention_mask, past_key_value, output_attentions)\u001B[0m\n\u001B[0;32m    511\u001B[0m             \u001B[0mpresent_key_value\u001B[0m \u001B[1;33m=\u001B[0m \u001B[0mpresent_key_value\u001B[0m \u001B[1;33m+\u001B[0m \u001B[0mcross_attn_present_key_value\u001B[0m\u001B[1;33m\u001B[0m\u001B[1;33m\u001B[0m\u001B[0m\n\u001B[0;32m    512\u001B[0m \u001B[1;33m\u001B[0m\u001B[0m\n\u001B[1;32m--> 513\u001B[1;33m         layer_output = apply_chunking_to_forward(\n\u001B[0m\u001B[0;32m    514\u001B[0m             \u001B[0mself\u001B[0m\u001B[1;33m.\u001B[0m\u001B[0mfeed_forward_chunk\u001B[0m\u001B[1;33m,\u001B[0m \u001B[0mself\u001B[0m\u001B[1;33m.\u001B[0m\u001B[0mchunk_size_feed_forward\u001B[0m\u001B[1;33m,\u001B[0m \u001B[0mself\u001B[0m\u001B[1;33m.\u001B[0m\u001B[0mseq_len_dim\u001B[0m\u001B[1;33m,\u001B[0m \u001B[0mattention_output\u001B[0m\u001B[1;33m\u001B[0m\u001B[1;33m\u001B[0m\u001B[0m\n\u001B[0;32m    515\u001B[0m         )\n",
      "\u001B[1;32m~\\anaconda3\\lib\\site-packages\\transformers\\modeling_utils.py\u001B[0m in \u001B[0;36mapply_chunking_to_forward\u001B[1;34m(forward_fn, chunk_size, chunk_dim, *input_tensors)\u001B[0m\n\u001B[0;32m   2470\u001B[0m         \u001B[1;32mreturn\u001B[0m \u001B[0mtorch\u001B[0m\u001B[1;33m.\u001B[0m\u001B[0mcat\u001B[0m\u001B[1;33m(\u001B[0m\u001B[0moutput_chunks\u001B[0m\u001B[1;33m,\u001B[0m \u001B[0mdim\u001B[0m\u001B[1;33m=\u001B[0m\u001B[0mchunk_dim\u001B[0m\u001B[1;33m)\u001B[0m\u001B[1;33m\u001B[0m\u001B[1;33m\u001B[0m\u001B[0m\n\u001B[0;32m   2471\u001B[0m \u001B[1;33m\u001B[0m\u001B[0m\n\u001B[1;32m-> 2472\u001B[1;33m     \u001B[1;32mreturn\u001B[0m \u001B[0mforward_fn\u001B[0m\u001B[1;33m(\u001B[0m\u001B[1;33m*\u001B[0m\u001B[0minput_tensors\u001B[0m\u001B[1;33m)\u001B[0m\u001B[1;33m\u001B[0m\u001B[1;33m\u001B[0m\u001B[0m\n\u001B[0m",
      "\u001B[1;32m~\\anaconda3\\lib\\site-packages\\transformers\\models\\bert\\modeling_bert.py\u001B[0m in \u001B[0;36mfeed_forward_chunk\u001B[1;34m(self, attention_output)\u001B[0m\n\u001B[0;32m    523\u001B[0m \u001B[1;33m\u001B[0m\u001B[0m\n\u001B[0;32m    524\u001B[0m     \u001B[1;32mdef\u001B[0m \u001B[0mfeed_forward_chunk\u001B[0m\u001B[1;33m(\u001B[0m\u001B[0mself\u001B[0m\u001B[1;33m,\u001B[0m \u001B[0mattention_output\u001B[0m\u001B[1;33m)\u001B[0m\u001B[1;33m:\u001B[0m\u001B[1;33m\u001B[0m\u001B[1;33m\u001B[0m\u001B[0m\n\u001B[1;32m--> 525\u001B[1;33m         \u001B[0mintermediate_output\u001B[0m \u001B[1;33m=\u001B[0m \u001B[0mself\u001B[0m\u001B[1;33m.\u001B[0m\u001B[0mintermediate\u001B[0m\u001B[1;33m(\u001B[0m\u001B[0mattention_output\u001B[0m\u001B[1;33m)\u001B[0m\u001B[1;33m\u001B[0m\u001B[1;33m\u001B[0m\u001B[0m\n\u001B[0m\u001B[0;32m    526\u001B[0m         \u001B[0mlayer_output\u001B[0m \u001B[1;33m=\u001B[0m \u001B[0mself\u001B[0m\u001B[1;33m.\u001B[0m\u001B[0moutput\u001B[0m\u001B[1;33m(\u001B[0m\u001B[0mintermediate_output\u001B[0m\u001B[1;33m,\u001B[0m \u001B[0mattention_output\u001B[0m\u001B[1;33m)\u001B[0m\u001B[1;33m\u001B[0m\u001B[1;33m\u001B[0m\u001B[0m\n\u001B[0;32m    527\u001B[0m         \u001B[1;32mreturn\u001B[0m \u001B[0mlayer_output\u001B[0m\u001B[1;33m\u001B[0m\u001B[1;33m\u001B[0m\u001B[0m\n",
      "\u001B[1;32m~\\anaconda3\\lib\\site-packages\\torch\\nn\\modules\\module.py\u001B[0m in \u001B[0;36m_call_impl\u001B[1;34m(self, *input, **kwargs)\u001B[0m\n\u001B[0;32m   1100\u001B[0m         if not (self._backward_hooks or self._forward_hooks or self._forward_pre_hooks or _global_backward_hooks\n\u001B[0;32m   1101\u001B[0m                 or _global_forward_hooks or _global_forward_pre_hooks):\n\u001B[1;32m-> 1102\u001B[1;33m             \u001B[1;32mreturn\u001B[0m \u001B[0mforward_call\u001B[0m\u001B[1;33m(\u001B[0m\u001B[1;33m*\u001B[0m\u001B[0minput\u001B[0m\u001B[1;33m,\u001B[0m \u001B[1;33m**\u001B[0m\u001B[0mkwargs\u001B[0m\u001B[1;33m)\u001B[0m\u001B[1;33m\u001B[0m\u001B[1;33m\u001B[0m\u001B[0m\n\u001B[0m\u001B[0;32m   1103\u001B[0m         \u001B[1;31m# Do not call functions when jit is used\u001B[0m\u001B[1;33m\u001B[0m\u001B[1;33m\u001B[0m\u001B[1;33m\u001B[0m\u001B[0m\n\u001B[0;32m   1104\u001B[0m         \u001B[0mfull_backward_hooks\u001B[0m\u001B[1;33m,\u001B[0m \u001B[0mnon_full_backward_hooks\u001B[0m \u001B[1;33m=\u001B[0m \u001B[1;33m[\u001B[0m\u001B[1;33m]\u001B[0m\u001B[1;33m,\u001B[0m \u001B[1;33m[\u001B[0m\u001B[1;33m]\u001B[0m\u001B[1;33m\u001B[0m\u001B[1;33m\u001B[0m\u001B[0m\n",
      "\u001B[1;32m~\\anaconda3\\lib\\site-packages\\transformers\\models\\bert\\modeling_bert.py\u001B[0m in \u001B[0;36mforward\u001B[1;34m(self, hidden_states)\u001B[0m\n\u001B[0;32m    424\u001B[0m \u001B[1;33m\u001B[0m\u001B[0m\n\u001B[0;32m    425\u001B[0m     \u001B[1;32mdef\u001B[0m \u001B[0mforward\u001B[0m\u001B[1;33m(\u001B[0m\u001B[0mself\u001B[0m\u001B[1;33m,\u001B[0m \u001B[0mhidden_states\u001B[0m\u001B[1;33m)\u001B[0m\u001B[1;33m:\u001B[0m\u001B[1;33m\u001B[0m\u001B[1;33m\u001B[0m\u001B[0m\n\u001B[1;32m--> 426\u001B[1;33m         \u001B[0mhidden_states\u001B[0m \u001B[1;33m=\u001B[0m \u001B[0mself\u001B[0m\u001B[1;33m.\u001B[0m\u001B[0mdense\u001B[0m\u001B[1;33m(\u001B[0m\u001B[0mhidden_states\u001B[0m\u001B[1;33m)\u001B[0m\u001B[1;33m\u001B[0m\u001B[1;33m\u001B[0m\u001B[0m\n\u001B[0m\u001B[0;32m    427\u001B[0m         \u001B[0mhidden_states\u001B[0m \u001B[1;33m=\u001B[0m \u001B[0mself\u001B[0m\u001B[1;33m.\u001B[0m\u001B[0mintermediate_act_fn\u001B[0m\u001B[1;33m(\u001B[0m\u001B[0mhidden_states\u001B[0m\u001B[1;33m)\u001B[0m\u001B[1;33m\u001B[0m\u001B[1;33m\u001B[0m\u001B[0m\n\u001B[0;32m    428\u001B[0m         \u001B[1;32mreturn\u001B[0m \u001B[0mhidden_states\u001B[0m\u001B[1;33m\u001B[0m\u001B[1;33m\u001B[0m\u001B[0m\n",
      "\u001B[1;32m~\\anaconda3\\lib\\site-packages\\torch\\nn\\modules\\module.py\u001B[0m in \u001B[0;36m_call_impl\u001B[1;34m(self, *input, **kwargs)\u001B[0m\n\u001B[0;32m   1100\u001B[0m         if not (self._backward_hooks or self._forward_hooks or self._forward_pre_hooks or _global_backward_hooks\n\u001B[0;32m   1101\u001B[0m                 or _global_forward_hooks or _global_forward_pre_hooks):\n\u001B[1;32m-> 1102\u001B[1;33m             \u001B[1;32mreturn\u001B[0m \u001B[0mforward_call\u001B[0m\u001B[1;33m(\u001B[0m\u001B[1;33m*\u001B[0m\u001B[0minput\u001B[0m\u001B[1;33m,\u001B[0m \u001B[1;33m**\u001B[0m\u001B[0mkwargs\u001B[0m\u001B[1;33m)\u001B[0m\u001B[1;33m\u001B[0m\u001B[1;33m\u001B[0m\u001B[0m\n\u001B[0m\u001B[0;32m   1103\u001B[0m         \u001B[1;31m# Do not call functions when jit is used\u001B[0m\u001B[1;33m\u001B[0m\u001B[1;33m\u001B[0m\u001B[1;33m\u001B[0m\u001B[0m\n\u001B[0;32m   1104\u001B[0m         \u001B[0mfull_backward_hooks\u001B[0m\u001B[1;33m,\u001B[0m \u001B[0mnon_full_backward_hooks\u001B[0m \u001B[1;33m=\u001B[0m \u001B[1;33m[\u001B[0m\u001B[1;33m]\u001B[0m\u001B[1;33m,\u001B[0m \u001B[1;33m[\u001B[0m\u001B[1;33m]\u001B[0m\u001B[1;33m\u001B[0m\u001B[1;33m\u001B[0m\u001B[0m\n",
      "\u001B[1;32m~\\anaconda3\\lib\\site-packages\\torch\\nn\\modules\\linear.py\u001B[0m in \u001B[0;36mforward\u001B[1;34m(self, input)\u001B[0m\n\u001B[0;32m    101\u001B[0m \u001B[1;33m\u001B[0m\u001B[0m\n\u001B[0;32m    102\u001B[0m     \u001B[1;32mdef\u001B[0m \u001B[0mforward\u001B[0m\u001B[1;33m(\u001B[0m\u001B[0mself\u001B[0m\u001B[1;33m,\u001B[0m \u001B[0minput\u001B[0m\u001B[1;33m:\u001B[0m \u001B[0mTensor\u001B[0m\u001B[1;33m)\u001B[0m \u001B[1;33m->\u001B[0m \u001B[0mTensor\u001B[0m\u001B[1;33m:\u001B[0m\u001B[1;33m\u001B[0m\u001B[1;33m\u001B[0m\u001B[0m\n\u001B[1;32m--> 103\u001B[1;33m         \u001B[1;32mreturn\u001B[0m \u001B[0mF\u001B[0m\u001B[1;33m.\u001B[0m\u001B[0mlinear\u001B[0m\u001B[1;33m(\u001B[0m\u001B[0minput\u001B[0m\u001B[1;33m,\u001B[0m \u001B[0mself\u001B[0m\u001B[1;33m.\u001B[0m\u001B[0mweight\u001B[0m\u001B[1;33m,\u001B[0m \u001B[0mself\u001B[0m\u001B[1;33m.\u001B[0m\u001B[0mbias\u001B[0m\u001B[1;33m)\u001B[0m\u001B[1;33m\u001B[0m\u001B[1;33m\u001B[0m\u001B[0m\n\u001B[0m\u001B[0;32m    104\u001B[0m \u001B[1;33m\u001B[0m\u001B[0m\n\u001B[0;32m    105\u001B[0m     \u001B[1;32mdef\u001B[0m \u001B[0mextra_repr\u001B[0m\u001B[1;33m(\u001B[0m\u001B[0mself\u001B[0m\u001B[1;33m)\u001B[0m \u001B[1;33m->\u001B[0m \u001B[0mstr\u001B[0m\u001B[1;33m:\u001B[0m\u001B[1;33m\u001B[0m\u001B[1;33m\u001B[0m\u001B[0m\n",
      "\u001B[1;32m~\\anaconda3\\lib\\site-packages\\torch\\nn\\functional.py\u001B[0m in \u001B[0;36mlinear\u001B[1;34m(input, weight, bias)\u001B[0m\n\u001B[0;32m   1846\u001B[0m     \u001B[1;32mif\u001B[0m \u001B[0mhas_torch_function_variadic\u001B[0m\u001B[1;33m(\u001B[0m\u001B[0minput\u001B[0m\u001B[1;33m,\u001B[0m \u001B[0mweight\u001B[0m\u001B[1;33m,\u001B[0m \u001B[0mbias\u001B[0m\u001B[1;33m)\u001B[0m\u001B[1;33m:\u001B[0m\u001B[1;33m\u001B[0m\u001B[1;33m\u001B[0m\u001B[0m\n\u001B[0;32m   1847\u001B[0m         \u001B[1;32mreturn\u001B[0m \u001B[0mhandle_torch_function\u001B[0m\u001B[1;33m(\u001B[0m\u001B[0mlinear\u001B[0m\u001B[1;33m,\u001B[0m \u001B[1;33m(\u001B[0m\u001B[0minput\u001B[0m\u001B[1;33m,\u001B[0m \u001B[0mweight\u001B[0m\u001B[1;33m,\u001B[0m \u001B[0mbias\u001B[0m\u001B[1;33m)\u001B[0m\u001B[1;33m,\u001B[0m \u001B[0minput\u001B[0m\u001B[1;33m,\u001B[0m \u001B[0mweight\u001B[0m\u001B[1;33m,\u001B[0m \u001B[0mbias\u001B[0m\u001B[1;33m=\u001B[0m\u001B[0mbias\u001B[0m\u001B[1;33m)\u001B[0m\u001B[1;33m\u001B[0m\u001B[1;33m\u001B[0m\u001B[0m\n\u001B[1;32m-> 1848\u001B[1;33m     \u001B[1;32mreturn\u001B[0m \u001B[0mtorch\u001B[0m\u001B[1;33m.\u001B[0m\u001B[0m_C\u001B[0m\u001B[1;33m.\u001B[0m\u001B[0m_nn\u001B[0m\u001B[1;33m.\u001B[0m\u001B[0mlinear\u001B[0m\u001B[1;33m(\u001B[0m\u001B[0minput\u001B[0m\u001B[1;33m,\u001B[0m \u001B[0mweight\u001B[0m\u001B[1;33m,\u001B[0m \u001B[0mbias\u001B[0m\u001B[1;33m)\u001B[0m\u001B[1;33m\u001B[0m\u001B[1;33m\u001B[0m\u001B[0m\n\u001B[0m\u001B[0;32m   1849\u001B[0m \u001B[1;33m\u001B[0m\u001B[0m\n\u001B[0;32m   1850\u001B[0m \u001B[1;33m\u001B[0m\u001B[0m\n",
      "\u001B[1;31mKeyboardInterrupt\u001B[0m: "
     ]
    }
   ],
   "source": [
    "train_msft_df = sentim_analyzer(msft_merged_df, tokenizer, model)"
   ],
   "metadata": {
    "collapsed": false,
    "pycharm": {
     "name": "#%%\n"
    }
   }
  },
  {
   "cell_type": "code",
   "execution_count": 70,
   "outputs": [
    {
     "data": {
      "text/plain": "           Open      Close    Volume  Price_change      stock  \\\n0     30.620001  30.950001  38409100             1  Microsoft   \n1     30.620001  30.950001  38409100             1  Microsoft   \n2     30.620001  30.950001  38409100             1  Microsoft   \n3     30.620001  30.950001  38409100             1  Microsoft   \n4     30.620001  30.950001  38409100             1  Microsoft   \n...         ...        ...       ...           ...        ...   \n6784  89.580002  89.709999  37213800             1  Microsoft   \n6785  89.580002  89.709999  37213800             1  Microsoft   \n6786  87.849998  92.330002  35560000             1  Microsoft   \n6787  87.849998  92.330002  35560000             1  Microsoft   \n6788  92.440002  92.379997  29771900             0  Microsoft   \n\n                                               headline  Positive  Negative  \\\n0           Corporate Tax Returns Face Heavier Scrutiny  0.164580  0.759847   \n1     Packing Tetrahedrons, and Closing In on a Perf...  0.125201  0.015992   \n2                     Watching TV Together, Miles Apart  0.069182  0.049929   \n3     Credit Suisse Accused of Defrauding Resort Inv...  0.042256  0.808268   \n4                      A Savior in the Form of a Tablet  0.051964  0.028715   \n...                                                 ...       ...       ...   \n6784  Looming China Trade Action Divides Industry an...  0.010714  0.948580   \n6785  White House Turf Battle Threatens to Delay Tax...  0.011623  0.906666   \n6786  ‘The Business of War’: Google Employees Protes...  0.025905  0.707697   \n6787  Amazon Has Lots of Company as Trump Slams ‘Stu...  0.051620  0.046699   \n6788            Monitoring the Health of a Backup Drive  0.029119  0.074496   \n\n       Neutral  \n0     0.075573  \n1     0.858807  \n2     0.880888  \n3     0.149476  \n4     0.919321  \n...        ...  \n6784  0.040705  \n6785  0.081711  \n6786  0.266398  \n6787  0.901681  \n6788  0.896384  \n\n[6789 rows x 9 columns]",
      "text/html": "<div>\n<style scoped>\n    .dataframe tbody tr th:only-of-type {\n        vertical-align: middle;\n    }\n\n    .dataframe tbody tr th {\n        vertical-align: top;\n    }\n\n    .dataframe thead th {\n        text-align: right;\n    }\n</style>\n<table border=\"1\" class=\"dataframe\">\n  <thead>\n    <tr style=\"text-align: right;\">\n      <th></th>\n      <th>Open</th>\n      <th>Close</th>\n      <th>Volume</th>\n      <th>Price_change</th>\n      <th>stock</th>\n      <th>headline</th>\n      <th>Positive</th>\n      <th>Negative</th>\n      <th>Neutral</th>\n    </tr>\n  </thead>\n  <tbody>\n    <tr>\n      <th>0</th>\n      <td>30.620001</td>\n      <td>30.950001</td>\n      <td>38409100</td>\n      <td>1</td>\n      <td>Microsoft</td>\n      <td>Corporate Tax Returns Face Heavier Scrutiny</td>\n      <td>0.164580</td>\n      <td>0.759847</td>\n      <td>0.075573</td>\n    </tr>\n    <tr>\n      <th>1</th>\n      <td>30.620001</td>\n      <td>30.950001</td>\n      <td>38409100</td>\n      <td>1</td>\n      <td>Microsoft</td>\n      <td>Packing Tetrahedrons, and Closing In on a Perf...</td>\n      <td>0.125201</td>\n      <td>0.015992</td>\n      <td>0.858807</td>\n    </tr>\n    <tr>\n      <th>2</th>\n      <td>30.620001</td>\n      <td>30.950001</td>\n      <td>38409100</td>\n      <td>1</td>\n      <td>Microsoft</td>\n      <td>Watching TV Together, Miles Apart</td>\n      <td>0.069182</td>\n      <td>0.049929</td>\n      <td>0.880888</td>\n    </tr>\n    <tr>\n      <th>3</th>\n      <td>30.620001</td>\n      <td>30.950001</td>\n      <td>38409100</td>\n      <td>1</td>\n      <td>Microsoft</td>\n      <td>Credit Suisse Accused of Defrauding Resort Inv...</td>\n      <td>0.042256</td>\n      <td>0.808268</td>\n      <td>0.149476</td>\n    </tr>\n    <tr>\n      <th>4</th>\n      <td>30.620001</td>\n      <td>30.950001</td>\n      <td>38409100</td>\n      <td>1</td>\n      <td>Microsoft</td>\n      <td>A Savior in the Form of a Tablet</td>\n      <td>0.051964</td>\n      <td>0.028715</td>\n      <td>0.919321</td>\n    </tr>\n    <tr>\n      <th>...</th>\n      <td>...</td>\n      <td>...</td>\n      <td>...</td>\n      <td>...</td>\n      <td>...</td>\n      <td>...</td>\n      <td>...</td>\n      <td>...</td>\n      <td>...</td>\n    </tr>\n    <tr>\n      <th>6784</th>\n      <td>89.580002</td>\n      <td>89.709999</td>\n      <td>37213800</td>\n      <td>1</td>\n      <td>Microsoft</td>\n      <td>Looming China Trade Action Divides Industry an...</td>\n      <td>0.010714</td>\n      <td>0.948580</td>\n      <td>0.040705</td>\n    </tr>\n    <tr>\n      <th>6785</th>\n      <td>89.580002</td>\n      <td>89.709999</td>\n      <td>37213800</td>\n      <td>1</td>\n      <td>Microsoft</td>\n      <td>White House Turf Battle Threatens to Delay Tax...</td>\n      <td>0.011623</td>\n      <td>0.906666</td>\n      <td>0.081711</td>\n    </tr>\n    <tr>\n      <th>6786</th>\n      <td>87.849998</td>\n      <td>92.330002</td>\n      <td>35560000</td>\n      <td>1</td>\n      <td>Microsoft</td>\n      <td>‘The Business of War’: Google Employees Protes...</td>\n      <td>0.025905</td>\n      <td>0.707697</td>\n      <td>0.266398</td>\n    </tr>\n    <tr>\n      <th>6787</th>\n      <td>87.849998</td>\n      <td>92.330002</td>\n      <td>35560000</td>\n      <td>1</td>\n      <td>Microsoft</td>\n      <td>Amazon Has Lots of Company as Trump Slams ‘Stu...</td>\n      <td>0.051620</td>\n      <td>0.046699</td>\n      <td>0.901681</td>\n    </tr>\n    <tr>\n      <th>6788</th>\n      <td>92.440002</td>\n      <td>92.379997</td>\n      <td>29771900</td>\n      <td>0</td>\n      <td>Microsoft</td>\n      <td>Monitoring the Health of a Backup Drive</td>\n      <td>0.029119</td>\n      <td>0.074496</td>\n      <td>0.896384</td>\n    </tr>\n  </tbody>\n</table>\n<p>6789 rows × 9 columns</p>\n</div>"
     },
     "execution_count": 70,
     "metadata": {},
     "output_type": "execute_result"
    }
   ],
   "source": [
    "train_msft_df = train_msft_df.rename(columns={'Date': 'date', 'Stock': 'stock'})\n",
    "train_msft_df"
   ],
   "metadata": {
    "collapsed": false,
    "pycharm": {
     "name": "#%%\n"
    }
   }
  },
  {
   "cell_type": "code",
   "execution_count": 65,
   "outputs": [],
   "source": [
    "train_msft_df.to_csv('Financial_News/msft_nyt_news_with_sentiment_scores.csv')"
   ],
   "metadata": {
    "collapsed": false,
    "pycharm": {
     "name": "#%%\n"
    }
   }
  },
  {
   "cell_type": "code",
   "execution_count": 78,
   "outputs": [],
   "source": [
    "def merge_dates(df):\n",
    "    '''\n",
    "    Given a df that contains columns [date, stock, Open, Close, Volume, headline, Positive, Negative, Neutral, Price_change],\n",
    "    take the average of Positive, Negative, Neutral sentiment scores for each date and return a df that contains each\n",
    "    date exactly one time. The return df has no column 'headline' since the scores now refer to an average of multiple\n",
    "    news headlines.\n",
    "        Parameters :\n",
    "          df : A dataframe with columns [date, stock, Open, Close, Volume, headline, Positive, Negative, Neutral, Price_change]\n",
    "\n",
    "          returns df : aggragated sentiment scores by date with columns [date, stock, Open, Close, Volume, headline, Positive, Negative, Neutral, Price_change]\n",
    "    '''\n",
    "\n",
    "    # read the full enriched dataset in your main code like below and then pass it to the function\n",
    "    # df = pd.read_csv('Financial_News/train_apple.csv', index_col=0, parse_dates=['date'])\n",
    "\n",
    "    # take the average for Positive, Negative and Neutral columns by date. Drop headline column and all other columns per date are identical.\n",
    "    dates_in_df = df['date'].unique()\n",
    "    new_df = df.copy(deep=True).head(0)  # just take the df structure with no data inside\n",
    "    new_df = new_df.drop(columns=['headline'])  # drop headline column\n",
    "\n",
    "    for date in dates_in_df:\n",
    "        sub_df = df[df['date'] == date]  # filter specific dates\n",
    "        avg_positive = sub_df['Positive'].mean()\n",
    "        avg_negative = sub_df['Negative'].mean()\n",
    "        avg_neutral = sub_df['Neutral'].mean()\n",
    "        sub_df = sub_df.drop(columns=['headline'])  # drop headline column\n",
    "\n",
    "        stock = sub_df.iloc[0]['stock']\n",
    "        open = sub_df.iloc[0]['Open']\n",
    "        close = sub_df.iloc[0]['Close']\n",
    "        volume = sub_df.iloc[0]['Volume']\n",
    "        price_change = sub_df.iloc[0]['Price_change']\n",
    "\n",
    "        sub_df = sub_df.head(0)  # empty sub_df to populate with just 1 row for each date\n",
    "        # print(sub_df)\n",
    "        sub_df.loc[0] = [date, open, close, volume, price_change, stock, avg_positive, avg_negative, avg_neutral]  # populate the row\n",
    "        # add sub_df's row to the new dataframe\n",
    "        new_df = pd.concat([new_df, sub_df], axis=0, ignore_index=True)\n",
    "    return(new_df)"
   ],
   "metadata": {
    "collapsed": false,
    "pycharm": {
     "name": "#%%\n"
    }
   }
  },
  {
   "cell_type": "code",
   "execution_count": 81,
   "outputs": [
    {
     "data": {
      "text/plain": "            date       Open      Close    Volume  Price_change      stock  \\\n0     2010-01-04  30.620001  30.950001  38409100             1  Microsoft   \n1     2010-01-04  30.620001  30.950001  38409100             1  Microsoft   \n2     2010-01-04  30.620001  30.950001  38409100             1  Microsoft   \n3     2010-01-04  30.620001  30.950001  38409100             1  Microsoft   \n4     2010-01-04  30.620001  30.950001  38409100             1  Microsoft   \n...          ...        ...        ...       ...           ...        ...   \n6784  2018-04-03  89.580002  89.709999  37213800             1  Microsoft   \n6785  2018-04-03  89.580002  89.709999  37213800             1  Microsoft   \n6786  2018-04-04  87.849998  92.330002  35560000             1  Microsoft   \n6787  2018-04-04  87.849998  92.330002  35560000             1  Microsoft   \n6788  2018-04-05  92.440002  92.379997  29771900             0  Microsoft   \n\n                                               headline  Positive  Negative  \\\n0           Corporate Tax Returns Face Heavier Scrutiny  0.164580  0.759847   \n1     Packing Tetrahedrons, and Closing In on a Perf...  0.125201  0.015992   \n2                     Watching TV Together, Miles Apart  0.069182  0.049929   \n3     Credit Suisse Accused of Defrauding Resort Inv...  0.042256  0.808268   \n4                      A Savior in the Form of a Tablet  0.051964  0.028715   \n...                                                 ...       ...       ...   \n6784  Looming China Trade Action Divides Industry an...  0.010714  0.948580   \n6785  White House Turf Battle Threatens to Delay Tax...  0.011623  0.906666   \n6786  ‘The Business of War’: Google Employees Protes...  0.025905  0.707697   \n6787  Amazon Has Lots of Company as Trump Slams ‘Stu...  0.051620  0.046699   \n6788            Monitoring the Health of a Backup Drive  0.029119  0.074496   \n\n       Neutral  \n0     0.075573  \n1     0.858807  \n2     0.880888  \n3     0.149476  \n4     0.919321  \n...        ...  \n6784  0.040705  \n6785  0.081711  \n6786  0.266398  \n6787  0.901681  \n6788  0.896384  \n\n[6789 rows x 10 columns]",
      "text/html": "<div>\n<style scoped>\n    .dataframe tbody tr th:only-of-type {\n        vertical-align: middle;\n    }\n\n    .dataframe tbody tr th {\n        vertical-align: top;\n    }\n\n    .dataframe thead th {\n        text-align: right;\n    }\n</style>\n<table border=\"1\" class=\"dataframe\">\n  <thead>\n    <tr style=\"text-align: right;\">\n      <th></th>\n      <th>date</th>\n      <th>Open</th>\n      <th>Close</th>\n      <th>Volume</th>\n      <th>Price_change</th>\n      <th>stock</th>\n      <th>headline</th>\n      <th>Positive</th>\n      <th>Negative</th>\n      <th>Neutral</th>\n    </tr>\n  </thead>\n  <tbody>\n    <tr>\n      <th>0</th>\n      <td>2010-01-04</td>\n      <td>30.620001</td>\n      <td>30.950001</td>\n      <td>38409100</td>\n      <td>1</td>\n      <td>Microsoft</td>\n      <td>Corporate Tax Returns Face Heavier Scrutiny</td>\n      <td>0.164580</td>\n      <td>0.759847</td>\n      <td>0.075573</td>\n    </tr>\n    <tr>\n      <th>1</th>\n      <td>2010-01-04</td>\n      <td>30.620001</td>\n      <td>30.950001</td>\n      <td>38409100</td>\n      <td>1</td>\n      <td>Microsoft</td>\n      <td>Packing Tetrahedrons, and Closing In on a Perf...</td>\n      <td>0.125201</td>\n      <td>0.015992</td>\n      <td>0.858807</td>\n    </tr>\n    <tr>\n      <th>2</th>\n      <td>2010-01-04</td>\n      <td>30.620001</td>\n      <td>30.950001</td>\n      <td>38409100</td>\n      <td>1</td>\n      <td>Microsoft</td>\n      <td>Watching TV Together, Miles Apart</td>\n      <td>0.069182</td>\n      <td>0.049929</td>\n      <td>0.880888</td>\n    </tr>\n    <tr>\n      <th>3</th>\n      <td>2010-01-04</td>\n      <td>30.620001</td>\n      <td>30.950001</td>\n      <td>38409100</td>\n      <td>1</td>\n      <td>Microsoft</td>\n      <td>Credit Suisse Accused of Defrauding Resort Inv...</td>\n      <td>0.042256</td>\n      <td>0.808268</td>\n      <td>0.149476</td>\n    </tr>\n    <tr>\n      <th>4</th>\n      <td>2010-01-04</td>\n      <td>30.620001</td>\n      <td>30.950001</td>\n      <td>38409100</td>\n      <td>1</td>\n      <td>Microsoft</td>\n      <td>A Savior in the Form of a Tablet</td>\n      <td>0.051964</td>\n      <td>0.028715</td>\n      <td>0.919321</td>\n    </tr>\n    <tr>\n      <th>...</th>\n      <td>...</td>\n      <td>...</td>\n      <td>...</td>\n      <td>...</td>\n      <td>...</td>\n      <td>...</td>\n      <td>...</td>\n      <td>...</td>\n      <td>...</td>\n      <td>...</td>\n    </tr>\n    <tr>\n      <th>6784</th>\n      <td>2018-04-03</td>\n      <td>89.580002</td>\n      <td>89.709999</td>\n      <td>37213800</td>\n      <td>1</td>\n      <td>Microsoft</td>\n      <td>Looming China Trade Action Divides Industry an...</td>\n      <td>0.010714</td>\n      <td>0.948580</td>\n      <td>0.040705</td>\n    </tr>\n    <tr>\n      <th>6785</th>\n      <td>2018-04-03</td>\n      <td>89.580002</td>\n      <td>89.709999</td>\n      <td>37213800</td>\n      <td>1</td>\n      <td>Microsoft</td>\n      <td>White House Turf Battle Threatens to Delay Tax...</td>\n      <td>0.011623</td>\n      <td>0.906666</td>\n      <td>0.081711</td>\n    </tr>\n    <tr>\n      <th>6786</th>\n      <td>2018-04-04</td>\n      <td>87.849998</td>\n      <td>92.330002</td>\n      <td>35560000</td>\n      <td>1</td>\n      <td>Microsoft</td>\n      <td>‘The Business of War’: Google Employees Protes...</td>\n      <td>0.025905</td>\n      <td>0.707697</td>\n      <td>0.266398</td>\n    </tr>\n    <tr>\n      <th>6787</th>\n      <td>2018-04-04</td>\n      <td>87.849998</td>\n      <td>92.330002</td>\n      <td>35560000</td>\n      <td>1</td>\n      <td>Microsoft</td>\n      <td>Amazon Has Lots of Company as Trump Slams ‘Stu...</td>\n      <td>0.051620</td>\n      <td>0.046699</td>\n      <td>0.901681</td>\n    </tr>\n    <tr>\n      <th>6788</th>\n      <td>2018-04-05</td>\n      <td>92.440002</td>\n      <td>92.379997</td>\n      <td>29771900</td>\n      <td>0</td>\n      <td>Microsoft</td>\n      <td>Monitoring the Health of a Backup Drive</td>\n      <td>0.029119</td>\n      <td>0.074496</td>\n      <td>0.896384</td>\n    </tr>\n  </tbody>\n</table>\n<p>6789 rows × 10 columns</p>\n</div>"
     },
     "execution_count": 81,
     "metadata": {},
     "output_type": "execute_result"
    }
   ],
   "source": [
    "train_msft_df = pd.read_csv('Financial_News/msft_nyt_news_with_sentiment_scores.csv', index_col=0)\n",
    "train_msft_df = train_msft_df.drop(columns=['date.1'])\n",
    "train_msft_df.to_csv('Financial_News/msft_nyt_news_with_sentiment_scores.csv')\n",
    "train_msft_df"
   ],
   "metadata": {
    "collapsed": false,
    "pycharm": {
     "name": "#%%\n"
    }
   }
  },
  {
   "cell_type": "code",
   "execution_count": 82,
   "outputs": [],
   "source": [
    "train_msft_df2 = merge_dates(train_msft_df) #merge sentiment scores for same dates\n",
    "train_msft_df2.to_csv('Financial_News/msft_nyt_news_with_sentiment_scores_merged_dates.csv')"
   ],
   "metadata": {
    "collapsed": false,
    "pycharm": {
     "name": "#%%\n"
    }
   }
  },
  {
   "cell_type": "code",
   "execution_count": null,
   "outputs": [],
   "source": [],
   "metadata": {
    "collapsed": false,
    "pycharm": {
     "name": "#%%\n"
    }
   }
  }
 ],
 "metadata": {
  "kernelspec": {
   "display_name": "Python 3 (ipykernel)",
   "language": "python",
   "name": "python3"
  },
  "language_info": {
   "codemirror_mode": {
    "name": "ipython",
    "version": 3
   },
   "file_extension": ".py",
   "mimetype": "text/x-python",
   "name": "python",
   "nbconvert_exporter": "python",
   "pygments_lexer": "ipython3",
   "version": "3.8.0"
  }
 },
 "nbformat": 4,
 "nbformat_minor": 5
}