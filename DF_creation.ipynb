{
 "cells": [
  {
   "cell_type": "markdown",
   "id": "053bbbf7-524d-40bc-b3a4-a75f2db0b35f",
   "metadata": {},
   "source": [
    "## An example of using the utilities library in order to create a training dataset for the final classifier."
   ]
  },
  {
   "cell_type": "code",
   "execution_count": 8,
   "id": "71ed0376-524f-4f53-a74d-8b5da6b5a90d",
   "metadata": {},
   "outputs": [
    {
     "name": "stdout",
     "output_type": "stream",
     "text": [
      "Requirement already satisfied: yfinance in c:\\users\\user\\anaconda3\\lib\\site-packages (0.1.70)\n",
      "Requirement already satisfied: pandas>=0.24.0 in c:\\users\\user\\anaconda3\\lib\\site-packages (from yfinance) (1.2.4)\n",
      "Requirement already satisfied: lxml>=4.5.1 in c:\\users\\user\\anaconda3\\lib\\site-packages (from yfinance) (4.6.3)\n",
      "Requirement already satisfied: requests>=2.26 in c:\\users\\user\\anaconda3\\lib\\site-packages (from yfinance) (2.27.1)\n",
      "Requirement already satisfied: multitasking>=0.0.7 in c:\\users\\user\\anaconda3\\lib\\site-packages (from yfinance) (0.0.10)\n",
      "Requirement already satisfied: numpy>=1.15 in c:\\users\\user\\anaconda3\\lib\\site-packages (from yfinance) (1.21.4)\n",
      "Requirement already satisfied: pytz>=2017.3 in c:\\users\\user\\anaconda3\\lib\\site-packages (from pandas>=0.24.0->yfinance) (2021.1)\n",
      "Requirement already satisfied: python-dateutil>=2.7.3 in c:\\users\\user\\anaconda3\\lib\\site-packages (from pandas>=0.24.0->yfinance) (2.8.1)\n",
      "Requirement already satisfied: six>=1.5 in c:\\users\\user\\anaconda3\\lib\\site-packages (from python-dateutil>=2.7.3->pandas>=0.24.0->yfinance) (1.15.0)\n",
      "Requirement already satisfied: idna<4,>=2.5 in c:\\users\\user\\anaconda3\\lib\\site-packages (from requests>=2.26->yfinance) (2.10)\n",
      "Requirement already satisfied: charset-normalizer~=2.0.0 in c:\\users\\user\\anaconda3\\lib\\site-packages (from requests>=2.26->yfinance) (2.0.12)\n",
      "Requirement already satisfied: urllib3<1.27,>=1.21.1 in c:\\users\\user\\anaconda3\\lib\\site-packages (from requests>=2.26->yfinance) (1.26.4)\n",
      "Requirement already satisfied: certifi>=2017.4.17 in c:\\users\\user\\anaconda3\\lib\\site-packages (from requests>=2.26->yfinance) (2020.12.5)\n",
      "Collecting pandas_datareader\n",
      "  Using cached pandas_datareader-0.10.0-py3-none-any.whl (109 kB)\n",
      "Requirement already satisfied: pandas>=0.23 in c:\\users\\user\\anaconda3\\lib\\site-packages (from pandas_datareader) (1.2.4)\n",
      "Requirement already satisfied: lxml in c:\\users\\user\\anaconda3\\lib\\site-packages (from pandas_datareader) (4.6.3)\n",
      "Requirement already satisfied: requests>=2.19.0 in c:\\users\\user\\anaconda3\\lib\\site-packages (from pandas_datareader) (2.27.1)\n",
      "Requirement already satisfied: python-dateutil>=2.7.3 in c:\\users\\user\\anaconda3\\lib\\site-packages (from pandas>=0.23->pandas_datareader) (2.8.1)\n",
      "Requirement already satisfied: numpy>=1.16.5 in c:\\users\\user\\anaconda3\\lib\\site-packages (from pandas>=0.23->pandas_datareader) (1.21.4)\n",
      "Requirement already satisfied: pytz>=2017.3 in c:\\users\\user\\anaconda3\\lib\\site-packages (from pandas>=0.23->pandas_datareader) (2021.1)\n",
      "Requirement already satisfied: six>=1.5 in c:\\users\\user\\anaconda3\\lib\\site-packages (from python-dateutil>=2.7.3->pandas>=0.23->pandas_datareader) (1.15.0)\n",
      "Requirement already satisfied: charset-normalizer~=2.0.0 in c:\\users\\user\\anaconda3\\lib\\site-packages (from requests>=2.19.0->pandas_datareader) (2.0.12)\n",
      "Requirement already satisfied: urllib3<1.27,>=1.21.1 in c:\\users\\user\\anaconda3\\lib\\site-packages (from requests>=2.19.0->pandas_datareader) (1.26.4)\n",
      "Requirement already satisfied: idna<4,>=2.5 in c:\\users\\user\\anaconda3\\lib\\site-packages (from requests>=2.19.0->pandas_datareader) (2.10)\n",
      "Requirement already satisfied: certifi>=2017.4.17 in c:\\users\\user\\anaconda3\\lib\\site-packages (from requests>=2.19.0->pandas_datareader) (2020.12.5)\n",
      "Installing collected packages: pandas-datareader\n",
      "Successfully installed pandas-datareader-0.10.0\n"
     ]
    }
   ],
   "source": [
    "# The Hugging Face transformers library. Neccessary to use FinBERT\n",
    "\n",
    "# EXECUTE ONCE, IN ORDER TO INSTALL transformers LIBRARY\n",
    "#!pip install transformers\n",
    "!pip install yfinance\n",
    "!pip install pandas_datareader"
   ]
  },
  {
   "cell_type": "code",
   "execution_count": 10,
   "id": "9b4e6f00-cc62-4feb-8fba-1bc402695b41",
   "metadata": {},
   "outputs": [],
   "source": [
    "import pandas as pd \n",
    "# Our library\n",
    "from utilities import financial_dataset, read_rph, merge_fin_news, sentim_analyzer"
   ]
  },
  {
   "cell_type": "code",
   "execution_count": 27,
   "id": "fb49cc25-5813-4297-beeb-5b2cfd147a6c",
   "metadata": {},
   "outputs": [
    {
     "name": "stdout",
     "output_type": "stream",
     "text": [
      "Read 32 headlines from raw_partner_headlines.csv, regarding AAPL stock\n"
     ]
    },
    {
     "data": {
      "text/plain": "                                               headline        date stock\n4067                                       American Pie  2020-06-02  AAPL\n4068          Tech Giants Dare Antitrust Deal Watchdogs  2020-06-02  AAPL\n4069  MoneyGram Shares Jump 50% As Western Union Rep...  2020-06-02  AAPL\n4070                      All Eyes on Market Volatility  2020-06-01  AAPL\n4071  Warren Buffett's Berkshire Hathaway Turns Up S...  2020-06-01  AAPL\n4072                                         COVID 2.0?  2020-06-01  AAPL\n4073  Apple CEO Writes To Employees About George Flo...  2020-05-31  AAPL\n4074  First the Deflationary Deluge of Assets Crashi...  2020-05-31  AAPL\n4075                 Market Briefing For Monday, June 1  2020-05-31  AAPL\n4076  Five Monster Stock Market Predictions For The ...  2020-05-31  AAPL\n4077  Buybacks Are Back: Here's Who Is Repurchasing ...  2020-05-31  AAPL\n4078                              Covered Call Backtest  2020-05-31  AAPL\n4079  A Confused Goldman No Longer Expects S&P To Dr...  2020-05-30  AAPL\n4080    Market Breaks Above 200-DMA - Is The Bull Back?  2020-05-30  AAPL\n4081           Market Setup With Phenomenal Risk/Reward  2020-05-30  AAPL\n4082  The \"Smart Money\" Continues To Sell Stocks And...  2020-05-30  AAPL\n4083                                      Casino Closed  2020-05-30  AAPL\n4084                        Casino Closed, Markets Open  2020-05-30  AAPL\n4085  DXC Technology (DXC) Q4 Earnings Top Estimates...  2020-05-29  AAPL\n4086  Marvell's (MRVL) Q1 Earnings & Revenues Surpas...  2020-05-29  AAPL\n4087  Dolby (DLB) Rolls Out Interactive Platform for...  2020-05-29  AAPL\n4088  Remote Working Boosts Peripherals, PC Sales: 4...  2020-05-29  AAPL\n4089  4 Stocks to Watch as Dow Breezes Past 25,000 P...  2020-05-29  AAPL\n4090  The Momentum Trade Driving Stocks Higher May B...  2020-05-28  AAPL\n4091  Tweedy Browne's —…—… Annual Letter to Sharehol...  2020-05-28  AAPL\n4092  Kroger: Capital Preservation and More at a Goo...  2020-05-28  AAPL\n4093  Tredje AP-fonden Buys Microsoft Corp, Amazon.c...  2020-05-28  AAPL\n4094  The Zacks Analyst Blog Highlights: Apple, Exxo...  2020-05-28  AAPL\n4095  Growth Stocks for 2020: Trading Tech Stocks + ...  2020-05-28  AAPL\n4096  Stocks Are Struggling To Post Gains On May 28 ...  2020-05-28  AAPL\n4097  Swiss National Bank Ready To Buy Much More Tec...  2020-05-28  AAPL\n4098           The Topsy-Turvy S&P 500 Earnings Picture  2020-05-27  AAPL",
      "text/html": "<div>\n<style scoped>\n    .dataframe tbody tr th:only-of-type {\n        vertical-align: middle;\n    }\n\n    .dataframe tbody tr th {\n        vertical-align: top;\n    }\n\n    .dataframe thead th {\n        text-align: right;\n    }\n</style>\n<table border=\"1\" class=\"dataframe\">\n  <thead>\n    <tr style=\"text-align: right;\">\n      <th></th>\n      <th>headline</th>\n      <th>date</th>\n      <th>stock</th>\n    </tr>\n  </thead>\n  <tbody>\n    <tr>\n      <th>4067</th>\n      <td>American Pie</td>\n      <td>2020-06-02</td>\n      <td>AAPL</td>\n    </tr>\n    <tr>\n      <th>4068</th>\n      <td>Tech Giants Dare Antitrust Deal Watchdogs</td>\n      <td>2020-06-02</td>\n      <td>AAPL</td>\n    </tr>\n    <tr>\n      <th>4069</th>\n      <td>MoneyGram Shares Jump 50% As Western Union Rep...</td>\n      <td>2020-06-02</td>\n      <td>AAPL</td>\n    </tr>\n    <tr>\n      <th>4070</th>\n      <td>All Eyes on Market Volatility</td>\n      <td>2020-06-01</td>\n      <td>AAPL</td>\n    </tr>\n    <tr>\n      <th>4071</th>\n      <td>Warren Buffett's Berkshire Hathaway Turns Up S...</td>\n      <td>2020-06-01</td>\n      <td>AAPL</td>\n    </tr>\n    <tr>\n      <th>4072</th>\n      <td>COVID 2.0?</td>\n      <td>2020-06-01</td>\n      <td>AAPL</td>\n    </tr>\n    <tr>\n      <th>4073</th>\n      <td>Apple CEO Writes To Employees About George Flo...</td>\n      <td>2020-05-31</td>\n      <td>AAPL</td>\n    </tr>\n    <tr>\n      <th>4074</th>\n      <td>First the Deflationary Deluge of Assets Crashi...</td>\n      <td>2020-05-31</td>\n      <td>AAPL</td>\n    </tr>\n    <tr>\n      <th>4075</th>\n      <td>Market Briefing For Monday, June 1</td>\n      <td>2020-05-31</td>\n      <td>AAPL</td>\n    </tr>\n    <tr>\n      <th>4076</th>\n      <td>Five Monster Stock Market Predictions For The ...</td>\n      <td>2020-05-31</td>\n      <td>AAPL</td>\n    </tr>\n    <tr>\n      <th>4077</th>\n      <td>Buybacks Are Back: Here's Who Is Repurchasing ...</td>\n      <td>2020-05-31</td>\n      <td>AAPL</td>\n    </tr>\n    <tr>\n      <th>4078</th>\n      <td>Covered Call Backtest</td>\n      <td>2020-05-31</td>\n      <td>AAPL</td>\n    </tr>\n    <tr>\n      <th>4079</th>\n      <td>A Confused Goldman No Longer Expects S&amp;P To Dr...</td>\n      <td>2020-05-30</td>\n      <td>AAPL</td>\n    </tr>\n    <tr>\n      <th>4080</th>\n      <td>Market Breaks Above 200-DMA - Is The Bull Back?</td>\n      <td>2020-05-30</td>\n      <td>AAPL</td>\n    </tr>\n    <tr>\n      <th>4081</th>\n      <td>Market Setup With Phenomenal Risk/Reward</td>\n      <td>2020-05-30</td>\n      <td>AAPL</td>\n    </tr>\n    <tr>\n      <th>4082</th>\n      <td>The \"Smart Money\" Continues To Sell Stocks And...</td>\n      <td>2020-05-30</td>\n      <td>AAPL</td>\n    </tr>\n    <tr>\n      <th>4083</th>\n      <td>Casino Closed</td>\n      <td>2020-05-30</td>\n      <td>AAPL</td>\n    </tr>\n    <tr>\n      <th>4084</th>\n      <td>Casino Closed, Markets Open</td>\n      <td>2020-05-30</td>\n      <td>AAPL</td>\n    </tr>\n    <tr>\n      <th>4085</th>\n      <td>DXC Technology (DXC) Q4 Earnings Top Estimates...</td>\n      <td>2020-05-29</td>\n      <td>AAPL</td>\n    </tr>\n    <tr>\n      <th>4086</th>\n      <td>Marvell's (MRVL) Q1 Earnings &amp; Revenues Surpas...</td>\n      <td>2020-05-29</td>\n      <td>AAPL</td>\n    </tr>\n    <tr>\n      <th>4087</th>\n      <td>Dolby (DLB) Rolls Out Interactive Platform for...</td>\n      <td>2020-05-29</td>\n      <td>AAPL</td>\n    </tr>\n    <tr>\n      <th>4088</th>\n      <td>Remote Working Boosts Peripherals, PC Sales: 4...</td>\n      <td>2020-05-29</td>\n      <td>AAPL</td>\n    </tr>\n    <tr>\n      <th>4089</th>\n      <td>4 Stocks to Watch as Dow Breezes Past 25,000 P...</td>\n      <td>2020-05-29</td>\n      <td>AAPL</td>\n    </tr>\n    <tr>\n      <th>4090</th>\n      <td>The Momentum Trade Driving Stocks Higher May B...</td>\n      <td>2020-05-28</td>\n      <td>AAPL</td>\n    </tr>\n    <tr>\n      <th>4091</th>\n      <td>Tweedy Browne's —…—… Annual Letter to Sharehol...</td>\n      <td>2020-05-28</td>\n      <td>AAPL</td>\n    </tr>\n    <tr>\n      <th>4092</th>\n      <td>Kroger: Capital Preservation and More at a Goo...</td>\n      <td>2020-05-28</td>\n      <td>AAPL</td>\n    </tr>\n    <tr>\n      <th>4093</th>\n      <td>Tredje AP-fonden Buys Microsoft Corp, Amazon.c...</td>\n      <td>2020-05-28</td>\n      <td>AAPL</td>\n    </tr>\n    <tr>\n      <th>4094</th>\n      <td>The Zacks Analyst Blog Highlights: Apple, Exxo...</td>\n      <td>2020-05-28</td>\n      <td>AAPL</td>\n    </tr>\n    <tr>\n      <th>4095</th>\n      <td>Growth Stocks for 2020: Trading Tech Stocks + ...</td>\n      <td>2020-05-28</td>\n      <td>AAPL</td>\n    </tr>\n    <tr>\n      <th>4096</th>\n      <td>Stocks Are Struggling To Post Gains On May 28 ...</td>\n      <td>2020-05-28</td>\n      <td>AAPL</td>\n    </tr>\n    <tr>\n      <th>4097</th>\n      <td>Swiss National Bank Ready To Buy Much More Tec...</td>\n      <td>2020-05-28</td>\n      <td>AAPL</td>\n    </tr>\n    <tr>\n      <th>4098</th>\n      <td>The Topsy-Turvy S&amp;P 500 Earnings Picture</td>\n      <td>2020-05-27</td>\n      <td>AAPL</td>\n    </tr>\n  </tbody>\n</table>\n</div>"
     },
     "execution_count": 27,
     "metadata": {},
     "output_type": "execute_result"
    }
   ],
   "source": [
    "apple_headlines = read_rph('AAPL')\n",
    "apple_headlines"
   ]
  },
  {
   "cell_type": "code",
   "execution_count": 14,
   "id": "6579fb85-0c7e-4f18-b534-d2e74fa2aadd",
   "metadata": {},
   "outputs": [
    {
     "name": "stdout",
     "output_type": "stream",
     "text": [
      "[*********************100%***********************]  1 of 1 completed\n",
      "AAPL dataframe dimensions  (2770, 6)\n",
      "Positive changes : 1248\n",
      "Negative changes : 1066\n",
      "No changes : 456\n"
     ]
    },
    {
     "data": {
      "text/plain": "                  Open       Close     Volume  Price_change        date\nDate                                                                   \n2009-12-31    7.611786    7.526071  352410800             0           0\n2010-01-04    7.622500    7.643214  493729600             1  2010-01-04\n2010-01-05    7.664286    7.656429  601904800             0  2010-01-05\n2010-01-06    7.656429    7.534643  552160000            -1  2010-01-06\n2010-01-07    7.562500    7.520714  477131200             0  2010-01-07\n...                ...         ...        ...           ...         ...\n2020-12-24  131.320007  131.970001   54930100             1  2020-12-24\n2020-12-28  133.990005  136.690002  124486200             1  2020-12-28\n2020-12-29  138.050003  134.869995  121047300            -1  2020-12-29\n2020-12-30  135.580002  133.720001   96452100            -1  2020-12-30\n2020-12-31  134.080002  132.690002   99116600            -1  2020-12-31\n\n[2770 rows x 5 columns]",
      "text/html": "<div>\n<style scoped>\n    .dataframe tbody tr th:only-of-type {\n        vertical-align: middle;\n    }\n\n    .dataframe tbody tr th {\n        vertical-align: top;\n    }\n\n    .dataframe thead th {\n        text-align: right;\n    }\n</style>\n<table border=\"1\" class=\"dataframe\">\n  <thead>\n    <tr style=\"text-align: right;\">\n      <th></th>\n      <th>Open</th>\n      <th>Close</th>\n      <th>Volume</th>\n      <th>Price_change</th>\n      <th>date</th>\n    </tr>\n    <tr>\n      <th>Date</th>\n      <th></th>\n      <th></th>\n      <th></th>\n      <th></th>\n      <th></th>\n    </tr>\n  </thead>\n  <tbody>\n    <tr>\n      <th>2009-12-31</th>\n      <td>7.611786</td>\n      <td>7.526071</td>\n      <td>352410800</td>\n      <td>0</td>\n      <td>0</td>\n    </tr>\n    <tr>\n      <th>2010-01-04</th>\n      <td>7.622500</td>\n      <td>7.643214</td>\n      <td>493729600</td>\n      <td>1</td>\n      <td>2010-01-04</td>\n    </tr>\n    <tr>\n      <th>2010-01-05</th>\n      <td>7.664286</td>\n      <td>7.656429</td>\n      <td>601904800</td>\n      <td>0</td>\n      <td>2010-01-05</td>\n    </tr>\n    <tr>\n      <th>2010-01-06</th>\n      <td>7.656429</td>\n      <td>7.534643</td>\n      <td>552160000</td>\n      <td>-1</td>\n      <td>2010-01-06</td>\n    </tr>\n    <tr>\n      <th>2010-01-07</th>\n      <td>7.562500</td>\n      <td>7.520714</td>\n      <td>477131200</td>\n      <td>0</td>\n      <td>2010-01-07</td>\n    </tr>\n    <tr>\n      <th>...</th>\n      <td>...</td>\n      <td>...</td>\n      <td>...</td>\n      <td>...</td>\n      <td>...</td>\n    </tr>\n    <tr>\n      <th>2020-12-24</th>\n      <td>131.320007</td>\n      <td>131.970001</td>\n      <td>54930100</td>\n      <td>1</td>\n      <td>2020-12-24</td>\n    </tr>\n    <tr>\n      <th>2020-12-28</th>\n      <td>133.990005</td>\n      <td>136.690002</td>\n      <td>124486200</td>\n      <td>1</td>\n      <td>2020-12-28</td>\n    </tr>\n    <tr>\n      <th>2020-12-29</th>\n      <td>138.050003</td>\n      <td>134.869995</td>\n      <td>121047300</td>\n      <td>-1</td>\n      <td>2020-12-29</td>\n    </tr>\n    <tr>\n      <th>2020-12-30</th>\n      <td>135.580002</td>\n      <td>133.720001</td>\n      <td>96452100</td>\n      <td>-1</td>\n      <td>2020-12-30</td>\n    </tr>\n    <tr>\n      <th>2020-12-31</th>\n      <td>134.080002</td>\n      <td>132.690002</td>\n      <td>99116600</td>\n      <td>-1</td>\n      <td>2020-12-31</td>\n    </tr>\n  </tbody>\n</table>\n<p>2770 rows × 5 columns</p>\n</div>"
     },
     "execution_count": 14,
     "metadata": {},
     "output_type": "execute_result"
    }
   ],
   "source": [
    "aapl_fin = financial_dataset('AAPL', 0.25)\n",
    "aapl_fin"
   ]
  },
  {
   "cell_type": "markdown",
   "id": "f31eec27-44bf-43ae-83fc-df551f704a98",
   "metadata": {},
   "source": [
    "### Headlines published during the weekend are lost during merge of financial and news dataframes."
   ]
  },
  {
   "cell_type": "code",
   "execution_count": 15,
   "id": "98b2eeec-45d6-4ecf-97d5-650dcf875e58",
   "metadata": {},
   "outputs": [
    {
     "data": {
      "text/plain": "          date stock       Open      Close     Volume  \\\n0   2020-05-27  AAPL  79.035004  79.527496  112945200   \n1   2020-05-28  AAPL  79.192497  79.562500  133560800   \n2   2020-05-28  AAPL  79.192497  79.562500  133560800   \n3   2020-05-28  AAPL  79.192497  79.562500  133560800   \n4   2020-05-28  AAPL  79.192497  79.562500  133560800   \n5   2020-05-28  AAPL  79.192497  79.562500  133560800   \n6   2020-05-28  AAPL  79.192497  79.562500  133560800   \n7   2020-05-28  AAPL  79.192497  79.562500  133560800   \n8   2020-05-28  AAPL  79.192497  79.562500  133560800   \n9   2020-05-29  AAPL  79.812500  79.485001  153532400   \n10  2020-05-29  AAPL  79.812500  79.485001  153532400   \n11  2020-05-29  AAPL  79.812500  79.485001  153532400   \n12  2020-05-29  AAPL  79.812500  79.485001  153532400   \n13  2020-05-29  AAPL  79.812500  79.485001  153532400   \n14  2020-06-01  AAPL  79.437500  80.462502   80791200   \n15  2020-06-01  AAPL  79.437500  80.462502   80791200   \n16  2020-06-01  AAPL  79.437500  80.462502   80791200   \n17  2020-06-02  AAPL  80.187500  80.834999   87642800   \n18  2020-06-02  AAPL  80.187500  80.834999   87642800   \n19  2020-06-02  AAPL  80.187500  80.834999   87642800   \n\n                                             headline  Price_change  \n0            The Topsy-Turvy S&P 500 Earnings Picture             1  \n1   The Momentum Trade Driving Stocks Higher May B...             0  \n2   Tweedy Browne's —…—… Annual Letter to Sharehol...             0  \n3   Kroger: Capital Preservation and More at a Goo...             0  \n4   Tredje AP-fonden Buys Microsoft Corp, Amazon.c...             0  \n5   The Zacks Analyst Blog Highlights: Apple, Exxo...             0  \n6   Growth Stocks for 2020: Trading Tech Stocks + ...             0  \n7   Stocks Are Struggling To Post Gains On May 28 ...             0  \n8   Swiss National Bank Ready To Buy Much More Tec...             0  \n9   DXC Technology (DXC) Q4 Earnings Top Estimates...             0  \n10  Marvell's (MRVL) Q1 Earnings & Revenues Surpas...             0  \n11  Dolby (DLB) Rolls Out Interactive Platform for...             0  \n12  Remote Working Boosts Peripherals, PC Sales: 4...             0  \n13  4 Stocks to Watch as Dow Breezes Past 25,000 P...             0  \n14                      All Eyes on Market Volatility             1  \n15  Warren Buffett's Berkshire Hathaway Turns Up S...             1  \n16                                         COVID 2.0?             1  \n17                                       American Pie             1  \n18          Tech Giants Dare Antitrust Deal Watchdogs             1  \n19  MoneyGram Shares Jump 50% As Western Union Rep...             1  ",
      "text/html": "<div>\n<style scoped>\n    .dataframe tbody tr th:only-of-type {\n        vertical-align: middle;\n    }\n\n    .dataframe tbody tr th {\n        vertical-align: top;\n    }\n\n    .dataframe thead th {\n        text-align: right;\n    }\n</style>\n<table border=\"1\" class=\"dataframe\">\n  <thead>\n    <tr style=\"text-align: right;\">\n      <th></th>\n      <th>date</th>\n      <th>stock</th>\n      <th>Open</th>\n      <th>Close</th>\n      <th>Volume</th>\n      <th>headline</th>\n      <th>Price_change</th>\n    </tr>\n  </thead>\n  <tbody>\n    <tr>\n      <th>0</th>\n      <td>2020-05-27</td>\n      <td>AAPL</td>\n      <td>79.035004</td>\n      <td>79.527496</td>\n      <td>112945200</td>\n      <td>The Topsy-Turvy S&amp;P 500 Earnings Picture</td>\n      <td>1</td>\n    </tr>\n    <tr>\n      <th>1</th>\n      <td>2020-05-28</td>\n      <td>AAPL</td>\n      <td>79.192497</td>\n      <td>79.562500</td>\n      <td>133560800</td>\n      <td>The Momentum Trade Driving Stocks Higher May B...</td>\n      <td>0</td>\n    </tr>\n    <tr>\n      <th>2</th>\n      <td>2020-05-28</td>\n      <td>AAPL</td>\n      <td>79.192497</td>\n      <td>79.562500</td>\n      <td>133560800</td>\n      <td>Tweedy Browne's —…—… Annual Letter to Sharehol...</td>\n      <td>0</td>\n    </tr>\n    <tr>\n      <th>3</th>\n      <td>2020-05-28</td>\n      <td>AAPL</td>\n      <td>79.192497</td>\n      <td>79.562500</td>\n      <td>133560800</td>\n      <td>Kroger: Capital Preservation and More at a Goo...</td>\n      <td>0</td>\n    </tr>\n    <tr>\n      <th>4</th>\n      <td>2020-05-28</td>\n      <td>AAPL</td>\n      <td>79.192497</td>\n      <td>79.562500</td>\n      <td>133560800</td>\n      <td>Tredje AP-fonden Buys Microsoft Corp, Amazon.c...</td>\n      <td>0</td>\n    </tr>\n    <tr>\n      <th>5</th>\n      <td>2020-05-28</td>\n      <td>AAPL</td>\n      <td>79.192497</td>\n      <td>79.562500</td>\n      <td>133560800</td>\n      <td>The Zacks Analyst Blog Highlights: Apple, Exxo...</td>\n      <td>0</td>\n    </tr>\n    <tr>\n      <th>6</th>\n      <td>2020-05-28</td>\n      <td>AAPL</td>\n      <td>79.192497</td>\n      <td>79.562500</td>\n      <td>133560800</td>\n      <td>Growth Stocks for 2020: Trading Tech Stocks + ...</td>\n      <td>0</td>\n    </tr>\n    <tr>\n      <th>7</th>\n      <td>2020-05-28</td>\n      <td>AAPL</td>\n      <td>79.192497</td>\n      <td>79.562500</td>\n      <td>133560800</td>\n      <td>Stocks Are Struggling To Post Gains On May 28 ...</td>\n      <td>0</td>\n    </tr>\n    <tr>\n      <th>8</th>\n      <td>2020-05-28</td>\n      <td>AAPL</td>\n      <td>79.192497</td>\n      <td>79.562500</td>\n      <td>133560800</td>\n      <td>Swiss National Bank Ready To Buy Much More Tec...</td>\n      <td>0</td>\n    </tr>\n    <tr>\n      <th>9</th>\n      <td>2020-05-29</td>\n      <td>AAPL</td>\n      <td>79.812500</td>\n      <td>79.485001</td>\n      <td>153532400</td>\n      <td>DXC Technology (DXC) Q4 Earnings Top Estimates...</td>\n      <td>0</td>\n    </tr>\n    <tr>\n      <th>10</th>\n      <td>2020-05-29</td>\n      <td>AAPL</td>\n      <td>79.812500</td>\n      <td>79.485001</td>\n      <td>153532400</td>\n      <td>Marvell's (MRVL) Q1 Earnings &amp; Revenues Surpas...</td>\n      <td>0</td>\n    </tr>\n    <tr>\n      <th>11</th>\n      <td>2020-05-29</td>\n      <td>AAPL</td>\n      <td>79.812500</td>\n      <td>79.485001</td>\n      <td>153532400</td>\n      <td>Dolby (DLB) Rolls Out Interactive Platform for...</td>\n      <td>0</td>\n    </tr>\n    <tr>\n      <th>12</th>\n      <td>2020-05-29</td>\n      <td>AAPL</td>\n      <td>79.812500</td>\n      <td>79.485001</td>\n      <td>153532400</td>\n      <td>Remote Working Boosts Peripherals, PC Sales: 4...</td>\n      <td>0</td>\n    </tr>\n    <tr>\n      <th>13</th>\n      <td>2020-05-29</td>\n      <td>AAPL</td>\n      <td>79.812500</td>\n      <td>79.485001</td>\n      <td>153532400</td>\n      <td>4 Stocks to Watch as Dow Breezes Past 25,000 P...</td>\n      <td>0</td>\n    </tr>\n    <tr>\n      <th>14</th>\n      <td>2020-06-01</td>\n      <td>AAPL</td>\n      <td>79.437500</td>\n      <td>80.462502</td>\n      <td>80791200</td>\n      <td>All Eyes on Market Volatility</td>\n      <td>1</td>\n    </tr>\n    <tr>\n      <th>15</th>\n      <td>2020-06-01</td>\n      <td>AAPL</td>\n      <td>79.437500</td>\n      <td>80.462502</td>\n      <td>80791200</td>\n      <td>Warren Buffett's Berkshire Hathaway Turns Up S...</td>\n      <td>1</td>\n    </tr>\n    <tr>\n      <th>16</th>\n      <td>2020-06-01</td>\n      <td>AAPL</td>\n      <td>79.437500</td>\n      <td>80.462502</td>\n      <td>80791200</td>\n      <td>COVID 2.0?</td>\n      <td>1</td>\n    </tr>\n    <tr>\n      <th>17</th>\n      <td>2020-06-02</td>\n      <td>AAPL</td>\n      <td>80.187500</td>\n      <td>80.834999</td>\n      <td>87642800</td>\n      <td>American Pie</td>\n      <td>1</td>\n    </tr>\n    <tr>\n      <th>18</th>\n      <td>2020-06-02</td>\n      <td>AAPL</td>\n      <td>80.187500</td>\n      <td>80.834999</td>\n      <td>87642800</td>\n      <td>Tech Giants Dare Antitrust Deal Watchdogs</td>\n      <td>1</td>\n    </tr>\n    <tr>\n      <th>19</th>\n      <td>2020-06-02</td>\n      <td>AAPL</td>\n      <td>80.187500</td>\n      <td>80.834999</td>\n      <td>87642800</td>\n      <td>MoneyGram Shares Jump 50% As Western Union Rep...</td>\n      <td>1</td>\n    </tr>\n  </tbody>\n</table>\n</div>"
     },
     "execution_count": 15,
     "metadata": {},
     "output_type": "execute_result"
    }
   ],
   "source": [
    "merged_apple = merge_fin_news(aapl_fin, apple_headlines)\n",
    "merged_apple"
   ]
  },
  {
   "cell_type": "markdown",
   "id": "a128b68a-fd56-4992-9b26-74e92d42776b",
   "metadata": {},
   "source": [
    "#### Initialize transformer model for sentiment analysis"
   ]
  },
  {
   "cell_type": "code",
   "execution_count": 25,
   "id": "7c871bbe-25ad-453c-84a3-5cd9dacd7e2a",
   "metadata": {},
   "outputs": [
    {
     "name": "stdout",
     "output_type": "stream",
     "text": [
      "Requirement already satisfied: transformers in c:\\users\\user\\anaconda3\\lib\\site-packages (4.17.0)\n",
      "Requirement already satisfied: packaging>=20.0 in c:\\users\\user\\anaconda3\\lib\\site-packages (from transformers) (20.9)\n",
      "Requirement already satisfied: huggingface-hub<1.0,>=0.1.0 in c:\\users\\user\\anaconda3\\lib\\site-packages (from transformers) (0.4.0)\n",
      "Requirement already satisfied: regex!=2019.12.17 in c:\\users\\user\\anaconda3\\lib\\site-packages (from transformers) (2021.4.4)\n",
      "Requirement already satisfied: sacremoses in c:\\users\\user\\anaconda3\\lib\\site-packages (from transformers) (0.0.47)\n",
      "Requirement already satisfied: tokenizers!=0.11.3,>=0.11.1 in c:\\users\\user\\anaconda3\\lib\\site-packages (from transformers) (0.11.6)\n",
      "Requirement already satisfied: requests in c:\\users\\user\\anaconda3\\lib\\site-packages (from transformers) (2.27.1)\n",
      "Requirement already satisfied: numpy>=1.17 in c:\\users\\user\\anaconda3\\lib\\site-packages (from transformers) (1.21.4)\n",
      "Requirement already satisfied: filelock in c:\\users\\user\\anaconda3\\lib\\site-packages (from transformers) (3.0.12)\n",
      "Requirement already satisfied: pyyaml>=5.1 in c:\\users\\user\\anaconda3\\lib\\site-packages (from transformers) (5.4.1)\n",
      "Requirement already satisfied: tqdm>=4.27 in c:\\users\\user\\anaconda3\\lib\\site-packages (from transformers) (4.59.0)\n",
      "Requirement already satisfied: typing-extensions>=3.7.4.3 in c:\\users\\user\\anaconda3\\lib\\site-packages (from huggingface-hub<1.0,>=0.1.0->transformers) (3.7.4.3)\n",
      "Requirement already satisfied: pyparsing>=2.0.2 in c:\\users\\user\\anaconda3\\lib\\site-packages (from packaging>=20.0->transformers) (2.4.7)\n",
      "Requirement already satisfied: charset-normalizer~=2.0.0 in c:\\users\\user\\anaconda3\\lib\\site-packages (from requests->transformers) (2.0.12)\n",
      "Requirement already satisfied: certifi>=2017.4.17 in c:\\users\\user\\anaconda3\\lib\\site-packages (from requests->transformers) (2020.12.5)\n",
      "Requirement already satisfied: urllib3<1.27,>=1.21.1 in c:\\users\\user\\anaconda3\\lib\\site-packages (from requests->transformers) (1.26.4)\n",
      "Requirement already satisfied: idna<4,>=2.5 in c:\\users\\user\\anaconda3\\lib\\site-packages (from requests->transformers) (2.10)\n",
      "Requirement already satisfied: six in c:\\users\\user\\anaconda3\\lib\\site-packages (from sacremoses->transformers) (1.15.0)\n",
      "Requirement already satisfied: click in c:\\users\\user\\anaconda3\\lib\\site-packages (from sacremoses->transformers) (7.1.2)\n",
      "Requirement already satisfied: joblib in c:\\users\\user\\anaconda3\\lib\\site-packages (from sacremoses->transformers) (1.0.1)\n"
     ]
    }
   ],
   "source": [
    "#!pip install transformers\n",
    "from transformers import AutoTokenizer, AutoModelForSequenceClassification\n",
    "\n",
    "tokenizer = AutoTokenizer.from_pretrained(\"ProsusAI/finbert\")\n",
    "\n",
    "model = AutoModelForSequenceClassification.from_pretrained(\"ProsusAI/finbert\")"
   ]
  },
  {
   "cell_type": "markdown",
   "id": "503fc32b-ed70-4638-b13e-249b10dc6aa5",
   "metadata": {},
   "source": [
    "### Conduct the sentiment analysis (transformer inference) on the merged dataframe and get the sentiment scores. (Feature Engineering)"
   ]
  },
  {
   "cell_type": "code",
   "execution_count": 26,
   "id": "22ada378-a821-4f46-8b4d-a252a3dfd97e",
   "metadata": {},
   "outputs": [
    {
     "data": {
      "text/plain": "          date stock       Open      Close     Volume  \\\n0   2020-05-27  AAPL  79.035004  79.527496  112945200   \n1   2020-05-28  AAPL  79.192497  79.562500  133560800   \n2   2020-05-28  AAPL  79.192497  79.562500  133560800   \n3   2020-05-28  AAPL  79.192497  79.562500  133560800   \n4   2020-05-28  AAPL  79.192497  79.562500  133560800   \n5   2020-05-28  AAPL  79.192497  79.562500  133560800   \n6   2020-05-28  AAPL  79.192497  79.562500  133560800   \n7   2020-05-28  AAPL  79.192497  79.562500  133560800   \n8   2020-05-28  AAPL  79.192497  79.562500  133560800   \n9   2020-05-29  AAPL  79.812500  79.485001  153532400   \n10  2020-05-29  AAPL  79.812500  79.485001  153532400   \n11  2020-05-29  AAPL  79.812500  79.485001  153532400   \n12  2020-05-29  AAPL  79.812500  79.485001  153532400   \n13  2020-05-29  AAPL  79.812500  79.485001  153532400   \n14  2020-06-01  AAPL  79.437500  80.462502   80791200   \n15  2020-06-01  AAPL  79.437500  80.462502   80791200   \n16  2020-06-01  AAPL  79.437500  80.462502   80791200   \n17  2020-06-02  AAPL  80.187500  80.834999   87642800   \n18  2020-06-02  AAPL  80.187500  80.834999   87642800   \n19  2020-06-02  AAPL  80.187500  80.834999   87642800   \n\n                                             headline  Positive  Negative  \\\n0            The Topsy-Turvy S&P 500 Earnings Picture  0.093772  0.389471   \n1   The Momentum Trade Driving Stocks Higher May B...  0.454190  0.310930   \n2   Tweedy Browne's —…—… Annual Letter to Sharehol...  0.124023  0.033853   \n3   Kroger: Capital Preservation and More at a Goo...  0.784677  0.008240   \n4   Tredje AP-fonden Buys Microsoft Corp, Amazon.c...  0.088424  0.011014   \n5   The Zacks Analyst Blog Highlights: Apple, Exxo...  0.028047  0.029387   \n6   Growth Stocks for 2020: Trading Tech Stocks + ...  0.040885  0.019898   \n7   Stocks Are Struggling To Post Gains On May 28 ...  0.012209  0.970809   \n8   Swiss National Bank Ready To Buy Much More Tec...  0.671759  0.180035   \n9   DXC Technology (DXC) Q4 Earnings Top Estimates...  0.045347  0.035089   \n10  Marvell's (MRVL) Q1 Earnings & Revenues Surpas...  0.878711  0.096906   \n11  Dolby (DLB) Rolls Out Interactive Platform for...  0.209822  0.007250   \n12  Remote Working Boosts Peripherals, PC Sales: 4...  0.818422  0.022066   \n13  4 Stocks to Watch as Dow Breezes Past 25,000 P...  0.117880  0.022578   \n14                      All Eyes on Market Volatility  0.028827  0.051088   \n15  Warren Buffett's Berkshire Hathaway Turns Up S...  0.062789  0.011781   \n16                                         COVID 2.0?  0.052309  0.047914   \n17                                       American Pie  0.057810  0.026715   \n18          Tech Giants Dare Antitrust Deal Watchdogs  0.031234  0.083182   \n19  MoneyGram Shares Jump 50% As Western Union Rep...  0.869751  0.042584   \n\n     Neutral  Price_change  \n0   0.516757             1  \n1   0.234880             0  \n2   0.842124             0  \n3   0.207083             0  \n4   0.900561             0  \n5   0.942566             0  \n6   0.939216             0  \n7   0.016982             0  \n8   0.148206             0  \n9   0.919563             0  \n10  0.024383             0  \n11  0.782928             0  \n12  0.159512             0  \n13  0.859542             0  \n14  0.920084             1  \n15  0.925430             1  \n16  0.899777             1  \n17  0.915474             1  \n18  0.885585             1  \n19  0.087665             1  ",
      "text/html": "<div>\n<style scoped>\n    .dataframe tbody tr th:only-of-type {\n        vertical-align: middle;\n    }\n\n    .dataframe tbody tr th {\n        vertical-align: top;\n    }\n\n    .dataframe thead th {\n        text-align: right;\n    }\n</style>\n<table border=\"1\" class=\"dataframe\">\n  <thead>\n    <tr style=\"text-align: right;\">\n      <th></th>\n      <th>date</th>\n      <th>stock</th>\n      <th>Open</th>\n      <th>Close</th>\n      <th>Volume</th>\n      <th>headline</th>\n      <th>Positive</th>\n      <th>Negative</th>\n      <th>Neutral</th>\n      <th>Price_change</th>\n    </tr>\n  </thead>\n  <tbody>\n    <tr>\n      <th>0</th>\n      <td>2020-05-27</td>\n      <td>AAPL</td>\n      <td>79.035004</td>\n      <td>79.527496</td>\n      <td>112945200</td>\n      <td>The Topsy-Turvy S&amp;P 500 Earnings Picture</td>\n      <td>0.093772</td>\n      <td>0.389471</td>\n      <td>0.516757</td>\n      <td>1</td>\n    </tr>\n    <tr>\n      <th>1</th>\n      <td>2020-05-28</td>\n      <td>AAPL</td>\n      <td>79.192497</td>\n      <td>79.562500</td>\n      <td>133560800</td>\n      <td>The Momentum Trade Driving Stocks Higher May B...</td>\n      <td>0.454190</td>\n      <td>0.310930</td>\n      <td>0.234880</td>\n      <td>0</td>\n    </tr>\n    <tr>\n      <th>2</th>\n      <td>2020-05-28</td>\n      <td>AAPL</td>\n      <td>79.192497</td>\n      <td>79.562500</td>\n      <td>133560800</td>\n      <td>Tweedy Browne's —…—… Annual Letter to Sharehol...</td>\n      <td>0.124023</td>\n      <td>0.033853</td>\n      <td>0.842124</td>\n      <td>0</td>\n    </tr>\n    <tr>\n      <th>3</th>\n      <td>2020-05-28</td>\n      <td>AAPL</td>\n      <td>79.192497</td>\n      <td>79.562500</td>\n      <td>133560800</td>\n      <td>Kroger: Capital Preservation and More at a Goo...</td>\n      <td>0.784677</td>\n      <td>0.008240</td>\n      <td>0.207083</td>\n      <td>0</td>\n    </tr>\n    <tr>\n      <th>4</th>\n      <td>2020-05-28</td>\n      <td>AAPL</td>\n      <td>79.192497</td>\n      <td>79.562500</td>\n      <td>133560800</td>\n      <td>Tredje AP-fonden Buys Microsoft Corp, Amazon.c...</td>\n      <td>0.088424</td>\n      <td>0.011014</td>\n      <td>0.900561</td>\n      <td>0</td>\n    </tr>\n    <tr>\n      <th>5</th>\n      <td>2020-05-28</td>\n      <td>AAPL</td>\n      <td>79.192497</td>\n      <td>79.562500</td>\n      <td>133560800</td>\n      <td>The Zacks Analyst Blog Highlights: Apple, Exxo...</td>\n      <td>0.028047</td>\n      <td>0.029387</td>\n      <td>0.942566</td>\n      <td>0</td>\n    </tr>\n    <tr>\n      <th>6</th>\n      <td>2020-05-28</td>\n      <td>AAPL</td>\n      <td>79.192497</td>\n      <td>79.562500</td>\n      <td>133560800</td>\n      <td>Growth Stocks for 2020: Trading Tech Stocks + ...</td>\n      <td>0.040885</td>\n      <td>0.019898</td>\n      <td>0.939216</td>\n      <td>0</td>\n    </tr>\n    <tr>\n      <th>7</th>\n      <td>2020-05-28</td>\n      <td>AAPL</td>\n      <td>79.192497</td>\n      <td>79.562500</td>\n      <td>133560800</td>\n      <td>Stocks Are Struggling To Post Gains On May 28 ...</td>\n      <td>0.012209</td>\n      <td>0.970809</td>\n      <td>0.016982</td>\n      <td>0</td>\n    </tr>\n    <tr>\n      <th>8</th>\n      <td>2020-05-28</td>\n      <td>AAPL</td>\n      <td>79.192497</td>\n      <td>79.562500</td>\n      <td>133560800</td>\n      <td>Swiss National Bank Ready To Buy Much More Tec...</td>\n      <td>0.671759</td>\n      <td>0.180035</td>\n      <td>0.148206</td>\n      <td>0</td>\n    </tr>\n    <tr>\n      <th>9</th>\n      <td>2020-05-29</td>\n      <td>AAPL</td>\n      <td>79.812500</td>\n      <td>79.485001</td>\n      <td>153532400</td>\n      <td>DXC Technology (DXC) Q4 Earnings Top Estimates...</td>\n      <td>0.045347</td>\n      <td>0.035089</td>\n      <td>0.919563</td>\n      <td>0</td>\n    </tr>\n    <tr>\n      <th>10</th>\n      <td>2020-05-29</td>\n      <td>AAPL</td>\n      <td>79.812500</td>\n      <td>79.485001</td>\n      <td>153532400</td>\n      <td>Marvell's (MRVL) Q1 Earnings &amp; Revenues Surpas...</td>\n      <td>0.878711</td>\n      <td>0.096906</td>\n      <td>0.024383</td>\n      <td>0</td>\n    </tr>\n    <tr>\n      <th>11</th>\n      <td>2020-05-29</td>\n      <td>AAPL</td>\n      <td>79.812500</td>\n      <td>79.485001</td>\n      <td>153532400</td>\n      <td>Dolby (DLB) Rolls Out Interactive Platform for...</td>\n      <td>0.209822</td>\n      <td>0.007250</td>\n      <td>0.782928</td>\n      <td>0</td>\n    </tr>\n    <tr>\n      <th>12</th>\n      <td>2020-05-29</td>\n      <td>AAPL</td>\n      <td>79.812500</td>\n      <td>79.485001</td>\n      <td>153532400</td>\n      <td>Remote Working Boosts Peripherals, PC Sales: 4...</td>\n      <td>0.818422</td>\n      <td>0.022066</td>\n      <td>0.159512</td>\n      <td>0</td>\n    </tr>\n    <tr>\n      <th>13</th>\n      <td>2020-05-29</td>\n      <td>AAPL</td>\n      <td>79.812500</td>\n      <td>79.485001</td>\n      <td>153532400</td>\n      <td>4 Stocks to Watch as Dow Breezes Past 25,000 P...</td>\n      <td>0.117880</td>\n      <td>0.022578</td>\n      <td>0.859542</td>\n      <td>0</td>\n    </tr>\n    <tr>\n      <th>14</th>\n      <td>2020-06-01</td>\n      <td>AAPL</td>\n      <td>79.437500</td>\n      <td>80.462502</td>\n      <td>80791200</td>\n      <td>All Eyes on Market Volatility</td>\n      <td>0.028827</td>\n      <td>0.051088</td>\n      <td>0.920084</td>\n      <td>1</td>\n    </tr>\n    <tr>\n      <th>15</th>\n      <td>2020-06-01</td>\n      <td>AAPL</td>\n      <td>79.437500</td>\n      <td>80.462502</td>\n      <td>80791200</td>\n      <td>Warren Buffett's Berkshire Hathaway Turns Up S...</td>\n      <td>0.062789</td>\n      <td>0.011781</td>\n      <td>0.925430</td>\n      <td>1</td>\n    </tr>\n    <tr>\n      <th>16</th>\n      <td>2020-06-01</td>\n      <td>AAPL</td>\n      <td>79.437500</td>\n      <td>80.462502</td>\n      <td>80791200</td>\n      <td>COVID 2.0?</td>\n      <td>0.052309</td>\n      <td>0.047914</td>\n      <td>0.899777</td>\n      <td>1</td>\n    </tr>\n    <tr>\n      <th>17</th>\n      <td>2020-06-02</td>\n      <td>AAPL</td>\n      <td>80.187500</td>\n      <td>80.834999</td>\n      <td>87642800</td>\n      <td>American Pie</td>\n      <td>0.057810</td>\n      <td>0.026715</td>\n      <td>0.915474</td>\n      <td>1</td>\n    </tr>\n    <tr>\n      <th>18</th>\n      <td>2020-06-02</td>\n      <td>AAPL</td>\n      <td>80.187500</td>\n      <td>80.834999</td>\n      <td>87642800</td>\n      <td>Tech Giants Dare Antitrust Deal Watchdogs</td>\n      <td>0.031234</td>\n      <td>0.083182</td>\n      <td>0.885585</td>\n      <td>1</td>\n    </tr>\n    <tr>\n      <th>19</th>\n      <td>2020-06-02</td>\n      <td>AAPL</td>\n      <td>80.187500</td>\n      <td>80.834999</td>\n      <td>87642800</td>\n      <td>MoneyGram Shares Jump 50% As Western Union Rep...</td>\n      <td>0.869751</td>\n      <td>0.042584</td>\n      <td>0.087665</td>\n      <td>1</td>\n    </tr>\n  </tbody>\n</table>\n</div>"
     },
     "execution_count": 26,
     "metadata": {},
     "output_type": "execute_result"
    }
   ],
   "source": [
    "train_apple_df = sentim_analyzer(merged_apple, tokenizer, model)\n",
    "train_apple_df"
   ]
  },
  {
   "cell_type": "code",
   "execution_count": 23,
   "outputs": [],
   "source": [
    "train_apple_df.to_csv('Financial_News/train_apple.csv')"
   ],
   "metadata": {
    "collapsed": false,
    "pycharm": {
     "name": "#%%\n"
    }
   }
  },
  {
   "cell_type": "code",
   "execution_count": 28,
   "outputs": [
    {
     "data": {
      "text/plain": "array(['2020-05-27', '2020-05-28', '2020-05-29', '2020-06-01',\n       '2020-06-02'], dtype=object)"
     },
     "execution_count": 28,
     "metadata": {},
     "output_type": "execute_result"
    }
   ],
   "source": [
    "train_apple_df['date'].unique()"
   ],
   "metadata": {
    "collapsed": false,
    "pycharm": {
     "name": "#%%\n"
    }
   }
  },
  {
   "cell_type": "code",
   "execution_count": null,
   "outputs": [],
   "source": [],
   "metadata": {
    "collapsed": false,
    "pycharm": {
     "name": "#%%\n"
    }
   }
  }
 ],
 "metadata": {
  "kernelspec": {
   "display_name": "Python 3 (ipykernel)",
   "language": "python",
   "name": "python3"
  },
  "language_info": {
   "codemirror_mode": {
    "name": "ipython",
    "version": 3
   },
   "file_extension": ".py",
   "mimetype": "text/x-python",
   "name": "python",
   "nbconvert_exporter": "python",
   "pygments_lexer": "ipython3",
   "version": "3.8.0"
  }
 },
 "nbformat": 4,
 "nbformat_minor": 5
}