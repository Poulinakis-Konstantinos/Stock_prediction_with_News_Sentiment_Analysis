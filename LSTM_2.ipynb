{
 "cells": [
  {
   "cell_type": "code",
   "execution_count": 1,
   "id": "e2ac9be8-1bd0-4a26-ba83-0c80622bf241",
   "metadata": {},
   "outputs": [],
   "source": [
    "import torch \n",
    "import numpy as np\n",
    "import pandas as pd \n",
    "import utilities\n",
    "from math import ceil\n",
    "import matplotlib.pyplot as plt\n",
    "\n",
    "import torch.nn as nn\n",
    "from torch.autograd import Variable"
   ]
  },
  {
   "cell_type": "code",
   "execution_count": 2,
   "id": "9b7d6b2a-36ad-400f-93a3-deed53181cfb",
   "metadata": {},
   "outputs": [
    {
     "name": "stdout",
     "output_type": "stream",
     "text": [
      "[*********************100%***********************]  1 of 1 completed\n",
      "NVDA financial dataframe dimensions  (2363, 6)\n",
      "Positive changes : 1228\n",
      "Negative changes : 1135\n",
      "No changes : 0\n"
     ]
    },
    {
     "data": {
      "text/html": [
       "<div>\n",
       "<style scoped>\n",
       "    .dataframe tbody tr th:only-of-type {\n",
       "        vertical-align: middle;\n",
       "    }\n",
       "\n",
       "    .dataframe tbody tr th {\n",
       "        vertical-align: top;\n",
       "    }\n",
       "\n",
       "    .dataframe thead th {\n",
       "        text-align: right;\n",
       "    }\n",
       "</style>\n",
       "<table border=\"1\" class=\"dataframe\">\n",
       "  <thead>\n",
       "    <tr style=\"text-align: right;\">\n",
       "      <th></th>\n",
       "      <th>Open</th>\n",
       "      <th>Close</th>\n",
       "      <th>Volume</th>\n",
       "      <th>Price_change</th>\n",
       "      <th>date</th>\n",
       "    </tr>\n",
       "    <tr>\n",
       "      <th>Date</th>\n",
       "      <th></th>\n",
       "      <th></th>\n",
       "      <th></th>\n",
       "      <th></th>\n",
       "      <th></th>\n",
       "    </tr>\n",
       "  </thead>\n",
       "  <tbody>\n",
       "    <tr>\n",
       "      <th>2011-01-31</th>\n",
       "      <td>5.950000</td>\n",
       "      <td>5.980000</td>\n",
       "      <td>75016000</td>\n",
       "      <td>1</td>\n",
       "      <td>0</td>\n",
       "    </tr>\n",
       "    <tr>\n",
       "      <th>2011-02-01</th>\n",
       "      <td>6.032500</td>\n",
       "      <td>6.117500</td>\n",
       "      <td>65410400</td>\n",
       "      <td>1</td>\n",
       "      <td>2011-02-01</td>\n",
       "    </tr>\n",
       "    <tr>\n",
       "      <th>2011-02-02</th>\n",
       "      <td>6.082500</td>\n",
       "      <td>6.395000</td>\n",
       "      <td>160661600</td>\n",
       "      <td>1</td>\n",
       "      <td>2011-02-02</td>\n",
       "    </tr>\n",
       "    <tr>\n",
       "      <th>2011-02-03</th>\n",
       "      <td>6.405000</td>\n",
       "      <td>6.275000</td>\n",
       "      <td>103077600</td>\n",
       "      <td>-1</td>\n",
       "      <td>2011-02-03</td>\n",
       "    </tr>\n",
       "    <tr>\n",
       "      <th>2011-02-04</th>\n",
       "      <td>6.362500</td>\n",
       "      <td>6.417500</td>\n",
       "      <td>87290000</td>\n",
       "      <td>1</td>\n",
       "      <td>2011-02-04</td>\n",
       "    </tr>\n",
       "    <tr>\n",
       "      <th>...</th>\n",
       "      <td>...</td>\n",
       "      <td>...</td>\n",
       "      <td>...</td>\n",
       "      <td>...</td>\n",
       "      <td>...</td>\n",
       "    </tr>\n",
       "    <tr>\n",
       "      <th>2020-06-15</th>\n",
       "      <td>88.152496</td>\n",
       "      <td>91.737503</td>\n",
       "      <td>40000400</td>\n",
       "      <td>1</td>\n",
       "      <td>2020-06-15</td>\n",
       "    </tr>\n",
       "    <tr>\n",
       "      <th>2020-06-16</th>\n",
       "      <td>92.250000</td>\n",
       "      <td>90.684998</td>\n",
       "      <td>53571600</td>\n",
       "      <td>-1</td>\n",
       "      <td>2020-06-16</td>\n",
       "    </tr>\n",
       "    <tr>\n",
       "      <th>2020-06-17</th>\n",
       "      <td>91.137497</td>\n",
       "      <td>92.360001</td>\n",
       "      <td>40830400</td>\n",
       "      <td>1</td>\n",
       "      <td>2020-06-17</td>\n",
       "    </tr>\n",
       "    <tr>\n",
       "      <th>2020-06-18</th>\n",
       "      <td>92.269997</td>\n",
       "      <td>92.180000</td>\n",
       "      <td>25440800</td>\n",
       "      <td>-1</td>\n",
       "      <td>2020-06-18</td>\n",
       "    </tr>\n",
       "    <tr>\n",
       "      <th>2020-06-19</th>\n",
       "      <td>92.425003</td>\n",
       "      <td>92.612503</td>\n",
       "      <td>52416000</td>\n",
       "      <td>1</td>\n",
       "      <td>2020-06-19</td>\n",
       "    </tr>\n",
       "  </tbody>\n",
       "</table>\n",
       "<p>2363 rows × 5 columns</p>\n",
       "</div>"
      ],
      "text/plain": [
       "                 Open      Close     Volume  Price_change        date\n",
       "Date                                                                 \n",
       "2011-01-31   5.950000   5.980000   75016000             1           0\n",
       "2011-02-01   6.032500   6.117500   65410400             1  2011-02-01\n",
       "2011-02-02   6.082500   6.395000  160661600             1  2011-02-02\n",
       "2011-02-03   6.405000   6.275000  103077600            -1  2011-02-03\n",
       "2011-02-04   6.362500   6.417500   87290000             1  2011-02-04\n",
       "...               ...        ...        ...           ...         ...\n",
       "2020-06-15  88.152496  91.737503   40000400             1  2020-06-15\n",
       "2020-06-16  92.250000  90.684998   53571600            -1  2020-06-16\n",
       "2020-06-17  91.137497  92.360001   40830400             1  2020-06-17\n",
       "2020-06-18  92.269997  92.180000   25440800            -1  2020-06-18\n",
       "2020-06-19  92.425003  92.612503   52416000             1  2020-06-19\n",
       "\n",
       "[2363 rows x 5 columns]"
      ]
     },
     "execution_count": 2,
     "metadata": {},
     "output_type": "execute_result"
    }
   ],
   "source": [
    "fin_df = utilities.financial_dataset(stock='NVDA', num_of_labels=2, start_date='2011-02-01', end_date='2020-06-20')\n",
    "fin_df"
   ]
  },
  {
   "cell_type": "markdown",
   "id": "f695e3e3-c210-4453-89cc-da26dc4d59bb",
   "metadata": {},
   "source": [
    "### Pre-process dataset\n",
    "Create small time series of 30 days. So for every 30 days' close prices $X_{it}$ we have a label price $y_t$ which is the closing price of 31st day."
   ]
  },
  {
   "cell_type": "code",
   "execution_count": 3,
   "id": "1454987e-3b64-4407-b248-6fa6efcbeb1c",
   "metadata": {},
   "outputs": [
    {
     "name": "stdout",
     "output_type": "stream",
     "text": [
      "X shape : (2303, 60)\n",
      "y shape : (2303, 1)\n"
     ]
    }
   ],
   "source": [
    "seq_len = 60\n",
    "# start creating sequences only after the first seq_len elements have passed \n",
    "X = np.zeros((fin_df.shape[0] - seq_len, seq_len))\n",
    "y = np.zeros((fin_df.shape[0] - seq_len, 1))\n",
    "print(\"X shape :\",X.shape)\n",
    "print(\"y shape :\",y.shape)"
   ]
  },
  {
   "cell_type": "code",
   "execution_count": 4,
   "id": "80f96ff3-d6ce-4f31-98c3-3f4a4f459c64",
   "metadata": {},
   "outputs": [],
   "source": [
    "for i in range(seq_len , X.shape[0] + seq_len) :\n",
    "    prev_elems = fin_df.iloc[i-seq_len : i]['Close']\n",
    "    # only the desired values\n",
    "    prev_elems = [ prev_elems[p] for p in range(len(prev_elems))]\n",
    "    prev_elems = np.array(prev_elems)\n",
    "    # Store previous 30 days close price\n",
    "    X[i-seq_len] = prev_elems\n",
    "    # Store label, close price of day 31 \n",
    "    y[i-seq_len] = fin_df.iloc[i]['Close']"
   ]
  },
  {
   "cell_type": "markdown",
   "id": "1b6028fd-f0e6-4367-ad90-fa41c5628569",
   "metadata": {},
   "source": [
    "### Normalise dataset and split into train-test.\n",
    "Min - Max scaling "
   ]
  },
  {
   "cell_type": "code",
   "execution_count": 5,
   "id": "d5b757fa-7a05-4059-a1bd-b7ca466b3371",
   "metadata": {},
   "outputs": [],
   "source": [
    "# transform features with standard scaler, and output values (close prices) to [0,1] with minmax scaler\n",
    "from sklearn.preprocessing import StandardScaler, MinMaxScaler\n",
    "mm = MinMaxScaler()\n",
    "#ss = StandardScaler()\n",
    "\n",
    "X_mm = mm.fit_transform(X)\n",
    "y_mm = mm.fit_transform(np.array(y).reshape(-1, 1))"
   ]
  },
  {
   "cell_type": "markdown",
   "id": "b20b2012-ba8e-496a-bdff-0f31cdc14581",
   "metadata": {},
   "source": [
    "Data splitting into train, test . "
   ]
  },
  {
   "cell_type": "code",
   "execution_count": 6,
   "id": "15e6cb8b-7e18-42c5-8232-bc16ee8fad0e",
   "metadata": {},
   "outputs": [
    {
     "name": "stdout",
     "output_type": "stream",
     "text": [
      "Train data shapes X:(1728, 60) , y:(1728, 1)\n",
      "Train data shapes X:(575, 60) , y:(575, 1)\n"
     ]
    }
   ],
   "source": [
    "# fraction of the test set.\n",
    "percentage = 0.25\n",
    "split = ceil(X_mm.shape[0] *(1-percentage))\n",
    "X_train = X_mm[0:split]\n",
    "y_train = y_mm[0:split]\n",
    "X_test= X_mm[split:]\n",
    "y_test= y_mm[split:]\n",
    "print(f\"Train data shapes X:{X_train.shape} , y:{y_train.shape}\")\n",
    "print(f\"Train data shapes X:{X_test.shape} , y:{y_test.shape}\")"
   ]
  },
  {
   "cell_type": "markdown",
   "id": "2a1c1ec1-483a-4bac-90b3-d830f82df9f8",
   "metadata": {},
   "source": [
    "### Convert np.arrays into tensors and reshape in the format expected by the LSTM ."
   ]
  },
  {
   "cell_type": "code",
   "execution_count": 7,
   "id": "45162513-83b9-4740-935d-2ec67a511b2b",
   "metadata": {},
   "outputs": [],
   "source": [
    "X_tensors = Variable(torch.Tensor(X_mm))\n",
    "y_tensors = Variable(torch.Tensor(y_mm))\n",
    "#reshaping to rows, timestamps, features\n",
    "X_tensors = torch.reshape(X_tensors,   (X_tensors.shape[0], 1, X_tensors.shape[1]))\n",
    "y_tensors = torch.reshape(y_tensors,  (y_tensors.shape[0], 1, y_tensors.shape[1]))\n"
   ]
  },
  {
   "cell_type": "code",
   "execution_count": 8,
   "id": "43e1b00c-79d6-455e-9dd6-5ecd7841ff8d",
   "metadata": {},
   "outputs": [],
   "source": [
    "X_train_tensors = Variable(torch.Tensor(X_train))\n",
    "X_test_tensors = Variable(torch.Tensor(X_test))\n",
    "\n",
    "y_train_tensors = Variable(torch.Tensor(y_train))\n",
    "y_test_tensors = Variable(torch.Tensor(y_test))"
   ]
  },
  {
   "cell_type": "code",
   "execution_count": 9,
   "id": "4663ec62-d1c7-4e9a-9757-e1a9614adab6",
   "metadata": {},
   "outputs": [
    {
     "name": "stdout",
     "output_type": "stream",
     "text": [
      "Training Shape torch.Size([1728, 1, 60]) torch.Size([1728, 1])\n",
      "Testing Shape torch.Size([575, 1, 60]) torch.Size([575, 1])\n"
     ]
    }
   ],
   "source": [
    "#reshaping to rows, timestamps, features\n",
    "X_train_tensors_final = torch.reshape(X_train_tensors,   (X_train_tensors.shape[0], 1, X_train_tensors.shape[1]))\n",
    "X_test_tensors_final = torch.reshape(X_test_tensors,  (X_test_tensors.shape[0], 1, X_test_tensors.shape[1]))\n",
    "\n",
    "print(\"Training Shape\", X_train_tensors_final.shape, y_train_tensors.shape)\n",
    "print(\"Testing Shape\", X_test_tensors_final.shape, y_test_tensors.shape)"
   ]
  },
  {
   "cell_type": "markdown",
   "id": "174534bd-ae0f-465e-9910-9cbd30f5cbde",
   "metadata": {},
   "source": [
    "### Define LSTM structure .\n",
    "The LSTM will execute regression, so MSE loss is need during training. "
   ]
  },
  {
   "cell_type": "code",
   "execution_count": 10,
   "id": "cb7f6ecc-b7c5-4453-b0bb-abb7f5796182",
   "metadata": {},
   "outputs": [],
   "source": [
    "class LSTM1(nn.Module):\n",
    "    def __init__(self, num_classes, input_size, hidden_size, num_layers, seq_length):\n",
    "        super(LSTM1, self).__init__()\n",
    "        self.num_classes = num_classes #number of classes\n",
    "        self.num_layers = num_layers #number of layers\n",
    "        self.input_size = input_size #input size\n",
    "        self.hidden_size = hidden_size #hidden state\n",
    "        self.seq_length = seq_length #sequence length\n",
    "\n",
    "        self.lstm = nn.LSTM(input_size=input_size, hidden_size=hidden_size,\n",
    "                          num_layers=num_layers, batch_first=True) #lstm\n",
    "        \n",
    "        self.fc_1 =  nn.Linear(hidden_size, 128) #fully connected 1\n",
    "        self.fc = nn.Linear(128, num_classes) #fully connected last layer\n",
    "\n",
    "        self.relu = nn.ReLU()\n",
    "\n",
    "    def forward(self,x):\n",
    "        h_0 = Variable(torch.zeros(self.num_layers, x.size(0), self.hidden_size)) #hidden state\n",
    "        c_0 = Variable(torch.zeros(self.num_layers, x.size(0), self.hidden_size)) #internal state\n",
    "        # Propagate input through LSTM\n",
    "        output, (hn, cn) = self.lstm(x, (h_0, c_0)) #lstm with input, hidden, and internal state\n",
    "        hn = hn.view(-1, self.hidden_size) #reshaping the data for Dense layer next\n",
    "        out = self.relu(hn)\n",
    "        out = self.fc_1(out) #first Dense\n",
    "        out = self.relu(out) #relu\n",
    "        out = self.fc(out) #Final Output\n",
    "        return out"
   ]
  },
  {
   "cell_type": "code",
   "execution_count": 11,
   "id": "63885946-a6cd-46b0-94a2-8c46cf399113",
   "metadata": {},
   "outputs": [],
   "source": [
    "#hyperparameters\n",
    "num_epochs = 1000 #1000 epochs\n",
    "learning_rate = 0.001 #0.001 lr\n",
    "\n",
    "input_size = seq_len #number of features\n",
    "hidden_size = 30 #number of features in hidden state\n",
    "num_layers = 1 #number of stacked lstm layers\n",
    "\n",
    "num_classes = 1 #number of output classes\n",
    "\n",
    "lstm1 = LSTM1(num_classes, input_size, hidden_size, num_layers, X_train_tensors_final.shape[1]) #our lstm class\n",
    "\n",
    "criterion = torch.nn.MSELoss()    # mean-squared error for regression\n",
    "optimizer = torch.optim.Adam(lstm1.parameters(), lr=learning_rate)"
   ]
  },
  {
   "cell_type": "markdown",
   "id": "9192aa7f-7b4b-4a1c-925c-c18816d74884",
   "metadata": {},
   "source": [
    "#### Training loop"
   ]
  },
  {
   "cell_type": "code",
   "execution_count": 12,
   "id": "17dc13a0-5b27-4e83-813c-43be5742562c",
   "metadata": {},
   "outputs": [
    {
     "name": "stdout",
     "output_type": "stream",
     "text": [
      "Epoch: 0, loss: 0.05053\n",
      "Epoch: 100, loss: 0.00033\n",
      "Epoch: 200, loss: 0.00023\n",
      "Epoch: 300, loss: 0.00009\n",
      "Epoch: 400, loss: 0.00006\n",
      "Epoch: 500, loss: 0.00005\n",
      "Epoch: 600, loss: 0.00005\n",
      "Epoch: 700, loss: 0.00004\n",
      "Epoch: 800, loss: 0.00004\n",
      "Epoch: 900, loss: 0.00004\n"
     ]
    }
   ],
   "source": [
    "for epoch in range(num_epochs):\n",
    "  outputs = lstm1.forward(X_train_tensors_final) #forward pass\n",
    "  optimizer.zero_grad() #caluclate the gradient, manually setting to 0\n",
    "\n",
    "  # obtain the loss function\n",
    "  loss = criterion(outputs, y_train_tensors)\n",
    "\n",
    "  loss.backward() #calculates the loss of the loss function\n",
    "\n",
    "  optimizer.step() #improve from loss, i.e backprop\n",
    "  if epoch % 100 == 0:\n",
    "    print(\"Epoch: %d, loss: %1.5f\" % (epoch, loss.item()))"
   ]
  },
  {
   "cell_type": "markdown",
   "id": "439e0d32-32e5-4e17-8f4b-2d6959a5965e",
   "metadata": {},
   "source": [
    "### Predicting with the LSTM"
   ]
  },
  {
   "cell_type": "code",
   "execution_count": 13,
   "id": "05a40264-7566-4667-bcb8-5b26a5a0ab12",
   "metadata": {},
   "outputs": [
    {
     "data": {
      "image/png": "[encoded data removed]",
      "text/plain": [
       "<Figure size 1152x576 with 1 Axes>"
      ]
     },
     "metadata": {
      "needs_background": "light"
     },
     "output_type": "display_data"
    }
   ],
   "source": [
    "train_predict = lstm1(X_tensors) #forward pass\n",
    "data_predict = train_predict.data.numpy() #numpy conversion\n",
    "dataY_plot = y_tensors.data.numpy()\n",
    "dataY_plot =  np.reshape(dataY_plot, (dataY_plot.shape[0],1))\n",
    "\n",
    "data_predict = mm.inverse_transform(data_predict) #reverse transformation\n",
    "dataY_plot = mm.inverse_transform(dataY_plot)\n",
    "\n",
    "plt.figure(figsize=(16,8)) #plotting\n",
    "plt.axvline(x=split, c='r', linestyle='--') #size of the training set\n",
    "\n",
    "plt.plot(dataY_plot, label='Actual Data') #actual plot\n",
    "plt.plot(data_predict, label='Predicted Data') #predicted plot\n",
    "plt.title('Time-Series Prediction')\n",
    "plt.legend()\n",
    "plt.show()"
   ]
  },
  {
   "cell_type": "markdown",
   "id": "70a8ad43-8e1b-4cf7-84ec-7f20558a508c",
   "metadata": {},
   "source": [
    "### Evaluation of regression predictions with MSE and Spearman Correlation. "
   ]
  },
  {
   "cell_type": "code",
   "execution_count": 14,
   "id": "17c2424d-49b7-4a1f-a653-7394f60b3719",
   "metadata": {},
   "outputs": [
    {
     "name": "stdout",
     "output_type": "stream",
     "text": [
      "TEST DATA, MSE loss :  12.195044\n"
     ]
    }
   ],
   "source": [
    "#from sklearn.metric import mean_squared_error\n",
    "mse = (np.power(dataY_plot[split:] - data_predict[split:], 2).mean())\n",
    "print(\"TEST DATA, MSE loss : \", mse)"
   ]
  },
  {
   "cell_type": "code",
   "execution_count": 15,
   "id": "a87d7e87-3f97-4a15-a43b-452734ae7d19",
   "metadata": {},
   "outputs": [
    {
     "name": "stdout",
     "output_type": "stream",
     "text": [
      "TRAIN DATA , MSE loss :  0.2857101\n"
     ]
    }
   ],
   "source": [
    "#from sklearn.metric import mean_squared_error\n",
    "mse = (np.power(dataY_plot[:split] - data_predict[:split], 2).mean())\n",
    "print(\"TRAIN DATA , MSE loss : \", mse)"
   ]
  },
  {
   "cell_type": "code",
   "execution_count": 16,
   "id": "aafc32b8-2f1e-40fb-89d4-9ac5c7a4a100",
   "metadata": {},
   "outputs": [
    {
     "name": "stdout",
     "output_type": "stream",
     "text": [
      "TEST DATA,  Spreaman correlation :  SpearmanrResult(correlation=0.9772749505216329, pvalue=0.0)\n",
      "TRAIN DATA , Spreaman correlation :  SpearmanrResult(correlation=0.9935734782721941, pvalue=0.0)\n"
     ]
    }
   ],
   "source": [
    "from scipy.stats import spearmanr\n",
    "#from sklearn.metric import mean_squared_error\n",
    "spearman = spearmanr(dataY_plot[split:],data_predict[split:])\n",
    "print(\"TEST DATA,  Spreaman correlation : \", spearman)\n",
    "\n",
    "#from sklearn.metric import mean_squared_error\n",
    "spearman = spearmanr(dataY_plot[:split],data_predict[:split])\n",
    "print(\"TRAIN DATA , Spreaman correlation : \", spearman)"
   ]
  },
  {
   "cell_type": "markdown",
   "id": "59a28455-831a-4ce4-903f-0fa428a2cece",
   "metadata": {},
   "source": [
    "# 2.) Classification of price movement with LSTM "
   ]
  },
  {
   "cell_type": "markdown",
   "id": "06240b1e-b35c-4402-b874-3931e07a6f5c",
   "metadata": {},
   "source": [
    "## Pre-process dataset\n"
   ]
  },
  {
   "cell_type": "markdown",
   "id": "dbb0fe98-2542-4a59-b3a1-19eb7cb2b23a",
   "metadata": {},
   "source": [
    "### Price_change is the class . 0: decrease , +1 : increase"
   ]
  },
  {
   "cell_type": "code",
   "execution_count": 17,
   "id": "980d6379-227e-4d87-9333-70df6476f2d6",
   "metadata": {},
   "outputs": [
    {
     "data": {
      "text/html": [
       "<div>\n",
       "<style scoped>\n",
       "    .dataframe tbody tr th:only-of-type {\n",
       "        vertical-align: middle;\n",
       "    }\n",
       "\n",
       "    .dataframe tbody tr th {\n",
       "        vertical-align: top;\n",
       "    }\n",
       "\n",
       "    .dataframe thead th {\n",
       "        text-align: right;\n",
       "    }\n",
       "</style>\n",
       "<table border=\"1\" class=\"dataframe\">\n",
       "  <thead>\n",
       "    <tr style=\"text-align: right;\">\n",
       "      <th></th>\n",
       "      <th>Open</th>\n",
       "      <th>Close</th>\n",
       "      <th>Volume</th>\n",
       "      <th>Price_change</th>\n",
       "      <th>date</th>\n",
       "    </tr>\n",
       "    <tr>\n",
       "      <th>Date</th>\n",
       "      <th></th>\n",
       "      <th></th>\n",
       "      <th></th>\n",
       "      <th></th>\n",
       "      <th></th>\n",
       "    </tr>\n",
       "  </thead>\n",
       "  <tbody>\n",
       "    <tr>\n",
       "      <th>2011-01-31</th>\n",
       "      <td>5.950000</td>\n",
       "      <td>5.980000</td>\n",
       "      <td>75016000</td>\n",
       "      <td>1</td>\n",
       "      <td>0</td>\n",
       "    </tr>\n",
       "    <tr>\n",
       "      <th>2011-02-01</th>\n",
       "      <td>6.032500</td>\n",
       "      <td>6.117500</td>\n",
       "      <td>65410400</td>\n",
       "      <td>1</td>\n",
       "      <td>2011-02-01</td>\n",
       "    </tr>\n",
       "    <tr>\n",
       "      <th>2011-02-02</th>\n",
       "      <td>6.082500</td>\n",
       "      <td>6.395000</td>\n",
       "      <td>160661600</td>\n",
       "      <td>1</td>\n",
       "      <td>2011-02-02</td>\n",
       "    </tr>\n",
       "    <tr>\n",
       "      <th>2011-02-03</th>\n",
       "      <td>6.405000</td>\n",
       "      <td>6.275000</td>\n",
       "      <td>103077600</td>\n",
       "      <td>0</td>\n",
       "      <td>2011-02-03</td>\n",
       "    </tr>\n",
       "    <tr>\n",
       "      <th>2011-02-04</th>\n",
       "      <td>6.362500</td>\n",
       "      <td>6.417500</td>\n",
       "      <td>87290000</td>\n",
       "      <td>1</td>\n",
       "      <td>2011-02-04</td>\n",
       "    </tr>\n",
       "    <tr>\n",
       "      <th>...</th>\n",
       "      <td>...</td>\n",
       "      <td>...</td>\n",
       "      <td>...</td>\n",
       "      <td>...</td>\n",
       "      <td>...</td>\n",
       "    </tr>\n",
       "    <tr>\n",
       "      <th>2020-06-15</th>\n",
       "      <td>88.152496</td>\n",
       "      <td>91.737503</td>\n",
       "      <td>40000400</td>\n",
       "      <td>1</td>\n",
       "      <td>2020-06-15</td>\n",
       "    </tr>\n",
       "    <tr>\n",
       "      <th>2020-06-16</th>\n",
       "      <td>92.250000</td>\n",
       "      <td>90.684998</td>\n",
       "      <td>53571600</td>\n",
       "      <td>0</td>\n",
       "      <td>2020-06-16</td>\n",
       "    </tr>\n",
       "    <tr>\n",
       "      <th>2020-06-17</th>\n",
       "      <td>91.137497</td>\n",
       "      <td>92.360001</td>\n",
       "      <td>40830400</td>\n",
       "      <td>1</td>\n",
       "      <td>2020-06-17</td>\n",
       "    </tr>\n",
       "    <tr>\n",
       "      <th>2020-06-18</th>\n",
       "      <td>92.269997</td>\n",
       "      <td>92.180000</td>\n",
       "      <td>25440800</td>\n",
       "      <td>0</td>\n",
       "      <td>2020-06-18</td>\n",
       "    </tr>\n",
       "    <tr>\n",
       "      <th>2020-06-19</th>\n",
       "      <td>92.425003</td>\n",
       "      <td>92.612503</td>\n",
       "      <td>52416000</td>\n",
       "      <td>1</td>\n",
       "      <td>2020-06-19</td>\n",
       "    </tr>\n",
       "  </tbody>\n",
       "</table>\n",
       "<p>2363 rows × 5 columns</p>\n",
       "</div>"
      ],
      "text/plain": [
       "                 Open      Close     Volume  Price_change        date\n",
       "Date                                                                 \n",
       "2011-01-31   5.950000   5.980000   75016000             1           0\n",
       "2011-02-01   6.032500   6.117500   65410400             1  2011-02-01\n",
       "2011-02-02   6.082500   6.395000  160661600             1  2011-02-02\n",
       "2011-02-03   6.405000   6.275000  103077600             0  2011-02-03\n",
       "2011-02-04   6.362500   6.417500   87290000             1  2011-02-04\n",
       "...               ...        ...        ...           ...         ...\n",
       "2020-06-15  88.152496  91.737503   40000400             1  2020-06-15\n",
       "2020-06-16  92.250000  90.684998   53571600             0  2020-06-16\n",
       "2020-06-17  91.137497  92.360001   40830400             1  2020-06-17\n",
       "2020-06-18  92.269997  92.180000   25440800             0  2020-06-18\n",
       "2020-06-19  92.425003  92.612503   52416000             1  2020-06-19\n",
       "\n",
       "[2363 rows x 5 columns]"
      ]
     },
     "execution_count": 17,
     "metadata": {},
     "output_type": "execute_result"
    }
   ],
   "source": [
    "fin_df['Price_change'] = fin_df['Price_change'].apply(lambda x : x+1 if (x==-1) else x)\n",
    "fin_df"
   ]
  },
  {
   "cell_type": "markdown",
   "id": "040633c1-30a0-43ab-aafd-65c7dbae33b5",
   "metadata": {},
   "source": [
    "Create small time series of N days. So for every N days' close prices $X_{it}$ we have a label price $y_t$ which is the price movement compared to yesterday (increase or decrease in price)."
   ]
  },
  {
   "cell_type": "code",
   "execution_count": 18,
   "id": "c4fb4f64-2181-4ed8-9246-76f4cf0a79f7",
   "metadata": {},
   "outputs": [
    {
     "name": "stdout",
     "output_type": "stream",
     "text": [
      "X shape : (2333, 30)\n",
      "y shape : (2333, 1)\n"
     ]
    }
   ],
   "source": [
    "seq_len = 30\n",
    "# start creating sequences only after the first seq_len elements have passed \n",
    "X = np.zeros((fin_df.shape[0] - seq_len, seq_len))\n",
    "y = np.zeros((fin_df.shape[0] - seq_len, 1))\n",
    "print(\"X shape :\",X.shape)\n",
    "print(\"y shape :\",y.shape)"
   ]
  },
  {
   "cell_type": "code",
   "execution_count": 19,
   "id": "1d3c0386-8d41-4e61-b8df-0938650c1123",
   "metadata": {},
   "outputs": [],
   "source": [
    "for i in range(seq_len , X.shape[0] + seq_len) :\n",
    "    prev_elems = fin_df.iloc[i-seq_len : i]['Close']\n",
    "    # only the desired values\n",
    "    prev_elems = [ prev_elems[p] for p in range(len(prev_elems))]\n",
    "    prev_elems = np.array(prev_elems)\n",
    "    # Store previous seq_len  days close price\n",
    "    X[i-seq_len] = prev_elems\n",
    "    # Store label, close price of day 31 \n",
    "    y[i-seq_len] = fin_df.iloc[i]['Price_change']"
   ]
  },
  {
   "cell_type": "markdown",
   "id": "9f8c19bb-c51f-450c-8d9d-874e9d3dff2d",
   "metadata": {},
   "source": [
    "### Normalise dataset and split into train-test.\n",
    "#### Convert np.arrays into tensors and reshape in the format expected by the LSTM .\n",
    "Min - Max scaling "
   ]
  },
  {
   "cell_type": "code",
   "execution_count": 20,
   "id": "36806b98-9589-4ee0-9870-d95bdb09ece6",
   "metadata": {},
   "outputs": [
    {
     "name": "stdout",
     "output_type": "stream",
     "text": [
      "Train data shapes X:(1750, 30) , y:(1750, 1)\n",
      "Train data shapes X:(583, 30) , y:(583, 1)\n",
      "Training Shape torch.Size([1750, 1, 30]) torch.Size([1750, 1])\n",
      "Testing Shape torch.Size([583, 1, 30]) torch.Size([583, 1])\n"
     ]
    }
   ],
   "source": [
    "# transform features with standard scaler, and output values (close prices) to [0,1] with minmax scaler\n",
    "from sklearn.preprocessing import StandardScaler, MinMaxScaler\n",
    "mm = MinMaxScaler()\n",
    "#ss = StandardScaler()\n",
    "\n",
    "X_mm = mm.fit_transform(X)\n",
    "\n",
    "# fraction of the test set.\n",
    "percentage = 0.25\n",
    "split = ceil(X_mm.shape[0] *(1-percentage))\n",
    "X_train = X_mm[0:split]\n",
    "y_train = y[0:split]\n",
    "X_test= X_mm[split:]\n",
    "y_test= y[split:]\n",
    "print(f\"Train data shapes X:{X_train.shape} , y:{y_train.shape}\")\n",
    "print(f\"Train data shapes X:{X_test.shape} , y:{y_test.shape}\")\n",
    "\n",
    "### TO tensors \n",
    "###\n",
    "X_tensors = Variable(torch.Tensor(X_mm))\n",
    "y_tensors = Variable(torch.Tensor(y))\n",
    "#reshaping to rows, timestamps, features\n",
    "X_tensors = torch.reshape(X_tensors,   (X_tensors.shape[0], 1, X_tensors.shape[1]))\n",
    "y_tensors = torch.reshape(y_tensors,  (y_tensors.shape[0], 1, y_tensors.shape[1]))\n",
    "\n",
    "X_train_tensors = Variable(torch.Tensor(X_train))\n",
    "X_test_tensors = Variable(torch.Tensor(X_test))\n",
    "\n",
    "y_train_tensors = Variable(torch.Tensor(y_train))\n",
    "y_test_tensors = Variable(torch.Tensor(y_test))\n",
    "\n",
    "#reshaping to rows, timestamps, features\n",
    "X_train_tensors_final = torch.reshape(X_train_tensors,   (X_train_tensors.shape[0], 1, X_train_tensors.shape[1]))\n",
    "X_test_tensors_final = torch.reshape(X_test_tensors,  (X_test_tensors.shape[0], 1, X_test_tensors.shape[1]))\n",
    "\n",
    "print(\"Training Shape\", X_train_tensors_final.shape, y_train_tensors.shape)\n",
    "print(\"Testing Shape\", X_test_tensors_final.shape, y_test_tensors.shape)"
   ]
  },
  {
   "cell_type": "markdown",
   "id": "580ef0ca-e81b-466c-8648-c01a892d9085",
   "metadata": {},
   "source": [
    "### Define classification LSTM  : We need to add a sigmoid activation function at the end in order to get output in the $[0,1]$ range."
   ]
  },
  {
   "cell_type": "code",
   "execution_count": 21,
   "id": "fc166692-5b87-4ce2-9704-da1ac002123a",
   "metadata": {},
   "outputs": [],
   "source": [
    "class LSTM_clf(nn.Module):\n",
    "    def __init__(self, num_classes, input_size, hidden_size, num_layers, seq_length):\n",
    "        super(LSTM_clf, self).__init__()\n",
    "        self.num_classes = num_classes #number of classes\n",
    "        self.num_layers = num_layers #number of layers\n",
    "        self.input_size = input_size #input size\n",
    "        self.hidden_size = hidden_size #hidden state\n",
    "        self.seq_length = seq_length #sequence length\n",
    "\n",
    "        self.lstm = nn.LSTM(input_size=input_size, hidden_size=hidden_size,\n",
    "                          num_layers=num_layers, batch_first=True) #lstm\n",
    "        \n",
    "        self.fc_1 =  nn.Linear(hidden_size, 128) #fully connected 1\n",
    "        self.fc = nn.Linear(128, num_classes) #fully connected last layer\n",
    "\n",
    "        self.relu = nn.ReLU()\n",
    "        # sigmoid activation for end classification\n",
    "        self.sigm = nn.Sigmoid()\n",
    "\n",
    "    def forward(self,x):\n",
    "        h_0 = Variable(torch.zeros(self.num_layers, x.size(0), self.hidden_size)) #hidden state\n",
    "        c_0 = Variable(torch.zeros(self.num_layers, x.size(0), self.hidden_size)) #internal state\n",
    "        # Propagate input through LSTM\n",
    "        output, (hn, cn) = self.lstm(x, (h_0, c_0)) #lstm with input, hidden, and internal state\n",
    "        hn = hn.view(-1, self.hidden_size) #reshaping the data for Dense layer next\n",
    "        out = self.relu(hn)\n",
    "        out = self.fc_1(out) #first Dense\n",
    "        out = self.relu(out) #relu\n",
    "        out = self.fc(out) #Final Output\n",
    "        \n",
    "        out = self.sigm(out)\n",
    "        return out"
   ]
  },
  {
   "cell_type": "markdown",
   "id": "6350e093-e74b-4fc4-ae17-9041ae39dc5d",
   "metadata": {},
   "source": [
    "#### Training the LSTM . "
   ]
  },
  {
   "cell_type": "code",
   "execution_count": 22,
   "id": "db41f883-c641-4ba7-bdbb-32d3a3358061",
   "metadata": {},
   "outputs": [
    {
     "name": "stdout",
     "output_type": "stream",
     "text": [
      "Epoch: 0, loss: 0.25009\n"
     ]
    },
    {
     "name": "stderr",
     "output_type": "stream",
     "text": [
      "C:\\Users\\Konpoul\\miniconda3\\envs\\torch\\lib\\site-packages\\torch\\nn\\modules\\loss.py:520: UserWarning: Using a target size (torch.Size([1750, 1])) that is different to the input size (torch.Size([1750, 2])). This will likely lead to incorrect results due to broadcasting. Please ensure they have the same size.\n",
      "  return F.mse_loss(input, target, reduction=self.reduction)\n"
     ]
    },
    {
     "name": "stdout",
     "output_type": "stream",
     "text": [
      "Epoch: 100, loss: 0.24826\n",
      "Epoch: 200, loss: 0.24795\n",
      "Epoch: 300, loss: 0.24721\n",
      "Epoch: 400, loss: 0.24538\n",
      "Epoch: 500, loss: 0.24296\n",
      "Epoch: 600, loss: 0.24086\n",
      "Epoch: 700, loss: 0.23869\n",
      "Epoch: 800, loss: 0.23718\n",
      "Epoch: 900, loss: 0.23587\n",
      "Epoch: 1000, loss: 0.23485\n",
      "Epoch: 1100, loss: 0.23382\n",
      "Epoch: 1200, loss: 0.23315\n",
      "Epoch: 1300, loss: 0.23258\n",
      "Epoch: 1400, loss: 0.23183\n",
      "Epoch: 1500, loss: 0.23136\n",
      "Epoch: 1600, loss: 0.23089\n",
      "Epoch: 1700, loss: 0.23041\n",
      "Epoch: 1800, loss: 0.23003\n",
      "Epoch: 1900, loss: 0.22979\n",
      "Epoch: 2000, loss: 0.22924\n",
      "Epoch: 2100, loss: 0.22890\n",
      "Epoch: 2200, loss: 0.22847\n",
      "Epoch: 2300, loss: 0.22835\n",
      "Epoch: 2400, loss: 0.22804\n",
      "Epoch: 2500, loss: 0.22792\n",
      "Epoch: 2600, loss: 0.22722\n",
      "Epoch: 2700, loss: 0.22702\n",
      "Epoch: 2800, loss: 0.22683\n",
      "Epoch: 2900, loss: 0.22648\n",
      "Epoch: 3000, loss: 0.22615\n",
      "Epoch: 3100, loss: 0.22580\n",
      "Epoch: 3200, loss: 0.22574\n",
      "Epoch: 3300, loss: 0.22547\n",
      "Epoch: 3400, loss: 0.22505\n",
      "Epoch: 3500, loss: 0.22512\n",
      "Epoch: 3600, loss: 0.22481\n",
      "Epoch: 3700, loss: 0.22449\n",
      "Epoch: 3800, loss: 0.22435\n",
      "Epoch: 3900, loss: 0.22432\n",
      "Epoch: 4000, loss: 0.22388\n",
      "Epoch: 4100, loss: 0.22379\n",
      "Epoch: 4200, loss: 0.22380\n",
      "Epoch: 4300, loss: 0.22322\n",
      "Epoch: 4400, loss: 0.22311\n",
      "Epoch: 4500, loss: 0.22314\n",
      "Epoch: 4600, loss: 0.22311\n",
      "Epoch: 4700, loss: 0.22302\n",
      "Epoch: 4800, loss: 0.22241\n",
      "Epoch: 4900, loss: 0.22226\n"
     ]
    }
   ],
   "source": [
    "#hyperparameters\n",
    "num_epochs = 5000 #1000 epochs\n",
    "learning_rate = 0.001 #0.001 lr\n",
    "\n",
    "input_size = seq_len #number of features\n",
    "hidden_size = 60 #number of features in hidden state\n",
    "num_layers = 1 #number of stacked lstm layers\n",
    "\n",
    "num_classes = 2 #number of output classes\n",
    "\n",
    "lstm_clf = LSTM_clf(num_classes, input_size, hidden_size, num_layers, X_train_tensors_final.shape[1]) #our lstm class\n",
    "\n",
    "criterion = torch.nn.MSELoss()    # mean-squared error for regression\n",
    "optimizer = torch.optim.Adam(lstm_clf.parameters(), lr=learning_rate)\n",
    "\n",
    "#### TRAIN LOOP ######\n",
    "for epoch in range(num_epochs):\n",
    "  outputs = lstm_clf.forward(X_train_tensors_final) #forward pass\n",
    "  optimizer.zero_grad() #caluclate the gradient, manually setting to 0\n",
    "  # obtain the loss function\n",
    "  loss = criterion(outputs, y_train_tensors)\n",
    "\n",
    "  loss.backward() #calculates the loss of the loss function\n",
    "\n",
    "  optimizer.step() #improve from loss, i.e backprop\n",
    "  if epoch % 100 == 0:\n",
    "    print(\"Epoch: %d, loss: %1.5f\" % (epoch, loss.item()))"
   ]
  },
  {
   "cell_type": "markdown",
   "id": "027c1bd8-55e0-446f-bbba-315e6a29f0fc",
   "metadata": {},
   "source": [
    "### Prediction and evaluation of LSTM classifier ."
   ]
  },
  {
   "cell_type": "code",
   "execution_count": 23,
   "id": "e7993ee7-92a3-492f-af46-9db4c798b3fd",
   "metadata": {},
   "outputs": [],
   "source": [
    "train_predict = lstm_clf(X_tensors) #forward pass\n",
    "data_predict = train_predict.data.numpy() #numpy conversion\n",
    "predictions = np.argmax(data_predict, axis=1)"
   ]
  },
  {
   "cell_type": "code",
   "execution_count": 24,
   "id": "17de9984-adf3-4ebd-b35a-4aef6eec30e4",
   "metadata": {},
   "outputs": [
    {
     "name": "stdout",
     "output_type": "stream",
     "text": [
      "TRAIN DATA , accuracy :  0.553143\n",
      "TEST DATA, accuracy :  0.473413\n"
     ]
    }
   ],
   "source": [
    "from sklearn.metrics import accuracy_score\n",
    "\n",
    "#from sklearn.metric import mean_squared_error\n",
    "acc = accuracy_score(y[:split], predictions[:split])\n",
    "print(\"TRAIN DATA , accuracy : \", round(acc,6))\n",
    "\n",
    "acc = accuracy_score(y[split:], predictions[split:])\n",
    "print(\"TEST DATA, accuracy : \", round(acc,6))"
   ]
  },
  {
   "cell_type": "code",
   "execution_count": 25,
   "id": "605e96d3-9e14-4785-9074-74a3a653c02a",
   "metadata": {},
   "outputs": [
    {
     "data": {
      "image/png": "[encoded data removed]",
      "text/plain": [
       "<Figure size 432x288 with 2 Axes>"
      ]
     },
     "metadata": {
      "needs_background": "light"
     },
     "output_type": "display_data"
    }
   ],
   "source": [
    "from sklearn.metrics import confusion_matrix, ConfusionMatrixDisplay\n",
    "\n",
    "cm = confusion_matrix(y[split:], predictions[split:], labels=[0,1])\n",
    "disp = ConfusionMatrixDisplay(confusion_matrix=cm,\n",
    "                         display_labels=[0,1])\n",
    "disp.plot()\n",
    "plt.show()"
   ]
  }
 ],
 "metadata": {
  "kernelspec": {
   "display_name": "Python 3 (ipykernel)",
   "language": "python",
   "name": "python3"
  },
  "language_info": {
   "codemirror_mode": {
    "name": "ipython",
    "version": 3
   },
   "file_extension": ".py",
   "mimetype": "text/x-python",
   "name": "python",
   "nbconvert_exporter": "python",
   "pygments_lexer": "ipython3",
   "version": "3.8.0"
  }
 },
 "nbformat": 4,
 "nbformat_minor": 5
}
