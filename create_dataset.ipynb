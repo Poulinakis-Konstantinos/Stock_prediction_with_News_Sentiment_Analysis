{
 "cells": [
  {
   "cell_type": "markdown",
   "id": "32816955-0d51-4c99-873e-b8187b26780d",
   "metadata": {},
   "source": [
    "## Create a dataset out of multiple companies.\n",
    "The dataframe contains financial features as well as sentiment features for each company for certain dates. The csv produced by the notebook is later used to train a classifier."
   ]
  },
  {
   "cell_type": "code",
   "execution_count": 4,
   "id": "c78f4a8e-3f43-4466-9ccc-cf8a0676bfdc",
   "metadata": {},
   "outputs": [],
   "source": [
    "import pandas as pd \n",
    "from tqdm import tqdm\n",
    "# Our library\n",
    "from utilities import financial_dataset, read_news, merge_fin_news, sentim_analyzer, merge_dates"
   ]
  },
  {
   "cell_type": "markdown",
   "id": "f62ccdfb-1e78-4571-bd44-b27d2ff33e1c",
   "metadata": {},
   "source": [
    "### Initialize Transformer FinBERT for sentiment analysis."
   ]
  },
  {
   "cell_type": "code",
   "execution_count": 5,
   "id": "4dae8fe3-dc06-4cbd-ae8e-1f250721c4be",
   "metadata": {},
   "outputs": [],
   "source": [
    "#!pip install transformers\n",
    "from transformers import AutoTokenizer, AutoModelForSequenceClassification\n",
    "tokenizer = AutoTokenizer.from_pretrained(\"ProsusAI/finbert\")\n",
    "model = AutoModelForSequenceClassification.from_pretrained(\"ProsusAI/finbert\")"
   ]
  },
  {
   "cell_type": "markdown",
   "id": "2db3c07d-c2a5-4f08-ad45-c3e986186a0b",
   "metadata": {},
   "source": [
    "### Read News and Finance data"
   ]
  },
  {
   "cell_type": "code",
   "execution_count": 6,
   "id": "9521ea40-0fdc-4677-8eaf-3ec28f1debfd",
   "metadata": {},
   "outputs": [],
   "source": [
    "stocks = ['AAPL', 'BAC', 'INTC', 'NVDA', 'AMZN', 'FB', 'BP', 'LMT']"
   ]
  },
  {
   "cell_type": "code",
   "execution_count": 8,
   "id": "02e0126b-8944-4c11-b048-0bd16c457a35",
   "metadata": {},
   "outputs": [
    {
     "name": "stdout",
     "output_type": "stream",
     "text": [
      "The bot found 469 headlines from analyst_ratings_processed.csv, regarding AAPL stock\n",
      "The bot found 32 headlines from raw_partner_headlines.csv, regarding AAPL stock\n",
      "The bot found 501 headlines in total, regarding AAPL stock\n",
      "[*********************100%***********************]  1 of 1 completed\n",
      "AAPL financial dataframe dimensions  (2770, 6)\n",
      "Positive changes : 1468\n",
      "Negative changes : 1302\n",
      "No changes : 0\n",
      "Performing sentiment analysis for stock AAPL\n"
     ]
    },
    {
     "name": "stderr",
     "output_type": "stream",
     "text": [
      "100%|████████████████████████████████████████████████████████████████████████████████| 462/462 [00:28<00:00, 15.99it/s]\n"
     ]
    },
    {
     "name": "stdout",
     "output_type": "stream",
     "text": [
      " Dataframe now contains sentiment score for 65 different dates.\n",
      "The bot found 1796 headlines from analyst_ratings_processed.csv, regarding BAC stock\n",
      "The bot found 5 headlines from raw_partner_headlines.csv, regarding BAC stock\n",
      "The bot found 1801 headlines in total, regarding BAC stock\n",
      "[*********************100%***********************]  1 of 1 completed\n",
      "BAC financial dataframe dimensions  (2770, 6)\n",
      "Positive changes : 1393\n",
      "Negative changes : 1377\n",
      "No changes : 0\n",
      "Performing sentiment analysis for stock BAC\n"
     ]
    },
    {
     "name": "stderr",
     "output_type": "stream",
     "text": [
      "100%|██████████████████████████████████████████████████████████████████████████████| 1723/1723 [01:52<00:00, 15.30it/s]\n"
     ]
    },
    {
     "name": "stdout",
     "output_type": "stream",
     "text": [
      " Dataframe now contains sentiment score for 830 different dates.\n",
      "The bot found 10 headlines from analyst_ratings_processed.csv, regarding INTC stock\n",
      "The bot found 2465 headlines from raw_partner_headlines.csv, regarding INTC stock\n",
      "The bot found 2475 headlines in total, regarding INTC stock\n",
      "[*********************100%***********************]  1 of 1 completed\n",
      "INTC financial dataframe dimensions  (2770, 6)\n",
      "Positive changes : 1432\n",
      "Negative changes : 1338\n",
      "No changes : 0\n",
      "Performing sentiment analysis for stock INTC\n"
     ]
    },
    {
     "name": "stderr",
     "output_type": "stream",
     "text": [
      "100%|██████████████████████████████████████████████████████████████████████████████| 2286/2286 [02:09<00:00, 17.64it/s]\n"
     ]
    },
    {
     "name": "stdout",
     "output_type": "stream",
     "text": [
      " Dataframe now contains sentiment score for 394 different dates.\n",
      "The bot found 3133 headlines from analyst_ratings_processed.csv, regarding NVDA stock\n",
      "The bot found 0 headlines from raw_partner_headlines.csv, regarding NVDA stock\n",
      "The bot found 3133 headlines in total, regarding NVDA stock\n",
      "[*********************100%***********************]  1 of 1 completed\n",
      "NVDA financial dataframe dimensions  (2770, 6)\n",
      "Positive changes : 1454\n",
      "Negative changes : 1316\n",
      "No changes : 0\n",
      "Performing sentiment analysis for stock NVDA\n"
     ]
    },
    {
     "name": "stderr",
     "output_type": "stream",
     "text": [
      "100%|██████████████████████████████████████████████████████████████████████████████| 3057/3057 [03:30<00:00, 14.55it/s]\n"
     ]
    },
    {
     "name": "stdout",
     "output_type": "stream",
     "text": [
      " Dataframe now contains sentiment score for 1122 different dates.\n",
      "The bot found 330 headlines from analyst_ratings_processed.csv, regarding AMZN stock\n",
      "The bot found 0 headlines from raw_partner_headlines.csv, regarding AMZN stock\n",
      "The bot found 330 headlines in total, regarding AMZN stock\n",
      "[*********************100%***********************]  1 of 1 completed\n",
      "AMZN financial dataframe dimensions  (2770, 6)\n",
      "Positive changes : 1476\n",
      "Negative changes : 1294\n",
      "No changes : 0\n",
      "Performing sentiment analysis for stock AMZN\n"
     ]
    },
    {
     "name": "stderr",
     "output_type": "stream",
     "text": [
      "100%|████████████████████████████████████████████████████████████████████████████████| 318/318 [00:20<00:00, 15.41it/s]\n"
     ]
    },
    {
     "name": "stdout",
     "output_type": "stream",
     "text": [
      " Dataframe now contains sentiment score for 32 different dates.\n",
      "The bot found 389 headlines from analyst_ratings_processed.csv, regarding FB stock\n",
      "The bot found 53 headlines from raw_partner_headlines.csv, regarding FB stock\n",
      "The bot found 442 headlines in total, regarding FB stock\n",
      "[*********************100%***********************]  1 of 1 completed\n",
      "FB financial dataframe dimensions  (2170, 6)\n",
      "Positive changes : 1144\n",
      "Negative changes : 1026\n",
      "No changes : 0\n",
      "Performing sentiment analysis for stock FB\n"
     ]
    },
    {
     "name": "stderr",
     "output_type": "stream",
     "text": [
      "100%|████████████████████████████████████████████████████████████████████████████████| 422/422 [00:26<00:00, 16.12it/s]\n"
     ]
    },
    {
     "name": "stdout",
     "output_type": "stream",
     "text": [
      " Dataframe now contains sentiment score for 77 different dates.\n",
      "The bot found 307 headlines from analyst_ratings_processed.csv, regarding BP stock\n",
      "The bot found 6 headlines from raw_partner_headlines.csv, regarding BP stock\n",
      "The bot found 313 headlines in total, regarding BP stock\n",
      "[*********************100%***********************]  1 of 1 completed\n",
      "BP financial dataframe dimensions  (2770, 6)\n",
      "Positive changes : 1357\n",
      "Negative changes : 1413\n",
      "No changes : 0\n",
      "Performing sentiment analysis for stock BP\n"
     ]
    },
    {
     "name": "stderr",
     "output_type": "stream",
     "text": [
      "100%|████████████████████████████████████████████████████████████████████████████████| 311/311 [00:20<00:00, 14.86it/s]\n"
     ]
    },
    {
     "name": "stdout",
     "output_type": "stream",
     "text": [
      " Dataframe now contains sentiment score for 198 different dates.\n",
      "The bot found 2213 headlines from analyst_ratings_processed.csv, regarding LMT stock\n",
      "The bot found 7 headlines from raw_partner_headlines.csv, regarding LMT stock\n",
      "The bot found 2220 headlines in total, regarding LMT stock\n",
      "[*********************100%***********************]  1 of 1 completed\n",
      "LMT financial dataframe dimensions  (2770, 6)\n",
      "Positive changes : 1483\n",
      "Negative changes : 1287\n",
      "No changes : 0\n",
      "Performing sentiment analysis for stock LMT\n"
     ]
    },
    {
     "name": "stderr",
     "output_type": "stream",
     "text": [
      "100%|██████████████████████████████████████████████████████████████████████████████| 2153/2153 [02:15<00:00, 15.90it/s]\n"
     ]
    },
    {
     "name": "stdout",
     "output_type": "stream",
     "text": [
      " Dataframe now contains sentiment score for 1130 different dates.\n"
     ]
    }
   ],
   "source": [
    "big_df = pd.DataFrame()\n",
    "# Read finances and news for all stocks in list and create a big dataframe.\n",
    "for stock in stocks :\n",
    "    news = read_news(stock)\n",
    "    finances = financial_dataset(stock, num_of_labels=2)\n",
    "    merged_df = merge_fin_news(finances, news)\n",
    "    print(f\"Performing sentiment analysis for stock {stock}\")\n",
    "    sentimentized_df = sentim_analyzer(merged_df, tokenizer, model)\n",
    "    # average sentiment for each unique date.\n",
    "    sentimentized_df = merge_dates(sentimentized_df)\n",
    "    big_df = pd.concat([big_df, sentimentized_df], axis=0, ignore_index=True)"
   ]
  },
  {
   "cell_type": "code",
   "execution_count": 9,
   "id": "fd1256db-9a29-4839-877e-2e3ba14c4c6d",
   "metadata": {},
   "outputs": [
    {
     "data": {
      "text/html": [
       "<div>\n",
       "<style scoped>\n",
       "    .dataframe tbody tr th:only-of-type {\n",
       "        vertical-align: middle;\n",
       "    }\n",
       "\n",
       "    .dataframe tbody tr th {\n",
       "        vertical-align: top;\n",
       "    }\n",
       "\n",
       "    .dataframe thead th {\n",
       "        text-align: right;\n",
       "    }\n",
       "</style>\n",
       "<table border=\"1\" class=\"dataframe\">\n",
       "  <thead>\n",
       "    <tr style=\"text-align: right;\">\n",
       "      <th></th>\n",
       "      <th>date</th>\n",
       "      <th>stock</th>\n",
       "      <th>Open</th>\n",
       "      <th>Close</th>\n",
       "      <th>Volume</th>\n",
       "      <th>Positive</th>\n",
       "      <th>Negative</th>\n",
       "      <th>Neutral</th>\n",
       "      <th>Price_change</th>\n",
       "    </tr>\n",
       "  </thead>\n",
       "  <tbody>\n",
       "    <tr>\n",
       "      <th>0</th>\n",
       "      <td>2020-03-09</td>\n",
       "      <td>AAPL</td>\n",
       "      <td>65.937500</td>\n",
       "      <td>66.542503</td>\n",
       "      <td>286744800</td>\n",
       "      <td>0.046127</td>\n",
       "      <td>0.411465</td>\n",
       "      <td>0.542409</td>\n",
       "      <td>-1</td>\n",
       "    </tr>\n",
       "    <tr>\n",
       "      <th>1</th>\n",
       "      <td>2020-03-10</td>\n",
       "      <td>AAPL</td>\n",
       "      <td>69.285004</td>\n",
       "      <td>71.334999</td>\n",
       "      <td>285290000</td>\n",
       "      <td>0.070845</td>\n",
       "      <td>0.449025</td>\n",
       "      <td>0.480130</td>\n",
       "      <td>1</td>\n",
       "    </tr>\n",
       "    <tr>\n",
       "      <th>2</th>\n",
       "      <td>2020-03-11</td>\n",
       "      <td>AAPL</td>\n",
       "      <td>69.347504</td>\n",
       "      <td>68.857498</td>\n",
       "      <td>255598800</td>\n",
       "      <td>0.190995</td>\n",
       "      <td>0.453761</td>\n",
       "      <td>0.355244</td>\n",
       "      <td>-1</td>\n",
       "    </tr>\n",
       "    <tr>\n",
       "      <th>3</th>\n",
       "      <td>2020-03-12</td>\n",
       "      <td>AAPL</td>\n",
       "      <td>63.985001</td>\n",
       "      <td>62.057499</td>\n",
       "      <td>418474000</td>\n",
       "      <td>0.204221</td>\n",
       "      <td>0.447518</td>\n",
       "      <td>0.348261</td>\n",
       "      <td>-1</td>\n",
       "    </tr>\n",
       "    <tr>\n",
       "      <th>4</th>\n",
       "      <td>2020-03-13</td>\n",
       "      <td>AAPL</td>\n",
       "      <td>66.222504</td>\n",
       "      <td>69.492500</td>\n",
       "      <td>370732000</td>\n",
       "      <td>0.315863</td>\n",
       "      <td>0.218127</td>\n",
       "      <td>0.466010</td>\n",
       "      <td>1</td>\n",
       "    </tr>\n",
       "    <tr>\n",
       "      <th>...</th>\n",
       "      <td>...</td>\n",
       "      <td>...</td>\n",
       "      <td>...</td>\n",
       "      <td>...</td>\n",
       "      <td>...</td>\n",
       "      <td>...</td>\n",
       "      <td>...</td>\n",
       "      <td>...</td>\n",
       "      <td>...</td>\n",
       "    </tr>\n",
       "    <tr>\n",
       "      <th>3843</th>\n",
       "      <td>2020-05-29</td>\n",
       "      <td>LMT</td>\n",
       "      <td>396.040009</td>\n",
       "      <td>388.440002</td>\n",
       "      <td>1733800</td>\n",
       "      <td>0.243090</td>\n",
       "      <td>0.565334</td>\n",
       "      <td>0.191576</td>\n",
       "      <td>-1</td>\n",
       "    </tr>\n",
       "    <tr>\n",
       "      <th>3844</th>\n",
       "      <td>2020-06-02</td>\n",
       "      <td>LMT</td>\n",
       "      <td>388.640015</td>\n",
       "      <td>389.769989</td>\n",
       "      <td>1404700</td>\n",
       "      <td>0.173455</td>\n",
       "      <td>0.011468</td>\n",
       "      <td>0.815077</td>\n",
       "      <td>1</td>\n",
       "    </tr>\n",
       "    <tr>\n",
       "      <th>3845</th>\n",
       "      <td>2020-06-04</td>\n",
       "      <td>LMT</td>\n",
       "      <td>401.779999</td>\n",
       "      <td>403.670013</td>\n",
       "      <td>1261700</td>\n",
       "      <td>0.033993</td>\n",
       "      <td>0.045346</td>\n",
       "      <td>0.920662</td>\n",
       "      <td>1</td>\n",
       "    </tr>\n",
       "    <tr>\n",
       "      <th>3846</th>\n",
       "      <td>2020-06-05</td>\n",
       "      <td>LMT</td>\n",
       "      <td>410.000000</td>\n",
       "      <td>410.750000</td>\n",
       "      <td>1702500</td>\n",
       "      <td>0.953540</td>\n",
       "      <td>0.023839</td>\n",
       "      <td>0.022620</td>\n",
       "      <td>1</td>\n",
       "    </tr>\n",
       "    <tr>\n",
       "      <th>3847</th>\n",
       "      <td>2020-06-11</td>\n",
       "      <td>LMT</td>\n",
       "      <td>392.690002</td>\n",
       "      <td>383.880005</td>\n",
       "      <td>1698800</td>\n",
       "      <td>0.413101</td>\n",
       "      <td>0.213115</td>\n",
       "      <td>0.373783</td>\n",
       "      <td>-1</td>\n",
       "    </tr>\n",
       "  </tbody>\n",
       "</table>\n",
       "<p>3848 rows × 9 columns</p>\n",
       "</div>"
      ],
      "text/plain": [
       "            date stock        Open       Close     Volume  Positive  Negative  \\\n",
       "0     2020-03-09  AAPL   65.937500   66.542503  286744800  0.046127  0.411465   \n",
       "1     2020-03-10  AAPL   69.285004   71.334999  285290000  0.070845  0.449025   \n",
       "2     2020-03-11  AAPL   69.347504   68.857498  255598800  0.190995  0.453761   \n",
       "3     2020-03-12  AAPL   63.985001   62.057499  418474000  0.204221  0.447518   \n",
       "4     2020-03-13  AAPL   66.222504   69.492500  370732000  0.315863  0.218127   \n",
       "...          ...   ...         ...         ...        ...       ...       ...   \n",
       "3843  2020-05-29   LMT  396.040009  388.440002    1733800  0.243090  0.565334   \n",
       "3844  2020-06-02   LMT  388.640015  389.769989    1404700  0.173455  0.011468   \n",
       "3845  2020-06-04   LMT  401.779999  403.670013    1261700  0.033993  0.045346   \n",
       "3846  2020-06-05   LMT  410.000000  410.750000    1702500  0.953540  0.023839   \n",
       "3847  2020-06-11   LMT  392.690002  383.880005    1698800  0.413101  0.213115   \n",
       "\n",
       "       Neutral  Price_change  \n",
       "0     0.542409            -1  \n",
       "1     0.480130             1  \n",
       "2     0.355244            -1  \n",
       "3     0.348261            -1  \n",
       "4     0.466010             1  \n",
       "...        ...           ...  \n",
       "3843  0.191576            -1  \n",
       "3844  0.815077             1  \n",
       "3845  0.920662             1  \n",
       "3846  0.022620             1  \n",
       "3847  0.373783            -1  \n",
       "\n",
       "[3848 rows x 9 columns]"
      ]
     },
     "execution_count": 9,
     "metadata": {},
     "output_type": "execute_result"
    }
   ],
   "source": [
    "big_df"
   ]
  },
  {
   "cell_type": "code",
   "execution_count": 10,
   "id": "ce7e71b0-8c91-45e2-86e8-a7e14c3fbbd5",
   "metadata": {},
   "outputs": [
    {
     "data": {
      "text/plain": [
       "1964"
      ]
     },
     "execution_count": 10,
     "metadata": {},
     "output_type": "execute_result"
    }
   ],
   "source": [
    "len(big_df['date'].unique())"
   ]
  },
  {
   "cell_type": "code",
   "execution_count": 11,
   "id": "8daf05c5-de47-428d-943a-ee23185dd896",
   "metadata": {},
   "outputs": [],
   "source": [
    "# save the dataframe into a csv file.\n",
    "big_df.to_csv('Datasets/8_comps_2_labels.csv')"
   ]
  },
  {
   "cell_type": "code",
   "execution_count": 13,
   "id": "7259669c-8e45-4e82-86f9-91550a768482",
   "metadata": {},
   "outputs": [
    {
     "name": "stdout",
     "output_type": "stream",
     "text": [
      "Dataset contains :\n",
      " 2032 (1816.00%) number of price increace examples \n",
      " 52.80665280665281  (47.19%) number of price decrease examples. \n",
      " 1.12  increase to decrease examples ratio\n"
     ]
    },
    {
     "data": {
      "image/png": "[encoded data removed]",
      "text/plain": [
       "<Figure size 432x432 with 1 Axes>"
      ]
     },
     "metadata": {},
     "output_type": "display_data"
    }
   ],
   "source": [
    "import matplotlib.pyplot as plt \n",
    "\n",
    "incr = len(big_df[big_df['Price_change']==1])\n",
    "decr = big_df.shape[0] - incr\n",
    "incr_ratio = (100 * incr) / big_df.shape[0]\n",
    "decr_ratio = (100 * decr) / big_df.shape[0]\n",
    "incr_to_decr = (incr/decr)\n",
    "\n",
    "print('Dataset contains :\\n \\\n",
    "{} ({:.2f}%) number of price increace examples \\n \\\n",
    "{}  ({:.2f}%) number of price decrease examples. \\n \\\n",
    "{:.2f}  increase to decrease examples ratio'\\\n",
    ".format(incr, decr, incr_ratio, decr_ratio, incr_to_decr))\n",
    "\n",
    "fig, ax = plt.subplots(figsize=(6,6))\n",
    "plt.pie(x=[incr, decr], labels=['Increasing_price','Decreasing_price'], shadow=True, autopct='%1.1f%%')\n",
    "plt.title('Increasing vs Decreasing Observations', fontsize=18)\n",
    "plt.show()"
   ]
  }
 ],
 "metadata": {
  "kernelspec": {
   "display_name": "Python 3 (ipykernel)",
   "language": "python",
   "name": "python3"
  },
  "language_info": {
   "codemirror_mode": {
    "name": "ipython",
    "version": 3
   },
   "file_extension": ".py",
   "mimetype": "text/x-python",
   "name": "python",
   "nbconvert_exporter": "python",
   "pygments_lexer": "ipython3",
   "version": "3.9.7"
  }
 },
 "nbformat": 4,
 "nbformat_minor": 5
}
