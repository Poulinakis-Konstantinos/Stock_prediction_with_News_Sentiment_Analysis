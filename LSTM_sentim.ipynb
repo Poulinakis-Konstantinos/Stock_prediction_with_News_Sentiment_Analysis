{
 "cells": [
  {
   "cell_type": "code",
   "execution_count": 1,
   "id": "e2ac9be8-1bd0-4a26-ba83-0c80622bf241",
   "metadata": {},
   "outputs": [],
   "source": [
    "import torch \n",
    "import numpy as np\n",
    "import pandas as pd \n",
    "from utilities import *\n",
    "from math import ceil\n",
    "import matplotlib.pyplot as plt\n",
    "\n",
    "#from LSTM import Dataset, dataloader, LSTM_reg, plot_loss"
   ]
  },
  {
   "cell_type": "markdown",
   "id": "d388c5a7-b714-4e0d-9dbc-895feda41088",
   "metadata": {},
   "source": [
    "### Load dataset and normalize with MinMax"
   ]
  },
  {
   "cell_type": "code",
   "execution_count": 2,
   "id": "7e61f39c-ae6f-45e7-981c-8ef6183f2643",
   "metadata": {},
   "outputs": [
    {
     "data": {
      "text/html": [
       "<div>\n",
       "<style scoped>\n",
       "    .dataframe tbody tr th:only-of-type {\n",
       "        vertical-align: middle;\n",
       "    }\n",
       "\n",
       "    .dataframe tbody tr th {\n",
       "        vertical-align: top;\n",
       "    }\n",
       "\n",
       "    .dataframe thead th {\n",
       "        text-align: right;\n",
       "    }\n",
       "</style>\n",
       "<table border=\"1\" class=\"dataframe\">\n",
       "  <thead>\n",
       "    <tr style=\"text-align: right;\">\n",
       "      <th></th>\n",
       "      <th>Unnamed: 0</th>\n",
       "      <th>date</th>\n",
       "      <th>Volume</th>\n",
       "      <th>Close</th>\n",
       "      <th>Positive</th>\n",
       "      <th>Negative</th>\n",
       "      <th>Neutral</th>\n",
       "      <th>Price_change</th>\n",
       "    </tr>\n",
       "  </thead>\n",
       "  <tbody>\n",
       "    <tr>\n",
       "      <th>0</th>\n",
       "      <td>0</td>\n",
       "      <td>2010-01-05</td>\n",
       "      <td>1.111477e+07</td>\n",
       "      <td>0.048207</td>\n",
       "      <td>0.157785</td>\n",
       "      <td>0.489590</td>\n",
       "      <td>0.352625</td>\n",
       "      <td>1</td>\n",
       "    </tr>\n",
       "    <tr>\n",
       "      <th>1</th>\n",
       "      <td>1</td>\n",
       "      <td>2010-01-06</td>\n",
       "      <td>9.592200e+06</td>\n",
       "      <td>0.048469</td>\n",
       "      <td>0.159253</td>\n",
       "      <td>0.114102</td>\n",
       "      <td>0.726645</td>\n",
       "      <td>1</td>\n",
       "    </tr>\n",
       "    <tr>\n",
       "      <th>2</th>\n",
       "      <td>2</td>\n",
       "      <td>2010-01-07</td>\n",
       "      <td>1.264640e+07</td>\n",
       "      <td>0.050394</td>\n",
       "      <td>0.441000</td>\n",
       "      <td>0.012006</td>\n",
       "      <td>0.546994</td>\n",
       "      <td>1</td>\n",
       "    </tr>\n",
       "    <tr>\n",
       "      <th>3</th>\n",
       "      <td>3</td>\n",
       "      <td>2010-01-08</td>\n",
       "      <td>1.508503e+07</td>\n",
       "      <td>0.051786</td>\n",
       "      <td>0.039152</td>\n",
       "      <td>0.384472</td>\n",
       "      <td>0.576376</td>\n",
       "      <td>1</td>\n",
       "    </tr>\n",
       "    <tr>\n",
       "      <th>4</th>\n",
       "      <td>4</td>\n",
       "      <td>2010-01-11</td>\n",
       "      <td>7.396000e+06</td>\n",
       "      <td>0.052632</td>\n",
       "      <td>0.114053</td>\n",
       "      <td>0.029774</td>\n",
       "      <td>0.856173</td>\n",
       "      <td>1</td>\n",
       "    </tr>\n",
       "    <tr>\n",
       "      <th>...</th>\n",
       "      <td>...</td>\n",
       "      <td>...</td>\n",
       "      <td>...</td>\n",
       "      <td>...</td>\n",
       "      <td>...</td>\n",
       "      <td>...</td>\n",
       "      <td>...</td>\n",
       "      <td>...</td>\n",
       "    </tr>\n",
       "    <tr>\n",
       "      <th>2603</th>\n",
       "      <td>2603</td>\n",
       "      <td>2020-06-05</td>\n",
       "      <td>2.503270e+07</td>\n",
       "      <td>0.918674</td>\n",
       "      <td>0.567891</td>\n",
       "      <td>0.070503</td>\n",
       "      <td>0.361606</td>\n",
       "      <td>1</td>\n",
       "    </tr>\n",
       "    <tr>\n",
       "      <th>2604</th>\n",
       "      <td>2604</td>\n",
       "      <td>2020-06-08</td>\n",
       "      <td>2.303770e+07</td>\n",
       "      <td>0.934946</td>\n",
       "      <td>0.523481</td>\n",
       "      <td>0.124646</td>\n",
       "      <td>0.351873</td>\n",
       "      <td>1</td>\n",
       "    </tr>\n",
       "    <tr>\n",
       "      <th>2605</th>\n",
       "      <td>2605</td>\n",
       "      <td>2020-06-09</td>\n",
       "      <td>2.969893e+07</td>\n",
       "      <td>0.924280</td>\n",
       "      <td>0.296441</td>\n",
       "      <td>0.337487</td>\n",
       "      <td>0.366072</td>\n",
       "      <td>-1</td>\n",
       "    </tr>\n",
       "    <tr>\n",
       "      <th>2606</th>\n",
       "      <td>2606</td>\n",
       "      <td>2020-06-10</td>\n",
       "      <td>3.795272e+07</td>\n",
       "      <td>0.917070</td>\n",
       "      <td>0.390972</td>\n",
       "      <td>0.240399</td>\n",
       "      <td>0.368628</td>\n",
       "      <td>-1</td>\n",
       "    </tr>\n",
       "    <tr>\n",
       "      <th>2607</th>\n",
       "      <td>2607</td>\n",
       "      <td>2020-06-11</td>\n",
       "      <td>1.970420e+07</td>\n",
       "      <td>0.837513</td>\n",
       "      <td>0.067369</td>\n",
       "      <td>0.743126</td>\n",
       "      <td>0.189504</td>\n",
       "      <td>-1</td>\n",
       "    </tr>\n",
       "  </tbody>\n",
       "</table>\n",
       "<p>2608 rows × 8 columns</p>\n",
       "</div>"
      ],
      "text/plain": [
       "      Unnamed: 0        date        Volume     Close  Positive  Negative  \\\n",
       "0              0  2010-01-05  1.111477e+07  0.048207  0.157785  0.489590   \n",
       "1              1  2010-01-06  9.592200e+06  0.048469  0.159253  0.114102   \n",
       "2              2  2010-01-07  1.264640e+07  0.050394  0.441000  0.012006   \n",
       "3              3  2010-01-08  1.508503e+07  0.051786  0.039152  0.384472   \n",
       "4              4  2010-01-11  7.396000e+06  0.052632  0.114053  0.029774   \n",
       "...          ...         ...           ...       ...       ...       ...   \n",
       "2603        2603  2020-06-05  2.503270e+07  0.918674  0.567891  0.070503   \n",
       "2604        2604  2020-06-08  2.303770e+07  0.934946  0.523481  0.124646   \n",
       "2605        2605  2020-06-09  2.969893e+07  0.924280  0.296441  0.337487   \n",
       "2606        2606  2020-06-10  3.795272e+07  0.917070  0.390972  0.240399   \n",
       "2607        2607  2020-06-11  1.970420e+07  0.837513  0.067369  0.743126   \n",
       "\n",
       "       Neutral  Price_change  \n",
       "0     0.352625             1  \n",
       "1     0.726645             1  \n",
       "2     0.546994             1  \n",
       "3     0.576376             1  \n",
       "4     0.856173             1  \n",
       "...        ...           ...  \n",
       "2603  0.361606             1  \n",
       "2604  0.351873             1  \n",
       "2605  0.366072            -1  \n",
       "2606  0.368628            -1  \n",
       "2607  0.189504            -1  \n",
       "\n",
       "[2608 rows x 8 columns]"
      ]
     },
     "execution_count": 2,
     "metadata": {},
     "output_type": "execute_result"
    }
   ],
   "source": [
    "big_df = pd.read_csv('Datasets/sp500_sentiment_non_weighted.csv')\n",
    "big_df['Close'] = (big_df['Close']-big_df['Close'].min())/(big_df['Close'].max()-big_df['Close'].min())\n",
    "big_df"
   ]
  },
  {
   "cell_type": "markdown",
   "id": "f695e3e3-c210-4453-89cc-da26dc4d59bb",
   "metadata": {},
   "source": [
    "### Process dataset to a supervised time-series format\n",
    "Create a time series dataset, features consist of the previous #seq_len day's close price while today's close price is the label."
   ]
  },
  {
   "cell_type": "code",
   "execution_count": 3,
   "id": "1454987e-3b64-4407-b248-6fa6efcbeb1c",
   "metadata": {},
   "outputs": [
    {
     "name": "stdout",
     "output_type": "stream",
     "text": [
      "X shape : (2607, 1, 4)\n",
      "y shape : (2607, 1)\n"
     ]
    }
   ],
   "source": [
    "seq_len = 1\n",
    "# start creating sequences only after the first seq_len elements have passed \n",
    "X = np.zeros((big_df.shape[0] - seq_len, seq_len , 4), dtype=float) #3d array\n",
    "y = np.zeros((big_df.shape[0] - seq_len, seq_len), dtype=float)\n",
    "print(\"X shape :\",X.shape)\n",
    "print(\"y shape :\",y.shape)"
   ]
  },
  {
   "cell_type": "code",
   "execution_count": 4,
   "id": "80f96ff3-d6ce-4f31-98c3-3f4a4f459c64",
   "metadata": {},
   "outputs": [],
   "source": [
    "for i in range(seq_len , X.shape[0] + seq_len) :\n",
    "    for j in range(seq_len) :\n",
    "        prev_elems = big_df.iloc[i-(seq_len-j)][['Close', 'Positive', 'Negative', 'Neutral']] # previous available date\n",
    "        # only the desired values\n",
    "        prev_elems = [ prev_elems[p] for p in range(len(prev_elems))]\n",
    "        prev_elems = np.array(prev_elems)\n",
    "        # Store previous day close price as feature \n",
    "        X[i-seq_len, j] = prev_elems\n",
    "        # Store \"today's\" close price as label\n",
    "        y[i-seq_len] = big_df.iloc[i]['Close']"
   ]
  },
  {
   "cell_type": "code",
   "execution_count": 5,
   "id": "2bad70f3-5634-4309-ba49-cdbcce0b0b55",
   "metadata": {},
   "outputs": [
    {
     "data": {
      "text/plain": [
       "(2607, 1, 4)"
      ]
     },
     "execution_count": 5,
     "metadata": {},
     "output_type": "execute_result"
    }
   ],
   "source": [
    "X.shape"
   ]
  },
  {
   "cell_type": "code",
   "execution_count": 6,
   "id": "c0f45bc8-4054-4280-8a4c-c0d13c2212f3",
   "metadata": {},
   "outputs": [
    {
     "data": {
      "text/plain": [
       "(2607, 1)"
      ]
     },
     "execution_count": 6,
     "metadata": {},
     "output_type": "execute_result"
    }
   ],
   "source": [
    "y.shape"
   ]
  },
  {
   "cell_type": "code",
   "execution_count": 67,
   "id": "edfaaf13-42ee-4e58-b13e-0049e3209c1d",
   "metadata": {},
   "outputs": [],
   "source": [
    "import torch\n",
    "import numpy as np\n",
    "from utilities import *\n",
    "from math import ceil\n",
    "import matplotlib.pyplot as plt\n",
    "from tqdm import tqdm\n",
    "\n",
    "import torch.nn as nn\n",
    "from torch.utils.data import Dataset\n",
    "from torch.utils.data import DataLoader\n",
    "\n",
    "\n",
    "class Dataset(Dataset):\n",
    "    def __init__(self, X, y, trans=None):\n",
    "        X = torch.Tensor(X)\n",
    "        y = torch.Tensor(y)\n",
    "        self.data = list(zip(X, y))   # features zipped with label\n",
    "        self.trans = trans\n",
    "\n",
    "    def __len__(self):\n",
    "        return len(self.data)\n",
    "\n",
    "    def __getitem__(self, idx):\n",
    "        if self.trans is not None:     # If transform has been declared apply it .\n",
    "            return self.trans(self.data[idx])\n",
    "        else:\n",
    "            return self.data[idx]\n",
    "\n",
    "\n",
    "def dataloader(dataset, batch=1):\n",
    "    dloader = DataLoader(dataset, batch_size=batch)\n",
    "    return dloader\n",
    "\n",
    "\n",
    "class LSTM_reg(nn.Module):\n",
    "    ''' LSTM class for regression purposes.'''\n",
    "    def __init__(self, num_classes, input_size, hidden_size, lstm_layers, dropout=0.3, fc_size=124) :\n",
    "        super(LSTM_reg, self).__init__()\n",
    "        self.num_classes = num_classes # number of classes\n",
    "        self.input_size = input_size   # features input number\n",
    "        self.lstm_layers = lstm_layers # number of lstm stacked layers\n",
    "        self.hidden_size = hidden_size # hidden states\n",
    "\n",
    "        # Network's layers\n",
    "        self.lstm = nn.LSTM(input_size=self.input_size, hidden_size=self.hidden_size,\n",
    "                            num_layers=self.lstm_layers, batch_first=True, dropout=dropout) \n",
    "        \n",
    "        self.fc1 = nn.Linear(hidden_size * lstm_layers, fc_size)\n",
    "        self.fc2 = nn.Linear(fc_size, self.num_classes)\n",
    "        self.relu = nn.ReLU()\n",
    "\n",
    "    def forward(self, x, hidden=None, return_hidden=False) :\n",
    "\n",
    "        lstm_output, hidden = self.lstm(x, hidden)\n",
    "      #  output = self.relu(lstm_output)\n",
    "        lstm_output = lstm_output.view(-1,  self.hidden_size * num_layers)\n",
    "        lstm_output = self.relu(lstm_output)\n",
    "        output = self.fc1(lstm_output)\n",
    "        output = self.relu(output)\n",
    "        output = self.fc2(output)\n",
    " \n",
    "        # if in eval mode only return network's prediction, except if specified otherwise by user.\n",
    "        if ((not self.training ) and return_hidden):\n",
    "            return output\n",
    "        else :\n",
    "            return output, hidden\n",
    "\n",
    "\n",
    "    def train_model(self, train_loader, epochs=200, val_loader=None, print_freq=100, lr=0.0003,\n",
    "                    optimizer=None, criterion=None) :\n",
    "        \n",
    "        if optimizer==None : optimizer = torch.optim.Adam(self.parameters(), lr=lr)\n",
    "        if criterion==None : criterion = torch.nn.MSELoss()\n",
    "\n",
    "        plot_loss_tr = []\n",
    "        plot_loss_val = []\n",
    "        for epoch in tqdm(range(epochs)):\n",
    "            avg_train_loss = 0 \n",
    "            self.train() # train mode for model\n",
    "            hidden_tr = None # initial hidden state\n",
    "            \n",
    "            h_0 = torch.zeros(30, 1, self.hidden_size) \n",
    "            c_0 = torch.zeros(30,  1, self.hidden_size)\n",
    "            for i, batch in enumerate(train_loader):\n",
    "                X_batch, y_batch = batch\n",
    "                # in case of incomplete batch pass hidden states as zero to avoid dimension problems\n",
    "                if h_0.shape[0] != X_batch.shape[0] :\n",
    "                    h_0 = torch.zeros(1, X_batch.shape[0], self.hidden_size)\n",
    "                    c_0 = torch.zeros(1, X_batch.shape[0], self.hidden_size)\n",
    "                outputs, hidden_tr = self.forward(X_batch ) #, hidden_tr) #forward pass\n",
    "               # print(y_batch.shape)\n",
    "               # print(outputs.shape)\n",
    "               # print(\"out 0 \",outputs[-1])\n",
    "                h_0, c_0 = hidden_tr\n",
    "                h_0.detach_(), c_0.detach_()  # \"turn-off\" gradients\n",
    "                hidden_tr = (h_0, c_0)\n",
    "\n",
    "                optimizer.zero_grad()  # calculate the gradient\n",
    "                loss = criterion(outputs, y_batch)  # obtain the loss function\n",
    "                loss.backward() # calculates gradients of inputs\n",
    "                avg_train_loss += loss.item()\n",
    "            avg_train_loss = avg_train_loss/(i+1)\n",
    "            plot_loss_tr.append(avg_train_loss) # mean training loss over an epoch\n",
    "            \n",
    "            ## Compute validation loss\n",
    "            avg_val_loss = 0\n",
    "            self.eval()\n",
    "            hidden_val = None  # initial hidden\n",
    "            for j, batch_v in enumerate(val_loader):\n",
    "                X_val, y_val = batch_v\n",
    "                val_outs, hidden_val = self.forward(X_val, hidden_val) #forward pass\n",
    "                val_loss = criterion(val_outs, y_val)\n",
    "                avg_val_loss += val_loss.item()\n",
    "            avg_val_loss = avg_val_loss/(j+1)\n",
    "            plot_loss_val.append(avg_val_loss) # mean validation loss over an epoch\n",
    "\n",
    "            optimizer.step() #improve from loss, i.e backprop\n",
    "            if epoch % print_freq == 0:\n",
    "                print(\"Epoch: %d, train_loss: %1.5f,  val_loss: %1.5f \" % (epoch, avg_train_loss, avg_val_loss))\n",
    "        \n",
    "        # Training loss history returned\n",
    "        return plot_loss_tr, plot_loss_val\n"
   ]
  },
  {
   "cell_type": "markdown",
   "id": "b20b2012-ba8e-496a-bdff-0f31cdc14581",
   "metadata": {},
   "source": [
    "### Data splitting into train,val, test . "
   ]
  },
  {
   "cell_type": "code",
   "execution_count": 68,
   "id": "15e6cb8b-7e18-42c5-8232-bc16ee8fad0e",
   "metadata": {},
   "outputs": [
    {
     "name": "stdout",
     "output_type": "stream",
     "text": [
      "Train data shapes X:(1825, 1, 4) , y:(1825, 1)\n",
      "Test data shapes X:(391, 1, 4) , y:(391, 1)\n",
      "Val data shapes X:(391, 1, 4) , y:(391, 1)\n"
     ]
    }
   ],
   "source": [
    "# fraction of the test set.\n",
    "percentage = 0.3\n",
    "split_tr = ceil(X.shape[0] * (1-percentage))\n",
    "split_val = ceil(X.shape[0] * (1- percentage/2))\n",
    "\n",
    "X_train = X[0:split_tr]\n",
    "y_train = y[0:split_tr]\n",
    "X_val= X[split_tr: split_val]\n",
    "y_val= y[split_tr: split_val]\n",
    "X_test= X[split_val:]\n",
    "y_test= y[split_val:]\n",
    "print(f\"Train data shapes X:{X_train.shape} , y:{y_train.shape}\")\n",
    "print(f\"Test data shapes X:{X_test.shape} , y:{y_test.shape}\")\n",
    "print(f\"Val data shapes X:{X_val.shape} , y:{y_val.shape}\")"
   ]
  },
  {
   "cell_type": "code",
   "execution_count": 69,
   "id": "8733b4a5-26ad-4525-bb72-72097a5a41dc",
   "metadata": {},
   "outputs": [],
   "source": [
    "tr_dataset = Dataset(X_train, y_train)\n",
    "tr_loader = dataloader(tr_dataset, batch=5)\n",
    "\n",
    "val_dataset = Dataset(X_val, y_val)\n",
    "val_loader = dataloader(val_dataset)\n",
    "\n",
    "test_dataset = Dataset(X_test, y_test)\n",
    "test_loader = dataloader(test_dataset)"
   ]
  },
  {
   "cell_type": "code",
   "execution_count": 70,
   "id": "e30e0f6a-a8a0-466d-b7e5-046eefd4ed5f",
   "metadata": {},
   "outputs": [],
   "source": [
    "#hyperparameters\n",
    "num_epochs = 200 #1000 epochs\n",
    "learning_rate = 0.0001 #0.001 lr\n",
    "\n",
    "input_size = 4 #number of features\n",
    "hidden_size = 50 #number of features in hidden state\n",
    "num_layers = 1 #number of stacked lstm layers\n",
    "\n",
    "num_classes = 1 #number of output classes\n",
    "criterion = nn.MSELoss()\n",
    "\n",
    "lstm_reg = LSTM_reg(num_classes, input_size, hidden_size, lstm_layers=num_layers, dropout=0.3, fc_size=128) #our lstm class"
   ]
  },
  {
   "cell_type": "code",
   "execution_count": 71,
   "id": "b8bf8e4e-c282-48ad-a46d-d3ed2bcf6edb",
   "metadata": {},
   "outputs": [
    {
     "name": "stderr",
     "output_type": "stream",
     "text": [
      "  0%|▍                                                                                 | 1/200 [00:00<02:13,  1.49it/s]"
     ]
    },
    {
     "name": "stdout",
     "output_type": "stream",
     "text": [
      "Epoch: 0, train_loss: 0.05013,  val_loss: 0.32101 \n"
     ]
    },
    {
     "name": "stderr",
     "output_type": "stream",
     "text": [
      " 50%|████████████████████████████████████████▍                                       | 101/200 [00:51<00:49,  1.99it/s]"
     ]
    },
    {
     "name": "stdout",
     "output_type": "stream",
     "text": [
      "Epoch: 100, train_loss: 0.07409,  val_loss: 0.00590 \n"
     ]
    },
    {
     "name": "stderr",
     "output_type": "stream",
     "text": [
      "100%|████████████████████████████████████████████████████████████████████████████████| 200/200 [01:42<00:00,  1.94it/s]\n"
     ]
    }
   ],
   "source": [
    "train_loss, val_loss = lstm_reg.train_model(tr_loader, epochs=num_epochs, val_loader=val_loader)"
   ]
  },
  {
   "cell_type": "code",
   "execution_count": 72,
   "id": "93849577-d885-4e54-be7c-309605f5f7d9",
   "metadata": {},
   "outputs": [
    {
     "data": {
      "image/png": "[encoded data removed]",
      "text/plain": [
       "<Figure size 720x720 with 1 Axes>"
      ]
     },
     "metadata": {
      "needs_background": "light"
     },
     "output_type": "display_data"
    }
   ],
   "source": [
    "fig , ax = plt.subplots(figsize = (10,10))\n",
    "\n",
    "plt.plot(val_loss, label='Val_loss') #actual plot\n",
    "plt.plot(train_loss, label='Train_loss') #predicted plot\n",
    "plt.title('Training and validation loss curves')\n",
    "plt.legend()\n",
    "plt.show()"
   ]
  },
  {
   "cell_type": "markdown",
   "id": "439e0d32-32e5-4e17-8f4b-2d6959a5965e",
   "metadata": {},
   "source": [
    "### Predicting with the LSTM"
   ]
  },
  {
   "cell_type": "code",
   "execution_count": 73,
   "id": "05a40264-7566-4667-bcb8-5b26a5a0ab12",
   "metadata": {},
   "outputs": [
    {
     "data": {
      "image/png": "[encoded data removed]",
      "text/plain": [
       "<Figure size 1152x864 with 1 Axes>"
      ]
     },
     "metadata": {
      "needs_background": "light"
     },
     "output_type": "display_data"
    }
   ],
   "source": [
    "train_predict, _ = lstm_reg(torch.Tensor(X)) #forward pass\n",
    "data_predict = train_predict.data.numpy() #numpy conversion\n",
    "data_predict =  np.reshape(data_predict, (data_predict.shape[0],1))\n",
    "dataY_plot = torch.Tensor(y).data.numpy()\n",
    "dataY_plot =  np.reshape(dataY_plot, (dataY_plot.shape[0],1))\n",
    "\n",
    "#data_predict = mm.inverse_transform(data_predict) #reverse transformation\n",
    "#dataY_plot = mm.inverse_transform(dataY_plot)\n",
    "\n",
    "plt.figure(figsize=(16,12)) #plotting\n",
    "plt.axvline(x=split_tr, c='r', linestyle='--') #size of the training set\n",
    "plt.axvline(x=split_val, c='g', linestyle='--') #size of the validation set\n",
    "\n",
    "plt.plot(dataY_plot, label='Actual Data') #actual plot\n",
    "plt.plot(data_predict, label='Predicted Data') #predicted plot\n",
    "plt.title('Time-Series Prediction')\n",
    "plt.legend()\n",
    "plt.show()"
   ]
  },
  {
   "cell_type": "code",
   "execution_count": 74,
   "id": "418b2ab6-bf78-4c9f-a40f-51b592ae62a8",
   "metadata": {},
   "outputs": [
    {
     "ename": "NameError",
     "evalue": "name 'X_tensors' is not defined",
     "output_type": "error",
     "traceback": [
      "\u001b[1;31m---------------------------------------------------------------------------\u001b[0m",
      "\u001b[1;31mNameError\u001b[0m                                 Traceback (most recent call last)",
      "\u001b[1;32m~\\AppData\\Local\\Temp/ipykernel_8856/1280334061.py\u001b[0m in \u001b[0;36m<module>\u001b[1;34m\u001b[0m\n\u001b[1;32m----> 1\u001b[1;33m \u001b[0mtrain_predict\u001b[0m\u001b[1;33m,\u001b[0m \u001b[0m_\u001b[0m \u001b[1;33m=\u001b[0m \u001b[0mlstm_reg\u001b[0m\u001b[1;33m(\u001b[0m\u001b[0mX_tensors\u001b[0m\u001b[1;33m)\u001b[0m \u001b[1;31m#forward pass\u001b[0m\u001b[1;33m\u001b[0m\u001b[1;33m\u001b[0m\u001b[0m\n\u001b[0m\u001b[0;32m      2\u001b[0m \u001b[0mdata_predict\u001b[0m \u001b[1;33m=\u001b[0m \u001b[0mtrain_predict\u001b[0m\u001b[1;33m.\u001b[0m\u001b[0mdata\u001b[0m\u001b[1;33m.\u001b[0m\u001b[0mnumpy\u001b[0m\u001b[1;33m(\u001b[0m\u001b[1;33m)\u001b[0m \u001b[1;31m#numpy conversion\u001b[0m\u001b[1;33m\u001b[0m\u001b[1;33m\u001b[0m\u001b[0m\n\u001b[0;32m      3\u001b[0m \u001b[0mdataY_plot\u001b[0m \u001b[1;33m=\u001b[0m \u001b[0my_tensors\u001b[0m\u001b[1;33m.\u001b[0m\u001b[0mdata\u001b[0m\u001b[1;33m.\u001b[0m\u001b[0mnumpy\u001b[0m\u001b[1;33m(\u001b[0m\u001b[1;33m)\u001b[0m\u001b[1;33m\u001b[0m\u001b[1;33m\u001b[0m\u001b[0m\n\u001b[0;32m      4\u001b[0m \u001b[0mdataY_plot\u001b[0m \u001b[1;33m=\u001b[0m  \u001b[0mnp\u001b[0m\u001b[1;33m.\u001b[0m\u001b[0mreshape\u001b[0m\u001b[1;33m(\u001b[0m\u001b[0mdataY_plot\u001b[0m\u001b[1;33m,\u001b[0m \u001b[1;33m(\u001b[0m\u001b[0mdataY_plot\u001b[0m\u001b[1;33m.\u001b[0m\u001b[0mshape\u001b[0m\u001b[1;33m[\u001b[0m\u001b[1;36m0\u001b[0m\u001b[1;33m]\u001b[0m\u001b[1;33m,\u001b[0m\u001b[1;36m1\u001b[0m\u001b[1;33m)\u001b[0m\u001b[1;33m)\u001b[0m\u001b[1;33m\u001b[0m\u001b[1;33m\u001b[0m\u001b[0m\n\u001b[0;32m      5\u001b[0m \u001b[1;33m\u001b[0m\u001b[0m\n",
      "\u001b[1;31mNameError\u001b[0m: name 'X_tensors' is not defined"
     ]
    }
   ],
   "source": [
    "train_predict, _ = lstm_reg(X_tensors) #forward pass\n",
    "data_predict = train_predict.data.numpy() #numpy conversion\n",
    "dataY_plot = y_tensors.data.numpy()\n",
    "dataY_plot =  np.reshape(dataY_plot, (dataY_plot.shape[0],1))\n",
    "\n",
    "#data_predict = mm.inverse_transform(data_predict) #reverse transformation\n",
    "#dataY_plot = mm.inverse_transform(dataY_plot)\n",
    "\n",
    "plt.figure(figsize=(18,16)) #plotting\n",
    "\n",
    "plt.plot(dataY_plot[split_tr:split_val], label='Actual Data') #actual plot\n",
    "plt.plot(data_predict[split_tr:split_val], label='Predicted Data') #predicted plot\n",
    "plt.title('Validation dataset Prediction')\n",
    "plt.legend()\n",
    "\n",
    "# Show the major grid and style it slightly.\n",
    "plt.grid(which='major', color='#AAA', linewidth=1.5)\n",
    "# Show the minor grid as well. Style it in very light gray as a thin,\n",
    "# dotted line.\n",
    "plt.grid(which='minor', color='#BBB', linestyle=':', linewidth=1)\n",
    "# Make the minor ticks and gridlines show.\n",
    "plt.minorticks_on()\n",
    "\n",
    "plt.show()"
   ]
  },
  {
   "cell_type": "markdown",
   "id": "92f7cf80-63ce-48a7-9c4a-d464572ad495",
   "metadata": {},
   "source": [
    "### Real forecasting by feeding the model's outputs as inputs"
   ]
  },
  {
   "cell_type": "code",
   "execution_count": null,
   "id": "a0cb13e4-7727-4370-8ef6-50113c76a11a",
   "metadata": {},
   "outputs": [],
   "source": [
    "X_val_copy = X_val_tensors_final.clone()  # clone the tensors with a deep copy !\n",
    "future_pred = [] # save lstm predictions\n",
    "future_steps = 1\n",
    "\n",
    "# initiate previous input values\n",
    "x_pred = X_train_tensors_final[-future_steps : , :, :]\n",
    "# last predictin of the lstm\n",
    "out_pred, _ = lstm_reg(x_pred)\n",
    "last_prediction = out_pred.flatten()\n",
    "last_prediction"
   ]
  },
  {
   "cell_type": "code",
   "execution_count": null,
   "id": "c48dd16b-b251-4009-9ba5-058158aa074f",
   "metadata": {},
   "outputs": [],
   "source": [
    "X_val_copy = X_val_tensors_final.clone()  # clone the tensors with a deep copy !\n",
    "future_pred = [] # save lstm predictions\n",
    "future_steps = 2\n",
    "\n",
    "# initiate previous input values\n",
    "x_pred = X_train_tensors_final[-future_steps : , :, :]\n",
    "# last predictin of the lstm\n",
    "out_pred, _ = lstm_reg(x_pred)\n",
    "last_prediction = out_pred.flatten()\n",
    "last_prediction"
   ]
  },
  {
   "cell_type": "code",
   "execution_count": null,
   "id": "d9802302-fd62-4981-9d11-6f16d68b57a7",
   "metadata": {},
   "outputs": [],
   "source": [
    "lstm_reg(x_pred).flatten()"
   ]
  },
  {
   "cell_type": "code",
   "execution_count": null,
   "id": "29370657-b9ee-4507-8357-78adf51dd42a",
   "metadata": {},
   "outputs": [],
   "source": [
    "X_val_copy = X_test_tensors_final.clone()  # clone the tensors with a deep copy !\n",
    "future_pred = [] # save lstm predictions\n",
    "future_steps = 50\n",
    "\n",
    "# initiate previous input values\n",
    "x_pred = X_train_tensors_final[-future_steps : , :, :]\n",
    "# last predictin of the lstm\n",
    "last_prediction = lstm_reg(x_pred).flatten()[-1]\n",
    "for step in range(future_steps) :\n",
    "    # predict next step\n",
    "    last_prediction = lstm_reg(x_pred).flatten()[-1].item()\n",
    "    # replace the real next day price with the lstm prediction but keep news sentiment intact. \n",
    "    X_val_copy[0, :, 0] = last_prediction\n",
    "    \n",
    "    # feed the last forecast back to the model as an input\n",
    "    x_pred = torch.cat((x_pred, X_val_copy[0].view(-1, seq_len, 4) ), 0)\n",
    "    \n",
    "    # save the forecast\n",
    "    future_pred.append(last_prediction)"
   ]
  },
  {
   "cell_type": "code",
   "execution_count": null,
   "id": "fdc1de32-2e03-41d0-ac89-307c47e97f7d",
   "metadata": {},
   "outputs": [],
   "source": [
    "data_predict = future_pred\n",
    "data_predict = np.array(data_predict).reshape((-1,1))\n",
    "dataY_plot = y_tensors.data.numpy()\n",
    "dataY_plot =  np.reshape(dataY_plot, (dataY_plot.shape[0],1))\n",
    "\n",
    "#data_predict = mm.inverse_transform(data_predict) #reverse transformation\n",
    "#dataY_plot = mm.inverse_transform(dataY_plot)\n",
    "\n",
    "plt.figure(figsize=(18,16)) #plotting\n",
    "\n",
    "prediction_len = data_predict.shape[0]\n",
    "plt.plot(dataY_plot[split_tr : split_tr + prediction_len], label='Actual Data') #actual plot\n",
    "plt.plot(data_predict, label='Predicted Data') #predicted plot\n",
    "plt.title('Validation dataset Prediction')\n",
    "plt.legend()\n",
    "\n",
    "# Show the major grid and style it slightly.\n",
    "plt.grid(which='major', color='#AAA', linewidth=1.5)\n",
    "# Show the minor grid as well. Style it in very light gray as a thin,\n",
    "# dotted line.\n",
    "plt.grid(which='minor', color='#BBB', linestyle=':', linewidth=1)\n",
    "# Make the minor ticks and gridlines show.\n",
    "plt.minorticks_on()\n",
    "\n",
    "plt.show()"
   ]
  },
  {
   "cell_type": "markdown",
   "id": "70a8ad43-8e1b-4cf7-84ec-7f20558a508c",
   "metadata": {},
   "source": [
    "### Evaluation of regression predictions with MSE and Spearman Correlation. "
   ]
  },
  {
   "cell_type": "code",
   "execution_count": null,
   "id": "9b4dfc46-9e73-40c3-89aa-bd4252bde421",
   "metadata": {},
   "outputs": [],
   "source": [
    "#from sklearn.metric import mean_squared_error\n",
    "mse = (np.power(dataY_plot[split_tr : split_val] - data_predict[split_tr : split_val], 2).mean())\n",
    "print(\"VAL DATA, MSE loss : \", mse)\n",
    "\n",
    "#from sklearn.metric import mean_squared_error\n",
    "mse = (np.power(dataY_plot[:split_tr] - data_predict[:split_tr], 2).mean())\n",
    "print(\"TRAIN DATA , MSE loss : \", mse)"
   ]
  },
  {
   "cell_type": "code",
   "execution_count": null,
   "id": "aafc32b8-2f1e-40fb-89d4-9ac5c7a4a100",
   "metadata": {},
   "outputs": [],
   "source": [
    "from scipy.stats import spearmanr, pearsonr\n",
    "#from sklearn.metric import mean_squared_error\n",
    "spearman1 = spearmanr(dataY_plot[split_tr : split_val], data_predict[split_tr : split_val])\n",
    "print(\"Val DATA,  Spreaman correlation : \", spearman1)\n",
    "pearson1, p1  = pearsonr(np.squeeze(dataY_plot[split_tr : split_val]), np.squeeze(data_predict[split_tr : split_val]))\n",
    "print(\"Val DATA,  Pearson correlation=\", pearson1, \", pvalue=\",p1)\n",
    "print()\n",
    "\n",
    "#from sklearn.metric import mean_squared_error\n",
    "spearman2 = spearmanr(dataY_plot[:split_tr],data_predict[:split_tr])\n",
    "print(\"TRAIN DATA , Spreaman correlation : \", spearman2)\n",
    "pearson2, p2= pearsonr(np.squeeze(dataY_plot[:split_tr]), np.squeeze(data_predict[:split_tr]))\n",
    "print(\"TRAIN DATA,  Pearson correlation=\", pearson2, \", pvalue=\",p2)"
   ]
  },
  {
   "cell_type": "markdown",
   "id": "97f64ac4-f0e3-40ec-8773-e9e326cdae83",
   "metadata": {},
   "source": [
    "#### Test dataset evaluation (Run only once at the end)"
   ]
  },
  {
   "cell_type": "code",
   "execution_count": null,
   "id": "8935ecf1-d3c3-4126-bef7-176808298862",
   "metadata": {},
   "outputs": [],
   "source": [
    "#from sklearn.metric import mean_squared_error\n",
    "mse = (np.power(dataY_plot[split_val:] - data_predict[split_val:], 2).mean())\n",
    "print(\"TEST DATA, MSE loss : \", mse)\n",
    "\n",
    "spearman = spearmanr(dataY_plot[split_val:],data_predict[split_val:])\n",
    "print(\"TEST DATA,  Spreaman correlation : \", spearman)\n",
    "\n",
    "pearson3, p3= pearsonr(np.squeeze(dataY_plot[split_val:]), np.squeeze(data_predict[split_val:]))\n",
    "print(\"TEST DATA,  Pearson correlation=\", pearson3, \", pvalue=\",p3)"
   ]
  },
  {
   "cell_type": "markdown",
   "id": "59a28455-831a-4ce4-903f-0fa428a2cece",
   "metadata": {},
   "source": [
    "# 2.) Classification of price movement with LSTM "
   ]
  },
  {
   "cell_type": "markdown",
   "id": "06240b1e-b35c-4402-b874-3931e07a6f5c",
   "metadata": {},
   "source": [
    "## Pre-process dataset\n"
   ]
  },
  {
   "cell_type": "markdown",
   "id": "dbb0fe98-2542-4a59-b3a1-19eb7cb2b23a",
   "metadata": {},
   "source": [
    "### Price_change is the class . 0: decrease , +1 : increase"
   ]
  },
  {
   "cell_type": "markdown",
   "id": "040633c1-30a0-43ab-aafd-65c7dbae33b5",
   "metadata": {},
   "source": [
    "Normalise the Close price column and convert Price_change column to (0,1) instead of (-1, 1). "
   ]
  },
  {
   "cell_type": "code",
   "execution_count": 75,
   "id": "52fd0822-c551-47fe-bcbd-afbed853e00a",
   "metadata": {},
   "outputs": [
    {
     "data": {
      "text/html": [
       "<div>\n",
       "<style scoped>\n",
       "    .dataframe tbody tr th:only-of-type {\n",
       "        vertical-align: middle;\n",
       "    }\n",
       "\n",
       "    .dataframe tbody tr th {\n",
       "        vertical-align: top;\n",
       "    }\n",
       "\n",
       "    .dataframe thead th {\n",
       "        text-align: right;\n",
       "    }\n",
       "</style>\n",
       "<table border=\"1\" class=\"dataframe\">\n",
       "  <thead>\n",
       "    <tr style=\"text-align: right;\">\n",
       "      <th></th>\n",
       "      <th>Unnamed: 0</th>\n",
       "      <th>date</th>\n",
       "      <th>Volume</th>\n",
       "      <th>Close</th>\n",
       "      <th>Positive</th>\n",
       "      <th>Negative</th>\n",
       "      <th>Neutral</th>\n",
       "      <th>Price_change</th>\n",
       "    </tr>\n",
       "  </thead>\n",
       "  <tbody>\n",
       "    <tr>\n",
       "      <th>0</th>\n",
       "      <td>0</td>\n",
       "      <td>2010-01-05</td>\n",
       "      <td>1.111477e+07</td>\n",
       "      <td>0.048207</td>\n",
       "      <td>0.157785</td>\n",
       "      <td>0.489590</td>\n",
       "      <td>0.352625</td>\n",
       "      <td>1</td>\n",
       "    </tr>\n",
       "    <tr>\n",
       "      <th>1</th>\n",
       "      <td>1</td>\n",
       "      <td>2010-01-06</td>\n",
       "      <td>9.592200e+06</td>\n",
       "      <td>0.048469</td>\n",
       "      <td>0.159253</td>\n",
       "      <td>0.114102</td>\n",
       "      <td>0.726645</td>\n",
       "      <td>1</td>\n",
       "    </tr>\n",
       "    <tr>\n",
       "      <th>2</th>\n",
       "      <td>2</td>\n",
       "      <td>2010-01-07</td>\n",
       "      <td>1.264640e+07</td>\n",
       "      <td>0.050394</td>\n",
       "      <td>0.441000</td>\n",
       "      <td>0.012006</td>\n",
       "      <td>0.546994</td>\n",
       "      <td>1</td>\n",
       "    </tr>\n",
       "    <tr>\n",
       "      <th>3</th>\n",
       "      <td>3</td>\n",
       "      <td>2010-01-08</td>\n",
       "      <td>1.508503e+07</td>\n",
       "      <td>0.051786</td>\n",
       "      <td>0.039152</td>\n",
       "      <td>0.384472</td>\n",
       "      <td>0.576376</td>\n",
       "      <td>1</td>\n",
       "    </tr>\n",
       "    <tr>\n",
       "      <th>4</th>\n",
       "      <td>4</td>\n",
       "      <td>2010-01-11</td>\n",
       "      <td>7.396000e+06</td>\n",
       "      <td>0.052632</td>\n",
       "      <td>0.114053</td>\n",
       "      <td>0.029774</td>\n",
       "      <td>0.856173</td>\n",
       "      <td>1</td>\n",
       "    </tr>\n",
       "    <tr>\n",
       "      <th>...</th>\n",
       "      <td>...</td>\n",
       "      <td>...</td>\n",
       "      <td>...</td>\n",
       "      <td>...</td>\n",
       "      <td>...</td>\n",
       "      <td>...</td>\n",
       "      <td>...</td>\n",
       "      <td>...</td>\n",
       "    </tr>\n",
       "    <tr>\n",
       "      <th>2603</th>\n",
       "      <td>2603</td>\n",
       "      <td>2020-06-05</td>\n",
       "      <td>2.503270e+07</td>\n",
       "      <td>0.918674</td>\n",
       "      <td>0.567891</td>\n",
       "      <td>0.070503</td>\n",
       "      <td>0.361606</td>\n",
       "      <td>1</td>\n",
       "    </tr>\n",
       "    <tr>\n",
       "      <th>2604</th>\n",
       "      <td>2604</td>\n",
       "      <td>2020-06-08</td>\n",
       "      <td>2.303770e+07</td>\n",
       "      <td>0.934946</td>\n",
       "      <td>0.523481</td>\n",
       "      <td>0.124646</td>\n",
       "      <td>0.351873</td>\n",
       "      <td>1</td>\n",
       "    </tr>\n",
       "    <tr>\n",
       "      <th>2605</th>\n",
       "      <td>2605</td>\n",
       "      <td>2020-06-09</td>\n",
       "      <td>2.969893e+07</td>\n",
       "      <td>0.924280</td>\n",
       "      <td>0.296441</td>\n",
       "      <td>0.337487</td>\n",
       "      <td>0.366072</td>\n",
       "      <td>0</td>\n",
       "    </tr>\n",
       "    <tr>\n",
       "      <th>2606</th>\n",
       "      <td>2606</td>\n",
       "      <td>2020-06-10</td>\n",
       "      <td>3.795272e+07</td>\n",
       "      <td>0.917070</td>\n",
       "      <td>0.390972</td>\n",
       "      <td>0.240399</td>\n",
       "      <td>0.368628</td>\n",
       "      <td>0</td>\n",
       "    </tr>\n",
       "    <tr>\n",
       "      <th>2607</th>\n",
       "      <td>2607</td>\n",
       "      <td>2020-06-11</td>\n",
       "      <td>1.970420e+07</td>\n",
       "      <td>0.837513</td>\n",
       "      <td>0.067369</td>\n",
       "      <td>0.743126</td>\n",
       "      <td>0.189504</td>\n",
       "      <td>0</td>\n",
       "    </tr>\n",
       "  </tbody>\n",
       "</table>\n",
       "<p>2608 rows × 8 columns</p>\n",
       "</div>"
      ],
      "text/plain": [
       "      Unnamed: 0        date        Volume     Close  Positive  Negative  \\\n",
       "0              0  2010-01-05  1.111477e+07  0.048207  0.157785  0.489590   \n",
       "1              1  2010-01-06  9.592200e+06  0.048469  0.159253  0.114102   \n",
       "2              2  2010-01-07  1.264640e+07  0.050394  0.441000  0.012006   \n",
       "3              3  2010-01-08  1.508503e+07  0.051786  0.039152  0.384472   \n",
       "4              4  2010-01-11  7.396000e+06  0.052632  0.114053  0.029774   \n",
       "...          ...         ...           ...       ...       ...       ...   \n",
       "2603        2603  2020-06-05  2.503270e+07  0.918674  0.567891  0.070503   \n",
       "2604        2604  2020-06-08  2.303770e+07  0.934946  0.523481  0.124646   \n",
       "2605        2605  2020-06-09  2.969893e+07  0.924280  0.296441  0.337487   \n",
       "2606        2606  2020-06-10  3.795272e+07  0.917070  0.390972  0.240399   \n",
       "2607        2607  2020-06-11  1.970420e+07  0.837513  0.067369  0.743126   \n",
       "\n",
       "       Neutral  Price_change  \n",
       "0     0.352625             1  \n",
       "1     0.726645             1  \n",
       "2     0.546994             1  \n",
       "3     0.576376             1  \n",
       "4     0.856173             1  \n",
       "...        ...           ...  \n",
       "2603  0.361606             1  \n",
       "2604  0.351873             1  \n",
       "2605  0.366072             0  \n",
       "2606  0.368628             0  \n",
       "2607  0.189504             0  \n",
       "\n",
       "[2608 rows x 8 columns]"
      ]
     },
     "execution_count": 75,
     "metadata": {},
     "output_type": "execute_result"
    }
   ],
   "source": [
    "big_df['Price_change'] = big_df['Price_change'].apply(lambda x : x+1 if (x==-1) else x)\n",
    "big_df['Close'] = (big_df['Close']-big_df['Close'].min())/(big_df['Close'].max()-big_df['Close'].min())\n",
    "big_df"
   ]
  },
  {
   "cell_type": "code",
   "execution_count": 104,
   "id": "c4fb4f64-2181-4ed8-9246-76f4cf0a79f7",
   "metadata": {},
   "outputs": [
    {
     "name": "stdout",
     "output_type": "stream",
     "text": [
      "X shape : (2607, 4)\n",
      "y shape : (2607, 2)\n"
     ]
    }
   ],
   "source": [
    "seq_len = 1\n",
    "# start creating sequences only after the first seq_len elements have passed \n",
    "X = np.zeros((big_df.shape[0] - seq_len, 4))\n",
    "y = np.zeros((big_df.shape[0] - seq_len, 2))\n",
    "print(\"X shape :\",X.shape)\n",
    "print(\"y shape :\",y.shape)"
   ]
  },
  {
   "cell_type": "markdown",
   "id": "06bd7d82-a033-4882-9a7d-1515b5be2c73",
   "metadata": {},
   "source": [
    "#### Sparse vector format labels."
   ]
  },
  {
   "cell_type": "code",
   "execution_count": 105,
   "id": "1d3c0386-8d41-4e61-b8df-0938650c1123",
   "metadata": {},
   "outputs": [],
   "source": [
    "for i in range(seq_len , X.shape[0] + seq_len) :\n",
    "    prev_elems = big_df.iloc[i-seq_len][['Close', 'Positive', 'Negative', 'Neutral']] # previous available date\n",
    "    # only the desired values\n",
    "    prev_elems = [ prev_elems[p] for p in range(len(prev_elems))]\n",
    "    prev_elems = np.array(prev_elems)\n",
    "    # Store previous 30 days close price\n",
    "    X[i-seq_len] = prev_elems\n",
    "   # y[i-seq_len]  = big_df.iloc[i]['Price_change']\n",
    "    # Store label, close price of day 31 \n",
    "    change = big_df.iloc[i]['Price_change']\n",
    "    if change==0 : # decrease\n",
    "        y[i-seq_len] = np.array([0, 1]) # vector for decrease\n",
    "    else : \n",
    "        y[i-seq_len] = np.array([1, 0]) # vector for increase"
   ]
  },
  {
   "cell_type": "code",
   "execution_count": 106,
   "id": "b3c3da42-ced7-475a-bad3-fbb4288215d1",
   "metadata": {},
   "outputs": [
    {
     "data": {
      "text/plain": [
       "(2607, 4)"
      ]
     },
     "execution_count": 106,
     "metadata": {},
     "output_type": "execute_result"
    }
   ],
   "source": [
    "X.shape"
   ]
  },
  {
   "cell_type": "markdown",
   "id": "ba060139-a671-480a-a018-afd0e5c529cb",
   "metadata": {},
   "source": [
    "#### Binary format labels"
   ]
  },
  {
   "cell_type": "code",
   "execution_count": 107,
   "id": "0534cb8e-35eb-4ded-9303-943cdb6acb07",
   "metadata": {},
   "outputs": [
    {
     "data": {
      "text/plain": [
       "\"\\nfor i in range(seq_len , X.shape[0] + seq_len) :\\n    prev_elems = big_df.iloc[i-seq_len][['Close', 'Positive', 'Negative', 'Neutral']] # previous available date\\n    # only the desired values\\n    prev_elems = [ prev_elems[p] for p in range(len(prev_elems))]\\n    prev_elems = np.array(prev_elems)\\n    # Store previous 30 days close price\\n    X[i-seq_len] = prev_elems\\n    y[i-seq_len]  = big_df.iloc[i]['Price_change']\\n\""
      ]
     },
     "execution_count": 107,
     "metadata": {},
     "output_type": "execute_result"
    }
   ],
   "source": [
    "'''\n",
    "for i in range(seq_len , X.shape[0] + seq_len) :\n",
    "    prev_elems = big_df.iloc[i-seq_len][['Close', 'Positive', 'Negative', 'Neutral']] # previous available date\n",
    "    # only the desired values\n",
    "    prev_elems = [ prev_elems[p] for p in range(len(prev_elems))]\n",
    "    prev_elems = np.array(prev_elems)\n",
    "    # Store previous 30 days close price\n",
    "    X[i-seq_len] = prev_elems\n",
    "    y[i-seq_len]  = big_df.iloc[i]['Price_change']\n",
    "'''"
   ]
  },
  {
   "cell_type": "markdown",
   "id": "9f8c19bb-c51f-450c-8d9d-874e9d3dff2d",
   "metadata": {},
   "source": [
    "### Normalise dataset and split into train-test.\n",
    "#### Convert np.arrays into tensors and reshape in the format expected by the LSTM .\n",
    "Min - Max scaling "
   ]
  },
  {
   "cell_type": "code",
   "execution_count": 108,
   "id": "36806b98-9589-4ee0-9870-d95bdb09ece6",
   "metadata": {},
   "outputs": [
    {
     "name": "stdout",
     "output_type": "stream",
     "text": [
      "Train data shapes X:(1565, 4) , y:(1565, 2)\n",
      "Test data shapes X:(521, 4) , y:(521, 2)\n",
      "Val data shapes X:(521, 4) , y:(521, 2)\n",
      "Training Shape torch.Size([1565, 1, 4]) torch.Size([1565, 2])\n",
      "Testing Shape torch.Size([521, 1, 4]) torch.Size([521, 2])\n",
      "Validation Shape torch.Size([521, 1, 4]) torch.Size([521, 2])\n"
     ]
    }
   ],
   "source": [
    "# transform features with standard scaler, and output values (close prices) to [0,1] with minmax scaler\n",
    "from torch.autograd import Variable\n",
    "from sklearn.preprocessing import StandardScaler, MinMaxScaler\n",
    "mm = MinMaxScaler()\n",
    "#ss = StandardScaler()\n",
    "#X_price_norm = mm.fit_transform(X[:,0])\n",
    "X_mm = X # mm.fit_transform(X)\n",
    "\n",
    "# fraction of the test set.\n",
    "percentage = 0.4\n",
    "split_tr = ceil(X_mm.shape[0] *(1-percentage))\n",
    "split_val = ceil(X_mm.shape[0] *(1- percentage/2))\n",
    "\n",
    "X_train = X_mm[0:split_tr]\n",
    "y_train = y[0:split_tr]\n",
    "X_val= X_mm[split_tr: split_val]\n",
    "y_val= y[split_tr: split_val]\n",
    "X_test= X_mm[split_val:]\n",
    "y_test= y[split_val:]\n",
    "print(f\"Train data shapes X:{X_train.shape} , y:{y_train.shape}\")\n",
    "print(f\"Test data shapes X:{X_test.shape} , y:{y_test.shape}\")\n",
    "print(f\"Val data shapes X:{X_val.shape} , y:{y_val.shape}\")\n",
    "\n",
    "### TO tensors \n",
    "###\n",
    "X_tensors = Variable(torch.Tensor(X_mm))\n",
    "y_tensors = Variable(torch.Tensor(y))\n",
    "#reshaping to rows, timestamps, features\n",
    "X_tensors = torch.reshape(X_tensors,   (X_tensors.shape[0], 1, X_tensors.shape[1]))\n",
    "y_tensors = torch.reshape(y_tensors,  (y_tensors.shape[0], 1, y_tensors.shape[1]))\n",
    "\n",
    "X_train_tensors = Variable(torch.Tensor(X_train))\n",
    "X_test_tensors = Variable(torch.Tensor(X_test))\n",
    "X_val_tensors = Variable(torch.Tensor(X_val))\n",
    "y_train_tensors = Variable(torch.Tensor(y_train))\n",
    "y_test_tensors = Variable(torch.Tensor(y_test))\n",
    "y_val_tensors = Variable(torch.Tensor(y_val))\n",
    "\n",
    "#reshaping to rows, timestamps, features\n",
    "X_train_tensors_final = torch.reshape(X_train_tensors,   (X_train_tensors.shape[0], 1, X_train_tensors.shape[1]))\n",
    "X_test_tensors_final = torch.reshape(X_test_tensors,  (X_test_tensors.shape[0], 1, X_test_tensors.shape[1]))\n",
    "X_val_tensors_final = torch.reshape(X_val_tensors,  (X_val_tensors.shape[0], 1, X_val_tensors.shape[1]))\n",
    "\n",
    "print(\"Training Shape\", X_train_tensors_final.shape, y_train_tensors.shape)\n",
    "print(\"Testing Shape\", X_test_tensors_final.shape, y_test_tensors.shape)\n",
    "print(\"Validation Shape\", X_val_tensors_final.shape, y_val_tensors.shape)"
   ]
  },
  {
   "cell_type": "markdown",
   "id": "580ef0ca-e81b-466c-8648-c01a892d9085",
   "metadata": {},
   "source": [
    "### Define classification LSTM  : We need to add a sigmoid activation function at the end in order to get output in the $[0,1]$ range."
   ]
  },
  {
   "cell_type": "code",
   "execution_count": 128,
   "id": "fc166692-5b87-4ce2-9704-da1ac002123a",
   "metadata": {},
   "outputs": [],
   "source": [
    "class LSTM_clf(nn.Module):\n",
    "    def __init__(self, num_classes, input_size, hidden_size, num_layers, dropout=0.3, fc_size = 128):\n",
    "        super(LSTM_clf, self).__init__()\n",
    "        self.num_classes = num_classes #number of classes\n",
    "        self.num_layers = num_layers #number of layers\n",
    "        self.input_size = input_size #input size\n",
    "        self.hidden_size = hidden_size #hidden state\n",
    "\n",
    "        self.lstm = nn.LSTM(input_size=input_size, hidden_size=hidden_size,\n",
    "                            num_layers=num_layers, batch_first=True, dropout=dropout) #lstm\n",
    "        \n",
    "        self.fc_1 =  nn.Linear(hidden_size * num_layers, fc_size) #fully connected 1\n",
    "        self.fc = nn.Linear(fc_size, num_classes) #fully connected last layer\n",
    "        self.dropout = nn.Dropout(p=dropout)\n",
    "\n",
    "        self.relu = nn.ReLU()\n",
    "        # sigmoid activation for end classification\n",
    "        self.sigm = nn.Sigmoid()\n",
    "        self.tanh = nn.Tanh()\n",
    "\n",
    "    def forward(self,x):\n",
    "        h_0_0 = Variable(torch.zeros(self.num_layers, x.size(0), self.hidden_size)) #hidden state 1st lstm layer\n",
    "        c_0_0 = Variable(torch.zeros(self.num_layers, x.size(0), self.hidden_size)) #internal state 1st lstm layer\n",
    "\n",
    "        # Propagate input through LSTM\n",
    "        output, (hn, cn) = self.lstm(x, (h_0_0, c_0_0)) #lstm with input, hidden, and internal state\n",
    "       # print(output.shape)\n",
    "       # print(hn.shape)\n",
    "        output = output.view(-1, self.hidden_size * num_layers) #reshaping (flatten) the data for Dense layer next\n",
    "        out = self.fc_1(output) #first Dense\n",
    "        out = self.dropout(out)\n",
    "        out = self.relu(out) #relu\n",
    "        out = self.fc(out) #Final Output\n",
    "        \n",
    "        out = self.sigm(out)\n",
    "        return out"
   ]
  },
  {
   "cell_type": "markdown",
   "id": "6350e093-e74b-4fc4-ae17-9041ae39dc5d",
   "metadata": {},
   "source": [
    "#### Training the LSTM . "
   ]
  },
  {
   "cell_type": "code",
   "execution_count": 143,
   "id": "db41f883-c641-4ba7-bdbb-32d3a3358061",
   "metadata": {},
   "outputs": [
    {
     "name": "stderr",
     "output_type": "stream",
     "text": [
      "C:\\Users\\Konpoul\\miniconda3\\envs\\data-an\\lib\\site-packages\\torch\\nn\\modules\\rnn.py:62: UserWarning: dropout option adds dropout after all but last recurrent layer, so non-zero dropout expects num_layers greater than 1, but got dropout=0.3 and num_layers=1\n",
      "  warnings.warn(\"dropout option adds dropout after all but last \"\n",
      "  1%|▍                                                                                 | 4/750 [00:00<00:21, 34.07it/s]"
     ]
    },
    {
     "name": "stdout",
     "output_type": "stream",
     "text": [
      "Epoch: 0, train_loss: 0.69372,  val_loss: 0.69380 \n"
     ]
    },
    {
     "name": "stderr",
     "output_type": "stream",
     "text": [
      " 14%|███████████▍                                                                    | 107/750 [00:02<00:15, 42.62it/s]"
     ]
    },
    {
     "name": "stdout",
     "output_type": "stream",
     "text": [
      "Epoch: 100, train_loss: 0.69057,  val_loss: 0.68972 \n"
     ]
    },
    {
     "name": "stderr",
     "output_type": "stream",
     "text": [
      " 28%|██████████████████████                                                          | 207/750 [00:04<00:13, 41.58it/s]"
     ]
    },
    {
     "name": "stdout",
     "output_type": "stream",
     "text": [
      "Epoch: 200, train_loss: 0.68912,  val_loss: 0.68813 \n"
     ]
    },
    {
     "name": "stderr",
     "output_type": "stream",
     "text": [
      " 41%|████████████████████████████████▋                                               | 307/750 [00:07<00:11, 38.83it/s]"
     ]
    },
    {
     "name": "stdout",
     "output_type": "stream",
     "text": [
      "Epoch: 300, train_loss: 0.68881,  val_loss: 0.68808 \n"
     ]
    },
    {
     "name": "stderr",
     "output_type": "stream",
     "text": [
      " 54%|███████████████████████████████████████████▎                                    | 406/750 [00:09<00:08, 40.04it/s]"
     ]
    },
    {
     "name": "stdout",
     "output_type": "stream",
     "text": [
      "Epoch: 400, train_loss: 0.68866,  val_loss: 0.68793 \n"
     ]
    },
    {
     "name": "stderr",
     "output_type": "stream",
     "text": [
      " 67%|█████████████████████████████████████████████████████▊                          | 505/750 [00:12<00:05, 40.91it/s]"
     ]
    },
    {
     "name": "stdout",
     "output_type": "stream",
     "text": [
      "Epoch: 500, train_loss: 0.68821,  val_loss: 0.68760 \n"
     ]
    },
    {
     "name": "stderr",
     "output_type": "stream",
     "text": [
      " 81%|████████████████████████████████████████████████████████████████▋               | 606/750 [00:14<00:03, 41.90it/s]"
     ]
    },
    {
     "name": "stdout",
     "output_type": "stream",
     "text": [
      "Epoch: 600, train_loss: 0.68782,  val_loss: 0.68800 \n"
     ]
    },
    {
     "name": "stderr",
     "output_type": "stream",
     "text": [
      " 94%|███████████████████████████████████████████████████████████████████████████▏    | 705/750 [00:17<00:01, 42.49it/s]"
     ]
    },
    {
     "name": "stdout",
     "output_type": "stream",
     "text": [
      "Epoch: 700, train_loss: 0.68747,  val_loss: 0.68796 \n"
     ]
    },
    {
     "name": "stderr",
     "output_type": "stream",
     "text": [
      "100%|████████████████████████████████████████████████████████████████████████████████| 750/750 [00:18<00:00, 40.83it/s]\n"
     ]
    }
   ],
   "source": [
    "#hyperparameters\n",
    "num_epochs = 750 #1000 epochs\n",
    "learning_rate = 0.0001\n",
    "input_size = 4 #number of features\n",
    "hidden_size = 60 #number of features in hidden state\n",
    "num_layers = 1 #number of stacked lstm layers\n",
    "\n",
    "num_classes = 2 #number of output classes\n",
    "\n",
    "lstm_clf = LSTM_clf(num_classes, input_size, hidden_size, num_layers, dropout = 0.3, fc_size=312)#X_train_tensors_final.shape[1]) #our lstm class\n",
    "\n",
    "criterion = torch.nn.CrossEntropyLoss() #   # mean-squared error for regression\n",
    "optimizer = torch.optim.Adam(lstm_clf.parameters(), lr=learning_rate)\n",
    "\n",
    "\n",
    "plot_loss_tr = []\n",
    "plot_loss_val = []\n",
    "for epoch in tqdm(range(num_epochs)):\n",
    "    \n",
    "    #print(X_train_tensors_final.shape)\n",
    "    outputs = lstm_clf.forward(X_train_tensors_final) #forward pass\n",
    "    optimizer.zero_grad() #caluclate the gradient, manually setting to 0\n",
    "    #print(outputs.shape)\n",
    "    #print(y_train_tensors.shape)\n",
    "    # obtain the loss function\n",
    "    loss = criterion(outputs, y_train_tensors)\n",
    "    plot_loss_tr.append(loss.item())\n",
    "    loss.backward() #calculates the loss of the loss function\n",
    "\n",
    "    # Compute validation loss\n",
    "    val_outs = lstm_clf.forward(X_val_tensors_final) #forward pass\n",
    "    val_loss = criterion(val_outs, y_val_tensors)\n",
    "    plot_loss_val.append(val_loss.item())\n",
    "    \n",
    "    optimizer.step() #improve from loss, i.e backprop\n",
    "    if epoch % 100 == 0:\n",
    "        print(\"Epoch: %d, train_loss: %1.5f,  val_loss: %1.5f \" % (epoch, loss.item(), val_loss.item()))"
   ]
  },
  {
   "cell_type": "code",
   "execution_count": 144,
   "id": "84bffe73-5e54-48b9-8603-9901800b13f9",
   "metadata": {},
   "outputs": [
    {
     "data": {
      "image/png": "[encoded data removed]",
      "text/plain": [
       "<Figure size 720x720 with 1 Axes>"
      ]
     },
     "metadata": {
      "needs_background": "light"
     },
     "output_type": "display_data"
    }
   ],
   "source": [
    "fig , ax = plt.subplots(figsize = (10,10))\n",
    "\n",
    "plt.plot(plot_loss_val, label='Val_loss') #actual plot\n",
    "plt.plot(plot_loss_tr, label='Train_loss') #predicted plot\n",
    "plt.title('Training and validation loss curves')\n",
    "plt.xlabel('epochs', fontsize=14)\n",
    "plt.ylabel('Loss', fontsize=14)\n",
    "plt.legend()\n",
    "plt.show()"
   ]
  },
  {
   "cell_type": "markdown",
   "id": "027c1bd8-55e0-446f-bbba-315e6a29f0fc",
   "metadata": {},
   "source": [
    "### Prediction and evaluation of LSTM classifier ."
   ]
  },
  {
   "cell_type": "markdown",
   "id": "09f788ae-4a3f-422e-b02f-46aa0bbe1965",
   "metadata": {},
   "source": [
    " predictions in the right form to be accepted by sklearn accuracy functions and confusion matrix"
   ]
  },
  {
   "cell_type": "code",
   "execution_count": 145,
   "id": "e7993ee7-92a3-492f-af46-9db4c798b3fd",
   "metadata": {},
   "outputs": [],
   "source": [
    "train_predict = lstm_clf(X_tensors) #forward pass\n",
    "data_predict = train_predict.data.numpy() #numpy conversion\n",
    "for i in range(len(data_predict)):\n",
    "    index = np.argmax(data_predict, axis=1) # np.where(data_predict >=0.5, 1, 0) #\n",
    "    if (index[i] == 0) :\n",
    "        data_predict[i][index] = 1\n",
    "        data_predict[i][1] = 0 \n",
    "    else :\n",
    "        data_predict[i][0] = 0\n",
    "        data_predict[i][1] = 1 "
   ]
  },
  {
   "cell_type": "code",
   "execution_count": 146,
   "id": "17de9984-adf3-4ebd-b35a-4aef6eec30e4",
   "metadata": {},
   "outputs": [
    {
     "name": "stdout",
     "output_type": "stream",
     "text": [
      "TRAIN DATA , accuracy :  0.552716\n",
      "VAL DATA, accuracy :  0.550864\n"
     ]
    }
   ],
   "source": [
    "from sklearn.metrics import accuracy_score, balanced_accuracy_score\n",
    "\n",
    "#from sklearn.metric import mean_squared_error\n",
    "acc = accuracy_score(y[:split_tr], data_predict[:split_tr])\n",
    "print(\"TRAIN DATA , accuracy : \", round(acc,6))\n",
    "\n",
    "#bacc =  balanced_accuracy_score(y[:split_tr], predictions[:split_tr])\n",
    "#print(\"TRAIN DATA , balanced accuracy : \", round(bacc,6))\n",
    "\n",
    "acc = accuracy_score(y[split_tr : split_val], data_predict[split_tr : split_val])\n",
    "print(\"VAL DATA, accuracy : \", round(acc,6))"
   ]
  },
  {
   "cell_type": "code",
   "execution_count": 147,
   "id": "991d84a0-4496-4c8d-9b33-4579c4b8057a",
   "metadata": {},
   "outputs": [
    {
     "name": "stdout",
     "output_type": "stream",
     "text": [
      "Number of increase label predictions : (2339, 2)\n",
      "Number of decrease label predictions : (268, 2)\n",
      "Overall data dataset shape :  (2607, 2)\n"
     ]
    }
   ],
   "source": [
    "# Number of increase predictions \n",
    "print(\"Number of increase label predictions :\",data_predict[data_predict[:,0] == 1].shape)\n",
    "print(\"Number of decrease label predictions :\",data_predict[data_predict[:,1] == 1].shape)\n",
    "print(\"Overall data dataset shape : \",data_predict.shape)"
   ]
  },
  {
   "cell_type": "code",
   "execution_count": 150,
   "id": "605e96d3-9e14-4785-9074-74a3a653c02a",
   "metadata": {},
   "outputs": [
    {
     "data": {
      "image/png": "[encoded data removed]",
      "text/plain": [
       "<Figure size 432x288 with 2 Axes>"
      ]
     },
     "metadata": {
      "needs_background": "light"
     },
     "output_type": "display_data"
    }
   ],
   "source": [
    "from sklearn.metrics import confusion_matrix, ConfusionMatrixDisplay\n",
    "\n",
    "y_conf = np.argmax(y, axis=1)\n",
    "pred_conf = np.argmax(data_predict, axis=1)\n",
    "\n",
    "cm = confusion_matrix(y_conf[split_tr : split_val] , pred_conf[split_tr : split_val], labels=[0,1])\n",
    "disp = ConfusionMatrixDisplay(confusion_matrix=cm,\n",
    "                              display_labels=[0,1])\n",
    "disp.plot()\n",
    "plt.show()"
   ]
  },
  {
   "cell_type": "markdown",
   "id": "9c651edd-722f-4d19-acff-e21781ee619e",
   "metadata": {},
   "source": [
    "#### TEST EVALUATION"
   ]
  },
  {
   "cell_type": "code",
   "execution_count": 149,
   "id": "4861abc2-b883-4ca7-ab19-8b9075179e70",
   "metadata": {},
   "outputs": [
    {
     "name": "stdout",
     "output_type": "stream",
     "text": [
      "TEST DATA, accuracy :  0.514395\n"
     ]
    },
    {
     "data": {
      "image/png": "[encoded data removed]",
      "text/plain": [
       "<Figure size 432x288 with 2 Axes>"
      ]
     },
     "metadata": {
      "needs_background": "light"
     },
     "output_type": "display_data"
    }
   ],
   "source": [
    "acc = accuracy_score(y_conf[split_val:], pred_conf[split_val:])\n",
    "print(\"TEST DATA, accuracy : \", round(acc,6))\n",
    "\n",
    "from sklearn.metrics import confusion_matrix, ConfusionMatrixDisplay\n",
    "\n",
    "cm = confusion_matrix(y_conf[split_val:] , pred_conf[split_val:], labels=[0,1])\n",
    "disp = ConfusionMatrixDisplay(confusion_matrix=cm,\n",
    "                         display_labels=[0,1])\n",
    "disp.plot()\n",
    "plt.show()"
   ]
  }
 ],
 "metadata": {
  "kernelspec": {
   "display_name": "Python 3 (ipykernel)",
   "language": "python",
   "name": "python3"
  },
  "language_info": {
   "codemirror_mode": {
    "name": "ipython",
    "version": 3
   },
   "file_extension": ".py",
   "mimetype": "text/x-python",
   "name": "python",
   "nbconvert_exporter": "python",
   "pygments_lexer": "ipython3",
   "version": "3.9.7"
  }
 },
 "nbformat": 4,
 "nbformat_minor": 5
}
