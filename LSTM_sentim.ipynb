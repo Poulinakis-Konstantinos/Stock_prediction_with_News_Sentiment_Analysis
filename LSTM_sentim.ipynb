{
 "cells": [
  {
   "cell_type": "code",
   "execution_count": 1,
   "id": "e2ac9be8-1bd0-4a26-ba83-0c80622bf241",
   "metadata": {},
   "outputs": [],
   "source": [
    "import torch \n",
    "import numpy as np\n",
    "import pandas as pd \n",
    "from utilities import *\n",
    "from math import ceil\n",
    "import matplotlib.pyplot as plt\n",
    "from tqdm import tqdm\n",
    "\n",
    "import torch.nn as nn\n",
    "from torch.autograd import Variable"
   ]
  },
  {
   "cell_type": "code",
   "execution_count": 2,
   "id": "fd67f042-2c97-4a8f-9605-274f56e2a3f6",
   "metadata": {},
   "outputs": [
    {
     "name": "stdout",
     "output_type": "stream",
     "text": [
      "[*********************100%***********************]  1 of 1 completed\n",
      "NVDA financial dataframe dimensions  (2770, 6)\n",
      "Positive changes : 1454\n",
      "Negative changes : 1316\n",
      "No changes : 0\n"
     ]
    },
    {
     "data": {
      "text/html": [
       "<div>\n",
       "<style scoped>\n",
       "    .dataframe tbody tr th:only-of-type {\n",
       "        vertical-align: middle;\n",
       "    }\n",
       "\n",
       "    .dataframe tbody tr th {\n",
       "        vertical-align: top;\n",
       "    }\n",
       "\n",
       "    .dataframe thead th {\n",
       "        text-align: right;\n",
       "    }\n",
       "</style>\n",
       "<table border=\"1\" class=\"dataframe\">\n",
       "  <thead>\n",
       "    <tr style=\"text-align: right;\">\n",
       "      <th></th>\n",
       "      <th>Open</th>\n",
       "      <th>Close</th>\n",
       "      <th>Volume</th>\n",
       "      <th>Price_change</th>\n",
       "      <th>date</th>\n",
       "    </tr>\n",
       "    <tr>\n",
       "      <th>Date</th>\n",
       "      <th></th>\n",
       "      <th></th>\n",
       "      <th></th>\n",
       "      <th></th>\n",
       "      <th></th>\n",
       "    </tr>\n",
       "  </thead>\n",
       "  <tbody>\n",
       "    <tr>\n",
       "      <th>2009-12-31</th>\n",
       "      <td>4.677500</td>\n",
       "      <td>4.670000</td>\n",
       "      <td>70034000</td>\n",
       "      <td>1</td>\n",
       "      <td>0</td>\n",
       "    </tr>\n",
       "    <tr>\n",
       "      <th>2010-01-04</th>\n",
       "      <td>4.627500</td>\n",
       "      <td>4.622500</td>\n",
       "      <td>80020400</td>\n",
       "      <td>-1</td>\n",
       "      <td>2010-01-04</td>\n",
       "    </tr>\n",
       "    <tr>\n",
       "      <th>2010-01-05</th>\n",
       "      <td>4.605000</td>\n",
       "      <td>4.690000</td>\n",
       "      <td>72864800</td>\n",
       "      <td>1</td>\n",
       "      <td>2010-01-05</td>\n",
       "    </tr>\n",
       "    <tr>\n",
       "      <th>2010-01-06</th>\n",
       "      <td>4.687500</td>\n",
       "      <td>4.720000</td>\n",
       "      <td>64916800</td>\n",
       "      <td>1</td>\n",
       "      <td>2010-01-06</td>\n",
       "    </tr>\n",
       "    <tr>\n",
       "      <th>2010-01-07</th>\n",
       "      <td>4.695000</td>\n",
       "      <td>4.627500</td>\n",
       "      <td>54779200</td>\n",
       "      <td>-1</td>\n",
       "      <td>2010-01-07</td>\n",
       "    </tr>\n",
       "    <tr>\n",
       "      <th>...</th>\n",
       "      <td>...</td>\n",
       "      <td>...</td>\n",
       "      <td>...</td>\n",
       "      <td>...</td>\n",
       "      <td>...</td>\n",
       "    </tr>\n",
       "    <tr>\n",
       "      <th>2020-12-24</th>\n",
       "      <td>130.372498</td>\n",
       "      <td>129.937500</td>\n",
       "      <td>9788400</td>\n",
       "      <td>-1</td>\n",
       "      <td>2020-12-24</td>\n",
       "    </tr>\n",
       "    <tr>\n",
       "      <th>2020-12-28</th>\n",
       "      <td>130.625000</td>\n",
       "      <td>129.000000</td>\n",
       "      <td>21256400</td>\n",
       "      <td>-1</td>\n",
       "      <td>2020-12-28</td>\n",
       "    </tr>\n",
       "    <tr>\n",
       "      <th>2020-12-29</th>\n",
       "      <td>129.250000</td>\n",
       "      <td>129.432495</td>\n",
       "      <td>17037200</td>\n",
       "      <td>1</td>\n",
       "      <td>2020-12-29</td>\n",
       "    </tr>\n",
       "    <tr>\n",
       "      <th>2020-12-30</th>\n",
       "      <td>129.902496</td>\n",
       "      <td>131.457504</td>\n",
       "      <td>22539600</td>\n",
       "      <td>1</td>\n",
       "      <td>2020-12-30</td>\n",
       "    </tr>\n",
       "    <tr>\n",
       "      <th>2020-12-31</th>\n",
       "      <td>131.365005</td>\n",
       "      <td>130.550003</td>\n",
       "      <td>19242400</td>\n",
       "      <td>-1</td>\n",
       "      <td>2020-12-31</td>\n",
       "    </tr>\n",
       "  </tbody>\n",
       "</table>\n",
       "<p>2770 rows × 5 columns</p>\n",
       "</div>"
      ],
      "text/plain": [
       "                  Open       Close    Volume  Price_change        date\n",
       "Date                                                                  \n",
       "2009-12-31    4.677500    4.670000  70034000             1           0\n",
       "2010-01-04    4.627500    4.622500  80020400            -1  2010-01-04\n",
       "2010-01-05    4.605000    4.690000  72864800             1  2010-01-05\n",
       "2010-01-06    4.687500    4.720000  64916800             1  2010-01-06\n",
       "2010-01-07    4.695000    4.627500  54779200            -1  2010-01-07\n",
       "...                ...         ...       ...           ...         ...\n",
       "2020-12-24  130.372498  129.937500   9788400            -1  2020-12-24\n",
       "2020-12-28  130.625000  129.000000  21256400            -1  2020-12-28\n",
       "2020-12-29  129.250000  129.432495  17037200             1  2020-12-29\n",
       "2020-12-30  129.902496  131.457504  22539600             1  2020-12-30\n",
       "2020-12-31  131.365005  130.550003  19242400            -1  2020-12-31\n",
       "\n",
       "[2770 rows x 5 columns]"
      ]
     },
     "execution_count": 2,
     "metadata": {},
     "output_type": "execute_result"
    }
   ],
   "source": [
    "finances = financial_dataset('NVDA', num_of_labels=2)\n",
    "finances"
   ]
  },
  {
   "cell_type": "markdown",
   "id": "672015e1-464c-476b-baed-e28ea0ba9c8b",
   "metadata": {},
   "source": [
    "### Create dataset "
   ]
  },
  {
   "cell_type": "code",
   "execution_count": 8,
   "id": "c7bce835-b9a8-4c3e-8723-746a23920bb0",
   "metadata": {},
   "outputs": [],
   "source": [
    "from transformers import AutoTokenizer, AutoModelForSequenceClassification\n",
    "tokenizer = AutoTokenizer.from_pretrained(\"ProsusAI/finbert\")\n",
    "model = AutoModelForSequenceClassification.from_pretrained(\"ProsusAI/finbert\")"
   ]
  },
  {
   "cell_type": "code",
   "execution_count": 10,
   "id": "9b7d6b2a-36ad-400f-93a3-deed53181cfb",
   "metadata": {},
   "outputs": [
    {
     "name": "stdout",
     "output_type": "stream",
     "text": [
      "The bot found 3133 headlines from analyst_ratings_processed.csv, regarding NVDA stock\n",
      "The bot found 0 headlines from raw_partner_headlines.csv, regarding NVDA stock\n",
      "The bot found 3133 headlines in total, regarding NVDA stock\n",
      "[*********************100%***********************]  1 of 1 completed\n",
      "NVDA financial dataframe dimensions  (2770, 6)\n",
      "Positive changes : 1454\n",
      "Negative changes : 1316\n",
      "No changes : 0\n",
      "Performing sentiment analysis for stock NVDA\n"
     ]
    },
    {
     "name": "stderr",
     "output_type": "stream",
     "text": [
      "100%|██████████████████████████████████████████████████████████████████████████████| 3057/3057 [04:19<00:00, 11.77it/s]\n"
     ]
    },
    {
     "name": "stdout",
     "output_type": "stream",
     "text": [
      " Dataframe now contains sentiment score for 1122 different dates.\n"
     ]
    }
   ],
   "source": [
    "stocks = ['NVDA']\n",
    "big_df = pd.DataFrame()\n",
    "# Read finances and news for all stocks in list and create a big dataframe.\n",
    "for stock in stocks :\n",
    "    news = read_news(stock)\n",
    "    finances = financial_dataset(stock, num_of_labels=2)\n",
    "    merged_df = merge_fin_news(finances, news, how='inner')\n",
    "    print(f\"Performing sentiment analysis for stock {stock}\")\n",
    "    sentimentized_df = sentim_analyzer(merged_df, tokenizer, model)\n",
    "    # average sentiment for each unique date.\n",
    "    sentimentized_df = merge_dates(sentimentized_df)\n",
    "    big_df = pd.concat([big_df, sentimentized_df], axis=0, ignore_index=True)"
   ]
  },
  {
   "cell_type": "markdown",
   "id": "d388c5a7-b714-4e0d-9dbc-895feda41088",
   "metadata": {},
   "source": [
    "### Or load it if it's already on system"
   ]
  },
  {
   "cell_type": "code",
   "execution_count": 11,
   "id": "50e75a6f-565a-4fd1-a6ee-d0a337635678",
   "metadata": {},
   "outputs": [
    {
     "data": {
      "text/html": [
       "<div>\n",
       "<style scoped>\n",
       "    .dataframe tbody tr th:only-of-type {\n",
       "        vertical-align: middle;\n",
       "    }\n",
       "\n",
       "    .dataframe tbody tr th {\n",
       "        vertical-align: top;\n",
       "    }\n",
       "\n",
       "    .dataframe thead th {\n",
       "        text-align: right;\n",
       "    }\n",
       "</style>\n",
       "<table border=\"1\" class=\"dataframe\">\n",
       "  <thead>\n",
       "    <tr style=\"text-align: right;\">\n",
       "      <th></th>\n",
       "      <th>date</th>\n",
       "      <th>stock</th>\n",
       "      <th>Open</th>\n",
       "      <th>Close</th>\n",
       "      <th>Volume</th>\n",
       "      <th>Positive</th>\n",
       "      <th>Negative</th>\n",
       "      <th>Neutral</th>\n",
       "      <th>Price_change</th>\n",
       "    </tr>\n",
       "  </thead>\n",
       "  <tbody>\n",
       "    <tr>\n",
       "      <th>0</th>\n",
       "      <td>2011-03-03</td>\n",
       "      <td>NVDA</td>\n",
       "      <td>5.307500</td>\n",
       "      <td>5.217500</td>\n",
       "      <td>159370400</td>\n",
       "      <td>0.015090</td>\n",
       "      <td>0.825096</td>\n",
       "      <td>0.159814</td>\n",
       "      <td>1</td>\n",
       "    </tr>\n",
       "    <tr>\n",
       "      <th>1</th>\n",
       "      <td>2011-03-07</td>\n",
       "      <td>NVDA</td>\n",
       "      <td>5.227500</td>\n",
       "      <td>5.117500</td>\n",
       "      <td>101914000</td>\n",
       "      <td>0.064805</td>\n",
       "      <td>0.025756</td>\n",
       "      <td>0.909439</td>\n",
       "      <td>-1</td>\n",
       "    </tr>\n",
       "    <tr>\n",
       "      <th>2</th>\n",
       "      <td>2011-03-08</td>\n",
       "      <td>NVDA</td>\n",
       "      <td>5.172500</td>\n",
       "      <td>4.887500</td>\n",
       "      <td>194718400</td>\n",
       "      <td>0.331308</td>\n",
       "      <td>0.294181</td>\n",
       "      <td>0.374511</td>\n",
       "      <td>-1</td>\n",
       "    </tr>\n",
       "    <tr>\n",
       "      <th>3</th>\n",
       "      <td>2011-03-09</td>\n",
       "      <td>NVDA</td>\n",
       "      <td>4.872500</td>\n",
       "      <td>4.785000</td>\n",
       "      <td>131897600</td>\n",
       "      <td>0.060045</td>\n",
       "      <td>0.017414</td>\n",
       "      <td>0.922541</td>\n",
       "      <td>-1</td>\n",
       "    </tr>\n",
       "    <tr>\n",
       "      <th>4</th>\n",
       "      <td>2011-03-10</td>\n",
       "      <td>NVDA</td>\n",
       "      <td>4.675000</td>\n",
       "      <td>4.480000</td>\n",
       "      <td>172273600</td>\n",
       "      <td>0.070367</td>\n",
       "      <td>0.041462</td>\n",
       "      <td>0.888172</td>\n",
       "      <td>-1</td>\n",
       "    </tr>\n",
       "    <tr>\n",
       "      <th>...</th>\n",
       "      <td>...</td>\n",
       "      <td>...</td>\n",
       "      <td>...</td>\n",
       "      <td>...</td>\n",
       "      <td>...</td>\n",
       "      <td>...</td>\n",
       "      <td>...</td>\n",
       "      <td>...</td>\n",
       "      <td>...</td>\n",
       "    </tr>\n",
       "    <tr>\n",
       "      <th>1117</th>\n",
       "      <td>2020-05-28</td>\n",
       "      <td>NVDA</td>\n",
       "      <td>84.122498</td>\n",
       "      <td>84.870003</td>\n",
       "      <td>73489600</td>\n",
       "      <td>0.547186</td>\n",
       "      <td>0.007260</td>\n",
       "      <td>0.445554</td>\n",
       "      <td>-1</td>\n",
       "    </tr>\n",
       "    <tr>\n",
       "      <th>1118</th>\n",
       "      <td>2020-06-02</td>\n",
       "      <td>NVDA</td>\n",
       "      <td>87.962502</td>\n",
       "      <td>88.252502</td>\n",
       "      <td>39132000</td>\n",
       "      <td>0.080008</td>\n",
       "      <td>0.309448</td>\n",
       "      <td>0.610544</td>\n",
       "      <td>1</td>\n",
       "    </tr>\n",
       "    <tr>\n",
       "      <th>1119</th>\n",
       "      <td>2020-06-08</td>\n",
       "      <td>NVDA</td>\n",
       "      <td>88.772499</td>\n",
       "      <td>88.050003</td>\n",
       "      <td>38773600</td>\n",
       "      <td>0.040860</td>\n",
       "      <td>0.346767</td>\n",
       "      <td>0.612373</td>\n",
       "      <td>-1</td>\n",
       "    </tr>\n",
       "    <tr>\n",
       "      <th>1120</th>\n",
       "      <td>2020-06-09</td>\n",
       "      <td>NVDA</td>\n",
       "      <td>88.000000</td>\n",
       "      <td>90.459999</td>\n",
       "      <td>46848800</td>\n",
       "      <td>0.957068</td>\n",
       "      <td>0.022495</td>\n",
       "      <td>0.020436</td>\n",
       "      <td>1</td>\n",
       "    </tr>\n",
       "    <tr>\n",
       "      <th>1121</th>\n",
       "      <td>2020-06-10</td>\n",
       "      <td>NVDA</td>\n",
       "      <td>91.677498</td>\n",
       "      <td>93.667503</td>\n",
       "      <td>63218000</td>\n",
       "      <td>0.335619</td>\n",
       "      <td>0.050845</td>\n",
       "      <td>0.613536</td>\n",
       "      <td>1</td>\n",
       "    </tr>\n",
       "  </tbody>\n",
       "</table>\n",
       "<p>1122 rows × 9 columns</p>\n",
       "</div>"
      ],
      "text/plain": [
       "            date stock       Open      Close     Volume  Positive  Negative  \\\n",
       "0     2011-03-03  NVDA   5.307500   5.217500  159370400  0.015090  0.825096   \n",
       "1     2011-03-07  NVDA   5.227500   5.117500  101914000  0.064805  0.025756   \n",
       "2     2011-03-08  NVDA   5.172500   4.887500  194718400  0.331308  0.294181   \n",
       "3     2011-03-09  NVDA   4.872500   4.785000  131897600  0.060045  0.017414   \n",
       "4     2011-03-10  NVDA   4.675000   4.480000  172273600  0.070367  0.041462   \n",
       "...          ...   ...        ...        ...        ...       ...       ...   \n",
       "1117  2020-05-28  NVDA  84.122498  84.870003   73489600  0.547186  0.007260   \n",
       "1118  2020-06-02  NVDA  87.962502  88.252502   39132000  0.080008  0.309448   \n",
       "1119  2020-06-08  NVDA  88.772499  88.050003   38773600  0.040860  0.346767   \n",
       "1120  2020-06-09  NVDA  88.000000  90.459999   46848800  0.957068  0.022495   \n",
       "1121  2020-06-10  NVDA  91.677498  93.667503   63218000  0.335619  0.050845   \n",
       "\n",
       "       Neutral  Price_change  \n",
       "0     0.159814             1  \n",
       "1     0.909439            -1  \n",
       "2     0.374511            -1  \n",
       "3     0.922541            -1  \n",
       "4     0.888172            -1  \n",
       "...        ...           ...  \n",
       "1117  0.445554            -1  \n",
       "1118  0.610544             1  \n",
       "1119  0.612373            -1  \n",
       "1120  0.020436             1  \n",
       "1121  0.613536             1  \n",
       "\n",
       "[1122 rows x 9 columns]"
      ]
     },
     "execution_count": 11,
     "metadata": {},
     "output_type": "execute_result"
    }
   ],
   "source": [
    "big_df.to_csv('Datasets/nvdia_mix.csv')\n",
    "big_df"
   ]
  },
  {
   "cell_type": "code",
   "execution_count": 289,
   "id": "7e61f39c-ae6f-45e7-981c-8ef6183f2643",
   "metadata": {},
   "outputs": [],
   "source": [
    "big_df = pd.read_csv('Datasets/nvdia_mix.csv')"
   ]
  },
  {
   "cell_type": "markdown",
   "id": "f695e3e3-c210-4453-89cc-da26dc4d59bb",
   "metadata": {},
   "source": [
    "### Pre-process dataset\n",
    "Create a time series dataset, features consist of the previous day's close price while today's close price is the label."
   ]
  },
  {
   "cell_type": "code",
   "execution_count": 290,
   "id": "1454987e-3b64-4407-b248-6fa6efcbeb1c",
   "metadata": {},
   "outputs": [
    {
     "name": "stdout",
     "output_type": "stream",
     "text": [
      "X shape : (1121, 4)\n",
      "y shape : (1121, 1)\n"
     ]
    }
   ],
   "source": [
    "seq_len = 1\n",
    "# start creating sequences only after the first seq_len elements have passed \n",
    "X = np.zeros((big_df.shape[0] - seq_len, 4))\n",
    "y = np.zeros((big_df.shape[0] - seq_len, 1))\n",
    "print(\"X shape :\",X.shape)\n",
    "print(\"y shape :\",y.shape)"
   ]
  },
  {
   "cell_type": "code",
   "execution_count": 291,
   "id": "80f96ff3-d6ce-4f31-98c3-3f4a4f459c64",
   "metadata": {},
   "outputs": [],
   "source": [
    "for i in range(seq_len , X.shape[0] + seq_len) :\n",
    "    prev_elems = big_df.iloc[i-seq_len][['Close', 'Positive', 'Negative', 'Neutral']] # previous available date\n",
    "    # only the desired values\n",
    "    prev_elems = [ prev_elems[p] for p in range(len(prev_elems))]\n",
    "    prev_elems = np.array(prev_elems)\n",
    "    # Store previous day close price as feature \n",
    "    X[i-seq_len] = prev_elems\n",
    "    # Store \"today's\" close price as label\n",
    "    y[i-seq_len] = big_df.iloc[i]['Close']"
   ]
  },
  {
   "cell_type": "markdown",
   "id": "1b6028fd-f0e6-4367-ad90-fa41c5628569",
   "metadata": {},
   "source": [
    "### Normalise dataset and split into train-test.\n",
    "Min - Max scaling "
   ]
  },
  {
   "cell_type": "code",
   "execution_count": 292,
   "id": "d5b757fa-7a05-4059-a1bd-b7ca466b3371",
   "metadata": {},
   "outputs": [],
   "source": [
    "# transform features with standard scaler, and output values (close prices) to [0,1] with minmax scaler\n",
    "from sklearn.preprocessing import StandardScaler, MinMaxScaler\n",
    "mm = MinMaxScaler()\n",
    "#ss = StandardScaler()\n",
    "\n",
    "X_mm = mm.fit_transform(X)\n",
    "y_mm = mm.fit_transform(np.array(y).reshape(-1, 1))"
   ]
  },
  {
   "cell_type": "markdown",
   "id": "b20b2012-ba8e-496a-bdff-0f31cdc14581",
   "metadata": {},
   "source": [
    "Data splitting into train,val, test . "
   ]
  },
  {
   "cell_type": "code",
   "execution_count": 293,
   "id": "15e6cb8b-7e18-42c5-8232-bc16ee8fad0e",
   "metadata": {},
   "outputs": [
    {
     "name": "stdout",
     "output_type": "stream",
     "text": [
      "Train data shapes X:(785, 4) , y:(785, 1)\n",
      "Test data shapes X:(168, 4) , y:(168, 1)\n",
      "Val data shapes X:(168, 4) , y:(168, 1)\n"
     ]
    }
   ],
   "source": [
    "# fraction of the test set.\n",
    "percentage = 0.3\n",
    "split_tr = ceil(X_mm.shape[0] *(1-percentage))\n",
    "split_val = ceil(X_mm.shape[0] *(1- percentage/2))\n",
    "\n",
    "X_train = X_mm[0:split_tr]\n",
    "y_train = y_mm[0:split_tr]\n",
    "X_val= X_mm[split_tr: split_val]\n",
    "y_val= y_mm[split_tr: split_val]\n",
    "X_test= X_mm[split_val:]\n",
    "y_test= y_mm[split_val:]\n",
    "print(f\"Train data shapes X:{X_train.shape} , y:{y_train.shape}\")\n",
    "print(f\"Test data shapes X:{X_test.shape} , y:{y_test.shape}\")\n",
    "print(f\"Val data shapes X:{X_val.shape} , y:{y_val.shape}\")"
   ]
  },
  {
   "cell_type": "markdown",
   "id": "2a1c1ec1-483a-4bac-90b3-d830f82df9f8",
   "metadata": {},
   "source": [
    "### Convert np.arrays into tensors and reshape in the format expected by the LSTM ."
   ]
  },
  {
   "cell_type": "code",
   "execution_count": 294,
   "id": "45162513-83b9-4740-935d-2ec67a511b2b",
   "metadata": {},
   "outputs": [],
   "source": [
    "X_tensors = Variable(torch.Tensor(X_mm))\n",
    "y_tensors = Variable(torch.Tensor(y_mm))\n",
    "#reshaping to rows, timestamps, features\n",
    "X_tensors = torch.reshape(X_tensors,   (X_tensors.shape[0], 1, X_tensors.shape[1]))\n",
    "y_tensors = torch.reshape(y_tensors,  (y_tensors.shape[0], 1, y_tensors.shape[1]))\n"
   ]
  },
  {
   "cell_type": "code",
   "execution_count": 295,
   "id": "43e1b00c-79d6-455e-9dd6-5ecd7841ff8d",
   "metadata": {},
   "outputs": [],
   "source": [
    "X_train_tensors = Variable(torch.Tensor(X_train))\n",
    "X_test_tensors = Variable(torch.Tensor(X_test))\n",
    "X_val_tensors = Variable(torch.Tensor(X_val))\n",
    "\n",
    "y_train_tensors = Variable(torch.Tensor(y_train))\n",
    "y_test_tensors = Variable(torch.Tensor(y_test))\n",
    "y_val_tensors = Variable(torch.Tensor(y_val))"
   ]
  },
  {
   "cell_type": "code",
   "execution_count": 296,
   "id": "4663ec62-d1c7-4e9a-9757-e1a9614adab6",
   "metadata": {},
   "outputs": [
    {
     "name": "stdout",
     "output_type": "stream",
     "text": [
      "Training Shape torch.Size([785, 1, 4]) torch.Size([785, 1])\n",
      "Testing Shape torch.Size([168, 1, 4]) torch.Size([168, 1])\n",
      "Testing Shape torch.Size([168, 1, 4]) torch.Size([168, 1])\n"
     ]
    }
   ],
   "source": [
    "#reshaping to rows, timestamps, features\n",
    "X_train_tensors_final = torch.reshape(X_train_tensors,   (X_train_tensors.shape[0], 1, X_train_tensors.shape[1]))\n",
    "X_test_tensors_final = torch.reshape(X_test_tensors,  (X_test_tensors.shape[0], 1, X_test_tensors.shape[1]))\n",
    "X_val_tensors_final = torch.reshape(X_val_tensors,  (X_val_tensors.shape[0], 1, X_val_tensors.shape[1]))\n",
    "\n",
    "print(\"Training Shape\", X_train_tensors_final.shape, y_train_tensors.shape)\n",
    "print(\"Testing Shape\", X_test_tensors_final.shape, y_test_tensors.shape)\n",
    "print(\"Testing Shape\", X_val_tensors_final.shape, y_val_tensors.shape)"
   ]
  },
  {
   "cell_type": "markdown",
   "id": "174534bd-ae0f-465e-9910-9cbd30f5cbde",
   "metadata": {},
   "source": [
    "### Define LSTM structure .\n",
    "The LSTM will execute regression, so MSE loss is need during training. "
   ]
  },
  {
   "cell_type": "code",
   "execution_count": 297,
   "id": "cb7f6ecc-b7c5-4453-b0bb-abb7f5796182",
   "metadata": {},
   "outputs": [],
   "source": [
    "class LSTM_reg(nn.Module):\n",
    "    def __init__(self, num_classes, input_size, hidden_size, num_layers, dropout=0.3, fc_size = 128):\n",
    "        super(LSTM_reg, self).__init__()\n",
    "        self.num_classes = num_classes #number of classes\n",
    "        self.num_layers = num_layers #number of layers\n",
    "        self.input_size = input_size #input size\n",
    "        self.hidden_size = hidden_size #hidden state\n",
    "\n",
    "        self.lstm = nn.LSTM(input_size=input_size, hidden_size=hidden_size,\n",
    "                            num_layers=num_layers, batch_first=True, dropout=dropout) #lstm\n",
    "        \n",
    "        self.fc_1 =  nn.Linear(hidden_size * num_layers, fc_size) #fully connected 1\n",
    "        self.fc = nn.Linear(fc_size, num_classes) #fully connected last layer\n",
    "\n",
    "        self.relu = nn.ReLU()\n",
    "\n",
    "    def forward(self,x):\n",
    "        h_0_0 = Variable(torch.zeros(self.num_layers, x.size(0), self.hidden_size)) #hidden state 1st lstm layer\n",
    "        c_0_0 = Variable(torch.zeros(self.num_layers, x.size(0), self.hidden_size)) #internal state 1st lstm layer\n",
    "\n",
    "        # Propagate input through LSTM\n",
    "        output, (hn, cn) = self.lstm(x, (h_0_0, c_0_0)) #lstm with input, hidden, and internal state\n",
    "       # print(output.shape)\n",
    "       # print(hn.shape)\n",
    "        hn = hn.view(-1, self.hidden_size * num_layers) #reshaping (flatten) the data for Dense layer next\n",
    "       # print(hn.shape)\n",
    "        out = self.relu(hn)\n",
    "        out = self.fc_1(out) #first Dense\n",
    "        out = self.relu(out) #relu\n",
    "        out = self.fc(out) #Final Output\n",
    "\n",
    "        return out"
   ]
  },
  {
   "cell_type": "code",
   "execution_count": 298,
   "id": "63885946-a6cd-46b0-94a2-8c46cf399113",
   "metadata": {},
   "outputs": [
    {
     "name": "stderr",
     "output_type": "stream",
     "text": [
      "C:\\Users\\Konpoul\\miniconda3\\envs\\torch\\lib\\site-packages\\torch\\nn\\modules\\rnn.py:62: UserWarning: dropout option adds dropout after all but last recurrent layer, so non-zero dropout expects num_layers greater than 1, but got dropout=0.3 and num_layers=1\n",
      "  warnings.warn(\"dropout option adds dropout after all but last \"\n"
     ]
    }
   ],
   "source": [
    "#hyperparameters\n",
    "num_epochs = 1000 #1000 epochs\n",
    "learning_rate = 0.0003 #0.001 lr\n",
    "\n",
    "input_size = 4 #number of features\n",
    "hidden_size = 60 #number of features in hidden state\n",
    "num_layers = 1 #number of stacked lstm layers\n",
    "\n",
    "num_classes = 1 #number of output classes\n",
    "\n",
    "lstm_reg = LSTM_reg(num_classes, input_size, hidden_size, num_layers, dropout=0.3, fc_size=128) #our lstm class\n",
    "\n",
    "criterion = torch.nn.MSELoss()    # mean-squared error for regression\n",
    "optimizer = torch.optim.Adam(lstm_reg.parameters(), lr=learning_rate)"
   ]
  },
  {
   "cell_type": "markdown",
   "id": "9192aa7f-7b4b-4a1c-925c-c18816d74884",
   "metadata": {},
   "source": [
    "#### Training loop"
   ]
  },
  {
   "cell_type": "code",
   "execution_count": 299,
   "id": "17dc13a0-5b27-4e83-813c-43be5742562c",
   "metadata": {},
   "outputs": [
    {
     "name": "stderr",
     "output_type": "stream",
     "text": [
      "  2%|█▎                                                                              | 17/1000 [00:00<00:11, 86.87it/s]"
     ]
    },
    {
     "name": "stdout",
     "output_type": "stream",
     "text": [
      "Epoch: 0, train_loss: 0.12509,  val_loss: 0.30611 \n"
     ]
    },
    {
     "name": "stderr",
     "output_type": "stream",
     "text": [
      " 12%|█████████▍                                                                    | 121/1000 [00:01<00:07, 113.09it/s]"
     ]
    },
    {
     "name": "stdout",
     "output_type": "stream",
     "text": [
      "Epoch: 100, train_loss: 0.04777,  val_loss: 0.07936 \n"
     ]
    },
    {
     "name": "stderr",
     "output_type": "stream",
     "text": [
      " 22%|████████████████▊                                                             | 215/1000 [00:02<00:07, 107.00it/s]"
     ]
    },
    {
     "name": "stdout",
     "output_type": "stream",
     "text": [
      "Epoch: 200, train_loss: 0.02905,  val_loss: 0.04644 \n"
     ]
    },
    {
     "name": "stderr",
     "output_type": "stream",
     "text": [
      " 32%|████████████████████████▋                                                     | 317/1000 [00:03<00:06, 107.31it/s]"
     ]
    },
    {
     "name": "stdout",
     "output_type": "stream",
     "text": [
      "Epoch: 300, train_loss: 0.00184,  val_loss: 0.00326 \n"
     ]
    },
    {
     "name": "stderr",
     "output_type": "stream",
     "text": [
      " 42%|████████████████████████████████▉                                             | 422/1000 [00:03<00:04, 117.32it/s]"
     ]
    },
    {
     "name": "stdout",
     "output_type": "stream",
     "text": [
      "Epoch: 400, train_loss: 0.00009,  val_loss: 0.00055 \n"
     ]
    },
    {
     "name": "stderr",
     "output_type": "stream",
     "text": [
      " 52%|████████████████████████████████████████▏                                     | 516/1000 [00:04<00:04, 102.94it/s]"
     ]
    },
    {
     "name": "stdout",
     "output_type": "stream",
     "text": [
      "Epoch: 500, train_loss: 0.00009,  val_loss: 0.00055 \n"
     ]
    },
    {
     "name": "stderr",
     "output_type": "stream",
     "text": [
      " 61%|███████████████████████████████████████████████▋                              | 612/1000 [00:05<00:03, 110.61it/s]"
     ]
    },
    {
     "name": "stdout",
     "output_type": "stream",
     "text": [
      "Epoch: 600, train_loss: 0.00009,  val_loss: 0.00056 \n"
     ]
    },
    {
     "name": "stderr",
     "output_type": "stream",
     "text": [
      " 71%|███████████████████████████████████████████████████████▎                      | 709/1000 [00:06<00:02, 103.06it/s]"
     ]
    },
    {
     "name": "stdout",
     "output_type": "stream",
     "text": [
      "Epoch: 700, train_loss: 0.00009,  val_loss: 0.00056 \n"
     ]
    },
    {
     "name": "stderr",
     "output_type": "stream",
     "text": [
      " 81%|███████████████████████████████████████████████████████████████▍              | 813/1000 [00:07<00:01, 112.91it/s]"
     ]
    },
    {
     "name": "stdout",
     "output_type": "stream",
     "text": [
      "Epoch: 800, train_loss: 0.00009,  val_loss: 0.00056 \n"
     ]
    },
    {
     "name": "stderr",
     "output_type": "stream",
     "text": [
      " 92%|███████████████████████████████████████████████████████████████████████▉      | 922/1000 [00:08<00:00, 108.52it/s]"
     ]
    },
    {
     "name": "stdout",
     "output_type": "stream",
     "text": [
      "Epoch: 900, train_loss: 0.00009,  val_loss: 0.00056 \n"
     ]
    },
    {
     "name": "stderr",
     "output_type": "stream",
     "text": [
      "100%|█████████████████████████████████████████████████████████████████████████████| 1000/1000 [00:09<00:00, 105.53it/s]\n"
     ]
    }
   ],
   "source": [
    "plot_loss_tr = []\n",
    "plot_loss_val = []\n",
    "for epoch in tqdm(range(num_epochs)):\n",
    "    outputs = lstm_reg.forward(X_train_tensors_final) #forward pass\n",
    "    optimizer.zero_grad() #caluclate the gradient, manually setting to 0\n",
    "\n",
    "    # obtain the loss function\n",
    "    loss = criterion(outputs, y_train_tensors)\n",
    "    plot_loss_tr.append(loss.item())\n",
    "    loss.backward() #calculates the loss of the loss function\n",
    "\n",
    "    # Compute validation loss\n",
    "    val_outs = lstm_reg.forward(X_val_tensors_final) #forward pass\n",
    "    val_loss = criterion(val_outs, y_val_tensors)\n",
    "    plot_loss_val.append(val_loss.item())\n",
    "\n",
    "    optimizer.step() #improve from loss, i.e backprop\n",
    "    if epoch % 100 == 0:\n",
    "        print(\"Epoch: %d, train_loss: %1.5f,  val_loss: %1.5f \" % (epoch, loss.item(), val_loss.item()))"
   ]
  },
  {
   "cell_type": "code",
   "execution_count": 300,
   "id": "93849577-d885-4e54-be7c-309605f5f7d9",
   "metadata": {},
   "outputs": [
    {
     "data": {
      "image/png": "[encoded data removed]",
      "text/plain": [
       "<Figure size 720x720 with 1 Axes>"
      ]
     },
     "metadata": {
      "needs_background": "light"
     },
     "output_type": "display_data"
    }
   ],
   "source": [
    "fig , ax = plt.subplots(figsize = (10,10))\n",
    "\n",
    "plt.plot(plot_loss_val, label='Val_loss') #actual plot\n",
    "plt.plot(plot_loss_tr, label='Train_loss') #predicted plot\n",
    "plt.title('Training and validation loss curves')\n",
    "plt.legend()\n",
    "plt.show()"
   ]
  },
  {
   "cell_type": "markdown",
   "id": "439e0d32-32e5-4e17-8f4b-2d6959a5965e",
   "metadata": {},
   "source": [
    "### Predicting with the LSTM"
   ]
  },
  {
   "cell_type": "code",
   "execution_count": 301,
   "id": "05a40264-7566-4667-bcb8-5b26a5a0ab12",
   "metadata": {},
   "outputs": [
    {
     "data": {
      "image/png": "[encoded data removed]",
      "text/plain": [
       "<Figure size 1152x864 with 1 Axes>"
      ]
     },
     "metadata": {
      "needs_background": "light"
     },
     "output_type": "display_data"
    }
   ],
   "source": [
    "train_predict = lstm_reg(X_tensors) #forward pass\n",
    "data_predict = train_predict.data.numpy() #numpy conversion\n",
    "dataY_plot = y_tensors.data.numpy()\n",
    "dataY_plot =  np.reshape(dataY_plot, (dataY_plot.shape[0],1))\n",
    "\n",
    "data_predict = mm.inverse_transform(data_predict) #reverse transformation\n",
    "dataY_plot = mm.inverse_transform(dataY_plot)\n",
    "\n",
    "plt.figure(figsize=(16,12)) #plotting\n",
    "plt.axvline(x=split_tr, c='r', linestyle='--') #size of the training set\n",
    "\n",
    "plt.plot(dataY_plot, label='Actual Data') #actual plot\n",
    "plt.plot(data_predict, label='Predicted Data') #predicted plot\n",
    "plt.title('Time-Series Prediction')\n",
    "plt.legend()\n",
    "plt.show()"
   ]
  },
  {
   "cell_type": "markdown",
   "id": "70a8ad43-8e1b-4cf7-84ec-7f20558a508c",
   "metadata": {},
   "source": [
    "### Evaluation of regression predictions with MSE and Spearman Correlation. "
   ]
  },
  {
   "cell_type": "code",
   "execution_count": 302,
   "id": "9b4dfc46-9e73-40c3-89aa-bd4252bde421",
   "metadata": {},
   "outputs": [
    {
     "name": "stdout",
     "output_type": "stream",
     "text": [
      "VAL DATA, MSE loss :  4.579165\n"
     ]
    }
   ],
   "source": [
    "#from sklearn.metric import mean_squared_error\n",
    "mse = (np.power(dataY_plot[split_tr : split_val] - data_predict[split_tr : split_val], 2).mean())\n",
    "print(\"VAL DATA, MSE loss : \", mse)"
   ]
  },
  {
   "cell_type": "code",
   "execution_count": 303,
   "id": "a87d7e87-3f97-4a15-a43b-452734ae7d19",
   "metadata": {},
   "outputs": [
    {
     "name": "stdout",
     "output_type": "stream",
     "text": [
      "TRAIN DATA , MSE loss :  0.73128843\n"
     ]
    }
   ],
   "source": [
    "#from sklearn.metric import mean_squared_error\n",
    "mse = (np.power(dataY_plot[:split_tr] - data_predict[:split_tr], 2).mean())\n",
    "print(\"TRAIN DATA , MSE loss : \", mse)"
   ]
  },
  {
   "cell_type": "code",
   "execution_count": 304,
   "id": "aafc32b8-2f1e-40fb-89d4-9ac5c7a4a100",
   "metadata": {},
   "outputs": [
    {
     "name": "stdout",
     "output_type": "stream",
     "text": [
      "Val DATA,  Spreaman correlation :  SpearmanrResult(correlation=0.9584761162375166, pvalue=2.2770395322231275e-92)\n",
      "TRAIN DATA , Spreaman correlation :  SpearmanrResult(correlation=0.9960944689171674, pvalue=0.0)\n"
     ]
    }
   ],
   "source": [
    "from scipy.stats import spearmanr\n",
    "#from sklearn.metric import mean_squared_error\n",
    "spearman = spearmanr(dataY_plot[split_tr : split_val], data_predict[split_tr : split_val])\n",
    "print(\"Val DATA,  Spreaman correlation : \", spearman)\n",
    "\n",
    "#from sklearn.metric import mean_squared_error\n",
    "spearman = spearmanr(dataY_plot[:split_tr],data_predict[:split_tr])\n",
    "print(\"TRAIN DATA , Spreaman correlation : \", spearman)"
   ]
  },
  {
   "cell_type": "markdown",
   "id": "97f64ac4-f0e3-40ec-8773-e9e326cdae83",
   "metadata": {},
   "source": [
    "#### Test dataset evaluation (Run only once at the end)"
   ]
  },
  {
   "cell_type": "code",
   "execution_count": 305,
   "id": "8935ecf1-d3c3-4126-bef7-176808298862",
   "metadata": {},
   "outputs": [
    {
     "name": "stdout",
     "output_type": "stream",
     "text": [
      "TEST DATA, MSE loss :  11.7850685\n",
      "TEST DATA,  Spreaman correlation :  SpearmanrResult(correlation=0.9745774401046471, pvalue=9.116653316249002e-110)\n"
     ]
    }
   ],
   "source": [
    "#from sklearn.metric import mean_squared_error\n",
    "mse = (np.power(dataY_plot[split_val:] - data_predict[split_val:], 2).mean())\n",
    "print(\"TEST DATA, MSE loss : \", mse)\n",
    "\n",
    "spearman = spearmanr(dataY_plot[split_val:],data_predict[split_val:])\n",
    "print(\"TEST DATA,  Spreaman correlation : \", spearman)"
   ]
  },
  {
   "cell_type": "markdown",
   "id": "59a28455-831a-4ce4-903f-0fa428a2cece",
   "metadata": {},
   "source": [
    "# 2.) Classification of price movement with LSTM "
   ]
  },
  {
   "cell_type": "markdown",
   "id": "06240b1e-b35c-4402-b874-3931e07a6f5c",
   "metadata": {},
   "source": [
    "## Pre-process dataset\n"
   ]
  },
  {
   "cell_type": "markdown",
   "id": "dbb0fe98-2542-4a59-b3a1-19eb7cb2b23a",
   "metadata": {},
   "source": [
    "### Price_change is the class . 0: decrease , +1 : increase"
   ]
  },
  {
   "cell_type": "markdown",
   "id": "040633c1-30a0-43ab-aafd-65c7dbae33b5",
   "metadata": {},
   "source": [
    "Normalise the Close price column and convert Price_change column to (0,1) instead of (-1, 1). "
   ]
  },
  {
   "cell_type": "code",
   "execution_count": 190,
   "id": "52fd0822-c551-47fe-bcbd-afbed853e00a",
   "metadata": {},
   "outputs": [
    {
     "data": {
      "text/html": [
       "<div>\n",
       "<style scoped>\n",
       "    .dataframe tbody tr th:only-of-type {\n",
       "        vertical-align: middle;\n",
       "    }\n",
       "\n",
       "    .dataframe tbody tr th {\n",
       "        vertical-align: top;\n",
       "    }\n",
       "\n",
       "    .dataframe thead th {\n",
       "        text-align: right;\n",
       "    }\n",
       "</style>\n",
       "<table border=\"1\" class=\"dataframe\">\n",
       "  <thead>\n",
       "    <tr style=\"text-align: right;\">\n",
       "      <th></th>\n",
       "      <th>date</th>\n",
       "      <th>stock</th>\n",
       "      <th>Open</th>\n",
       "      <th>Close</th>\n",
       "      <th>Volume</th>\n",
       "      <th>Positive</th>\n",
       "      <th>Negative</th>\n",
       "      <th>Neutral</th>\n",
       "      <th>Price_change</th>\n",
       "    </tr>\n",
       "  </thead>\n",
       "  <tbody>\n",
       "    <tr>\n",
       "      <th>0</th>\n",
       "      <td>2011-03-03</td>\n",
       "      <td>NVDA</td>\n",
       "      <td>5.307500</td>\n",
       "      <td>0.025183</td>\n",
       "      <td>159370400</td>\n",
       "      <td>0.015090</td>\n",
       "      <td>0.825096</td>\n",
       "      <td>0.159814</td>\n",
       "      <td>1</td>\n",
       "    </tr>\n",
       "    <tr>\n",
       "      <th>1</th>\n",
       "      <td>2011-03-07</td>\n",
       "      <td>NVDA</td>\n",
       "      <td>5.227500</td>\n",
       "      <td>0.024081</td>\n",
       "      <td>101914000</td>\n",
       "      <td>0.064805</td>\n",
       "      <td>0.025756</td>\n",
       "      <td>0.909439</td>\n",
       "      <td>0</td>\n",
       "    </tr>\n",
       "    <tr>\n",
       "      <th>2</th>\n",
       "      <td>2011-03-08</td>\n",
       "      <td>NVDA</td>\n",
       "      <td>5.172500</td>\n",
       "      <td>0.021546</td>\n",
       "      <td>194718400</td>\n",
       "      <td>0.331308</td>\n",
       "      <td>0.294181</td>\n",
       "      <td>0.374511</td>\n",
       "      <td>0</td>\n",
       "    </tr>\n",
       "    <tr>\n",
       "      <th>3</th>\n",
       "      <td>2011-03-09</td>\n",
       "      <td>NVDA</td>\n",
       "      <td>4.872500</td>\n",
       "      <td>0.020417</td>\n",
       "      <td>131897600</td>\n",
       "      <td>0.060045</td>\n",
       "      <td>0.017414</td>\n",
       "      <td>0.922541</td>\n",
       "      <td>0</td>\n",
       "    </tr>\n",
       "    <tr>\n",
       "      <th>4</th>\n",
       "      <td>2011-03-10</td>\n",
       "      <td>NVDA</td>\n",
       "      <td>4.675000</td>\n",
       "      <td>0.017055</td>\n",
       "      <td>172273600</td>\n",
       "      <td>0.070367</td>\n",
       "      <td>0.041462</td>\n",
       "      <td>0.888172</td>\n",
       "      <td>0</td>\n",
       "    </tr>\n",
       "    <tr>\n",
       "      <th>...</th>\n",
       "      <td>...</td>\n",
       "      <td>...</td>\n",
       "      <td>...</td>\n",
       "      <td>...</td>\n",
       "      <td>...</td>\n",
       "      <td>...</td>\n",
       "      <td>...</td>\n",
       "      <td>...</td>\n",
       "      <td>...</td>\n",
       "    </tr>\n",
       "    <tr>\n",
       "      <th>1117</th>\n",
       "      <td>2020-05-28</td>\n",
       "      <td>NVDA</td>\n",
       "      <td>84.122498</td>\n",
       "      <td>0.903042</td>\n",
       "      <td>73489600</td>\n",
       "      <td>0.547186</td>\n",
       "      <td>0.007260</td>\n",
       "      <td>0.445554</td>\n",
       "      <td>0</td>\n",
       "    </tr>\n",
       "    <tr>\n",
       "      <th>1118</th>\n",
       "      <td>2020-06-02</td>\n",
       "      <td>NVDA</td>\n",
       "      <td>87.962502</td>\n",
       "      <td>0.940321</td>\n",
       "      <td>39132000</td>\n",
       "      <td>0.080008</td>\n",
       "      <td>0.309448</td>\n",
       "      <td>0.610544</td>\n",
       "      <td>1</td>\n",
       "    </tr>\n",
       "    <tr>\n",
       "      <th>1119</th>\n",
       "      <td>2020-06-08</td>\n",
       "      <td>NVDA</td>\n",
       "      <td>88.772499</td>\n",
       "      <td>0.938089</td>\n",
       "      <td>38773600</td>\n",
       "      <td>0.040860</td>\n",
       "      <td>0.346767</td>\n",
       "      <td>0.612373</td>\n",
       "      <td>0</td>\n",
       "    </tr>\n",
       "    <tr>\n",
       "      <th>1120</th>\n",
       "      <td>2020-06-09</td>\n",
       "      <td>NVDA</td>\n",
       "      <td>88.000000</td>\n",
       "      <td>0.964650</td>\n",
       "      <td>46848800</td>\n",
       "      <td>0.957068</td>\n",
       "      <td>0.022495</td>\n",
       "      <td>0.020436</td>\n",
       "      <td>1</td>\n",
       "    </tr>\n",
       "    <tr>\n",
       "      <th>1121</th>\n",
       "      <td>2020-06-10</td>\n",
       "      <td>NVDA</td>\n",
       "      <td>91.677498</td>\n",
       "      <td>1.000000</td>\n",
       "      <td>63218000</td>\n",
       "      <td>0.335619</td>\n",
       "      <td>0.050845</td>\n",
       "      <td>0.613536</td>\n",
       "      <td>1</td>\n",
       "    </tr>\n",
       "  </tbody>\n",
       "</table>\n",
       "<p>1122 rows × 9 columns</p>\n",
       "</div>"
      ],
      "text/plain": [
       "            date stock       Open     Close     Volume  Positive  Negative  \\\n",
       "0     2011-03-03  NVDA   5.307500  0.025183  159370400  0.015090  0.825096   \n",
       "1     2011-03-07  NVDA   5.227500  0.024081  101914000  0.064805  0.025756   \n",
       "2     2011-03-08  NVDA   5.172500  0.021546  194718400  0.331308  0.294181   \n",
       "3     2011-03-09  NVDA   4.872500  0.020417  131897600  0.060045  0.017414   \n",
       "4     2011-03-10  NVDA   4.675000  0.017055  172273600  0.070367  0.041462   \n",
       "...          ...   ...        ...       ...        ...       ...       ...   \n",
       "1117  2020-05-28  NVDA  84.122498  0.903042   73489600  0.547186  0.007260   \n",
       "1118  2020-06-02  NVDA  87.962502  0.940321   39132000  0.080008  0.309448   \n",
       "1119  2020-06-08  NVDA  88.772499  0.938089   38773600  0.040860  0.346767   \n",
       "1120  2020-06-09  NVDA  88.000000  0.964650   46848800  0.957068  0.022495   \n",
       "1121  2020-06-10  NVDA  91.677498  1.000000   63218000  0.335619  0.050845   \n",
       "\n",
       "       Neutral  Price_change  \n",
       "0     0.159814             1  \n",
       "1     0.909439             0  \n",
       "2     0.374511             0  \n",
       "3     0.922541             0  \n",
       "4     0.888172             0  \n",
       "...        ...           ...  \n",
       "1117  0.445554             0  \n",
       "1118  0.610544             1  \n",
       "1119  0.612373             0  \n",
       "1120  0.020436             1  \n",
       "1121  0.613536             1  \n",
       "\n",
       "[1122 rows x 9 columns]"
      ]
     },
     "execution_count": 190,
     "metadata": {},
     "output_type": "execute_result"
    }
   ],
   "source": [
    "big_df['Price_change'] = big_df['Price_change'].apply(lambda x : x+1 if (x==-1) else x)\n",
    "big_df['Close'] = (big_df['Close']-big_df['Close'].min())/(big_df['Close'].max()-big_df['Close'].min())\n",
    "big_df"
   ]
  },
  {
   "cell_type": "code",
   "execution_count": 193,
   "id": "c4fb4f64-2181-4ed8-9246-76f4cf0a79f7",
   "metadata": {},
   "outputs": [
    {
     "name": "stdout",
     "output_type": "stream",
     "text": [
      "X shape : (1121, 4)\n",
      "y shape : (1121, 2)\n"
     ]
    }
   ],
   "source": [
    "seq_len = 1\n",
    "# start creating sequences only after the first seq_len elements have passed \n",
    "X = np.zeros((big_df.shape[0] - seq_len, 4))\n",
    "y = np.zeros((big_df.shape[0] - seq_len, 2))\n",
    "print(\"X shape :\",X.shape)\n",
    "print(\"y shape :\",y.shape)"
   ]
  },
  {
   "cell_type": "markdown",
   "id": "06bd7d82-a033-4882-9a7d-1515b5be2c73",
   "metadata": {},
   "source": [
    "#### Sparse vector format labels."
   ]
  },
  {
   "cell_type": "code",
   "execution_count": 195,
   "id": "1d3c0386-8d41-4e61-b8df-0938650c1123",
   "metadata": {},
   "outputs": [],
   "source": [
    "for i in range(seq_len , X.shape[0] + seq_len) :\n",
    "    prev_elems = big_df.iloc[i-seq_len][['Close', 'Positive', 'Negative', 'Neutral']] # previous available date\n",
    "    # only the desired values\n",
    "    prev_elems = [ prev_elems[p] for p in range(len(prev_elems))]\n",
    "    prev_elems = np.array(prev_elems)\n",
    "    # Store previous 30 days close price\n",
    "    X[i-seq_len] = prev_elems\n",
    "   # y[i-seq_len]  = big_df.iloc[i]['Price_change']\n",
    "    # Store label, close price of day 31 \n",
    "    change = big_df.iloc[i]['Price_change']\n",
    "    if change==0 : # decrease\n",
    "        y[i-seq_len] = np.array([0, 1]) # vector for decrease\n",
    "    else : \n",
    "        y[i-seq_len] = np.array([1, 0]) # vector for increase"
   ]
  },
  {
   "cell_type": "markdown",
   "id": "ba060139-a671-480a-a018-afd0e5c529cb",
   "metadata": {},
   "source": [
    "#### Binary format labels"
   ]
  },
  {
   "cell_type": "code",
   "execution_count": 196,
   "id": "0534cb8e-35eb-4ded-9303-943cdb6acb07",
   "metadata": {},
   "outputs": [
    {
     "data": {
      "text/plain": [
       "\"\\nfor i in range(seq_len , X.shape[0] + seq_len) :\\n    prev_elems = big_df.iloc[i-seq_len][['Close', 'Positive', 'Negative', 'Neutral']] # previous available date\\n    # only the desired values\\n    prev_elems = [ prev_elems[p] for p in range(len(prev_elems))]\\n    prev_elems = np.array(prev_elems)\\n    # Store previous 30 days close price\\n    X[i-seq_len] = prev_elems\\n    y[i-seq_len]  = big_df.iloc[i]['Price_change']\\n\""
      ]
     },
     "execution_count": 196,
     "metadata": {},
     "output_type": "execute_result"
    }
   ],
   "source": [
    "'''\n",
    "for i in range(seq_len , X.shape[0] + seq_len) :\n",
    "    prev_elems = big_df.iloc[i-seq_len][['Close', 'Positive', 'Negative', 'Neutral']] # previous available date\n",
    "    # only the desired values\n",
    "    prev_elems = [ prev_elems[p] for p in range(len(prev_elems))]\n",
    "    prev_elems = np.array(prev_elems)\n",
    "    # Store previous 30 days close price\n",
    "    X[i-seq_len] = prev_elems\n",
    "    y[i-seq_len]  = big_df.iloc[i]['Price_change']\n",
    "'''"
   ]
  },
  {
   "cell_type": "markdown",
   "id": "9f8c19bb-c51f-450c-8d9d-874e9d3dff2d",
   "metadata": {},
   "source": [
    "### Normalise dataset and split into train-test.\n",
    "#### Convert np.arrays into tensors and reshape in the format expected by the LSTM .\n",
    "Min - Max scaling "
   ]
  },
  {
   "cell_type": "code",
   "execution_count": 197,
   "id": "36806b98-9589-4ee0-9870-d95bdb09ece6",
   "metadata": {},
   "outputs": [
    {
     "name": "stdout",
     "output_type": "stream",
     "text": [
      "Train data shapes X:(673, 4) , y:(673, 2)\n",
      "Test data shapes X:(224, 4) , y:(224, 2)\n",
      "Val data shapes X:(224, 4) , y:(224, 2)\n",
      "Training Shape torch.Size([673, 1, 4]) torch.Size([673, 2])\n",
      "Testing Shape torch.Size([224, 1, 4]) torch.Size([224, 2])\n",
      "Validation Shape torch.Size([224, 1, 4]) torch.Size([224, 2])\n"
     ]
    }
   ],
   "source": [
    "# transform features with standard scaler, and output values (close prices) to [0,1] with minmax scaler\n",
    "from sklearn.preprocessing import StandardScaler, MinMaxScaler\n",
    "mm = MinMaxScaler()\n",
    "#ss = StandardScaler()\n",
    "#X_price_norm = mm.fit_transform(X[:,0])\n",
    "X_mm = X # mm.fit_transform(X)\n",
    "\n",
    "# fraction of the test set.\n",
    "percentage = 0.4\n",
    "split_tr = ceil(X_mm.shape[0] *(1-percentage))\n",
    "split_val = ceil(X_mm.shape[0] *(1- percentage/2))\n",
    "\n",
    "X_train = X_mm[0:split_tr]\n",
    "y_train = y[0:split_tr]\n",
    "X_val= X_mm[split_tr: split_val]\n",
    "y_val= y[split_tr: split_val]\n",
    "X_test= X_mm[split_val:]\n",
    "y_test= y[split_val:]\n",
    "print(f\"Train data shapes X:{X_train.shape} , y:{y_train.shape}\")\n",
    "print(f\"Test data shapes X:{X_test.shape} , y:{y_test.shape}\")\n",
    "print(f\"Val data shapes X:{X_val.shape} , y:{y_val.shape}\")\n",
    "\n",
    "### TO tensors \n",
    "###\n",
    "X_tensors = Variable(torch.Tensor(X_mm))\n",
    "y_tensors = Variable(torch.Tensor(y))\n",
    "#reshaping to rows, timestamps, features\n",
    "X_tensors = torch.reshape(X_tensors,   (X_tensors.shape[0], 1, X_tensors.shape[1]))\n",
    "y_tensors = torch.reshape(y_tensors,  (y_tensors.shape[0], 1, y_tensors.shape[1]))\n",
    "\n",
    "X_train_tensors = Variable(torch.Tensor(X_train))\n",
    "X_test_tensors = Variable(torch.Tensor(X_test))\n",
    "X_val_tensors = Variable(torch.Tensor(X_val))\n",
    "y_train_tensors = Variable(torch.Tensor(y_train))\n",
    "y_test_tensors = Variable(torch.Tensor(y_test))\n",
    "y_val_tensors = Variable(torch.Tensor(y_val))\n",
    "\n",
    "#reshaping to rows, timestamps, features\n",
    "X_train_tensors_final = torch.reshape(X_train_tensors,   (X_train_tensors.shape[0], 1, X_train_tensors.shape[1]))\n",
    "X_test_tensors_final = torch.reshape(X_test_tensors,  (X_test_tensors.shape[0], 1, X_test_tensors.shape[1]))\n",
    "X_val_tensors_final = torch.reshape(X_val_tensors,  (X_val_tensors.shape[0], 1, X_val_tensors.shape[1]))\n",
    "\n",
    "print(\"Training Shape\", X_train_tensors_final.shape, y_train_tensors.shape)\n",
    "print(\"Testing Shape\", X_test_tensors_final.shape, y_test_tensors.shape)\n",
    "print(\"Validation Shape\", X_val_tensors_final.shape, y_val_tensors.shape)"
   ]
  },
  {
   "cell_type": "markdown",
   "id": "580ef0ca-e81b-466c-8648-c01a892d9085",
   "metadata": {},
   "source": [
    "### Define classification LSTM  : We need to add a sigmoid activation function at the end in order to get output in the $[0,1]$ range."
   ]
  },
  {
   "cell_type": "code",
   "execution_count": 269,
   "id": "fc166692-5b87-4ce2-9704-da1ac002123a",
   "metadata": {},
   "outputs": [],
   "source": [
    "class LSTM_clf(nn.Module):\n",
    "    def __init__(self, num_classes, input_size, hidden_size, num_layers, dropout=0.3, fc_size = 128):\n",
    "        super(LSTM_clf, self).__init__()\n",
    "        self.num_classes = num_classes #number of classes\n",
    "        self.num_layers = num_layers #number of layers\n",
    "        self.input_size = input_size #input size\n",
    "        self.hidden_size = hidden_size #hidden state\n",
    "\n",
    "        self.lstm = nn.LSTM(input_size=input_size, hidden_size=hidden_size,\n",
    "                            num_layers=num_layers, batch_first=True, dropout=dropout) #lstm\n",
    "        \n",
    "        self.fc_1 =  nn.Linear(hidden_size * num_layers, fc_size) #fully connected 1\n",
    "        self.fc = nn.Linear(fc_size, num_classes) #fully connected last layer\n",
    "        self.dropout = nn.Dropout(p=dropout)\n",
    "\n",
    "        self.relu = nn.ReLU()\n",
    "        # sigmoid activation for end classification\n",
    "        self.sigm = nn.Sigmoid()\n",
    "        self.tanh = nn.Tanh()\n",
    "\n",
    "    def forward(self,x):\n",
    "        h_0_0 = Variable(torch.zeros(self.num_layers, x.size(0), self.hidden_size)) #hidden state 1st lstm layer\n",
    "        c_0_0 = Variable(torch.zeros(self.num_layers, x.size(0), self.hidden_size)) #internal state 1st lstm layer\n",
    "\n",
    "        # Propagate input through LSTM\n",
    "        output, (hn, cn) = self.lstm(x, (h_0_0, c_0_0)) #lstm with input, hidden, and internal state\n",
    "       # print(output.shape)\n",
    "       # print(hn.shape)\n",
    "        hn = hn.view(-1, self.hidden_size * num_layers) #reshaping (flatten) the data for Dense layer next\n",
    "       # print(hn.shape)\n",
    "        out = self.relu(hn)\n",
    "        out = self.fc_1(out) #first Dense\n",
    "        out = self.dropout(out)\n",
    "        out = self.relu(out) #relu\n",
    "        out = self.fc(out) #Final Output\n",
    "        \n",
    "        out = self.sigm(out)\n",
    "        return out"
   ]
  },
  {
   "cell_type": "markdown",
   "id": "6350e093-e74b-4fc4-ae17-9041ae39dc5d",
   "metadata": {},
   "source": [
    "#### Training the LSTM . "
   ]
  },
  {
   "cell_type": "code",
   "execution_count": 277,
   "id": "db41f883-c641-4ba7-bdbb-32d3a3358061",
   "metadata": {},
   "outputs": [
    {
     "name": "stderr",
     "output_type": "stream",
     "text": [
      "  0%|▍                                                                                | 5/1000 [00:00<00:21, 46.44it/s]"
     ]
    },
    {
     "name": "stdout",
     "output_type": "stream",
     "text": [
      "Epoch: 0, train_loss: 0.69302,  val_loss: 0.69247 \n"
     ]
    },
    {
     "name": "stderr",
     "output_type": "stream",
     "text": [
      " 11%|████████▋                                                                      | 110/1000 [00:01<00:15, 58.50it/s]"
     ]
    },
    {
     "name": "stdout",
     "output_type": "stream",
     "text": [
      "Epoch: 100, train_loss: 0.69109,  val_loss: 0.69091 \n"
     ]
    },
    {
     "name": "stderr",
     "output_type": "stream",
     "text": [
      " 21%|████████████████▌                                                              | 210/1000 [00:03<00:12, 63.45it/s]"
     ]
    },
    {
     "name": "stdout",
     "output_type": "stream",
     "text": [
      "Epoch: 200, train_loss: 0.68837,  val_loss: 0.69219 \n"
     ]
    },
    {
     "name": "stderr",
     "output_type": "stream",
     "text": [
      " 31%|████████████████████████▎                                                      | 308/1000 [00:05<00:11, 60.17it/s]"
     ]
    },
    {
     "name": "stdout",
     "output_type": "stream",
     "text": [
      "Epoch: 300, train_loss: 0.68787,  val_loss: 0.69441 \n"
     ]
    },
    {
     "name": "stderr",
     "output_type": "stream",
     "text": [
      " 41%|████████████████████████████████▍                                              | 410/1000 [00:06<00:09, 59.37it/s]"
     ]
    },
    {
     "name": "stdout",
     "output_type": "stream",
     "text": [
      "Epoch: 400, train_loss: 0.68726,  val_loss: 0.69751 \n"
     ]
    },
    {
     "name": "stderr",
     "output_type": "stream",
     "text": [
      " 51%|███████████████████████████████████████▉                                       | 506/1000 [00:08<00:09, 51.07it/s]"
     ]
    },
    {
     "name": "stdout",
     "output_type": "stream",
     "text": [
      "Epoch: 500, train_loss: 0.68707,  val_loss: 0.69531 \n"
     ]
    },
    {
     "name": "stderr",
     "output_type": "stream",
     "text": [
      " 61%|████████████████████████████████████████████████▎                              | 612/1000 [00:10<00:05, 65.38it/s]"
     ]
    },
    {
     "name": "stdout",
     "output_type": "stream",
     "text": [
      "Epoch: 600, train_loss: 0.68636,  val_loss: 0.69407 \n"
     ]
    },
    {
     "name": "stderr",
     "output_type": "stream",
     "text": [
      " 71%|████████████████████████████████████████████████████████                       | 710/1000 [00:11<00:04, 60.90it/s]"
     ]
    },
    {
     "name": "stdout",
     "output_type": "stream",
     "text": [
      "Epoch: 700, train_loss: 0.68514,  val_loss: 0.69428 \n"
     ]
    },
    {
     "name": "stderr",
     "output_type": "stream",
     "text": [
      " 81%|███████████████████████████████████████████████████████████████▉               | 809/1000 [00:13<00:02, 64.49it/s]"
     ]
    },
    {
     "name": "stdout",
     "output_type": "stream",
     "text": [
      "Epoch: 800, train_loss: 0.68379,  val_loss: 0.69405 \n"
     ]
    },
    {
     "name": "stderr",
     "output_type": "stream",
     "text": [
      " 91%|████████████████████████████████████████████████████████████████████████       | 912/1000 [00:15<00:01, 61.80it/s]"
     ]
    },
    {
     "name": "stdout",
     "output_type": "stream",
     "text": [
      "Epoch: 900, train_loss: 0.68287,  val_loss: 0.69320 \n"
     ]
    },
    {
     "name": "stderr",
     "output_type": "stream",
     "text": [
      "100%|██████████████████████████████████████████████████████████████████████████████| 1000/1000 [00:16<00:00, 60.35it/s]\n"
     ]
    }
   ],
   "source": [
    "#hyperparameters\n",
    "num_epochs = 1000 #1000 epochs\n",
    "learning_rate = 0.0001\n",
    "input_size = 4 #number of features\n",
    "hidden_size = 60 #number of features in hidden state\n",
    "num_layers = 2 #number of stacked lstm layers\n",
    "\n",
    "num_classes = 2 #number of output classes\n",
    "\n",
    "lstm_clf = LSTM_clf(num_classes, input_size, hidden_size, num_layers, dropout = 0.3, fc_size=128)#X_train_tensors_final.shape[1]) #our lstm class\n",
    "\n",
    "criterion = torch.nn.BCELoss() #   # mean-squared error for regression\n",
    "optimizer = torch.optim.Adam(lstm_clf.parameters(), lr=learning_rate)\n",
    "\n",
    "\n",
    "plot_loss_tr = []\n",
    "plot_loss_val = []\n",
    "for epoch in tqdm(range(num_epochs)):\n",
    "    \n",
    "    #print(X_train_tensors_final.shape)\n",
    "    outputs = lstm_clf.forward(X_train_tensors_final) #forward pass\n",
    "    optimizer.zero_grad() #caluclate the gradient, manually setting to 0\n",
    "    #print(outputs.shape)\n",
    "    #print(y_train_tensors.shape)\n",
    "    # obtain the loss function\n",
    "    loss = criterion(outputs, y_train_tensors)\n",
    "    plot_loss_tr.append(loss.item())\n",
    "    loss.backward() #calculates the loss of the loss function\n",
    "\n",
    "    # Compute validation loss\n",
    "    val_outs = lstm_clf.forward(X_val_tensors_final) #forward pass\n",
    "    val_loss = criterion(val_outs, y_val_tensors)\n",
    "    plot_loss_val.append(val_loss.item())\n",
    "    \n",
    "    optimizer.step() #improve from loss, i.e backprop\n",
    "    if epoch % 100 == 0:\n",
    "        print(\"Epoch: %d, train_loss: %1.5f,  val_loss: %1.5f \" % (epoch, loss.item(), val_loss.item()))"
   ]
  },
  {
   "cell_type": "code",
   "execution_count": 278,
   "id": "84bffe73-5e54-48b9-8603-9901800b13f9",
   "metadata": {},
   "outputs": [
    {
     "data": {
      "image/png": "[encoded data removed]",
      "text/plain": [
       "<Figure size 720x720 with 1 Axes>"
      ]
     },
     "metadata": {
      "needs_background": "light"
     },
     "output_type": "display_data"
    }
   ],
   "source": [
    "fig , ax = plt.subplots(figsize = (10,10))\n",
    "\n",
    "plt.plot(plot_loss_val, label='Val_loss') #actual plot\n",
    "plt.plot(plot_loss_tr, label='Train_loss') #predicted plot\n",
    "plt.title('Training and validation loss curves')\n",
    "plt.xlabel('epochs', fontsize=14)\n",
    "plt.ylabel('Loss', fontsize=14)\n",
    "plt.legend()\n",
    "plt.show()"
   ]
  },
  {
   "cell_type": "markdown",
   "id": "027c1bd8-55e0-446f-bbba-315e6a29f0fc",
   "metadata": {},
   "source": [
    "### Prediction and evaluation of LSTM classifier ."
   ]
  },
  {
   "cell_type": "markdown",
   "id": "09f788ae-4a3f-422e-b02f-46aa0bbe1965",
   "metadata": {},
   "source": [
    " predictions in the right form to be accepted by sklearn accuracy functions and confusion matrix"
   ]
  },
  {
   "cell_type": "code",
   "execution_count": 284,
   "id": "e7993ee7-92a3-492f-af46-9db4c798b3fd",
   "metadata": {},
   "outputs": [],
   "source": [
    "train_predict = lstm_clf(X_tensors) #forward pass\n",
    "data_predict = train_predict.data.numpy() #numpy conversion\n",
    "for i in range(len(data_predict)):\n",
    "    index = np.argmax(data_predict, axis=1) # np.where(data_predict >=0.5, 1, 0) #\n",
    "    if (index[i] == 0) :\n",
    "        data_predict[i][index] = 1\n",
    "        data_predict[i][1] = 0 \n",
    "    else :\n",
    "        data_predict[i][0] = 0\n",
    "        data_predict[i][1] = 1 "
   ]
  },
  {
   "cell_type": "code",
   "execution_count": 285,
   "id": "17de9984-adf3-4ebd-b35a-4aef6eec30e4",
   "metadata": {},
   "outputs": [
    {
     "name": "stdout",
     "output_type": "stream",
     "text": [
      "TRAIN DATA , accuracy :  0.524517\n",
      "VAL DATA, accuracy :  0.544643\n"
     ]
    }
   ],
   "source": [
    "from sklearn.metrics import accuracy_score, balanced_accuracy_score\n",
    "\n",
    "#from sklearn.metric import mean_squared_error\n",
    "acc = accuracy_score(y[:split_tr], data_predict[:split_tr])\n",
    "print(\"TRAIN DATA , accuracy : \", round(acc,6))\n",
    "\n",
    "#bacc =  balanced_accuracy_score(y[:split_tr], predictions[:split_tr])\n",
    "#print(\"TRAIN DATA , balanced accuracy : \", round(bacc,6))\n",
    "\n",
    "acc = accuracy_score(y[split_tr : split_val], data_predict[split_tr : split_val])\n",
    "print(\"VAL DATA, accuracy : \", round(acc,6))"
   ]
  },
  {
   "cell_type": "code",
   "execution_count": 286,
   "id": "991d84a0-4496-4c8d-9b33-4579c4b8057a",
   "metadata": {},
   "outputs": [
    {
     "name": "stdout",
     "output_type": "stream",
     "text": [
      "Number of increase label predictions : (714, 2)\n",
      "Number of decrease label predictions : (407, 2)\n",
      "Overall data dataset shape :  (1121, 2)\n"
     ]
    }
   ],
   "source": [
    "# Number of increase predictions \n",
    "print(\"Number of increase label predictions :\",data_predict[data_predict[:,0] == 1].shape)\n",
    "print(\"Number of decrease label predictions :\",data_predict[data_predict[:,1] == 1].shape)\n",
    "print(\"Overall data dataset shape : \",data_predict.shape)"
   ]
  },
  {
   "cell_type": "code",
   "execution_count": 287,
   "id": "605e96d3-9e14-4785-9074-74a3a653c02a",
   "metadata": {},
   "outputs": [
    {
     "data": {
      "image/png": "[encoded data removed]",
      "text/plain": [
       "<Figure size 432x288 with 2 Axes>"
      ]
     },
     "metadata": {
      "needs_background": "light"
     },
     "output_type": "display_data"
    }
   ],
   "source": [
    "from sklearn.metrics import confusion_matrix, ConfusionMatrixDisplay\n",
    "\n",
    "y_conf = np.argmax(y, axis=1)\n",
    "pred_conf = np.argmax(data_predict, axis=1)\n",
    "\n",
    "cm = confusion_matrix(y_conf[split_tr : split_val] , pred_conf[split_tr : split_val], labels=[0,1])\n",
    "disp = ConfusionMatrixDisplay(confusion_matrix=cm,\n",
    "                              display_labels=[0,1])\n",
    "disp.plot()\n",
    "plt.show()"
   ]
  },
  {
   "cell_type": "markdown",
   "id": "9c651edd-722f-4d19-acff-e21781ee619e",
   "metadata": {},
   "source": [
    "#### TEST EVALUATION"
   ]
  },
  {
   "cell_type": "code",
   "execution_count": 288,
   "id": "4861abc2-b883-4ca7-ab19-8b9075179e70",
   "metadata": {},
   "outputs": [
    {
     "name": "stdout",
     "output_type": "stream",
     "text": [
      "TEST DATA, accuracy :  0.566964\n"
     ]
    },
    {
     "data": {
      "image/png": "[encoded data removed]",
      "text/plain": [
       "<Figure size 432x288 with 2 Axes>"
      ]
     },
     "metadata": {
      "needs_background": "light"
     },
     "output_type": "display_data"
    }
   ],
   "source": [
    "acc = accuracy_score(y_conf[split_val:], pred_conf[split_val:])\n",
    "print(\"TEST DATA, accuracy : \", round(acc,6))\n",
    "\n",
    "from sklearn.metrics import confusion_matrix, ConfusionMatrixDisplay\n",
    "\n",
    "cm = confusion_matrix(y_conf[split_val:] , pred_conf[split_val:], labels=[0,1])\n",
    "disp = ConfusionMatrixDisplay(confusion_matrix=cm,\n",
    "                         display_labels=[0,1])\n",
    "disp.plot()\n",
    "plt.show()"
   ]
  }
 ],
 "metadata": {
  "kernelspec": {
   "display_name": "Python 3 (ipykernel)",
   "language": "python",
   "name": "python3"
  },
  "language_info": {
   "codemirror_mode": {
    "name": "ipython",
    "version": 3
   },
   "file_extension": ".py",
   "mimetype": "text/x-python",
   "name": "python",
   "nbconvert_exporter": "python",
   "pygments_lexer": "ipython3",
   "version": "3.8.0"
  }
 },
 "nbformat": 4,
 "nbformat_minor": 5
}
