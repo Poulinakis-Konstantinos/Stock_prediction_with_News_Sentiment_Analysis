{
 "cells": [
  {
   "cell_type": "code",
   "execution_count": 1,
   "id": "e2ac9be8-1bd0-4a26-ba83-0c80622bf241",
   "metadata": {},
   "outputs": [],
   "source": [
    "import torch \n",
    "import numpy as np\n",
    "import pandas as pd \n",
    "import utilities\n",
    "from math import ceil\n",
    "import matplotlib.pyplot as plt\n",
    "from tqdm import tqdm\n",
    "\n",
    "import torch.nn as nn\n",
    "from torch.autograd import Variable"
   ]
  },
  {
   "cell_type": "code",
   "execution_count": 12,
   "id": "9b7d6b2a-36ad-400f-93a3-deed53181cfb",
   "metadata": {},
   "outputs": [
    {
     "name": "stdout",
     "output_type": "stream",
     "text": [
      "[*********************100%***********************]  1 of 1 completed\n",
      "NVDA financial dataframe dimensions  (3119, 6)\n",
      "Positive changes : 1617\n",
      "Negative changes : 1502\n",
      "No changes : 0\n"
     ]
    },
    {
     "data": {
      "text/html": [
       "<div>\n",
       "<style scoped>\n",
       "    .dataframe tbody tr th:only-of-type {\n",
       "        vertical-align: middle;\n",
       "    }\n",
       "\n",
       "    .dataframe tbody tr th {\n",
       "        vertical-align: top;\n",
       "    }\n",
       "\n",
       "    .dataframe thead th {\n",
       "        text-align: right;\n",
       "    }\n",
       "</style>\n",
       "<table border=\"1\" class=\"dataframe\">\n",
       "  <thead>\n",
       "    <tr style=\"text-align: right;\">\n",
       "      <th></th>\n",
       "      <th>Open</th>\n",
       "      <th>Close</th>\n",
       "      <th>Volume</th>\n",
       "      <th>Price_change</th>\n",
       "      <th>date</th>\n",
       "    </tr>\n",
       "    <tr>\n",
       "      <th>Date</th>\n",
       "      <th></th>\n",
       "      <th></th>\n",
       "      <th></th>\n",
       "      <th></th>\n",
       "      <th></th>\n",
       "    </tr>\n",
       "  </thead>\n",
       "  <tbody>\n",
       "    <tr>\n",
       "      <th>2008-01-31</th>\n",
       "      <td>6.160000</td>\n",
       "      <td>6.147500</td>\n",
       "      <td>58870800</td>\n",
       "      <td>1</td>\n",
       "      <td>0</td>\n",
       "    </tr>\n",
       "    <tr>\n",
       "      <th>2008-02-01</th>\n",
       "      <td>6.135000</td>\n",
       "      <td>6.715000</td>\n",
       "      <td>59310400</td>\n",
       "      <td>1</td>\n",
       "      <td>2008-02-01</td>\n",
       "    </tr>\n",
       "    <tr>\n",
       "      <th>2008-02-04</th>\n",
       "      <td>6.860000</td>\n",
       "      <td>6.505000</td>\n",
       "      <td>56512800</td>\n",
       "      <td>-1</td>\n",
       "      <td>2008-02-04</td>\n",
       "    </tr>\n",
       "    <tr>\n",
       "      <th>2008-02-05</th>\n",
       "      <td>6.375000</td>\n",
       "      <td>6.097500</td>\n",
       "      <td>49492800</td>\n",
       "      <td>-1</td>\n",
       "      <td>2008-02-05</td>\n",
       "    </tr>\n",
       "    <tr>\n",
       "      <th>2008-02-06</th>\n",
       "      <td>6.162500</td>\n",
       "      <td>6.077500</td>\n",
       "      <td>55738000</td>\n",
       "      <td>-1</td>\n",
       "      <td>2008-02-06</td>\n",
       "    </tr>\n",
       "    <tr>\n",
       "      <th>...</th>\n",
       "      <td>...</td>\n",
       "      <td>...</td>\n",
       "      <td>...</td>\n",
       "      <td>...</td>\n",
       "      <td>...</td>\n",
       "    </tr>\n",
       "    <tr>\n",
       "      <th>2020-06-15</th>\n",
       "      <td>88.152496</td>\n",
       "      <td>91.737503</td>\n",
       "      <td>40000400</td>\n",
       "      <td>1</td>\n",
       "      <td>2020-06-15</td>\n",
       "    </tr>\n",
       "    <tr>\n",
       "      <th>2020-06-16</th>\n",
       "      <td>92.250000</td>\n",
       "      <td>90.684998</td>\n",
       "      <td>53571600</td>\n",
       "      <td>-1</td>\n",
       "      <td>2020-06-16</td>\n",
       "    </tr>\n",
       "    <tr>\n",
       "      <th>2020-06-17</th>\n",
       "      <td>91.137497</td>\n",
       "      <td>92.360001</td>\n",
       "      <td>40830400</td>\n",
       "      <td>1</td>\n",
       "      <td>2020-06-17</td>\n",
       "    </tr>\n",
       "    <tr>\n",
       "      <th>2020-06-18</th>\n",
       "      <td>92.269997</td>\n",
       "      <td>92.180000</td>\n",
       "      <td>25440800</td>\n",
       "      <td>-1</td>\n",
       "      <td>2020-06-18</td>\n",
       "    </tr>\n",
       "    <tr>\n",
       "      <th>2020-06-19</th>\n",
       "      <td>92.425003</td>\n",
       "      <td>92.612503</td>\n",
       "      <td>52416000</td>\n",
       "      <td>1</td>\n",
       "      <td>2020-06-19</td>\n",
       "    </tr>\n",
       "  </tbody>\n",
       "</table>\n",
       "<p>3119 rows × 5 columns</p>\n",
       "</div>"
      ],
      "text/plain": [
       "                 Open      Close    Volume  Price_change        date\n",
       "Date                                                                \n",
       "2008-01-31   6.160000   6.147500  58870800             1           0\n",
       "2008-02-01   6.135000   6.715000  59310400             1  2008-02-01\n",
       "2008-02-04   6.860000   6.505000  56512800            -1  2008-02-04\n",
       "2008-02-05   6.375000   6.097500  49492800            -1  2008-02-05\n",
       "2008-02-06   6.162500   6.077500  55738000            -1  2008-02-06\n",
       "...               ...        ...       ...           ...         ...\n",
       "2020-06-15  88.152496  91.737503  40000400             1  2020-06-15\n",
       "2020-06-16  92.250000  90.684998  53571600            -1  2020-06-16\n",
       "2020-06-17  91.137497  92.360001  40830400             1  2020-06-17\n",
       "2020-06-18  92.269997  92.180000  25440800            -1  2020-06-18\n",
       "2020-06-19  92.425003  92.612503  52416000             1  2020-06-19\n",
       "\n",
       "[3119 rows x 5 columns]"
      ]
     },
     "execution_count": 12,
     "metadata": {},
     "output_type": "execute_result"
    }
   ],
   "source": [
    "fin_df = utilities.financial_dataset(stock='NVDA', num_of_labels=2, start_date='2008-02-01', end_date='2020-06-20')\n",
    "fin_df"
   ]
  },
  {
   "cell_type": "code",
   "execution_count": 13,
   "id": "cb297898-d1eb-41dd-b0a8-8f24a7415344",
   "metadata": {},
   "outputs": [],
   "source": [
    "fin_df.to_csv('Datasets/nvidia_fin_2_labels.csv')"
   ]
  },
  {
   "cell_type": "code",
   "execution_count": 2,
   "id": "e771219a-e6f7-4f86-bd24-ac0234b53bec",
   "metadata": {},
   "outputs": [],
   "source": [
    "fin_df = pd.read_csv('Datasets/nvidia_fin_2_labels.csv')"
   ]
  },
  {
   "cell_type": "markdown",
   "id": "f695e3e3-c210-4453-89cc-da26dc4d59bb",
   "metadata": {},
   "source": [
    "### Pre-process dataset\n",
    "Create small time series of 30 days. So for every 30 days' close prices $X_{it}$ we have a label price $y_t$ which is the closing price of 31st day."
   ]
  },
  {
   "cell_type": "code",
   "execution_count": 3,
   "id": "1454987e-3b64-4407-b248-6fa6efcbeb1c",
   "metadata": {},
   "outputs": [
    {
     "name": "stdout",
     "output_type": "stream",
     "text": [
      "X shape : (3118, 1)\n",
      "y shape : (3118, 1)\n"
     ]
    }
   ],
   "source": [
    "seq_len = 1\n",
    "# start creating sequences only after the first seq_len elements have passed \n",
    "X = np.zeros((fin_df.shape[0] - seq_len, seq_len))\n",
    "y = np.zeros((fin_df.shape[0] - seq_len, 1))\n",
    "print(\"X shape :\",X.shape)\n",
    "print(\"y shape :\",y.shape)"
   ]
  },
  {
   "cell_type": "code",
   "execution_count": 5,
   "id": "80f96ff3-d6ce-4f31-98c3-3f4a4f459c64",
   "metadata": {},
   "outputs": [],
   "source": [
    "for i in range(seq_len , X.shape[0] + seq_len) :\n",
    "    prev_elems = fin_df.iloc[i-seq_len : i]['Close']\n",
    "    # only the desired values\n",
    "    prev_elems = [ p for p in prev_elems]\n",
    "    prev_elems = np.array(prev_elems)\n",
    "    # Store previous 30 days close price\n",
    "    X[i-seq_len] = prev_elems\n",
    "    # Store label, close price of day 31 \n",
    "    y[i-seq_len] = fin_df.iloc[i]['Close']"
   ]
  },
  {
   "cell_type": "markdown",
   "id": "1b6028fd-f0e6-4367-ad90-fa41c5628569",
   "metadata": {},
   "source": [
    "### Normalise dataset and split into train-test.\n",
    "Min - Max scaling "
   ]
  },
  {
   "cell_type": "code",
   "execution_count": 7,
   "id": "d5b757fa-7a05-4059-a1bd-b7ca466b3371",
   "metadata": {},
   "outputs": [],
   "source": [
    "# transform features with standard scaler, and output values (close prices) to [0,1] with minmax scaler\n",
    "from sklearn.preprocessing import StandardScaler, MinMaxScaler\n",
    "mm = MinMaxScaler()\n",
    "#ss = StandardScaler()\n",
    "\n",
    "X_mm = mm.fit_transform(X)\n",
    "y_mm = mm.fit_transform(np.array(y).reshape(-1, 1))"
   ]
  },
  {
   "cell_type": "markdown",
   "id": "b20b2012-ba8e-496a-bdff-0f31cdc14581",
   "metadata": {},
   "source": [
    "Data splitting into train, test . "
   ]
  },
  {
   "cell_type": "markdown",
   "id": "2a1c1ec1-483a-4bac-90b3-d830f82df9f8",
   "metadata": {},
   "source": [
    "### Convert np.arrays into tensors and reshape in the format expected by the LSTM ."
   ]
  },
  {
   "cell_type": "code",
   "execution_count": 8,
   "id": "45162513-83b9-4740-935d-2ec67a511b2b",
   "metadata": {},
   "outputs": [],
   "source": [
    "X_tensors = Variable(torch.Tensor(X_mm))\n",
    "y_tensors = Variable(torch.Tensor(y_mm))\n",
    "#reshaping to rows, timestamps, features\n",
    "X_tensors = torch.reshape(X_tensors,   (X_tensors.shape[0], 1, X_tensors.shape[1]))\n",
    "y_tensors = torch.reshape(y_tensors,  (y_tensors.shape[0], 1, y_tensors.shape[1]))\n"
   ]
  },
  {
   "cell_type": "code",
   "execution_count": 9,
   "id": "43e1b00c-79d6-455e-9dd6-5ecd7841ff8d",
   "metadata": {},
   "outputs": [
    {
     "name": "stdout",
     "output_type": "stream",
     "text": [
      "Train data shapes X:(1871, 1) , y:(1871, 1)\n",
      "Test data shapes X:(623, 1) , y:(623, 1)\n",
      "Val data shapes X:(624, 1) , y:(624, 1)\n"
     ]
    }
   ],
   "source": [
    "# transform features with standard scaler, and output values (close prices) to [0,1] with minmax scaler\n",
    "from sklearn.preprocessing import StandardScaler, MinMaxScaler\n",
    "mm = MinMaxScaler()\n",
    "#ss = StandardScaler()\n",
    "\n",
    "X_mm = mm.fit_transform(X)\n",
    "\n",
    "# fraction of the test set.\n",
    "percentage = 0.3\n",
    "split_tr = ceil(X_mm.shape[0] *(1-percentage))\n",
    "split_val = ceil(X_mm.shape[0] *(1- percentage/2))\n",
    "\n",
    "X_train = X_mm[0:split_tr]\n",
    "y_train = y[0:split_tr]\n",
    "X_val= X_mm[split_tr: split_val]\n",
    "y_val= y[split_tr: split_val]\n",
    "X_test= X_mm[split_val:]\n",
    "y_test= y[split_val:]\n",
    "print(f\"Train data shapes X:{X_train.shape} , y:{y_train.shape}\")\n",
    "print(f\"Test data shapes X:{X_test.shape} , y:{y_test.shape}\")\n",
    "print(f\"Val data shapes X:{X_val.shape} , y:{y_val.shape}\")\n",
    "\n",
    "### TO tensors \n",
    "###\n",
    "X_tensors = Variable(torch.Tensor(X_mm))\n",
    "y_tensors = Variable(torch.Tensor(y))\n",
    "#reshaping to rows, timestamps, features\n",
    "X_tensors = torch.reshape(X_tensors,   (X_tensors.shape[0], 1, X_tensors.shape[1]))\n",
    "y_tensors = torch.reshape(y_tensors,  (y_tensors.shape[0], 1, y_tensors.shape[1]))\n",
    "\n",
    "X_train_tensors = Variable(torch.Tensor(X_train))\n",
    "X_test_tensors = Variable(torch.Tensor(X_test))\n",
    "X_val_tensors = Variable(torch.Tensor(X_val))\n",
    "y_train_tensors = Variable(torch.Tensor(y_train))\n",
    "y_test_tensors = Variable(torch.Tensor(y_test))\n",
    "y_val_tensors = Variable(torch.Tensor(y_val))\n",
    "\n"
   ]
  },
  {
   "cell_type": "code",
   "execution_count": 10,
   "id": "4663ec62-d1c7-4e9a-9757-e1a9614adab6",
   "metadata": {},
   "outputs": [
    {
     "name": "stdout",
     "output_type": "stream",
     "text": [
      "Training Shape torch.Size([1871, 1, 1]) torch.Size([1871, 1])\n",
      "Testing Shape torch.Size([623, 1, 1]) torch.Size([623, 1])\n",
      "Validation Shape torch.Size([624, 1, 1]) torch.Size([624, 1])\n"
     ]
    }
   ],
   "source": [
    "#reshaping to rows, timestamps, features\n",
    "X_train_tensors_final = torch.reshape(X_train_tensors,   (X_train_tensors.shape[0], 1, X_train_tensors.shape[1]))\n",
    "X_test_tensors_final = torch.reshape(X_test_tensors,  (X_test_tensors.shape[0], 1, X_test_tensors.shape[1]))\n",
    "X_val_tensors_final = torch.reshape(X_val_tensors,  (X_val_tensors.shape[0], 1, X_val_tensors.shape[1]))\n",
    "\n",
    "print(\"Training Shape\", X_train_tensors_final.shape, y_train_tensors.shape)\n",
    "print(\"Testing Shape\", X_test_tensors_final.shape, y_test_tensors.shape)\n",
    "print(\"Validation Shape\", X_val_tensors_final.shape, y_val_tensors.shape)"
   ]
  },
  {
   "cell_type": "markdown",
   "id": "174534bd-ae0f-465e-9910-9cbd30f5cbde",
   "metadata": {},
   "source": [
    "### Define LSTM structure .\n",
    "The LSTM will execute regression, so MSE loss is need during training. "
   ]
  },
  {
   "cell_type": "code",
   "execution_count": 11,
   "id": "cb7f6ecc-b7c5-4453-b0bb-abb7f5796182",
   "metadata": {},
   "outputs": [],
   "source": [
    "class LSTM1(nn.Module):\n",
    "    def __init__(self, num_classes, input_size, hidden_size, num_layers, dropout=0.2, fc_size=128):\n",
    "        super(LSTM1, self).__init__()\n",
    "        self.num_classes = num_classes #number of classes\n",
    "        self.num_layers = num_layers #number of layers\n",
    "        self.input_size = input_size #input size\n",
    "        self.hidden_size = hidden_size #hidden state\n",
    "\n",
    "        self.lstm = nn.LSTM(input_size=input_size, hidden_size=hidden_size,\n",
    "                          num_layers=num_layers, batch_first=True, dropout=dropout) #lstm\n",
    "        \n",
    "        self.fc_1 =  nn.Linear(hidden_size * num_layers, fc_size) #fully connected 1\n",
    "        self.fc = nn.Linear(fc_size, num_classes) #fully connected last layer\n",
    "\n",
    "        self.relu = nn.ReLU()\n",
    "\n",
    "    def forward(self,x):\n",
    "        h_0 = Variable(torch.zeros(self.num_layers, x.size(0), self.hidden_size)) #hidden state\n",
    "        c_0 = Variable(torch.zeros(self.num_layers, x.size(0), self.hidden_size)) #internal state\n",
    "        # Propagate input through LSTM\n",
    "        output, (hn, cn) = self.lstm(x, (h_0, c_0)) #lstm with input, hidden, and internal state\n",
    "        hn = hn.view(-1, self.hidden_size * num_layers) #reshaping the data for Dense layer next\n",
    "        out = self.relu(hn)\n",
    "        out = self.fc_1(out) #first Dense\n",
    "        out = self.relu(out) #relu\n",
    "        out = self.fc(out) #Final Output\n",
    "        return out"
   ]
  },
  {
   "cell_type": "code",
   "execution_count": 12,
   "id": "63885946-a6cd-46b0-94a2-8c46cf399113",
   "metadata": {},
   "outputs": [
    {
     "name": "stderr",
     "output_type": "stream",
     "text": [
      "C:\\Users\\Konpoul\\miniconda3\\envs\\torch\\lib\\site-packages\\torch\\nn\\modules\\rnn.py:62: UserWarning: dropout option adds dropout after all but last recurrent layer, so non-zero dropout expects num_layers greater than 1, but got dropout=0.2 and num_layers=1\n",
      "  warnings.warn(\"dropout option adds dropout after all but last \"\n"
     ]
    }
   ],
   "source": [
    "#hyperparameters\n",
    "num_epochs = 5000 #1000 epochs\n",
    "learning_rate = 0.0003 #0.001 lr\n",
    "\n",
    "input_size = seq_len #number of features\n",
    "hidden_size = 60 #number of features in hidden state\n",
    "num_layers = 1 #number of stacked lstm layers\n",
    "\n",
    "num_classes = 1 #number of output classes\n",
    "\n",
    "lstm1 = LSTM1(num_classes, input_size, hidden_size, num_layers, dropout=0.2, fc_size=128) #our lstm class\n",
    "\n",
    "criterion = torch.nn.MSELoss()    # mean-squared error for regression\n",
    "optimizer = torch.optim.Adam(lstm1.parameters(), lr=learning_rate)"
   ]
  },
  {
   "cell_type": "markdown",
   "id": "9192aa7f-7b4b-4a1c-925c-c18816d74884",
   "metadata": {},
   "source": [
    "#### Training loop"
   ]
  },
  {
   "cell_type": "code",
   "execution_count": 13,
   "id": "17dc13a0-5b27-4e83-813c-43be5742562c",
   "metadata": {},
   "outputs": [
    {
     "name": "stdout",
     "output_type": "stream",
     "text": [
      "Epoch: 0, train_loss: 16.42109,  val_loss: 691.23560 \n",
      "Epoch: 100, train_loss: 13.42271,  val_loss: 673.06036 \n",
      "Epoch: 200, train_loss: 7.27986,  val_loss: 626.34650 \n",
      "Epoch: 300, train_loss: 1.43609,  val_loss: 545.52502 \n",
      "Epoch: 400, train_loss: 0.96436,  val_loss: 516.13293 \n",
      "Epoch: 500, train_loss: 0.96090,  val_loss: 513.85126 \n",
      "Epoch: 600, train_loss: 0.95724,  val_loss: 511.78421 \n",
      "Epoch: 700, train_loss: 0.95331,  val_loss: 509.56015 \n",
      "Epoch: 800, train_loss: 0.94914,  val_loss: 507.19321 \n",
      "Epoch: 900, train_loss: 0.94475,  val_loss: 504.69131 \n",
      "Epoch: 1000, train_loss: 0.94015,  val_loss: 502.06149 \n",
      "Epoch: 1100, train_loss: 0.93533,  val_loss: 499.30423 \n",
      "Epoch: 1200, train_loss: 0.93030,  val_loss: 496.41818 \n",
      "Epoch: 1300, train_loss: 0.92505,  val_loss: 493.39929 \n",
      "Epoch: 1400, train_loss: 0.91957,  val_loss: 490.24023 \n",
      "Epoch: 1500, train_loss: 0.91383,  val_loss: 486.93015 \n",
      "Epoch: 1600, train_loss: 0.90781,  val_loss: 483.45413 \n",
      "Epoch: 1700, train_loss: 0.90148,  val_loss: 479.79248 \n",
      "Epoch: 1800, train_loss: 0.89479,  val_loss: 475.91916 \n",
      "Epoch: 1900, train_loss: 0.88769,  val_loss: 471.80154 \n",
      "Epoch: 2000, train_loss: 0.88010,  val_loss: 467.39709 \n",
      "Epoch: 2100, train_loss: 0.87192,  val_loss: 462.65125 \n",
      "Epoch: 2200, train_loss: 0.86304,  val_loss: 457.49194 \n",
      "Epoch: 2300, train_loss: 0.85328,  val_loss: 451.82346 \n",
      "Epoch: 2400, train_loss: 0.84243,  val_loss: 445.51663 \n",
      "Epoch: 2500, train_loss: 0.83018,  val_loss: 438.39502 \n",
      "Epoch: 2600, train_loss: 0.81611,  val_loss: 430.21283 \n",
      "Epoch: 2700, train_loss: 0.79962,  val_loss: 420.62354 \n",
      "Epoch: 2800, train_loss: 0.77985,  val_loss: 409.13867 \n",
      "Epoch: 2900, train_loss: 0.75562,  val_loss: 395.08032 \n",
      "Epoch: 3000, train_loss: 0.72531,  val_loss: 377.53546 \n",
      "Epoch: 3100, train_loss: 0.68681,  val_loss: 355.35745 \n",
      "Epoch: 3200, train_loss: 0.63763,  val_loss: 327.28241 \n",
      "Epoch: 3300, train_loss: 0.57548,  val_loss: 292.21390 \n",
      "Epoch: 3400, train_loss: 0.50036,  val_loss: 250.50060 \n",
      "Epoch: 3500, train_loss: 0.41240,  val_loss: 203.24490 \n",
      "Epoch: 3600, train_loss: 0.31701,  val_loss: 153.11458 \n",
      "Epoch: 3700, train_loss: 0.22168,  val_loss: 104.78412 \n",
      "Epoch: 3800, train_loss: 0.14088,  val_loss: 64.30977 \n",
      "Epoch: 3900, train_loss: 0.08257,  val_loss: 35.63308 \n",
      "Epoch: 4000, train_loss: 0.04589,  val_loss: 17.95270 \n",
      "Epoch: 4100, train_loss: 0.02625,  val_loss: 8.44318 \n",
      "Epoch: 4200, train_loss: 0.01748,  val_loss: 4.03088 \n",
      "Epoch: 4300, train_loss: 0.01418,  val_loss: 2.20850 \n",
      "Epoch: 4400, train_loss: 0.01311,  val_loss: 1.49758 \n",
      "Epoch: 4500, train_loss: 0.01280,  val_loss: 1.22251 \n",
      "Epoch: 4600, train_loss: 0.01271,  val_loss: 1.11688 \n",
      "Epoch: 4700, train_loss: 0.01267,  val_loss: 1.07770 \n",
      "Epoch: 4800, train_loss: 0.01265,  val_loss: 1.06071 \n",
      "Epoch: 4900, train_loss: 0.01263,  val_loss: 1.05187 \n"
     ]
    }
   ],
   "source": [
    "plot_loss_tr = []\n",
    "plot_loss_val = []\n",
    "for epoch in range(num_epochs):\n",
    "    outputs = lstm1.forward(X_train_tensors_final) #forward pass\n",
    "    optimizer.zero_grad() #caluclate the gradient, manually setting to 0\n",
    "\n",
    "    # obtain the loss function\n",
    "    loss = criterion(outputs, y_train_tensors)\n",
    "    plot_loss_tr.append(loss.item())\n",
    "    loss.backward() #calculates the loss of the loss function\n",
    "\n",
    "    # Compute validation loss\n",
    "    val_outs = lstm1.forward(X_val_tensors_final) #forward pass\n",
    "    val_loss = criterion(val_outs, y_val_tensors)\n",
    "    plot_loss_val.append(val_loss.item())\n",
    "\n",
    "    optimizer.step() #improve from loss, i.e backprop\n",
    "    if epoch % 100 == 0:\n",
    "        print(\"Epoch: %d, train_loss: %1.5f,  val_loss: %1.5f \" % (epoch, loss.item(), val_loss.item()))"
   ]
  },
  {
   "cell_type": "code",
   "execution_count": 14,
   "id": "634c66fb-842c-4ade-8686-5ff9af9b41d3",
   "metadata": {},
   "outputs": [
    {
     "data": {
      "image/png": "[encoded data removed]",
      "text/plain": [
       "<Figure size 720x720 with 1 Axes>"
      ]
     },
     "metadata": {
      "needs_background": "light"
     },
     "output_type": "display_data"
    }
   ],
   "source": [
    "fig , ax = plt.subplots(figsize = (10,10))\n",
    "\n",
    "plt.plot(plot_loss_val, label='Val_loss') #actual plot\n",
    "plt.plot(plot_loss_tr, label='Train_loss') #predicted plot\n",
    "plt.title('Training and validation loss curves')\n",
    "plt.legend()\n",
    "plt.show()"
   ]
  },
  {
   "cell_type": "code",
   "execution_count": 18,
   "id": "998ceb9a-d532-4069-8c8c-d6ed7d38ab45",
   "metadata": {},
   "outputs": [
    {
     "data": {
      "text/plain": [
       "tensor([[ 6.1239],\n",
       "        [ 6.6810],\n",
       "        [ 6.4745],\n",
       "        ...,\n",
       "        [70.0389],\n",
       "        [70.6549],\n",
       "        [70.5896]], grad_fn=<AddmmBackward0>)"
      ]
     },
     "execution_count": 18,
     "metadata": {},
     "output_type": "execute_result"
    }
   ],
   "source": [
    "train_predict"
   ]
  },
  {
   "cell_type": "code",
   "execution_count": 19,
   "id": "bca94729-430c-4606-9f81-4bf957310817",
   "metadata": {},
   "outputs": [
    {
     "data": {
      "text/plain": [
       "array([[ 566.05145],\n",
       "       [ 617.41376],\n",
       "       [ 598.3791 ],\n",
       "       ...,\n",
       "       [6458.541  ],\n",
       "       [6515.3306 ],\n",
       "       [6509.3105 ]], dtype=float32)"
      ]
     },
     "execution_count": 19,
     "metadata": {},
     "output_type": "execute_result"
    }
   ],
   "source": [
    "data_predict"
   ]
  },
  {
   "cell_type": "markdown",
   "id": "439e0d32-32e5-4e17-8f4b-2d6959a5965e",
   "metadata": {},
   "source": [
    "### Predicting with the LSTM"
   ]
  },
  {
   "cell_type": "code",
   "execution_count": 20,
   "id": "05a40264-7566-4667-bcb8-5b26a5a0ab12",
   "metadata": {},
   "outputs": [
    {
     "data": {
      "image/png": "[encoded data removed]",
      "text/plain": [
       "<Figure size 1152x864 with 1 Axes>"
      ]
     },
     "metadata": {
      "needs_background": "light"
     },
     "output_type": "display_data"
    }
   ],
   "source": [
    "train_predict = lstm1(X_tensors) #forward pass\n",
    "data_predict = train_predict.data.numpy() #numpy conversion\n",
    "dataY_plot = y_tensors.data.numpy()\n",
    "dataY_plot =  np.reshape(dataY_plot, (dataY_plot.shape[0],1))\n",
    "\n",
    "#data_predict = mm.inverse_transform(data_predict) #reverse transformation\n",
    "#dataY_plot = mm.inverse_transform(dataY_plot)\n",
    "\n",
    "plt.figure(figsize=(16,12)) #plotting\n",
    "plt.axvline(x=split_val, c='r', linestyle='--') #size of the training set\n",
    "\n",
    "plt.plot(dataY_plot, label='Actual Data') #actual plot\n",
    "plt.plot(data_predict, label='Predicted Data') #predicted plot\n",
    "plt.title('Time-Series Prediction')\n",
    "plt.legend()\n",
    "plt.show()"
   ]
  },
  {
   "cell_type": "markdown",
   "id": "70a8ad43-8e1b-4cf7-84ec-7f20558a508c",
   "metadata": {},
   "source": [
    "### Evaluation of regression predictions with MSE and Spearman Correlation. "
   ]
  },
  {
   "cell_type": "code",
   "execution_count": 21,
   "id": "a87d7e87-3f97-4a15-a43b-452734ae7d19",
   "metadata": {},
   "outputs": [
    {
     "name": "stdout",
     "output_type": "stream",
     "text": [
      "TRAIN DATA , MSE loss :  0.012623558\n",
      "VALIDATION DATA , MSE loss :  1.0502568\n"
     ]
    }
   ],
   "source": [
    "#from sklearn.metric import mean_squared_error\n",
    "mse = (np.power(dataY_plot[ : split_tr] - data_predict[ : split_tr], 2).mean())\n",
    "print(\"TRAIN DATA , MSE loss : \", mse)\n",
    "\n",
    "mse = (np.power(dataY_plot[split_tr : split_val] - data_predict[split_tr : split_val], 2).mean())\n",
    "print(\"VALIDATION DATA , MSE loss : \", mse)"
   ]
  },
  {
   "cell_type": "code",
   "execution_count": 25,
   "id": "aafc32b8-2f1e-40fb-89d4-9ac5c7a4a100",
   "metadata": {},
   "outputs": [
    {
     "name": "stdout",
     "output_type": "stream",
     "text": [
      "VALIDATION DATA,  Spreaman correlation :  SpearmanrResult(correlation=0.9983420164889845, pvalue=0.0)\n",
      "TRAIN DATA , Spreaman correlation :  SpearmanrResult(correlation=0.9937676140910586, pvalue=0.0)\n"
     ]
    }
   ],
   "source": [
    "from scipy.stats import spearmanr\n",
    "#from sklearn.metric import mean_squared_error\n",
    "spearman = spearmanr(dataY_plot[split_tr : split_val],data_predict[split_tr : split_val])\n",
    "print(\"VALIDATION DATA,  Spreaman correlation : \", spearman)\n",
    "\n",
    "#from sklearn.metric import mean_squared_error\n",
    "spearman = spearmanr(dataY_plot[ : split_tr],data_predict[ : split_tr])\n",
    "print(\"TRAIN DATA , Spreaman correlation : \", spearman)"
   ]
  },
  {
   "cell_type": "markdown",
   "id": "b0dceca2-350a-4ee4-94ba-6df3ea81c879",
   "metadata": {},
   "source": [
    "### TEST SET EVALUATION"
   ]
  },
  {
   "cell_type": "code",
   "execution_count": 26,
   "id": "17c2424d-49b7-4a1f-a653-7394f60b3719",
   "metadata": {},
   "outputs": [
    {
     "name": "stdout",
     "output_type": "stream",
     "text": [
      "TEST DATA, MSE loss :  42.65047\n",
      "TRAIN DATA , Spreaman correlation :  SpearmanrResult(correlation=0.9868741568210964, pvalue=0.0)\n"
     ]
    }
   ],
   "source": [
    "#from sklearn.metric import mean_squared_error\n",
    "mse = (np.power(dataY_plot[split_val:] - data_predict[split_val:], 2).mean())\n",
    "print(\"TEST DATA, MSE loss : \", mse)\n",
    "\n",
    "#from sklearn.metric import mean_squared_error\n",
    "spearman = spearmanr(dataY_plot[split_val:], data_predict[split_val:] )\n",
    "print(\"TRAIN DATA , Spreaman correlation : \", spearman)"
   ]
  },
  {
   "cell_type": "markdown",
   "id": "59a28455-831a-4ce4-903f-0fa428a2cece",
   "metadata": {},
   "source": [
    "# 2.) Classification of price movement with LSTM "
   ]
  },
  {
   "cell_type": "markdown",
   "id": "06240b1e-b35c-4402-b874-3931e07a6f5c",
   "metadata": {},
   "source": [
    "## Pre-process dataset\n"
   ]
  },
  {
   "cell_type": "markdown",
   "id": "dbb0fe98-2542-4a59-b3a1-19eb7cb2b23a",
   "metadata": {},
   "source": [
    "### Price_change is the class . 0: decrease , +1 : increase"
   ]
  },
  {
   "cell_type": "code",
   "execution_count": 3,
   "id": "316c38a7-ec76-4cb2-ad00-980b438b855f",
   "metadata": {},
   "outputs": [],
   "source": [
    "fin_df = pd.read_csv('Datasets/nvidia_fin_2_labels.csv')"
   ]
  },
  {
   "cell_type": "code",
   "execution_count": 4,
   "id": "980d6379-227e-4d87-9333-70df6476f2d6",
   "metadata": {},
   "outputs": [
    {
     "data": {
      "text/html": [
       "<div>\n",
       "<style scoped>\n",
       "    .dataframe tbody tr th:only-of-type {\n",
       "        vertical-align: middle;\n",
       "    }\n",
       "\n",
       "    .dataframe tbody tr th {\n",
       "        vertical-align: top;\n",
       "    }\n",
       "\n",
       "    .dataframe thead th {\n",
       "        text-align: right;\n",
       "    }\n",
       "</style>\n",
       "<table border=\"1\" class=\"dataframe\">\n",
       "  <thead>\n",
       "    <tr style=\"text-align: right;\">\n",
       "      <th></th>\n",
       "      <th>Date</th>\n",
       "      <th>Open</th>\n",
       "      <th>Close</th>\n",
       "      <th>Volume</th>\n",
       "      <th>Price_change</th>\n",
       "      <th>date</th>\n",
       "    </tr>\n",
       "  </thead>\n",
       "  <tbody>\n",
       "    <tr>\n",
       "      <th>0</th>\n",
       "      <td>2008-01-31</td>\n",
       "      <td>6.160000</td>\n",
       "      <td>6.147500</td>\n",
       "      <td>58870800</td>\n",
       "      <td>1</td>\n",
       "      <td>0</td>\n",
       "    </tr>\n",
       "    <tr>\n",
       "      <th>1</th>\n",
       "      <td>2008-02-01</td>\n",
       "      <td>6.135000</td>\n",
       "      <td>6.715000</td>\n",
       "      <td>59310400</td>\n",
       "      <td>1</td>\n",
       "      <td>2008-02-01</td>\n",
       "    </tr>\n",
       "    <tr>\n",
       "      <th>2</th>\n",
       "      <td>2008-02-04</td>\n",
       "      <td>6.860000</td>\n",
       "      <td>6.505000</td>\n",
       "      <td>56512800</td>\n",
       "      <td>0</td>\n",
       "      <td>2008-02-04</td>\n",
       "    </tr>\n",
       "    <tr>\n",
       "      <th>3</th>\n",
       "      <td>2008-02-05</td>\n",
       "      <td>6.375000</td>\n",
       "      <td>6.097500</td>\n",
       "      <td>49492800</td>\n",
       "      <td>0</td>\n",
       "      <td>2008-02-05</td>\n",
       "    </tr>\n",
       "    <tr>\n",
       "      <th>4</th>\n",
       "      <td>2008-02-06</td>\n",
       "      <td>6.162500</td>\n",
       "      <td>6.077500</td>\n",
       "      <td>55738000</td>\n",
       "      <td>0</td>\n",
       "      <td>2008-02-06</td>\n",
       "    </tr>\n",
       "    <tr>\n",
       "      <th>...</th>\n",
       "      <td>...</td>\n",
       "      <td>...</td>\n",
       "      <td>...</td>\n",
       "      <td>...</td>\n",
       "      <td>...</td>\n",
       "      <td>...</td>\n",
       "    </tr>\n",
       "    <tr>\n",
       "      <th>3114</th>\n",
       "      <td>2020-06-15</td>\n",
       "      <td>88.152496</td>\n",
       "      <td>91.737503</td>\n",
       "      <td>40000400</td>\n",
       "      <td>1</td>\n",
       "      <td>2020-06-15</td>\n",
       "    </tr>\n",
       "    <tr>\n",
       "      <th>3115</th>\n",
       "      <td>2020-06-16</td>\n",
       "      <td>92.250000</td>\n",
       "      <td>90.684998</td>\n",
       "      <td>53571600</td>\n",
       "      <td>0</td>\n",
       "      <td>2020-06-16</td>\n",
       "    </tr>\n",
       "    <tr>\n",
       "      <th>3116</th>\n",
       "      <td>2020-06-17</td>\n",
       "      <td>91.137497</td>\n",
       "      <td>92.360001</td>\n",
       "      <td>40830400</td>\n",
       "      <td>1</td>\n",
       "      <td>2020-06-17</td>\n",
       "    </tr>\n",
       "    <tr>\n",
       "      <th>3117</th>\n",
       "      <td>2020-06-18</td>\n",
       "      <td>92.269997</td>\n",
       "      <td>92.180000</td>\n",
       "      <td>25440800</td>\n",
       "      <td>0</td>\n",
       "      <td>2020-06-18</td>\n",
       "    </tr>\n",
       "    <tr>\n",
       "      <th>3118</th>\n",
       "      <td>2020-06-19</td>\n",
       "      <td>92.425003</td>\n",
       "      <td>92.612503</td>\n",
       "      <td>52416000</td>\n",
       "      <td>1</td>\n",
       "      <td>2020-06-19</td>\n",
       "    </tr>\n",
       "  </tbody>\n",
       "</table>\n",
       "<p>3119 rows × 6 columns</p>\n",
       "</div>"
      ],
      "text/plain": [
       "            Date       Open      Close    Volume  Price_change        date\n",
       "0     2008-01-31   6.160000   6.147500  58870800             1           0\n",
       "1     2008-02-01   6.135000   6.715000  59310400             1  2008-02-01\n",
       "2     2008-02-04   6.860000   6.505000  56512800             0  2008-02-04\n",
       "3     2008-02-05   6.375000   6.097500  49492800             0  2008-02-05\n",
       "4     2008-02-06   6.162500   6.077500  55738000             0  2008-02-06\n",
       "...          ...        ...        ...       ...           ...         ...\n",
       "3114  2020-06-15  88.152496  91.737503  40000400             1  2020-06-15\n",
       "3115  2020-06-16  92.250000  90.684998  53571600             0  2020-06-16\n",
       "3116  2020-06-17  91.137497  92.360001  40830400             1  2020-06-17\n",
       "3117  2020-06-18  92.269997  92.180000  25440800             0  2020-06-18\n",
       "3118  2020-06-19  92.425003  92.612503  52416000             1  2020-06-19\n",
       "\n",
       "[3119 rows x 6 columns]"
      ]
     },
     "execution_count": 4,
     "metadata": {},
     "output_type": "execute_result"
    }
   ],
   "source": [
    "fin_df['Price_change'] = fin_df['Price_change'].apply(lambda x : x+1 if (x==-1) else x)\n",
    "fin_df"
   ]
  },
  {
   "cell_type": "markdown",
   "id": "040633c1-30a0-43ab-aafd-65c7dbae33b5",
   "metadata": {},
   "source": [
    "Create small time series of N days. So for every N days' close prices $X_{it}$ we have a label price $y_t$ which is the price movement compared to yesterday (increase or decrease in price)."
   ]
  },
  {
   "cell_type": "code",
   "execution_count": 5,
   "id": "c4fb4f64-2181-4ed8-9246-76f4cf0a79f7",
   "metadata": {},
   "outputs": [
    {
     "name": "stdout",
     "output_type": "stream",
     "text": [
      "X shape : (3118, 1)\n",
      "y shape : (3118, 1)\n"
     ]
    }
   ],
   "source": [
    "seq_len = 1\n",
    "# start creating sequences only after the first seq_len elements have passed \n",
    "X = np.zeros((fin_df.shape[0] - seq_len, seq_len))\n",
    "y = np.zeros((fin_df.shape[0] - seq_len, 1))\n",
    "print(\"X shape :\",X.shape)\n",
    "print(\"y shape :\",y.shape)"
   ]
  },
  {
   "cell_type": "code",
   "execution_count": 9,
   "id": "1d3c0386-8d41-4e61-b8df-0938650c1123",
   "metadata": {},
   "outputs": [],
   "source": [
    "for i in range(seq_len , X.shape[0] + seq_len) :\n",
    "    prev_elems = fin_df.iloc[i-seq_len : i]['Close']\n",
    "    # only the desired values\n",
    "    prev_elems = [p for p in prev_elems]\n",
    "    prev_elems = np.array(prev_elems)\n",
    "    # Store previous seq_len  days close price\n",
    "    X[i-seq_len] = prev_elems\n",
    "    # Store label, close price of day 31 \n",
    "    y[i-seq_len] = fin_df.iloc[i]['Price_change']"
   ]
  },
  {
   "cell_type": "markdown",
   "id": "9f8c19bb-c51f-450c-8d9d-874e9d3dff2d",
   "metadata": {},
   "source": [
    "### Normalise dataset and split into train-test-val.\n",
    "#### Convert np.arrays into tensors and reshape in the format expected by the LSTM .\n",
    "Min - Max scaling "
   ]
  },
  {
   "cell_type": "code",
   "execution_count": 13,
   "id": "36806b98-9589-4ee0-9870-d95bdb09ece6",
   "metadata": {},
   "outputs": [
    {
     "name": "stdout",
     "output_type": "stream",
     "text": [
      "Train data shapes X:(1871, 1) , y:(1871, 1)\n",
      "Test data shapes X:(623, 1) , y:(623, 1)\n",
      "Val data shapes X:(624, 1) , y:(624, 1)\n",
      "Training Shape torch.Size([1871, 1, 1]) torch.Size([1871, 1])\n",
      "Testing Shape torch.Size([623, 1, 1]) torch.Size([623, 1])\n",
      "Validation Shape torch.Size([624, 1, 1]) torch.Size([624, 1])\n"
     ]
    }
   ],
   "source": [
    "# transform features with standard scaler, and output values (close prices) to [0,1] with minmax scaler\n",
    "from sklearn.preprocessing import StandardScaler, MinMaxScaler\n",
    "mm = MinMaxScaler()\n",
    "#ss = StandardScaler()\n",
    "\n",
    "X_mm = mm.fit_transform(X)\n",
    "\n",
    "# fraction of the test set.\n",
    "percentage = 0.4\n",
    "split_tr = ceil(X_mm.shape[0] *(1-percentage))\n",
    "split_val = ceil(X_mm.shape[0] *(1- percentage/2))\n",
    "\n",
    "X_train = X_mm[0:split_tr]\n",
    "y_train = y[0:split_tr]\n",
    "X_val= X_mm[split_tr: split_val]\n",
    "y_val= y[split_tr: split_val]\n",
    "X_test= X_mm[split_val:]\n",
    "y_test= y[split_val:]\n",
    "print(f\"Train data shapes X:{X_train.shape} , y:{y_train.shape}\")\n",
    "print(f\"Test data shapes X:{X_test.shape} , y:{y_test.shape}\")\n",
    "print(f\"Val data shapes X:{X_val.shape} , y:{y_val.shape}\")\n",
    "\n",
    "### TO tensors \n",
    "###\n",
    "X_tensors = Variable(torch.Tensor(X_mm))\n",
    "y_tensors = Variable(torch.Tensor(y))\n",
    "#reshaping to rows, timestamps, features\n",
    "X_tensors = torch.reshape(X_tensors,   (X_tensors.shape[0], 1, X_tensors.shape[1]))\n",
    "y_tensors = torch.reshape(y_tensors,  (y_tensors.shape[0], 1, y_tensors.shape[1]))\n",
    "\n",
    "X_train_tensors = Variable(torch.Tensor(X_train))\n",
    "X_test_tensors = Variable(torch.Tensor(X_test))\n",
    "X_val_tensors = Variable(torch.Tensor(X_val))\n",
    "y_train_tensors = Variable(torch.Tensor(y_train))\n",
    "y_test_tensors = Variable(torch.Tensor(y_test))\n",
    "y_val_tensors = Variable(torch.Tensor(y_val))\n",
    "\n",
    "#reshaping to rows, timestamps, features\n",
    "X_train_tensors_final = torch.reshape(X_train_tensors,   (X_train_tensors.shape[0], 1, X_train_tensors.shape[1]))\n",
    "X_test_tensors_final = torch.reshape(X_test_tensors,  (X_test_tensors.shape[0], 1, X_test_tensors.shape[1]))\n",
    "X_val_tensors_final = torch.reshape(X_val_tensors,  (X_val_tensors.shape[0], 1, X_val_tensors.shape[1]))\n",
    "\n",
    "print(\"Training Shape\", X_train_tensors_final.shape, y_train_tensors.shape)\n",
    "print(\"Testing Shape\", X_test_tensors_final.shape, y_test_tensors.shape)\n",
    "print(\"Validation Shape\", X_val_tensors_final.shape, y_val_tensors.shape)"
   ]
  },
  {
   "cell_type": "code",
   "execution_count": 14,
   "id": "cc3c02b2-9e18-49a7-b723-a024f9e09a14",
   "metadata": {},
   "outputs": [
    {
     "data": {
      "text/plain": [
       "torch.Size([1871, 1])"
      ]
     },
     "execution_count": 14,
     "metadata": {},
     "output_type": "execute_result"
    }
   ],
   "source": [
    "y_train_tensors.shape"
   ]
  },
  {
   "cell_type": "markdown",
   "id": "580ef0ca-e81b-466c-8648-c01a892d9085",
   "metadata": {},
   "source": [
    "### Define classification LSTM  : We need to add a sigmoid activation function at the end in order to get output in the $[0,1]$ range."
   ]
  },
  {
   "cell_type": "code",
   "execution_count": 18,
   "id": "fc166692-5b87-4ce2-9704-da1ac002123a",
   "metadata": {},
   "outputs": [],
   "source": [
    "class LSTM_clf(nn.Module):\n",
    "    def __init__(self, num_classes, input_size, hidden_size, num_layers, dropout=0.3, fc_size=128):\n",
    "        super(LSTM_clf, self).__init__()\n",
    "        self.num_classes = num_classes #number of classes\n",
    "        self.num_layers = num_layers #number of layers\n",
    "        self.input_size = input_size #input size\n",
    "        self.hidden_size = hidden_size #hidden state\n",
    "\n",
    "        self.lstm = nn.LSTM(input_size=input_size, hidden_size=hidden_size,\n",
    "                            num_layers=num_layers, batch_first=True, dropout=dropout) #lstm\n",
    "        \n",
    "        self.dropout = nn.Dropout(p=dropout)\n",
    "        self.fc_1 =  nn.Linear(hidden_size * num_layers, fc_size) #fully connected 1\n",
    "        self.fc = nn.Linear(fc_size, num_classes) #fully connected last layer\n",
    "\n",
    "        self.relu = nn.ReLU()\n",
    "        # sigmoid activation for end classification\n",
    "        self.sigm = nn.Sigmoid()\n",
    "        self.tanh = nn.Tanh()\n",
    "\n",
    "    def forward(self,x):\n",
    "        h_0 = Variable(torch.zeros(self.num_layers, x.size(0), self.hidden_size)) #hidden state\n",
    "        c_0 = Variable(torch.zeros(self.num_layers, x.size(0), self.hidden_size)) #internal state\n",
    "        # Propagate input through LSTM\n",
    "        output, (hn, cn) = self.lstm(x, (h_0, c_0)) #lstm with input, hidden, and internal state\n",
    "        hn = hn.view(-1, self.hidden_size * num_layers) #reshaping the data for Dense layer next\n",
    "        out = self.relu(hn)\n",
    "        out = self.fc_1(out) #first Dense\n",
    "        out = self.dropout(out) \n",
    "        out = self.relu(out) #relu\n",
    "        out = self.fc(out) #Final Output\n",
    "        \n",
    "        out = self.sigm(out)\n",
    "        return out"
   ]
  },
  {
   "cell_type": "code",
   "execution_count": 19,
   "id": "b42c716a-1bf1-445a-971d-6596e16d70a4",
   "metadata": {},
   "outputs": [
    {
     "data": {
      "text/plain": [
       "1"
      ]
     },
     "execution_count": 19,
     "metadata": {},
     "output_type": "execute_result"
    }
   ],
   "source": [
    "X_train_tensors_final.shape[1]"
   ]
  },
  {
   "cell_type": "markdown",
   "id": "6350e093-e74b-4fc4-ae17-9041ae39dc5d",
   "metadata": {},
   "source": [
    "#### Training the LSTM . "
   ]
  },
  {
   "cell_type": "code",
   "execution_count": 22,
   "id": "db41f883-c641-4ba7-bdbb-32d3a3358061",
   "metadata": {},
   "outputs": [
    {
     "name": "stdout",
     "output_type": "stream",
     "text": [
      "Epoch: 0, train_loss: 0.47948,  val_loss: inf \n",
      "Epoch: 100, train_loss: 0.25647,  val_loss: 0.39999 \n",
      "Epoch: 200, train_loss: 0.25004,  val_loss: 0.32652 \n",
      "Epoch: 300, train_loss: 0.24980,  val_loss: 0.30107 \n",
      "Epoch: 400, train_loss: 0.24986,  val_loss: 0.28835 \n",
      "Epoch: 500, train_loss: 0.25013,  val_loss: 0.28072 \n",
      "Epoch: 600, train_loss: 0.24996,  val_loss: 0.27564 \n",
      "Epoch: 700, train_loss: 0.24962,  val_loss: 0.27203 \n",
      "Epoch: 800, train_loss: 0.24997,  val_loss: 0.26933 \n",
      "Epoch: 900, train_loss: 0.24977,  val_loss: 0.26724 \n",
      "Epoch: 1000, train_loss: 0.24986,  val_loss: 0.26557 \n",
      "Epoch: 1100, train_loss: 0.24997,  val_loss: 0.26421 \n",
      "Epoch: 1200, train_loss: 0.24975,  val_loss: 0.26309 \n",
      "Epoch: 1300, train_loss: 0.24990,  val_loss: 0.26215 \n",
      "Epoch: 1400, train_loss: 0.24971,  val_loss: 0.26134 \n",
      "Epoch: 1500, train_loss: 0.24978,  val_loss: 0.26065 \n",
      "Epoch: 1600, train_loss: 0.24969,  val_loss: 0.26005 \n",
      "Epoch: 1700, train_loss: 0.24978,  val_loss: 0.25954 \n",
      "Epoch: 1800, train_loss: 0.24972,  val_loss: 0.25908 \n",
      "Epoch: 1900, train_loss: 0.24987,  val_loss: 0.25868 \n",
      "Epoch: 2000, train_loss: 0.24956,  val_loss: 0.25832 \n",
      "Epoch: 2100, train_loss: 0.24958,  val_loss: 0.25801 \n",
      "Epoch: 2200, train_loss: 0.24966,  val_loss: 0.25773 \n",
      "Epoch: 2300, train_loss: 0.24954,  val_loss: 0.25748 \n",
      "Epoch: 2400, train_loss: 0.24945,  val_loss: 0.25726 \n",
      "Epoch: 2500, train_loss: 0.24929,  val_loss: 0.25707 \n",
      "Epoch: 2600, train_loss: 0.24944,  val_loss: 0.25689 \n",
      "Epoch: 2700, train_loss: 0.24953,  val_loss: 0.25673 \n",
      "Epoch: 2800, train_loss: 0.24954,  val_loss: 0.25659 \n",
      "Epoch: 2900, train_loss: 0.24961,  val_loss: 0.25648 \n",
      "Epoch: 3000, train_loss: 0.24943,  val_loss: 0.25640 \n",
      "Epoch: 3100, train_loss: 0.24930,  val_loss: 0.25635 \n",
      "Epoch: 3200, train_loss: 0.24929,  val_loss: 0.25634 \n",
      "Epoch: 3300, train_loss: 0.24928,  val_loss: 0.25637 \n",
      "Epoch: 3400, train_loss: 0.24928,  val_loss: 0.25645 \n",
      "Epoch: 3500, train_loss: 0.24914,  val_loss: 0.25659 \n",
      "Epoch: 3600, train_loss: 0.24938,  val_loss: 0.25679 \n",
      "Epoch: 3700, train_loss: 0.24930,  val_loss: 0.25705 \n",
      "Epoch: 3800, train_loss: 0.24917,  val_loss: 0.25736 \n",
      "Epoch: 3900, train_loss: 0.24926,  val_loss: 0.25770 \n"
     ]
    }
   ],
   "source": [
    "#hyperparameters\n",
    "num_epochs = 2000 #1000 epochs\n",
    "learning_rate = 0.0003 \n",
    "input_size = seq_len #number of features\n",
    "hidden_size = 30 #number of features in hidden state\n",
    "num_layers = 4 #number of stacked lstm layers\n",
    "\n",
    "num_classes = 1 #number of output classes\n",
    "\n",
    "lstm_clf = LSTM_clf(num_classes, input_size, hidden_size, num_layers,  dropout=0.4, fc_size=128) #our lstm network \n",
    "\n",
    "criterion = torch.nn.BCELoss()    # mean-squared error for regression\n",
    "optimizer = torch.optim.Adam(lstm_clf.parameters(), lr=learning_rate)\n",
    "\n",
    "#### TRAIN LOOP #####\n",
    "plot_loss_tr = []\n",
    "plot_loss_val = []\n",
    "for epoch in tqdm(range(num_epochs)):\n",
    "  outputs = lstm_clf.forward(X_train_tensors_final) #forward pass\n",
    "  optimizer.zero_grad() #caluclate the gradient, manually setting to 0\n",
    "\n",
    "  # obtain the loss function\n",
    "  loss = criterion(outputs, y_train_tensors)\n",
    "  plot_loss_tr.append(loss.item())\n",
    "  loss.backward() #calculates the loss of the loss function\n",
    "  \n",
    "  # Compute validation loss\n",
    "  val_outs = lstm_clf.forward(X_val_tensors_final) #forward pass\n",
    "  val_loss = criterion(val_outs, y_val_tensors)\n",
    "  plot_loss_val.append(val_loss.item())\n",
    "\n",
    "  optimizer.step() #improve from loss, i.e backprop\n",
    "  if epoch % 100 == 0:\n",
    "    print(\"Epoch: %d, train_loss: %1.5f,  val_loss: %1.5f \" % (epoch, loss.item(), val_loss.item()))"
   ]
  },
  {
   "cell_type": "code",
   "execution_count": 23,
   "id": "5fc13cb5-5f7c-4337-bd9d-79c267f279bd",
   "metadata": {},
   "outputs": [
    {
     "data": {
      "image/png": "[encoded data removed]",
      "text/plain": [
       "<Figure size 720x720 with 1 Axes>"
      ]
     },
     "metadata": {
      "needs_background": "light"
     },
     "output_type": "display_data"
    }
   ],
   "source": [
    "fig , ax = plt.subplots(figsize = (10,10))\n",
    "\n",
    "plt.plot(plot_loss_val, label='Val_loss') #actual plot\n",
    "plt.plot(plot_loss_tr, label='Train_loss') #predicted plot\n",
    "plt.title('Training and validation loss curves')\n",
    "plt.legend()\n",
    "plt.show()"
   ]
  },
  {
   "cell_type": "markdown",
   "id": "027c1bd8-55e0-446f-bbba-315e6a29f0fc",
   "metadata": {},
   "source": [
    "### Prediction and evaluation of LSTM classifier ."
   ]
  },
  {
   "cell_type": "code",
   "execution_count": 25,
   "id": "e7993ee7-92a3-492f-af46-9db4c798b3fd",
   "metadata": {},
   "outputs": [],
   "source": [
    "train_predict = lstm_clf(X_tensors) #forward pass\n",
    "data_predict = train_predict.data.numpy() #numpy conversion\n",
    "predictions = np.argmax(data_predict, axis=1)"
   ]
  },
  {
   "cell_type": "code",
   "execution_count": null,
   "id": "17de9984-adf3-4ebd-b35a-4aef6eec30e4",
   "metadata": {},
   "outputs": [
    {
     "name": "stdout",
     "output_type": "stream",
     "text": [
      "TRAIN DATA , accuracy :  0.50294\n",
      "VAL DATA, accuracy :  0.432692\n"
     ]
    }
   ],
   "source": [
    "from sklearn.metrics import accuracy_score\n",
    "\n",
    "#from sklearn.metric import mean_squared_error\n",
    "acc = accuracy_score(y[:split_tr], predictions[:split_tr])\n",
    "print(\"TRAIN DATA , accuracy : \", round(acc,6))\n",
    "\n",
    "acc = accuracy_score(y[split_tr : split_val], predictions[split_tr : split_val])\n",
    "print(\"VAL DATA, accuracy : \", round(acc,6))"
   ]
  },
  {
   "cell_type": "code",
   "execution_count": null,
   "id": "14186635-15ad-4db4-ad81-0dee49f1aa82",
   "metadata": {},
   "outputs": [],
   "source": [
    "# Number of increase predictions \n",
    "#print(\"Number of increase label predictions :\",predictions[predictions[:,0] == 1].shape)\n",
    "#print(\"Number of decrease label predictions :\",predictions[predictions[:,1] == 1].shape)\n",
    "#print(\"Overall data dataset shape : \",predictions.shape)"
   ]
  },
  {
   "cell_type": "code",
   "execution_count": 36,
   "id": "605e96d3-9e14-4785-9074-74a3a653c02a",
   "metadata": {},
   "outputs": [
    {
     "data": {
      "image/png": "[encoded data removed]",
      "text/plain": [
       "<Figure size 432x288 with 2 Axes>"
      ]
     },
     "metadata": {
      "needs_background": "light"
     },
     "output_type": "display_data"
    }
   ],
   "source": [
    "from sklearn.metrics import confusion_matrix, ConfusionMatrixDisplay\n",
    "\n",
    "cm = confusion_matrix(y[split_tr : split_val] , predictions[split_tr : split_val], labels=[0,1])\n",
    "disp = ConfusionMatrixDisplay(confusion_matrix=cm,\n",
    "                         display_labels=[0,1])\n",
    "disp.plot()\n",
    "plt.show()"
   ]
  },
  {
   "cell_type": "markdown",
   "id": "92eede64-ee6a-486f-a5bf-04cd0bdcde21",
   "metadata": {},
   "source": [
    "#### TEST EVALUATION"
   ]
  },
  {
   "cell_type": "code",
   "execution_count": 121,
   "id": "f41ba9c4-ad9a-47f0-9f83-f14540f096f8",
   "metadata": {},
   "outputs": [
    {
     "name": "stdout",
     "output_type": "stream",
     "text": [
      "TEST DATA, accuracy :  0.467095\n"
     ]
    },
    {
     "data": {
      "image/png": "[encoded data removed]",
      "text/plain": [
       "<Figure size 432x288 with 2 Axes>"
      ]
     },
     "metadata": {
      "needs_background": "light"
     },
     "output_type": "display_data"
    }
   ],
   "source": [
    "acc = accuracy_score(y[split_val:], predictions[split_val:])\n",
    "print(\"TEST DATA, accuracy : \", round(acc,6))\n",
    "\n",
    "from sklearn.metrics import confusion_matrix, ConfusionMatrixDisplay\n",
    "\n",
    "cm = confusion_matrix(y[split_val:] , predictions[split_val:], labels=[0,1])\n",
    "disp = ConfusionMatrixDisplay(confusion_matrix=cm,\n",
    "                         display_labels=[0,1])\n",
    "disp.plot()\n",
    "plt.show()"
   ]
  }
 ],
 "metadata": {
  "kernelspec": {
   "display_name": "Python 3 (ipykernel)",
   "language": "python",
   "name": "python3"
  },
  "language_info": {
   "codemirror_mode": {
    "name": "ipython",
    "version": 3
   },
   "file_extension": ".py",
   "mimetype": "text/x-python",
   "name": "python",
   "nbconvert_exporter": "python",
   "pygments_lexer": "ipython3",
   "version": "3.8.0"
  }
 },
 "nbformat": 4,
 "nbformat_minor": 5
}
