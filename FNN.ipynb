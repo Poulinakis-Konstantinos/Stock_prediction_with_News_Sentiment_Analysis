{
 "cells": [
  {
   "cell_type": "markdown",
   "id": "1eeabdc8-9644-42ee-b98c-c56932b63bba",
   "metadata": {},
   "source": [
    "## Neural Network"
   ]
  },
  {
   "cell_type": "code",
   "execution_count": 1,
   "id": "7e463cac-16c3-4af3-9b4c-802b9d0e4e8f",
   "metadata": {},
   "outputs": [],
   "source": [
    "import tensorflow as tf\n",
    "from tensorflow.keras.utils import to_categorical\n",
    "import numpy as np\n",
    "import pandas as pd\n",
    "from tensorflow import keras\n",
    "from tensorflow.keras import layers\n",
    "import matplotlib.pyplot as plt"
   ]
  },
  {
   "cell_type": "code",
   "execution_count": 2,
   "id": "ce56c4bc-7950-4676-b6d5-0332b69af407",
   "metadata": {},
   "outputs": [
    {
     "name": "stderr",
     "output_type": "stream",
     "text": [
      "C:\\Users\\Konpoul\\AppData\\Local\\Temp/ipykernel_12848/1231874599.py:4: SettingWithCopyWarning: \n",
      "A value is trying to be set on a copy of a slice from a DataFrame.\n",
      "Try using .loc[row_indexer,col_indexer] = value instead\n",
      "\n",
      "See the caveats in the documentation: https://pandas.pydata.org/pandas-docs/stable/user_guide/indexing.html#returning-a-view-versus-a-copy\n",
      "  data_nn['Price_change'] = data_nn['Price_change'].apply(lambda x : x+1)\n"
     ]
    },
    {
     "data": {
      "text/html": [
       "<div>\n",
       "<style scoped>\n",
       "    .dataframe tbody tr th:only-of-type {\n",
       "        vertical-align: middle;\n",
       "    }\n",
       "\n",
       "    .dataframe tbody tr th {\n",
       "        vertical-align: top;\n",
       "    }\n",
       "\n",
       "    .dataframe thead th {\n",
       "        text-align: right;\n",
       "    }\n",
       "</style>\n",
       "<table border=\"1\" class=\"dataframe\">\n",
       "  <thead>\n",
       "    <tr style=\"text-align: right;\">\n",
       "      <th></th>\n",
       "      <th>Positive</th>\n",
       "      <th>Negative</th>\n",
       "      <th>Neutral</th>\n",
       "      <th>Price_change</th>\n",
       "    </tr>\n",
       "  </thead>\n",
       "  <tbody>\n",
       "    <tr>\n",
       "      <th>0</th>\n",
       "      <td>0.046127</td>\n",
       "      <td>0.411465</td>\n",
       "      <td>0.542409</td>\n",
       "      <td>0</td>\n",
       "    </tr>\n",
       "    <tr>\n",
       "      <th>1</th>\n",
       "      <td>0.070845</td>\n",
       "      <td>0.449025</td>\n",
       "      <td>0.480130</td>\n",
       "      <td>2</td>\n",
       "    </tr>\n",
       "    <tr>\n",
       "      <th>2</th>\n",
       "      <td>0.190995</td>\n",
       "      <td>0.453761</td>\n",
       "      <td>0.355244</td>\n",
       "      <td>0</td>\n",
       "    </tr>\n",
       "    <tr>\n",
       "      <th>3</th>\n",
       "      <td>0.204221</td>\n",
       "      <td>0.447518</td>\n",
       "      <td>0.348261</td>\n",
       "      <td>0</td>\n",
       "    </tr>\n",
       "    <tr>\n",
       "      <th>4</th>\n",
       "      <td>0.315863</td>\n",
       "      <td>0.218127</td>\n",
       "      <td>0.466010</td>\n",
       "      <td>2</td>\n",
       "    </tr>\n",
       "    <tr>\n",
       "      <th>...</th>\n",
       "      <td>...</td>\n",
       "      <td>...</td>\n",
       "      <td>...</td>\n",
       "      <td>...</td>\n",
       "    </tr>\n",
       "    <tr>\n",
       "      <th>3843</th>\n",
       "      <td>0.243090</td>\n",
       "      <td>0.565334</td>\n",
       "      <td>0.191576</td>\n",
       "      <td>0</td>\n",
       "    </tr>\n",
       "    <tr>\n",
       "      <th>3844</th>\n",
       "      <td>0.173455</td>\n",
       "      <td>0.011468</td>\n",
       "      <td>0.815077</td>\n",
       "      <td>1</td>\n",
       "    </tr>\n",
       "    <tr>\n",
       "      <th>3845</th>\n",
       "      <td>0.033993</td>\n",
       "      <td>0.045346</td>\n",
       "      <td>0.920662</td>\n",
       "      <td>2</td>\n",
       "    </tr>\n",
       "    <tr>\n",
       "      <th>3846</th>\n",
       "      <td>0.953540</td>\n",
       "      <td>0.023839</td>\n",
       "      <td>0.022620</td>\n",
       "      <td>2</td>\n",
       "    </tr>\n",
       "    <tr>\n",
       "      <th>3847</th>\n",
       "      <td>0.413101</td>\n",
       "      <td>0.213115</td>\n",
       "      <td>0.373783</td>\n",
       "      <td>0</td>\n",
       "    </tr>\n",
       "  </tbody>\n",
       "</table>\n",
       "<p>3848 rows × 4 columns</p>\n",
       "</div>"
      ],
      "text/plain": [
       "      Positive  Negative   Neutral  Price_change\n",
       "0     0.046127  0.411465  0.542409             0\n",
       "1     0.070845  0.449025  0.480130             2\n",
       "2     0.190995  0.453761  0.355244             0\n",
       "3     0.204221  0.447518  0.348261             0\n",
       "4     0.315863  0.218127  0.466010             2\n",
       "...        ...       ...       ...           ...\n",
       "3843  0.243090  0.565334  0.191576             0\n",
       "3844  0.173455  0.011468  0.815077             1\n",
       "3845  0.033993  0.045346  0.920662             2\n",
       "3846  0.953540  0.023839  0.022620             2\n",
       "3847  0.413101  0.213115  0.373783             0\n",
       "\n",
       "[3848 rows x 4 columns]"
      ]
     },
     "execution_count": 2,
     "metadata": {},
     "output_type": "execute_result"
    }
   ],
   "source": [
    "data = pd.read_csv('Datasets/8_comps.csv')\n",
    "data.Price_change = data.Price_change.astype(int)\n",
    "data_nn = data[['Positive', 'Negative', 'Neutral', 'Price_change']]\n",
    "data_nn['Price_change'] = data_nn['Price_change'].apply(lambda x : x+1)\n",
    "data_nn"
   ]
  },
  {
   "cell_type": "code",
   "execution_count": 3,
   "id": "367c63a0-d006-405e-80e6-447ed1ec8235",
   "metadata": {},
   "outputs": [],
   "source": [
    "subs = data_nn.sample(frac=0.4)\n",
    "train_dataframe = data_nn.drop(subs.index)\n",
    "val_dataframe = subs.sample(frac=0.5)\n",
    "test_dataframe = subs.drop(val_dataframe.index)"
   ]
  },
  {
   "cell_type": "code",
   "execution_count": 4,
   "id": "aa642859-fe56-43aa-90db-a68b9ed29556",
   "metadata": {},
   "outputs": [
    {
     "name": "stdout",
     "output_type": "stream",
     "text": [
      "Train (2309, 4)\n",
      "Val (770, 4)\n",
      "Test (769, 4)\n"
     ]
    }
   ],
   "source": [
    "print(\"Train\",train_dataframe.shape)\n",
    "print(\"Val\",val_dataframe.shape)\n",
    "print(\"Test\",test_dataframe.shape)"
   ]
  },
  {
   "cell_type": "code",
   "execution_count": 5,
   "id": "310ad8ee-0d9c-426a-85c8-46d5c8e9eead",
   "metadata": {},
   "outputs": [],
   "source": [
    "def dataframe_to_dataset(dataframe):\n",
    "    df = dataframe.copy()\n",
    "    labels = df.pop(\"Price_change\")\n",
    "    labels = to_categorical(labels, 3)\n",
    "    ds = tf.data.Dataset.from_tensor_slices((dict(df), labels))\n",
    "    ds = ds.shuffle(buffer_size=len(dataframe))\n",
    "    return ds\n",
    "\n",
    "train_ds = dataframe_to_dataset(train_dataframe)\n",
    "val_ds = dataframe_to_dataset(val_dataframe)\n",
    "test_ds = dataframe_to_dataset(test_dataframe)"
   ]
  },
  {
   "cell_type": "code",
   "execution_count": 6,
   "id": "1f63ac77-c00a-494f-8b92-2464a9949cf5",
   "metadata": {},
   "outputs": [
    {
     "data": {
      "text/plain": [
       "<ShuffleDataset shapes: ({Positive: (), Negative: (), Neutral: ()}, (3,)), types: ({Positive: tf.float64, Negative: tf.float64, Neutral: tf.float64}, tf.float32)>"
      ]
     },
     "execution_count": 6,
     "metadata": {},
     "output_type": "execute_result"
    }
   ],
   "source": [
    "train_ds"
   ]
  },
  {
   "cell_type": "code",
   "execution_count": 8,
   "id": "4c65450a-8915-4bac-befc-45227dce7998",
   "metadata": {},
   "outputs": [
    {
     "name": "stdout",
     "output_type": "stream",
     "text": [
      "Input: {'Positive': <tf.Tensor: shape=(), dtype=float64, numpy=0.0082787349820137>, 'Negative': <tf.Tensor: shape=(), dtype=float64, numpy=0.96771240234375>, 'Neutral': <tf.Tensor: shape=(), dtype=float64, numpy=0.0240089111030101>}\n",
      "Target: tf.Tensor([1. 0. 0.], shape=(3,), dtype=float32)\n"
     ]
    }
   ],
   "source": [
    "for x, y in train_ds.take(1):\n",
    "    print(\"Input:\", x)\n",
    "    print(\"Target:\", y)"
   ]
  },
  {
   "cell_type": "code",
   "execution_count": 9,
   "id": "4bd814ba-8734-42b1-9e08-98b4c73d54bc",
   "metadata": {},
   "outputs": [],
   "source": [
    "# batch the datasets into batches of 32 data-points\n",
    "train_ds = train_ds.batch(32)\n",
    "val_ds = val_ds.batch(32)"
   ]
  },
  {
   "cell_type": "code",
   "execution_count": 10,
   "id": "16776436-5c07-4210-8d13-73700e314f0b",
   "metadata": {},
   "outputs": [],
   "source": [
    "from tensorflow.keras.layers import Normalization\n",
    "def encode_numerical_feature(feature, name, dataset):\n",
    "    # Create a Normalization layer for our feature\n",
    "    normalizer = Normalization()\n",
    "\n",
    "    # Prepare a Dataset that only yields our feature\n",
    "    feature_ds = dataset.map(lambda x, y: x[name])\n",
    "    feature_ds = feature_ds.map(lambda x: tf.expand_dims(x, -1))\n",
    "\n",
    "    # Learn the statistics of the data\n",
    "    normalizer.adapt(feature_ds)\n",
    "\n",
    "    # Normalize the input feature\n",
    "    encoded_feature = normalizer(feature)\n",
    "    return encoded_feature"
   ]
  },
  {
   "cell_type": "code",
   "execution_count": 11,
   "id": "542849aa-b84c-48fa-ac99-5b494b0d93b5",
   "metadata": {},
   "outputs": [],
   "source": [
    "positive = keras.Input(shape=(1,), name=\"Positive\")\n",
    "negative = keras.Input(shape=(1,), name=\"Negative\")\n",
    "neutral = keras.Input(shape=(1,), name=\"Neutral\")\n",
    "\n",
    "positive_enc = encode_numerical_feature(positive, 'Positive', train_ds)\n",
    "negative_enc = encode_numerical_feature(negative, 'Negative', train_ds)\n",
    "neutral_enc = encode_numerical_feature(neutral, 'Neutral', train_ds)\n",
    "\n",
    "inputs = [positive, negative, neutral ]\n",
    "features = layers.concatenate( [positive_enc, negative_enc, neutral_enc] )"
   ]
  },
  {
   "cell_type": "markdown",
   "id": "eef35f0e-7347-4e3c-b69d-18cce3b6f2ce",
   "metadata": {},
   "source": [
    "### Define FNN Model "
   ]
  },
  {
   "cell_type": "code",
   "execution_count": 12,
   "id": "75225572-232b-4918-8444-e05d7d5fb34f",
   "metadata": {},
   "outputs": [],
   "source": [
    "# MODEL 1\n",
    "# Fully vonnected layer with 3 inputs (features tensors) and 32 neurons/outuputs.\n",
    "x = layers.Dense(32, activation=\"relu\")(features)\n",
    "x = layers.Dropout(0.2)(x) # add a dropout for less overfitting\n",
    "x = layers.Dense(16, activation='relu')(x)\n",
    "x = layers.Dropout(0.2)(x)\n",
    "x = layers.Dense(32, activation='relu')(x)\n",
    "x = layers.Dropout(0.2)(x)\n",
    "x = layers.Dense(16, activation='relu')(x)\n",
    "x = layers.Dropout(0.2)(x)\n",
    "x = layers.Dense(8, activation='relu')(x)\n",
    "x = layers.Dropout(0.2)(x)\n",
    "\n",
    "output = layers.Dense(3, activation=\"softmax\")(x)\n",
    "model = keras.Model(inputs, output)\n",
    "model.compile(\"adam\", \"categorical_crossentropy\", metrics=[\"accuracy\"])"
   ]
  },
  {
   "cell_type": "code",
   "execution_count": 13,
   "id": "63790695-3e1a-455c-b6e7-cff089d6aa68",
   "metadata": {},
   "outputs": [],
   "source": [
    "# MODEL 2\n",
    "# Fully vonnected layer with 3 inputs (features tensors) and 32 neurons/outuputs.\n",
    "x = layers.Dense(512, activation=\"relu\")(features)\n",
    "x = layers.Dropout(0.2)(x) # add a dropout for less overfitting\n",
    "x = layers.Dense(1024, activation=\"relu\")(features)\n",
    "x = layers.Dropout(0.2)(x) # add a dropout for less overfitting\n",
    "x = layers.Dense(1024, activation=\"relu\")(features)\n",
    "x = layers.Dropout(0.2)(x) # add a dropout for less overfitting\n",
    "x = layers.Dense(2048, activation='relu')(x)\n",
    "x = layers.Dropout(0.2)(x)\n",
    "x = layers.Dense(2048, activation='relu')(x)\n",
    "x = layers.Dropout(0.2)(x)\n",
    "x = layers.Dense(1024, activation='relu')(x)\n",
    "x = layers.Dropout(0.2)(x)\n",
    "x = layers.Dense(512, activation='relu')(x)\n",
    "x = layers.Dropout(0.2)(x)\n",
    "x = layers.Dense(512, activation='relu')(x)\n",
    "x = layers.Dropout(0.2)(x)\n",
    "x = layers.Dense(64, activation='relu')(x)\n",
    "x = layers.Dropout(0.2)(x)\n",
    "output = layers.Dense(3, activation=\"softmax\")(x)\n",
    "model2 = keras.Model(inputs, output)\n",
    "model2.compile(\"adam\", \"categorical_crossentropy\", metrics=[\"accuracy\"])"
   ]
  },
  {
   "cell_type": "code",
   "execution_count": 14,
   "id": "27207997-dbff-4fa6-beff-cd15baa2e94d",
   "metadata": {},
   "outputs": [
    {
     "data": {
      "image/png": "[encoded data removed]",
      "text/plain": [
       "<IPython.core.display.Image object>"
      ]
     },
     "execution_count": 14,
     "metadata": {},
     "output_type": "execute_result"
    }
   ],
   "source": [
    "keras.utils.plot_model(model, show_shapes=True, rankdir=\"LR\")"
   ]
  },
  {
   "cell_type": "markdown",
   "id": "e994d6ae-fd70-4057-a552-ff64e96ba2af",
   "metadata": {},
   "source": [
    "### Callbacks and train helpers"
   ]
  },
  {
   "cell_type": "code",
   "execution_count": 15,
   "id": "31e1e5f5-4a3c-48e0-9a95-54ee995fd235",
   "metadata": {},
   "outputs": [],
   "source": [
    "def assign_callbacks(weights_file,patience,lr_factor):\n",
    "  return[\n",
    "      #Only save the weights that correspond to the minimum validation loss.\n",
    "      tf.keras.callbacks.ModelCheckpoint(filepath=weights_file,\n",
    "                                         monitor='val_accuracy',\n",
    "                                         mode='max',\n",
    "                                         save_best_only=True ,\n",
    "                                         save_weights_only=True,\n",
    "                                         verbose=0),\n",
    "      #If val_loss doesn't improve for a number of epochs set with 'patience' \n",
    "      #variable, training will stop to avoid overfitting.    \n",
    "      tf.keras.callbacks.EarlyStopping(monitor='val_loss',\n",
    "                                       mode='min',\n",
    "                                       patience=patience,\n",
    "                                       verbose=1),\n",
    "      #Learning rate is reduced by 'lr_factor' if val_loss stagnates\n",
    "      #for a number of epochs set with 'patience/2' variable.\n",
    "      tf.keras.callbacks.ReduceLROnPlateau(monitor='val_loss',\n",
    "                                           mode='min',\n",
    "                                           factor=lr_factor,\n",
    "                                           patience=patience//2,\n",
    "                                           min_lr=1e-6,\n",
    "                                           verbose=1)]\n",
    "\n"
   ]
  },
  {
   "cell_type": "markdown",
   "id": "64d0e0a6-d82b-48a8-bc81-aaa895141f18",
   "metadata": {},
   "source": [
    "### Train"
   ]
  },
  {
   "cell_type": "code",
   "execution_count": 16,
   "id": "1d4a3f27-2e91-49b9-b422-1d9df8457d32",
   "metadata": {},
   "outputs": [
    {
     "name": "stdout",
     "output_type": "stream",
     "text": [
      "Epoch 1/100\n",
      "73/73 [==============================] - 2s 10ms/step - loss: 1.0369 - accuracy: 0.4210 - val_loss: 1.0060 - val_accuracy: 0.4792\n",
      "Epoch 2/100\n",
      "73/73 [==============================] - 0s 4ms/step - loss: 1.0076 - accuracy: 0.4764 - val_loss: 0.9932 - val_accuracy: 0.4961\n",
      "Epoch 3/100\n",
      "73/73 [==============================] - 0s 4ms/step - loss: 0.9988 - accuracy: 0.4890 - val_loss: 0.9900 - val_accuracy: 0.4974\n",
      "Epoch 4/100\n",
      "73/73 [==============================] - 0s 4ms/step - loss: 0.9996 - accuracy: 0.5019 - val_loss: 0.9892 - val_accuracy: 0.5013\n",
      "Epoch 5/100\n",
      "73/73 [==============================] - 0s 4ms/step - loss: 0.9947 - accuracy: 0.5050 - val_loss: 0.9840 - val_accuracy: 0.4961\n",
      "Epoch 6/100\n",
      "73/73 [==============================] - 1s 6ms/step - loss: 0.9933 - accuracy: 0.5067 - val_loss: 0.9856 - val_accuracy: 0.4922\n",
      "Epoch 7/100\n",
      "73/73 [==============================] - 0s 4ms/step - loss: 0.9827 - accuracy: 0.5162 - val_loss: 0.9796 - val_accuracy: 0.5039\n",
      "Epoch 8/100\n",
      "73/73 [==============================] - 0s 4ms/step - loss: 0.9865 - accuracy: 0.5119 - val_loss: 0.9796 - val_accuracy: 0.5052\n",
      "Epoch 9/100\n",
      "73/73 [==============================] - 0s 7ms/step - loss: 0.9813 - accuracy: 0.5128 - val_loss: 0.9769 - val_accuracy: 0.5104\n",
      "Epoch 10/100\n",
      "73/73 [==============================] - 0s 5ms/step - loss: 0.9837 - accuracy: 0.5102 - val_loss: 0.9791 - val_accuracy: 0.5078\n",
      "Epoch 11/100\n",
      "73/73 [==============================] - 0s 6ms/step - loss: 0.9910 - accuracy: 0.5006 - val_loss: 0.9813 - val_accuracy: 0.5052\n",
      "Epoch 12/100\n",
      "73/73 [==============================] - 0s 4ms/step - loss: 0.9891 - accuracy: 0.5136 - val_loss: 0.9807 - val_accuracy: 0.5052\n",
      "Epoch 13/100\n",
      "73/73 [==============================] - 0s 4ms/step - loss: 0.9828 - accuracy: 0.5171 - val_loss: 0.9787 - val_accuracy: 0.5117\n",
      "Epoch 14/100\n",
      "73/73 [==============================] - 0s 4ms/step - loss: 0.9861 - accuracy: 0.5136 - val_loss: 0.9792 - val_accuracy: 0.5117\n",
      "\n",
      "Epoch 00014: ReduceLROnPlateau reducing learning rate to 1.0000000474974512e-06.\n",
      "Epoch 15/100\n",
      "73/73 [==============================] - 0s 4ms/step - loss: 0.9807 - accuracy: 0.5067 - val_loss: 0.9792 - val_accuracy: 0.5117\n",
      "Epoch 16/100\n",
      "73/73 [==============================] - 0s 4ms/step - loss: 0.9856 - accuracy: 0.5063 - val_loss: 0.9792 - val_accuracy: 0.5117\n",
      "Epoch 17/100\n",
      "73/73 [==============================] - 0s 5ms/step - loss: 0.9830 - accuracy: 0.5206 - val_loss: 0.9792 - val_accuracy: 0.5117\n",
      "Epoch 18/100\n",
      "73/73 [==============================] - 0s 4ms/step - loss: 0.9827 - accuracy: 0.5132 - val_loss: 0.9792 - val_accuracy: 0.5117\n",
      "Epoch 19/100\n",
      "73/73 [==============================] - 0s 4ms/step - loss: 0.9805 - accuracy: 0.5149 - val_loss: 0.9792 - val_accuracy: 0.5117\n",
      "Epoch 00019: early stopping\n"
     ]
    }
   ],
   "source": [
    "# used in the training loop\n",
    "weights_file = 'Neural_Net1'\n",
    "patience = 10\n",
    "lr = 0.001\n",
    "callbacks = assign_callbacks(weights_file, 10, lr)\n",
    "\n",
    "history = model.fit(train_ds, epochs=100, validation_data=val_ds, callbacks=callbacks)"
   ]
  },
  {
   "cell_type": "code",
   "execution_count": 17,
   "id": "9e9369eb-8f8e-4e93-912f-5e59d03f2606",
   "metadata": {},
   "outputs": [
    {
     "name": "stdout",
     "output_type": "stream",
     "text": [
      "Epoch 1/100\n",
      "73/73 [==============================] - 5s 54ms/step - loss: 1.0133 - accuracy: 0.5067 - val_loss: 1.0158 - val_accuracy: 0.5182\n",
      "Epoch 2/100\n",
      "73/73 [==============================] - 4s 52ms/step - loss: 1.0010 - accuracy: 0.5067 - val_loss: 0.9775 - val_accuracy: 0.5169\n",
      "Epoch 3/100\n",
      "73/73 [==============================] - 4s 48ms/step - loss: 0.9822 - accuracy: 0.5297 - val_loss: 0.9983 - val_accuracy: 0.4468\n",
      "Epoch 4/100\n",
      "73/73 [==============================] - 3s 48ms/step - loss: 0.9829 - accuracy: 0.5149 - val_loss: 0.9936 - val_accuracy: 0.4857\n",
      "Epoch 5/100\n",
      "73/73 [==============================] - 3s 48ms/step - loss: 0.9864 - accuracy: 0.5214 - val_loss: 0.9804 - val_accuracy: 0.5000\n",
      "Epoch 6/100\n",
      "73/73 [==============================] - 4s 49ms/step - loss: 0.9744 - accuracy: 0.5201 - val_loss: 0.9930 - val_accuracy: 0.5052\n",
      "Epoch 7/100\n",
      "73/73 [==============================] - 4s 48ms/step - loss: 0.9822 - accuracy: 0.5258 - val_loss: 0.9840 - val_accuracy: 0.5117\n",
      "\n",
      "Epoch 00007: ReduceLROnPlateau reducing learning rate to 1e-06.\n",
      "Epoch 8/100\n",
      "73/73 [==============================] - 3s 46ms/step - loss: 0.9811 - accuracy: 0.5258 - val_loss: 0.9838 - val_accuracy: 0.5104\n",
      "Epoch 9/100\n",
      "73/73 [==============================] - 3s 47ms/step - loss: 0.9783 - accuracy: 0.5284 - val_loss: 0.9836 - val_accuracy: 0.5104\n",
      "Epoch 10/100\n",
      "73/73 [==============================] - 3s 47ms/step - loss: 0.9797 - accuracy: 0.5284 - val_loss: 0.9834 - val_accuracy: 0.5117\n",
      "Epoch 11/100\n",
      "73/73 [==============================] - 4s 48ms/step - loss: 0.9764 - accuracy: 0.5266 - val_loss: 0.9832 - val_accuracy: 0.5117\n",
      "Epoch 12/100\n",
      "73/73 [==============================] - 3s 46ms/step - loss: 0.9785 - accuracy: 0.5232 - val_loss: 0.9830 - val_accuracy: 0.5104\n",
      "Epoch 00012: early stopping\n"
     ]
    }
   ],
   "source": [
    "# used in the training loop\n",
    "weights_file = 'Neural_Net2'\n",
    "patience = 10\n",
    "lr = 0.0001\n",
    "callbacks = assign_callbacks(weights_file, 10, lr)\n",
    "\n",
    "history = model2.fit(train_ds, epochs=100, validation_data=val_ds, callbacks=callbacks)"
   ]
  },
  {
   "cell_type": "markdown",
   "id": "7e516e64-ab05-4835-a244-6458bda693e0",
   "metadata": {},
   "source": [
    "### Predicting on the test set"
   ]
  },
  {
   "cell_type": "code",
   "execution_count": 19,
   "id": "32d7be31-462d-4558-87eb-e7e3c7f02978",
   "metadata": {},
   "outputs": [],
   "source": [
    "def denormalise(values):\n",
    "    # Some functions need 1-d arrays\n",
    "    # This function transform n-dimensional y to 1-d y\n",
    "    y_den = []\n",
    "    for dist in values:\n",
    "        y_den.append(np.argmax(dist))\n",
    "        \n",
    "    return y_den"
   ]
  },
  {
   "cell_type": "code",
   "execution_count": 20,
   "id": "e540d27c-dbe9-4efc-9334-9a229732dbd7",
   "metadata": {},
   "outputs": [],
   "source": [
    "test_labels = []\n",
    "for x, y in test_ds.take(len(test_ds)):\n",
    "    test_labels.append(y)\n",
    "test_labels = denormalise(test_labels)"
   ]
  },
  {
   "cell_type": "markdown",
   "id": "aaae8060-6f45-4420-85e6-a72af559423f",
   "metadata": {},
   "source": [
    "#### Predictions of Model1"
   ]
  },
  {
   "cell_type": "code",
   "execution_count": 22,
   "id": "ca3b7f67-9d99-45f2-956d-983a3896cd46",
   "metadata": {},
   "outputs": [
    {
     "name": "stdout",
     "output_type": "stream",
     "text": [
      "F1 micro on test set is : 0.5084525357607282\n",
      "Accuracy on test set is : 0.5084525357607282\n"
     ]
    },
    {
     "data": {
      "image/png": "[encoded data removed]",
      "text/plain": [
       "<Figure size 432x288 with 2 Axes>"
      ]
     },
     "metadata": {
      "needs_background": "light"
     },
     "output_type": "display_data"
    }
   ],
   "source": [
    "# load optimal weights computed during training\n",
    "model.load_weights('Neural_Net1')\n",
    "\n",
    "from sklearn.metrics import f1_score, accuracy_score\n",
    "\n",
    "preds = model.predict(test_ds)\n",
    "preds =  denormalise(preds)\n",
    "# Make precictions on test set and print model's accuracy.\n",
    "f1 = f1_score(test_labels, \n",
    "              preds,\n",
    "              average='micro')\n",
    "print(\"F1 micro on test set is :\", f1)\n",
    "\n",
    "\n",
    "acc = accuracy_score(test_labels, \n",
    "                     preds)\n",
    "print(\"Accuracy on test set is :\", acc)\n",
    "\n",
    "# Confusion Matrix \n",
    "from sklearn.metrics import confusion_matrix, ConfusionMatrixDisplay\n",
    "cm = confusion_matrix(test_labels, preds, labels=[0,1,2])\n",
    "disp = ConfusionMatrixDisplay(confusion_matrix=cm,\n",
    "                              display_labels=[0,1,2])\n",
    "disp.plot()\n",
    "plt.show()"
   ]
  },
  {
   "cell_type": "markdown",
   "id": "8830222d-fa0f-4ad0-9a96-c42927a715cb",
   "metadata": {},
   "source": [
    "#### Predictions of Model2"
   ]
  },
  {
   "cell_type": "code",
   "execution_count": 23,
   "id": "4f95b15d-4f56-40f2-873a-fd0d6478a85a",
   "metadata": {},
   "outputs": [
    {
     "name": "stdout",
     "output_type": "stream",
     "text": [
      "WARNING:tensorflow:Model was constructed with shape (None, 1) for input KerasTensor(type_spec=TensorSpec(shape=(None, 1), dtype=tf.float32, name='Positive'), name='Positive', description=\"created by layer 'Positive'\"), but it was called on an input with incompatible shape ().\n",
      "WARNING:tensorflow:Model was constructed with shape (None, 1) for input KerasTensor(type_spec=TensorSpec(shape=(None, 1), dtype=tf.float32, name='Negative'), name='Negative', description=\"created by layer 'Negative'\"), but it was called on an input with incompatible shape ().\n",
      "WARNING:tensorflow:Model was constructed with shape (None, 1) for input KerasTensor(type_spec=TensorSpec(shape=(None, 1), dtype=tf.float32, name='Neutral'), name='Neutral', description=\"created by layer 'Neutral'\"), but it was called on an input with incompatible shape ().\n",
      "F1 micro on test set is : 0.46553966189856955\n",
      "Accuracy on test set is : 0.46553966189856955\n"
     ]
    },
    {
     "data": {
      "image/png": "[encoded data removed]",
      "text/plain": [
       "<Figure size 432x288 with 2 Axes>"
      ]
     },
     "metadata": {
      "needs_background": "light"
     },
     "output_type": "display_data"
    }
   ],
   "source": [
    "# load optimal weights computed during training\n",
    "model2.load_weights('Neural_Net2')\n",
    "\n",
    "from sklearn.metrics import f1_score, accuracy_score\n",
    "\n",
    "preds = model2.predict(test_ds)\n",
    "preds =  denormalise(preds)\n",
    "# Make precictions on test set and print model's accuracy.\n",
    "f1 = f1_score(test_labels, \n",
    "              preds,\n",
    "              average='micro')\n",
    "print(\"F1 micro on test set is :\", f1)\n",
    "\n",
    "\n",
    "acc = accuracy_score(test_labels, \n",
    "                     preds)\n",
    "print(\"Accuracy on test set is :\", acc)\n",
    "\n",
    "# Confusion Matrix \n",
    "from sklearn.metrics import confusion_matrix, ConfusionMatrixDisplay\n",
    "cm = confusion_matrix(test_labels, preds, labels=[0,1,2])\n",
    "disp = ConfusionMatrixDisplay(confusion_matrix=cm,\n",
    "                              display_labels=[0,1,2])\n",
    "disp.plot()\n",
    "plt.show()"
   ]
  }
 ],
 "metadata": {
  "kernelspec": {
   "display_name": "Python 3 (ipykernel)",
   "language": "python",
   "name": "python3"
  },
  "language_info": {
   "codemirror_mode": {
    "name": "ipython",
    "version": 3
   },
   "file_extension": ".py",
   "mimetype": "text/x-python",
   "name": "python",
   "nbconvert_exporter": "python",
   "pygments_lexer": "ipython3",
   "version": "3.9.7"
  }
 },
 "nbformat": 4,
 "nbformat_minor": 5
}
